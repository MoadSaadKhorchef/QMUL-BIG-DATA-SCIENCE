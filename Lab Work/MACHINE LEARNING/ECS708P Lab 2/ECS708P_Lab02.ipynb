{
 "cells": [
  {
   "cell_type": "markdown",
   "metadata": {
    "id": "j7ydQ_OTchpE"
   },
   "source": [
    "# Lab 2: Representing data in Python\n",
    "\n",
    "Machine learning provides us with tools to extract knowledge from **data**. To build and deploy a machine learning solution, our data science computing environment needs to be able to **represent** our data and has to provide **methods** to manipulate and process that data. Specifically, our data science environment needs to be able to efficiently represent and process **datasets**, i.e. collections of items described by a set of attributes. \n",
    "\n",
    "In this lab, we will explore different options to represent data and datasets in Python. We will refer to them as **data types**. In addition to the basic built-in types, we will discuss data types defined by two third-party specialised libraries, namely **NumPy** and **Pandas**.\n",
    "\n",
    "Once you complete this lab, go ahead and attempt the corresponding QM+ quiz."
   ]
  },
  {
   "cell_type": "markdown",
   "metadata": {
    "id": "JdC-n2a72IYR"
   },
   "source": [
    "# Basic data types\n",
    "\n",
    "Let's start considering two Python **numeric** types, namely ```int``` (for integer numbers) and ```float``` (for real numbers). Numeric types can be used to represent measurements and other quantities, and support operations such as addition (```+```), subtraction (```-```), multiplication (```*```) and division (```/```), among others. Run the following cell to perform some simple calculation on numeric variables.\n",
    "\n"
   ]
  },
  {
   "cell_type": "code",
   "execution_count": 1,
   "metadata": {
    "id": "Jj3rRRV3ccd0"
   },
   "outputs": [],
   "source": [
    "a = 2\n",
    "b = 4\n",
    "add_a_b = a+b\n",
    "mult_a_b = a*b\n",
    "print(\"a + b =\", add_a_b)\n",
    "print(\"a * b =\", mult_a_b)"
   ]
  },
  {
   "cell_type": "markdown",
   "metadata": {
    "id": "-h21E1_n9zOy"
   },
   "source": [
    "The `bool` type (**boolean**) can take on two values (`True` or `False`) and supports three basic operations, namely `and`, `or` and `not`. Comparison operators (`==`, `>`, `<`, etc) return boolean values, as illustrated in the following code cell:\n",
    "\n"
   ]
  },
  {
   "cell_type": "code",
   "execution_count": 2,
   "metadata": {
    "id": "0yFdTA7s_s0D"
   },
   "outputs": [
    {
     "name": "stdout",
     "output_type": "stream",
     "text": [
      "Is c equal to d? False\n",
      "Is c less than d? True\n",
      "Is c equal to and at the same time less than d? False\n"
     ]
    }
   ],
   "source": [
    "c = 3.1\n",
    "d = 4.7\n",
    "print(\"Is c equal to d?\", c == d)\n",
    "print(\"Is c less than d?\", c < d)\n",
    "print(\"Is c equal to and at the same time less than d?\", (c==d)and(c<d))"
   ]
  },
  {
   "cell_type": "markdown",
   "metadata": {
    "id": "FEnv_anJBdGZ"
   },
   "source": [
    "Finally, text data can be represented as strings (`str` type) in Python. They are defined surrounding the text value by single or double quotation marks:"
   ]
  },
  {
   "cell_type": "code",
   "execution_count": 3,
   "metadata": {
    "id": "DijSlMX7WwbL"
   },
   "outputs": [
    {
     "name": "stdout",
     "output_type": "stream",
     "text": [
      "This is a string\n"
     ]
    }
   ],
   "source": [
    "e = \"This is a string\"\n",
    "print(e)"
   ]
  },
  {
   "cell_type": "markdown",
   "metadata": {
    "id": "i8zBmJN1z1HR"
   },
   "source": [
    "Numeric, boolean and string types are the basic building blocks to create more complex data types."
   ]
  },
  {
   "cell_type": "markdown",
   "metadata": {
    "id": "x8Udy41sW6WT"
   },
   "source": [
    "# Sequence types\n",
    "\n",
    "The string type is a Python sequence. Sequences are ordered collections and can be used to represent a **complex attribute** (such as text), an **item** described by several attributes or even a **whole dataset**. As we shall see later, there are other options that might be more suitable to represent complex attributes and whole datasets, however it is important to be familiar with sequences. \n",
    "\n",
    "In addition to strings, Python offers other sequence types. We will cover Python **lists** here. Lists are defined as elements separated by commas between square brackets and can **indexed** and **sliced**: \n",
    "- Indexing retrieves one element in a list. Given a list `s`, the `i`-th element can be retrived by typing `s[i]`. Note that the index of the first element in a list is 0. \n",
    "- Slicing returns a subset of elements from the list. Typing `s[i:j:k]` returns a list of elements starting from index `i` to `j` (excluding `j`) with step `k`.\n",
    "\n",
    "The following code cell illustrates indexing and slicing."
   ]
  },
  {
   "cell_type": "code",
   "execution_count": 4,
   "metadata": {
    "id": "zN2v_32gZdG-"
   },
   "outputs": [
    {
     "name": "stdout",
     "output_type": "stream",
     "text": [
      "My list of squares is is:  [1, 2, 4, 9, 16, 25]\n",
      "The first square is:  1\n",
      "The second square is:  2\n",
      "The first three squares are:  [1, 2, 4]\n"
     ]
    }
   ],
   "source": [
    "squares = [1, 2, 4, 9, 16, 25]\n",
    "print(\"My list of squares is is: \", squares)\n",
    "print(\"The first square is: \", squares[0]) #Example of indexing: 0 is the index of the first element in the list\n",
    "print(\"The second square is: \", squares[1]) #Example of indexing: 1 is the index of the second element in the list\n",
    "print(\"The first three squares are: \", squares[0:3]) #Example of slicing: we extract the elements with indices 0 to 2 (i.e. 3-1)"
   ]
  },
  {
   "cell_type": "markdown",
   "metadata": {
    "id": "EpXLBF0LzQQN"
   },
   "source": [
    "We can also create lists of lists. This feature can be used to represent a dataset, i.e. a collection (list) of items described by a collection (list) of attributes. Indexing and slicing can be used to extract individual items and single attributes from one item. "
   ]
  },
  {
   "cell_type": "code",
   "execution_count": 5,
   "metadata": {
    "id": "8N-JddIVzo2A"
   },
   "outputs": [
    {
     "name": "stdout",
     "output_type": "stream",
     "text": [
      "My dataset is:\n",
      " [['Individual A', 1, 100], ['Individual B', 2, 200], ['Individual C', 3, 300], ['Individual D', 4, 400]]\n",
      "\n",
      "The second and fourth items in my dataset are:\n",
      " [['Individual B', 2, 200], ['Individual C', 3, 300]]\n",
      "\n",
      "The second attribute of the third item is:  3\n",
      "\n",
      "After updating, my dataset is:\n",
      " [['Individual A', 1, 100], ['Individual B', 5, 200], ['Individual C', 3, 300], ['Individual D', 4, 400]]\n"
     ]
    }
   ],
   "source": [
    "item1 = ['Individual A', 1, 100] #Item described by three attributes\n",
    "item2 = ['Individual B', 2, 200]\n",
    "item3 = ['Individual C', 3, 300]\n",
    "item4 = ['Individual D', 4, 400]\n",
    "\n",
    "MyDataset = [item1, item2, item3, item4] #Dataset consisting of 4 items\n",
    "\n",
    "print(\"My dataset is:\\n\", MyDataset) #Prints the whole dataset\n",
    "\n",
    "print(\"\\nThe second and fourth items in my dataset are:\\n\", MyDataset[1:3]) #Prints items with indices 1 to 2 (3-1)\n",
    "\n",
    "print(\"\\nThe second attribute of the third item is: \", MyDataset[2][1]) #Prints the second attribute of the third item \n",
    "\n",
    "MyDataset[1][1] = 5 #Sets the second attribute of the seconf item to 5\n",
    "\n",
    "print(\"\\nAfter updating, my dataset is:\\n\", MyDataset) #Prints the whole dataset\n"
   ]
  },
  {
   "cell_type": "markdown",
   "metadata": {
    "id": "AjkXhUn-2j7X"
   },
   "source": [
    "Standard Python lists lack many operations and constraints needed to efficiently and safely build machine learning solutions. Therefore in most cases we will use data types defined by NumPy and Pandas."
   ]
  },
  {
   "cell_type": "markdown",
   "metadata": {
    "id": "b47UGO85BRXM"
   },
   "source": [
    "# NumPy\n",
    "\n",
    "NumPy is the fundamental Python library for numerical computing. The core of NumPy is the `ndarray`, a **multidimensional array** (grid of values) that comes with a set of efficiently implemented array operations. Each dimension in an `ndarray` is known as axis. A 1D NumPy array has one axis and represents a vector, a 2D NumPy array has two axis and represents a matrix, a 3D NumPy array represents a 3-tensor, etc.\n",
    "\n",
    "In order to use NumPy, we need to import it first."
   ]
  },
  {
   "cell_type": "code",
   "execution_count": 6,
   "metadata": {
    "id": "oeTwWef_Ear6"
   },
   "outputs": [],
   "source": [
    "import numpy as np"
   ]
  },
  {
   "cell_type": "markdown",
   "metadata": {
    "id": "O8IXCwvdEWdd"
   },
   "source": [
    "\n",
    "\n",
    "In contrast to standard Python lists, NumPy arrays have a **fixed size** at creation and their elements need to be of the **same type**. There are several ways to create NumPy arrays. The easiest one is to use the `array` function on a standard Python list. In the following example, we create a 1D NumPy array consisting of integer elements."
   ]
  },
  {
   "cell_type": "code",
   "execution_count": 7,
   "metadata": {
    "id": "y-BD7qrNFTs4"
   },
   "outputs": [
    {
     "name": "stdout",
     "output_type": "stream",
     "text": [
      "The array 'my1Darray' is [ 1  2  4  9 16 25]\n",
      "The type of 'my1Darray' is <class 'numpy.ndarray'>\n",
      "The array 'my1Darray' consists of elements of type int32\n",
      "The array 'my1Darray' has 1 dimension\n",
      "The shape of 'my1Darray' is (6,)\n"
     ]
    }
   ],
   "source": [
    "my1Darray = np.array([1, 2, 4, 9, 16, 25])\n",
    "\n",
    "print(\"The array 'my1Darray' is\", my1Darray)\n",
    "print(\"The type of 'my1Darray' is\", type(my1Darray))\n",
    "print(\"The array 'my1Darray' consists of elements of type\", my1Darray.dtype)\n",
    "print(\"The array 'my1Darray' has\", my1Darray.ndim, \"dimension\")\n",
    "print(\"The shape of 'my1Darray' is\", my1Darray.shape)"
   ]
  },
  {
   "cell_type": "markdown",
   "metadata": {
    "id": "uxWeg-0HGPTC"
   },
   "source": [
    "2D NumPy arrays, where values are arranged in rows and columns, can be created from lists of lists. Let's create a 2D NumPy array consisting of float elements arranged in 3 rows and 2 columns (3x2 array):"
   ]
  },
  {
   "cell_type": "code",
   "execution_count": 8,
   "metadata": {
    "id": "DdSbA0RQGeUQ"
   },
   "outputs": [
    {
     "name": "stdout",
     "output_type": "stream",
     "text": [
      "The array 'my2Darray' is \n",
      " [[1.1 2.1]\n",
      " [3.  4.2]\n",
      " [5.2 6.1]]\n",
      "The type of 'my2Darray' is <class 'numpy.ndarray'>\n",
      "The array 'my2Darray' consists of elements of type float64\n",
      "The array 'my2Darray' has 2 dimensions\n",
      "The shape of 'my2Darray' is (3, 2)\n"
     ]
    }
   ],
   "source": [
    "my2Darray = np.array([[1.1, 2.1], [3.0, 4.2], [5.2, 6.1]])\n",
    "\n",
    "print(\"The array 'my2Darray' is \\n\", my2Darray)\n",
    "print(\"The type of 'my2Darray' is\", type(my2Darray))\n",
    "print(\"The array 'my2Darray' consists of elements of type\", my2Darray.dtype)\n",
    "print(\"The array 'my2Darray' has\", my2Darray.ndim, \"dimensions\")\n",
    "print(\"The shape of 'my2Darray' is\", my2Darray.shape)"
   ]
  },
  {
   "cell_type": "markdown",
   "metadata": {
    "id": "m1nd2_2zHluV"
   },
   "source": [
    "There are many other useful functions that can be used to create NumPy arrays, for instance:"
   ]
  },
  {
   "cell_type": "code",
   "execution_count": 9,
   "metadata": {
    "id": "r-t3WCzxHrUq"
   },
   "outputs": [
    {
     "name": "stdout",
     "output_type": "stream",
     "text": [
      "'a' is \n",
      " [0.  0.1 0.2 0.3 0.4 0.5 0.6 0.7 0.8 0.9 1. ] \n",
      " and its shape is (11,) \n",
      "\n",
      "'b' is \n",
      " [ 0.   2.5  5.   7.5 10.  12.5 15.  17.5] \n",
      " and its shape is (8,) \n",
      "\n",
      "'c' is \n",
      " [0. 0. 0. 0. 0.] \n",
      " and its shape is (5,) \n",
      "\n",
      "'M' is \n",
      " [[0. 0. 0. 0. 0.]\n",
      " [0. 0. 0. 0. 0.]] \n",
      " and its shape is (2, 5) \n",
      "\n",
      "'w' is \n",
      " [1. 1. 1. 1. 1. 1. 1.] \n",
      " and its shape is (7,) \n",
      "\n",
      "'N' is \n",
      " [[1. 1.]\n",
      " [1. 1.]\n",
      " [1. 1.]] \n",
      " and its shape is (3, 2) \n",
      "\n",
      "'I' is \n",
      " [[1. 0. 0. 0.]\n",
      " [0. 1. 0. 0.]\n",
      " [0. 0. 1. 0.]\n",
      " [0. 0. 0. 1.]] \n",
      " and its shape is (4, 4) \n",
      "\n",
      "'R' is \n",
      " [[0.21573723 0.13174499 0.38907111 0.72689825]\n",
      " [0.73795504 0.70122483 0.94318777 0.39227742]] \n",
      " and its shape is (2, 4) \n",
      "\n"
     ]
    }
   ],
   "source": [
    "a = np.linspace(0,1,11) # Array consisting 11 elements uniformly spaced, from 0 to 1\n",
    "print(\"'a' is \\n\", a, \"\\n and its shape is\", a.shape, \"\\n\")\n",
    "b = np.arange(0,20,2.5) # Array consisting of elements spaced by 2.5, from 0 to 20\n",
    "print(\"'b' is \\n\", b, \"\\n and its shape is\", b.shape, \"\\n\")\n",
    "c = np.zeros(5) # 1D Array consisting of 5 zeros\n",
    "print(\"'c' is \\n\", c, \"\\n and its shape is\", c.shape, \"\\n\")\n",
    "M = np.zeros((2,5)) # 2x5 (2 rows, 5 columns) array consisting of zeros\n",
    "print(\"'M' is \\n\", M, \"\\n and its shape is\", M.shape, \"\\n\")\n",
    "w = np.ones(7) # 1D array consisting of 7 ones\n",
    "print(\"'w' is \\n\", w, \"\\n and its shape is\", w.shape, \"\\n\")\n",
    "N = np.ones((3,2)) # 3x2 (3 rows, 2 columns) array consisting of ones\n",
    "print(\"'N' is \\n\", N, \"\\n and its shape is\", N.shape, \"\\n\")\n",
    "I = np.eye(4) # 4x4 array with ones on the diagonal and zeros elsewhere\n",
    "print(\"'I' is \\n\", I, \"\\n and its shape is\", I.shape, \"\\n\")\n",
    "R = np.random.rand(2,4) # 2x4 array of random values from a uniform distribution\n",
    "print(\"'R' is \\n\", R, \"\\n and its shape is\", R.shape, \"\\n\")\n"
   ]
  },
  {
   "cell_type": "markdown",
   "metadata": {
    "id": "brMxpnQl0oFX"
   },
   "source": [
    "NumPy arrays can be **indexed** and **sliced** just like standard Python lists. Let's create a 2D 4x4 array and explore indexing and slicing:"
   ]
  },
  {
   "cell_type": "code",
   "execution_count": 10,
   "metadata": {
    "id": "AaFWPKri12qg"
   },
   "outputs": [
    {
     "name": "stdout",
     "output_type": "stream",
     "text": [
      "The NumPy array M is:\n",
      " [[ 1  2  3  4]\n",
      " [ 5  6  7  8]\n",
      " [ 9 10 11 12]\n",
      " [13 14 15 16]]\n",
      "\n",
      "The second row of M is:\n",
      " [5 6 7 8]\n",
      "\n",
      "The entry at the first row third column is:\n",
      " 3\n",
      "\n",
      "This is a subarray of M:\n",
      " [[ 6  7]\n",
      " [10 11]]\n",
      "\n",
      "The first two rows of M are:\n",
      " [[1 2 3 4]\n",
      " [5 6 7 8]]\n"
     ]
    }
   ],
   "source": [
    "M = np.array([[1, 2, 3, 4], [5, 6, 7, 8], [9, 10, 11, 12], [13, 14, 15, 16]])\n",
    "print(\"The NumPy array M is:\\n\", M)\n",
    "print(\"\\nThe second row of M is:\\n\", M[1])\n",
    "print(\"\\nThe entry at the first row third column is:\\n\", M[0,2])\n",
    "print(\"\\nThis is a subarray of M:\\n\", M[1:3,1:3])\n",
    "print(\"\\nThe first two rows of M are:\\n\", M[0:2,:])"
   ]
  },
  {
   "cell_type": "markdown",
   "metadata": {
    "id": "RFacYWlSJObE"
   },
   "source": [
    "Numpy arrays can also be saved to and created from a file. The standard file format for storing NumPy arrays on disk is `.npy`, although other formats such as CSV can be used too. \n",
    "\n",
    "We will now explore how to use NumPy to represent complex datasets. After uploading the file `myDigitsDataset.npy` to your runtime, run the cell below to load the dataset into a NumPy array and read some basic info about it."
   ]
  },
  {
   "cell_type": "code",
   "execution_count": 11,
   "metadata": {
    "id": "1CDf67cMtCq6"
   },
   "outputs": [
    {
     "name": "stdout",
     "output_type": "stream",
     "text": [
      "The type of 'myDigits' is <class 'numpy.ndarray'>\n",
      "The array 'myDigits' consists of elements of type int64\n",
      "The array 'myDigits' has 3 dimensions\n",
      "The shape of 'myDigits' is (10, 28, 28)\n"
     ]
    }
   ],
   "source": [
    "myDigits = np.load('myDigitsDataset.npy')\n",
    "print(\"The type of 'myDigits' is\", type(myDigits))\n",
    "print(\"The array 'myDigits' consists of elements of type\", myDigits.dtype)\n",
    "print(\"The array 'myDigits' has\", myDigits.ndim, \"dimensions\")\n",
    "print(\"The shape of 'myDigits' is\", myDigits.shape)"
   ]
  },
  {
   "cell_type": "markdown",
   "metadata": {
    "id": "ZCnmx9S19Q6u"
   },
   "source": [
    "The `myDigits` NumPy array is an example of a 3-tensor. It consists of 10 complex items described by 28x28 attributes. You can see it as 10 different 28x28 2D arrays stacked together. Let's print the third (index 2) item:"
   ]
  },
  {
   "cell_type": "code",
   "execution_count": 12,
   "metadata": {
    "id": "Tes9DVGKsnnx"
   },
   "outputs": [
    {
     "name": "stdout",
     "output_type": "stream",
     "text": [
      "The shape of my 3rd item is: (28, 28)\n",
      "\n",
      "My 3rd item is:\n",
      " [[7 7 7 7 7 7 7 7 7 7 7 7 7 7 7 7 7 7 7 7 7 7 7 7 7 7 7 7]\n",
      " [7 7 7 7 7 7 7 7 7 7 7 7 7 7 7 7 7 7 7 7 7 7 7 7 7 7 7 7]\n",
      " [7 7 7 7 7 7 7 7 7 7 7 7 7 7 7 7 7 7 7 7 7 7 7 7 7 7 7 7]\n",
      " [7 7 7 7 7 7 7 7 7 7 7 7 7 7 7 7 7 7 7 7 7 7 7 7 7 7 7 7]\n",
      " [7 7 7 7 7 7 7 7 7 7 7 7 7 7 7 7 7 7 7 7 7 7 7 7 7 7 7 7]\n",
      " [7 7 7 7 7 7 7 7 7 7 7 7 7 7 7 7 7 7 7 7 0 0 0 7 7 7 7 7]\n",
      " [7 7 7 7 0 0 7 7 7 7 7 7 7 7 7 7 7 7 7 7 0 0 0 7 7 7 7 7]\n",
      " [7 7 7 7 0 0 7 7 7 7 7 7 7 7 7 7 7 7 7 0 0 0 0 7 7 7 7 7]\n",
      " [7 7 7 7 0 0 7 7 7 7 7 7 7 7 7 7 7 7 7 0 0 0 7 7 7 7 7 7]\n",
      " [7 7 7 7 0 0 7 7 7 7 7 7 7 7 7 7 7 7 7 0 0 0 7 7 7 7 7 7]\n",
      " [7 7 7 0 0 0 7 7 7 7 7 7 7 7 7 7 7 7 7 0 0 0 7 7 7 7 7 7]\n",
      " [7 7 7 0 0 0 7 7 7 7 7 7 7 7 7 7 7 7 0 0 0 0 7 7 7 7 7 7]\n",
      " [7 7 7 0 0 0 7 7 7 7 7 7 7 7 7 7 7 7 0 0 0 0 7 7 7 7 7 7]\n",
      " [7 7 7 0 0 0 7 7 7 7 7 7 7 7 7 0 0 0 0 0 0 7 7 7 7 7 7 7]\n",
      " [7 7 7 0 0 0 7 7 7 0 0 0 0 0 0 0 0 0 0 0 0 7 7 7 7 7 7 7]\n",
      " [7 7 7 0 0 0 0 0 0 0 0 0 0 0 0 0 0 0 0 0 7 7 7 7 7 7 7 7]\n",
      " [7 7 7 7 0 0 0 0 0 0 0 0 7 7 7 7 7 0 0 0 7 7 7 7 7 7 7 7]\n",
      " [7 7 7 7 7 7 7 7 7 7 7 7 7 7 7 7 7 0 0 0 7 7 7 7 7 7 7 7]\n",
      " [7 7 7 7 7 7 7 7 7 7 7 7 7 7 7 7 7 0 0 0 7 7 7 7 7 7 7 7]\n",
      " [7 7 7 7 7 7 7 7 7 7 7 7 7 7 7 7 7 0 0 0 7 7 7 7 7 7 7 7]\n",
      " [7 7 7 7 7 7 7 7 7 7 7 7 7 7 7 7 7 0 0 0 7 7 7 7 7 7 7 7]\n",
      " [7 7 7 7 7 7 7 7 7 7 7 7 7 7 7 7 7 0 0 0 7 7 7 7 7 7 7 7]\n",
      " [7 7 7 7 7 7 7 7 7 7 7 7 7 7 7 7 7 0 0 0 7 7 7 7 7 7 7 7]\n",
      " [7 7 7 7 7 7 7 7 7 7 7 7 7 7 7 7 7 0 0 0 7 7 7 7 7 7 7 7]\n",
      " [7 7 7 7 7 7 7 7 7 7 7 7 7 7 7 7 7 0 0 0 7 7 7 7 7 7 7 7]\n",
      " [7 7 7 7 7 7 7 7 7 7 7 7 7 7 7 7 7 7 7 7 7 7 7 7 7 7 7 7]\n",
      " [7 7 7 7 7 7 7 7 7 7 7 7 7 7 7 7 7 7 7 7 7 7 7 7 7 7 7 7]\n",
      " [7 7 7 7 7 7 7 7 7 7 7 7 7 7 7 7 7 7 7 7 7 7 7 7 7 7 7 7]]\n"
     ]
    }
   ],
   "source": [
    "myThirdDigit = myDigits[2,:,:]\n",
    "print(\"The shape of my 3rd item is:\", myThirdDigit.shape)\n",
    "print(\"\\nMy 3rd item is:\\n\", myThirdDigit)"
   ]
  },
  {
   "cell_type": "markdown",
   "metadata": {
    "id": "5pvwQe_qlnt3"
   },
   "source": [
    "Do you see anything? Does it look like the number 4? Let's use the visualisation library matplotlib to plot the array:"
   ]
  },
  {
   "cell_type": "code",
   "execution_count": 13,
   "metadata": {
    "id": "HbBGaecdvhDh"
   },
   "outputs": [
    {
     "data": {
      "image/png": "[encoded data removed]",
      "text/plain": [
       "<Figure size 432x288 with 1 Axes>"
      ]
     },
     "metadata": {
      "needs_background": "light"
     },
     "output_type": "display_data"
    }
   ],
   "source": [
    "import matplotlib.pyplot as plt\n",
    "plt.imshow(myThirdDigit)\n",
    "plt.show()"
   ]
  },
  {
   "cell_type": "markdown",
   "metadata": {
    "id": "fQHy-707--2K"
   },
   "source": [
    "It is indeed a picture representing the digit \"4\". Our small dataset is based on the well-known [MNIST](http://yann.lecun.com/exdb/mnist/) dataset, which consists of 70,000 gray scale 28x28 images of handwritten digits. Instead of gray scale images, where each entry (pixel) can take any value within a continuous range (for instance 0 and 1), we have pictures where pixels can take up only two values, namely 0 and 7. There is nothing special about these two values, what is relevant is that the pattern displayed depends on which pixels take which value. \n",
    "\n",
    "Pictures are an example of grid data, i.e. complex data consisting of multiple values associated to a grid. Audio clips are also examples of grid data, where the grid is 1D (the time axis)."
   ]
  },
  {
   "cell_type": "markdown",
   "metadata": {
    "id": "RGZMT9oquCcT"
   },
   "source": [
    "# Pandas\n",
    "\n",
    "Although briefly, we have already seen Pandas. Pandas is a specialised library that provides data structures to represent sequences (known as **Series**) and tables (known as **DataFrames**). You can think of a Pandas DataFrame as a 2D table where each column is a 1D Pandas Series. In fact, when you extract one single column from a DataFrame, the data type that you obtain is a Series.\n",
    "\n",
    "In contrast to NumPy arrays, which are homogeneous (i.e. all the elements in the array must be of the same type), Pandas tabular structures support heterogenous columns (i.e. only the elements within a column are required to be of the same type).\n",
    "\n",
    "Before using pandas we need to import it."
   ]
  },
  {
   "cell_type": "code",
   "execution_count": 14,
   "metadata": {
    "id": "IbN0VZKTpAY8"
   },
   "outputs": [],
   "source": [
    "import pandas as pd"
   ]
  },
  {
   "cell_type": "markdown",
   "metadata": {
    "id": "dPSLEpcrpOzT"
   },
   "source": [
    "There are several ways to create Pandas Series and DataFrames, for instance by passing a standard Python list or a NumPy array, as shown in the following examples:"
   ]
  },
  {
   "cell_type": "code",
   "execution_count": 15,
   "metadata": {
    "id": "NWmNGVM2pZQP"
   },
   "outputs": [
    {
     "name": "stdout",
     "output_type": "stream",
     "text": [
      "The Series s is:\n",
      " 0     1\n",
      "1     2\n",
      "2     4\n",
      "3     9\n",
      "4    16\n",
      "5    25\n",
      "dtype: int64\n",
      "\n",
      "The DataFrame df is:\n",
      "           0         1         2         3         4         5         6  \\\n",
      "0 -0.027797  0.782396 -0.691485 -0.316997 -0.378861  0.157638  0.372025   \n",
      "1 -0.298854 -0.933802  0.276598 -0.370041  0.545178 -0.179211 -0.623189   \n",
      "2  0.127430  0.441772 -0.540891 -1.183293  0.733031  0.623812 -0.694388   \n",
      "3  0.437210 -0.701375  1.265608  0.100972  0.724018 -0.816261 -0.585223   \n",
      "4 -0.324181 -0.739380  0.788528 -0.686761 -0.114850  0.124072 -1.037741   \n",
      "5  0.737857  0.478524  1.126853 -0.754391  0.306768  0.191513  0.460369   \n",
      "6  0.965166 -0.502604  1.970483 -1.177582  0.202217 -0.751291  0.225856   \n",
      "7 -0.192978  0.208053  1.175568  0.951550  0.318002 -0.520234 -1.115649   \n",
      "8 -1.624753  0.699937  0.928614 -0.109373  0.276692 -0.977910 -1.833867   \n",
      "9 -0.393496  0.763224 -1.245282 -0.890984  2.021093  1.191167 -0.097452   \n",
      "\n",
      "          7         8         9  \n",
      "0  0.770078 -0.839607 -0.680252  \n",
      "1  0.762581 -3.159170 -2.692161  \n",
      "2  0.402883 -0.381107 -0.373352  \n",
      "3 -0.724219  0.173531  1.317702  \n",
      "4 -0.125051  0.005784  1.080549  \n",
      "5 -0.762793  0.183740  2.038394  \n",
      "6 -0.352066  1.177450 -1.480117  \n",
      "7  1.610582 -1.626574  0.670417  \n",
      "8  0.415185  1.066456 -0.126871  \n",
      "9 -0.558298 -0.844432 -0.292345  \n",
      "\n",
      "The first two rows of the DataFrame df are:\n",
      "           0         1         2         3         4         5         6  \\\n",
      "0 -0.027797  0.782396 -0.691485 -0.316997 -0.378861  0.157638  0.372025   \n",
      "1 -0.298854 -0.933802  0.276598 -0.370041  0.545178 -0.179211 -0.623189   \n",
      "\n",
      "          7         8         9  \n",
      "0  0.770078 -0.839607 -0.680252  \n",
      "1  0.762581 -3.159170 -2.692161  \n",
      "\n",
      "The last two rows of the DataFrame df are:\n",
      "           0         1         2         3         4         5         6  \\\n",
      "8 -1.624753  0.699937  0.928614 -0.109373  0.276692 -0.977910 -1.833867   \n",
      "9 -0.393496  0.763224 -1.245282 -0.890984  2.021093  1.191167 -0.097452   \n",
      "\n",
      "          7         8         9  \n",
      "8  0.415185  1.066456 -0.126871  \n",
      "9 -0.558298 -0.844432 -0.292345  \n"
     ]
    }
   ],
   "source": [
    "s = pd.Series([1, 2, 4, 9, 16, 25])\n",
    "df = pd.DataFrame(np.random.randn(10, 10))\n",
    "\n",
    "print(\"The Series s is:\\n\", s)\n",
    "\n",
    "print(\"\\nThe DataFrame df is:\\n\",df)\n",
    "\n",
    "print(\"\\nThe first two rows of the DataFrame df are:\\n\", df.head(2))\n",
    "\n",
    "print(\"\\nThe last two rows of the DataFrame df are:\\n\",df.tail(2))\n",
    "\n"
   ]
  },
  {
   "cell_type": "markdown",
   "metadata": {
    "id": "D2maZnkKqIWI"
   },
   "source": [
    "The indices are also shown when we plot a Pandas Series or DataFrame. They are the integer values on the left-most column and also at the top of the DataFrame. Optionally, we can use our own labels to identify rows (`index` argument) and columns (`columns` argument):"
   ]
  },
  {
   "cell_type": "code",
   "execution_count": 16,
   "metadata": {
    "id": "VA3r-562q_x3"
   },
   "outputs": [
    {
     "name": "stdout",
     "output_type": "stream",
     "text": [
      "The DataFrame df is:\n",
      "     c1  c2  c3  c4\n",
      "r1  99  19  41  65\n",
      "r2   2   1  73   2\n",
      "r3  21  22  58  42\n",
      "r4  53  34   6  63\n",
      "\n",
      "The row labels are: Index(['r1', 'r2', 'r3', 'r4'], dtype='object')\n",
      "\n",
      "The columns labels are: Index(['c1', 'c2', 'c3', 'c4'], dtype='object')\n"
     ]
    }
   ],
   "source": [
    "df = pd.DataFrame(np.random.randint(1,100,[4, 4]), index=[\"r1\", \"r2\", \"r3\", \"r4\"], columns=[\"c1\", \"c2\", \"c3\", \"c4\"])\n",
    "print(\"The DataFrame df is:\\n\", df)\n",
    "\n",
    "print(\"\\nThe row labels are:\", df.index)\n",
    "print(\"\\nThe columns labels are:\",df.columns)\n"
   ]
  },
  {
   "cell_type": "markdown",
   "metadata": {
    "id": "2zgbkoyWtHqP"
   },
   "source": [
    "Individual columns in a DataFrame can be extracted using the column labels:"
   ]
  },
  {
   "cell_type": "code",
   "execution_count": 17,
   "metadata": {
    "id": "1On9ePl_wF-2"
   },
   "outputs": [
    {
     "name": "stdout",
     "output_type": "stream",
     "text": [
      "The column c1 of the DataFrame df is \n",
      " r1    99\n",
      "r2     2\n",
      "r3    21\n",
      "r4    53\n",
      "Name: c1, dtype: int32\n",
      "\n",
      "The columns c2 and c4 of the DataFrame df are \n",
      "     c2  c4\n",
      "r1  19  65\n",
      "r2   1   2\n",
      "r3  22  42\n",
      "r4  34  63\n"
     ]
    }
   ],
   "source": [
    "df_c1 = df[\"c1\"]\n",
    "print(\"The column c1 of the DataFrame df is \\n\", df_c1)\n",
    "\n",
    "df_c2c4 = df[[\"c2\",\"c4\"]]\n",
    "print(\"\\nThe columns c2 and c4 of the DataFrame df are \\n\", df_c2c4)"
   ]
  },
  {
   "cell_type": "markdown",
   "metadata": {
    "id": "G9P2y4Q4R8ng"
   },
   "source": [
    "Rows can be extracted with `loc` and `iloc`. `loc` uses the row label, whereas `iloc` uses the row integer index:\n"
   ]
  },
  {
   "cell_type": "code",
   "execution_count": 18,
   "metadata": {
    "id": "_-JoB-_wxHAZ"
   },
   "outputs": [
    {
     "name": "stdout",
     "output_type": "stream",
     "text": [
      "The rows r1 and r3 of the DataFrame df are \n",
      "     c1  c2  c3  c4\n",
      "r1  99  19  41  65\n",
      "r3  21  22  58  42\n",
      "\n",
      "The first and third rows of the DataFrame df are \n",
      "     c1  c2  c3  c4\n",
      "r1  99  19  41  65\n",
      "r3  21  22  58  42\n"
     ]
    }
   ],
   "source": [
    "df_r1r2 = df.loc[[\"r1\",\"r3\"]]\n",
    "print(\"The rows r1 and r3 of the DataFrame df are \\n\", df_r1r2)\n",
    "\n",
    "df_02 = df.iloc[[0,2]]\n",
    "print(\"\\nThe first and third rows of the DataFrame df are \\n\", df_02)\n"
   ]
  },
  {
   "cell_type": "markdown",
   "metadata": {
    "id": "u6jTktskShpO"
   },
   "source": [
    "Same result! \n",
    "\n",
    "Finally, `iat` allows us to operate on individual entries:"
   ]
  },
  {
   "cell_type": "code",
   "execution_count": 19,
   "metadata": {
    "id": "NMP-ify5yK5x"
   },
   "outputs": [
    {
     "name": "stdout",
     "output_type": "stream",
     "text": [
      "The entry with indices (2,3) is: 42\n",
      "\n",
      "The updated DataFrame df is:\n",
      "     c1  c2  c3    c4\n",
      "r1  99  19  41    65\n",
      "r2   2   1  73     2\n",
      "r3  21  22  58  1000\n",
      "r4  53  34   6    63\n",
      "\n",
      "The entry with indices (2,3) is now: 1000\n"
     ]
    }
   ],
   "source": [
    "print(\"The entry with indices (2,3) is:\", df.iat[2,3])\n",
    "\n",
    "df.iat[2,3]=1000 #We now update the entry in the third rwo, fourth column\n",
    "print(\"\\nThe updated DataFrame df is:\\n\", df)\n",
    "print(\"\\nThe entry with indices (2,3) is now:\", df.iat[2,3])\n"
   ]
  },
  {
   "cell_type": "markdown",
   "metadata": {
    "id": "0Lr-A1C1TG3f"
   },
   "source": [
    "# Summary\n",
    "\n",
    "In this lab, we have explored several options to represent data and datasets in Python, including:\n",
    "- Basic numeric, boolean and string types\n",
    "- Standard lists\n",
    "- Numpy arrays\n",
    "- Pandas Series and DataFrames\n",
    "\n",
    "In general, NumPy arrays will be our preferred choice to represent complex data on a grid (such as time series and pictures) and homogeneous datasets, where all the attributes are of the same type. Pandas dataframes will be useful to represent heterogeneous datasets, where different attributes can have different types. There are additional subtleties, which you will learn as you develop your machine learning skills.\n",
    "\n",
    "Go ahead and attempt the QM+ quiz. You will need to use the npy file `myDigitsDataset.npy` and the CSV file `LondonCars2014.csv`. The code cell below shows how to load the above CSV file into a dataframe and displays some basic information about it (remember that you need to upload the CSV file first!).\n",
    " "
   ]
  },
  {
   "cell_type": "code",
   "execution_count": 20,
   "metadata": {
    "id": "AQhgILBZjzkC"
   },
   "outputs": [
    {
     "name": "stdout",
     "output_type": "stream",
     "text": [
      "<class 'pandas.core.frame.DataFrame'>\n",
      "RangeIndex: 9080 entries, 0 to 9079\n",
      "Data columns (total 11 columns):\n",
      " #   Column        Non-Null Count  Dtype \n",
      "---  ------        --------------  ----- \n",
      " 0   Make          9080 non-null   object\n",
      " 1   Model         9080 non-null   object\n",
      " 2   Year          9080 non-null   int64 \n",
      " 3   Mileage       9080 non-null   int64 \n",
      " 4   Price         9080 non-null   int64 \n",
      " 5   Body Style    9080 non-null   object\n",
      " 6   Ex Color      9080 non-null   object\n",
      " 7   In Color      9080 non-null   object\n",
      " 8   Engine        9080 non-null   object\n",
      " 9   Transmission  9080 non-null   object\n",
      " 10  Doors         9080 non-null   int64 \n",
      "dtypes: int64(4), object(7)\n",
      "memory usage: 780.4+ KB\n"
     ]
    }
   ],
   "source": [
    "df_cars = pd.read_csv('./LondonCars2014.csv')\n",
    "df_cars.info()"
   ]
  },
  {
   "cell_type": "markdown",
   "metadata": {},
   "source": [
    "# Quiz 2"
   ]
  },
  {
   "cell_type": "code",
   "execution_count": 21,
   "metadata": {},
   "outputs": [
    {
     "name": "stdout",
     "output_type": "stream",
     "text": [
      "The shape of my 3rd item is: (28, 28)\n",
      "\n",
      "My 3rd item is:\n",
      " [[7 7 7 7 7 7 7 7 7 7 7 7 7 7 7 7 7 7 7 7 7 7 7 7 7 7 7 7]\n",
      " [7 7 7 7 7 7 7 7 7 7 7 7 7 7 7 7 7 7 7 7 7 7 7 7 7 7 7 7]\n",
      " [7 7 7 7 7 7 7 7 7 7 7 7 7 7 7 7 7 7 7 7 7 7 7 7 7 7 7 7]\n",
      " [7 7 7 7 7 7 7 7 7 7 7 7 7 7 7 7 7 7 7 7 7 7 7 7 7 7 7 7]\n",
      " [7 7 7 7 7 7 7 7 7 7 7 7 7 7 7 7 7 7 7 7 7 7 7 7 7 7 7 7]\n",
      " [7 7 7 7 7 7 7 7 7 7 7 0 0 0 0 0 0 0 0 0 0 0 7 7 7 7 7 7]\n",
      " [7 7 7 7 7 7 7 7 7 0 0 0 0 0 0 0 0 0 0 0 0 0 0 7 7 7 7 7]\n",
      " [7 7 7 7 7 7 7 7 7 0 0 0 0 0 0 0 0 0 0 0 0 0 0 7 7 7 7 7]\n",
      " [7 7 7 7 7 7 7 7 7 0 0 0 0 0 0 0 0 0 0 0 0 0 0 7 7 7 7 7]\n",
      " [7 7 7 7 7 7 7 7 7 0 0 0 0 7 7 7 7 0 0 0 0 0 0 7 7 7 7 7]\n",
      " [7 7 7 7 7 7 7 7 7 7 7 7 7 7 7 7 7 0 0 0 0 0 7 7 7 7 7 7]\n",
      " [7 7 7 7 7 7 7 7 7 7 7 7 7 7 7 7 0 0 0 0 0 0 7 7 7 7 7 7]\n",
      " [7 7 7 7 7 7 7 7 7 7 7 7 7 7 0 0 0 0 0 0 0 0 7 7 7 7 7 7]\n",
      " [7 7 7 7 7 7 7 7 7 0 0 0 0 0 0 0 0 0 0 0 0 7 7 7 7 7 7 7]\n",
      " [7 7 7 7 7 7 7 7 0 0 0 0 0 0 0 0 0 0 0 7 7 7 7 7 7 7 7 7]\n",
      " [7 7 7 7 7 7 7 7 0 0 0 0 0 0 0 0 0 0 0 0 7 7 7 7 7 7 7 7]\n",
      " [7 7 7 7 7 7 7 7 7 0 0 0 0 0 0 0 0 0 0 0 7 7 7 7 7 7 7 7]\n",
      " [7 7 7 7 7 7 7 7 7 7 7 7 7 7 7 7 0 0 0 0 7 7 7 7 7 7 7 7]\n",
      " [7 7 7 7 7 7 7 7 7 7 7 7 7 7 7 7 0 0 0 0 7 7 7 7 7 7 7 7]\n",
      " [7 7 7 7 7 7 0 0 0 7 7 7 7 7 7 0 0 0 0 0 7 7 7 7 7 7 7 7]\n",
      " [7 7 7 7 7 0 0 0 0 7 7 7 7 0 0 0 0 0 0 0 7 7 7 7 7 7 7 7]\n",
      " [7 7 7 7 7 0 0 0 0 0 0 0 0 0 0 0 0 0 0 7 7 7 7 7 7 7 7 7]\n",
      " [7 7 7 7 7 0 0 0 0 0 0 0 0 0 0 0 0 0 7 7 7 7 7 7 7 7 7 7]\n",
      " [7 7 7 7 7 0 0 0 0 0 0 0 0 0 0 0 7 7 7 7 7 7 7 7 7 7 7 7]\n",
      " [7 7 7 7 7 7 0 0 0 0 0 0 0 7 7 7 7 7 7 7 7 7 7 7 7 7 7 7]\n",
      " [7 7 7 7 7 7 7 7 7 7 7 7 7 7 7 7 7 7 7 7 7 7 7 7 7 7 7 7]\n",
      " [7 7 7 7 7 7 7 7 7 7 7 7 7 7 7 7 7 7 7 7 7 7 7 7 7 7 7 7]\n",
      " [7 7 7 7 7 7 7 7 7 7 7 7 7 7 7 7 7 7 7 7 7 7 7 7 7 7 7 7]]\n"
     ]
    }
   ],
   "source": [
    "# Q1:\n",
    "\n",
    "myThirdDigit = myDigits[7,:,:]\n",
    "print(\"The shape of my 3rd item is:\", myThirdDigit.shape)\n",
    "print(\"\\nMy 3rd item is:\\n\", myThirdDigit)"
   ]
  },
  {
   "cell_type": "code",
   "execution_count": 22,
   "metadata": {},
   "outputs": [
    {
     "name": "stdout",
     "output_type": "stream",
     "text": [
      "Price    16995\n",
      "Name: 4321, dtype: object\n"
     ]
    }
   ],
   "source": [
    "# Q2:\n",
    "\n",
    "columnsData = df_cars.loc[ 4321 , ['Price'] ]\n",
    "print(columnsData)"
   ]
  }
 ],
 "metadata": {
  "colab": {
   "collapsed_sections": [
    "JdC-n2a72IYR",
    "x8Udy41sW6WT"
   ],
   "name": "ECS708P_Lab02.ipynb",
   "provenance": []
  },
  "kernelspec": {
   "display_name": "Python 3",
   "language": "python",
   "name": "python3"
  },
  "language_info": {
   "codemirror_mode": {
    "name": "ipython",
    "version": 3
   },
   "file_extension": ".py",
   "mimetype": "text/x-python",
   "name": "python",
   "nbconvert_exporter": "python",
   "pygments_lexer": "ipython3",
   "version": "3.8.5"
  }
 },
 "nbformat": 4,
 "nbformat_minor": 1
}
