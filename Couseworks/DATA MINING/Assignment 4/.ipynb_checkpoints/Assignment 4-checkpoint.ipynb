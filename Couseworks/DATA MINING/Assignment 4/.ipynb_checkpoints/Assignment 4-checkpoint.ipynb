{
 "cells": [
  {
   "cell_type": "markdown",
   "metadata": {},
   "source": [
    "# Assignment 4"
   ]
  },
  {
   "cell_type": "markdown",
   "metadata": {},
   "source": [
    "## Part 1"
   ]
  },
  {
   "cell_type": "markdown",
   "metadata": {},
   "source": [
    "#### 1. You are provided with the following URL: [http://eecs.qmul.ac.uk/~emmanouilb/income_table.html](http://eecs.qmul.ac.uk/~emmanouilb/income_table.html). This webpage includes a table on individuals' income and shopping habits - the same that was used in the Week 3 lab.<br><br>\n",
    "##### 1.1 Inspect the HTML code of the above URL, and provide a short report on the various tags present in the code. What is the function of each unique tag present in the HTML code?"
   ]
  },
  {
   "cell_type": "markdown",
   "metadata": {},
   "source": [
    "The **'html'** tag represents the root of an HTML document.<br>\n",
    "The **'head'** element is a container for metadata (data about data) and is placed between the **'html'** tag and the **'body'** tag.<br>\n",
    "The **'body'** tag defines the document's body. The **'body'** element contains all the contents of an HTML document, such as headings, paragraphs, images, hyperlinks, tables, lists, etc.<br>\n",
    "The **'h1'** to **'h6'** tags are used to define HTML headings. **'h1'** defines the most important heading.<br>\n",
    "The **'p'** tag defines a paragraph.<br>\n",
    "The **'table'** tag defines an HTML table. An HTML table consists of one **'table'** element and one or more **'tr'**, **'th'**, and **'td'** elements.<br>\n",
    "The **'thead'** tag is used to group header content in an HTML table. The **'thead'** element is used in conjunction with the **'tbody'** and **'tfoot'** elements to specify each part of a table (header, body, footer).<br>\n",
    "The **'tr'** tag defines a row in an HTML table.<br>\n",
    "The **'td'** tag defines a standard data cell in an HTML table.\n",
    "\n"
   ]
  },
  {
   "cell_type": "markdown",
   "metadata": {},
   "source": [
    "##### 1.2 Using Beautiful Soup, scrape the table and convert it into a pandas dataframe. Perform data cleaning when necessary to remove extra characters (no need to handle missing values). In the report include the code that was used to scrape and convert the table and provide evidence that the table has been successfully scraped and converted (e.g. by displaying the contents of the dataframe)."
   ]
  },
  {
   "cell_type": "code",
   "execution_count": 209,
   "metadata": {},
   "outputs": [],
   "source": [
    "import pandas as pd\n",
    "import numpy as np\n",
    "import matplotlib.pyplot as plt\n",
    "import seaborn as sns\n",
    "%matplotlib inline"
   ]
  },
  {
   "cell_type": "code",
   "execution_count": 208,
   "metadata": {},
   "outputs": [],
   "source": [
    "from urllib.request import urlopen\n",
    "from bs4 import BeautifulSoup"
   ]
  },
  {
   "cell_type": "code",
   "execution_count": 3,
   "metadata": {},
   "outputs": [],
   "source": [
    "url = \"http://eecs.qmul.ac.uk/~emmanouilb/income_table.html\"\n",
    "html = urlopen(url)"
   ]
  },
  {
   "cell_type": "code",
   "execution_count": 4,
   "metadata": {},
   "outputs": [
    {
     "name": "stdout",
     "output_type": "stream",
     "text": [
      "<class 'bs4.BeautifulSoup'>\n"
     ]
    }
   ],
   "source": [
    "soup = BeautifulSoup(html, 'lxml')\n",
    "print(type(soup))"
   ]
  },
  {
   "cell_type": "code",
   "execution_count": 5,
   "metadata": {},
   "outputs": [
    {
     "data": {
      "text/plain": [
       "[<td>India</td>,\n",
       " <td align=\"right\">49</td>,\n",
       " <td align=\"right\">86400</td>,\n",
       " <td>No</td>,\n",
       " <td>Brazil</td>,\n",
       " <td align=\"right\">32</td>,\n",
       " <td align=\"right\">57600</td>,\n",
       " <td>Yes</td>,\n",
       " <td>USA</td>,\n",
       " <td align=\"right\">35</td>,\n",
       " <td align=\"right\">64800</td>,\n",
       " <td>No</td>,\n",
       " <td>Brazil</td>,\n",
       " <td align=\"right\">43</td>,\n",
       " <td align=\"right\">73200</td>,\n",
       " <td>No</td>,\n",
       " <td>USA</td>,\n",
       " <td align=\"right\">45</td>,\n",
       " <td align=\"right\"></td>,\n",
       " <td>Yes</td>,\n",
       " <td>India</td>,\n",
       " <td align=\"right\">40</td>,\n",
       " <td align=\"right\">69600</td>,\n",
       " <td>Yes</td>,\n",
       " <td>Brazil</td>,\n",
       " <td align=\"right\"></td>,\n",
       " <td align=\"right\">62400</td>,\n",
       " <td>No</td>,\n",
       " <td>India</td>,\n",
       " <td align=\"right\">53</td>,\n",
       " <td align=\"right\">94800</td>,\n",
       " <td>Yes</td>,\n",
       " <td>USA</td>,\n",
       " <td align=\"right\">55</td>,\n",
       " <td align=\"right\">99600</td>,\n",
       " <td>No</td>,\n",
       " <td>India</td>,\n",
       " <td align=\"right\">42</td>,\n",
       " <td align=\"right\">80400</td>,\n",
       " <td>Yes</td>]"
      ]
     },
     "execution_count": 5,
     "metadata": {},
     "output_type": "execute_result"
    }
   ],
   "source": [
    "soup.find_all('td')"
   ]
  },
  {
   "cell_type": "code",
   "execution_count": 6,
   "metadata": {},
   "outputs": [
    {
     "data": {
      "text/plain": [
       "[<tr><th title=\"Field #1\">Region</th>\n",
       " <th title=\"Field #2\">Age</th>\n",
       " <th title=\"Field #3\">Income</th>\n",
       " <th title=\"Field #4\">Online Shopper</th>\n",
       " </tr>,\n",
       " <tr>\n",
       " <td>India</td>\n",
       " <td align=\"right\">49</td>\n",
       " <td align=\"right\">86400</td>\n",
       " <td>No</td>\n",
       " </tr>,\n",
       " <tr>\n",
       " <td>Brazil</td>\n",
       " <td align=\"right\">32</td>\n",
       " <td align=\"right\">57600</td>\n",
       " <td>Yes</td>\n",
       " </tr>,\n",
       " <tr>\n",
       " <td>USA</td>\n",
       " <td align=\"right\">35</td>\n",
       " <td align=\"right\">64800</td>\n",
       " <td>No</td>\n",
       " </tr>,\n",
       " <tr>\n",
       " <td>Brazil</td>\n",
       " <td align=\"right\">43</td>\n",
       " <td align=\"right\">73200</td>\n",
       " <td>No</td>\n",
       " </tr>,\n",
       " <tr>\n",
       " <td>USA</td>\n",
       " <td align=\"right\">45</td>\n",
       " <td align=\"right\"></td>\n",
       " <td>Yes</td>\n",
       " </tr>,\n",
       " <tr>\n",
       " <td>India</td>\n",
       " <td align=\"right\">40</td>\n",
       " <td align=\"right\">69600</td>\n",
       " <td>Yes</td>\n",
       " </tr>,\n",
       " <tr>\n",
       " <td>Brazil</td>\n",
       " <td align=\"right\"></td>\n",
       " <td align=\"right\">62400</td>\n",
       " <td>No</td>\n",
       " </tr>,\n",
       " <tr>\n",
       " <td>India</td>\n",
       " <td align=\"right\">53</td>\n",
       " <td align=\"right\">94800</td>\n",
       " <td>Yes</td>\n",
       " </tr>,\n",
       " <tr>\n",
       " <td>USA</td>\n",
       " <td align=\"right\">55</td>\n",
       " <td align=\"right\">99600</td>\n",
       " <td>No</td>\n",
       " </tr>,\n",
       " <tr>\n",
       " <td>India</td>\n",
       " <td align=\"right\">42</td>\n",
       " <td align=\"right\">80400</td>\n",
       " <td>Yes</td>\n",
       " </tr>]"
      ]
     },
     "execution_count": 6,
     "metadata": {},
     "output_type": "execute_result"
    }
   ],
   "source": [
    "soup.find_all('tr')"
   ]
  },
  {
   "cell_type": "code",
   "execution_count": 7,
   "metadata": {},
   "outputs": [
    {
     "name": "stdout",
     "output_type": "stream",
     "text": [
      "['[Region, Age, Income, Online Shopper]']\n"
     ]
    }
   ],
   "source": [
    "# Create an empty list where the table header will be stored\n",
    "header_list = []\n",
    "\n",
    "# Find the 'th' html tags which denote table header\n",
    "col_labels = soup.find_all('th')\n",
    "col_str = str(col_labels)\n",
    "cleantext_header = BeautifulSoup(col_str, \"lxml\").get_text()  # extract the text without HTML tags\n",
    "header_list.append(cleantext_header) # Add the clean table header to the list\n",
    "\n",
    "print(header_list)"
   ]
  },
  {
   "cell_type": "code",
   "execution_count": 15,
   "metadata": {},
   "outputs": [
    {
     "name": "stdout",
     "output_type": "stream",
     "text": [
      "['[]', '[India, 49, 86400, No]', '[Brazil, 32, 57600, Yes]', '[USA, 35, 64800, No]', '[Brazil, 43, 73200, No]', '[USA, 45, , Yes]', '[India, 40, 69600, Yes]', '[Brazil, , 62400, No]', '[India, 53, 94800, Yes]', '[USA, 55, 99600, No]', '[India, 42, 80400, Yes]']\n"
     ]
    }
   ],
   "source": [
    "rows = soup.find_all('tr')  # the 'tr' tag in html denotes a table row\n",
    "\n",
    "# Create an empty list where the table will be stored\n",
    "table_list = []\n",
    "\n",
    "# For every row in the table, find each cell element and add it to the list\n",
    "for row in rows:\n",
    "    row_td = row.find_all('td')\n",
    "    row_cells = str(row_td)\n",
    "    row_cleantext = BeautifulSoup(row_cells, \"lxml\").get_text()  # extract the text without HTML tags\n",
    "    table_list.append(row_cleantext)  # Add the clean table row to the list\n",
    "    \n",
    "print(table_list)"
   ]
  },
  {
   "cell_type": "code",
   "execution_count": 16,
   "metadata": {},
   "outputs": [
    {
     "data": {
      "text/html": [
       "<div>\n",
       "<style scoped>\n",
       "    .dataframe tbody tr th:only-of-type {\n",
       "        vertical-align: middle;\n",
       "    }\n",
       "\n",
       "    .dataframe tbody tr th {\n",
       "        vertical-align: top;\n",
       "    }\n",
       "\n",
       "    .dataframe thead th {\n",
       "        text-align: right;\n",
       "    }\n",
       "</style>\n",
       "<table border=\"1\" class=\"dataframe\">\n",
       "  <thead>\n",
       "    <tr style=\"text-align: right;\">\n",
       "      <th></th>\n",
       "      <th>0</th>\n",
       "      <th>1</th>\n",
       "      <th>2</th>\n",
       "      <th>3</th>\n",
       "    </tr>\n",
       "  </thead>\n",
       "  <tbody>\n",
       "    <tr>\n",
       "      <th>0</th>\n",
       "      <td>[Region</td>\n",
       "      <td>Age</td>\n",
       "      <td>Income</td>\n",
       "      <td>Online Shopper]</td>\n",
       "    </tr>\n",
       "  </tbody>\n",
       "</table>\n",
       "</div>"
      ],
      "text/plain": [
       "         0     1        2                 3\n",
       "0  [Region   Age   Income   Online Shopper]"
      ]
     },
     "execution_count": 16,
     "metadata": {},
     "output_type": "execute_result"
    }
   ],
   "source": [
    "df_header = pd.DataFrame(header_list)\n",
    "df_header.head()\n",
    "\n",
    "df_header2 = df_header[0].str.split(',', expand=True)\n",
    "df_header2.head()"
   ]
  },
  {
   "cell_type": "code",
   "execution_count": 19,
   "metadata": {},
   "outputs": [
    {
     "data": {
      "text/html": [
       "<div>\n",
       "<style scoped>\n",
       "    .dataframe tbody tr th:only-of-type {\n",
       "        vertical-align: middle;\n",
       "    }\n",
       "\n",
       "    .dataframe tbody tr th {\n",
       "        vertical-align: top;\n",
       "    }\n",
       "\n",
       "    .dataframe thead th {\n",
       "        text-align: right;\n",
       "    }\n",
       "</style>\n",
       "<table border=\"1\" class=\"dataframe\">\n",
       "  <thead>\n",
       "    <tr style=\"text-align: right;\">\n",
       "      <th></th>\n",
       "      <th>0</th>\n",
       "      <th>1</th>\n",
       "      <th>2</th>\n",
       "      <th>3</th>\n",
       "    </tr>\n",
       "  </thead>\n",
       "  <tbody>\n",
       "    <tr>\n",
       "      <th>0</th>\n",
       "      <td>[]</td>\n",
       "      <td>None</td>\n",
       "      <td>None</td>\n",
       "      <td>None</td>\n",
       "    </tr>\n",
       "    <tr>\n",
       "      <th>1</th>\n",
       "      <td>[India</td>\n",
       "      <td>49</td>\n",
       "      <td>86400</td>\n",
       "      <td>No]</td>\n",
       "    </tr>\n",
       "    <tr>\n",
       "      <th>2</th>\n",
       "      <td>[Brazil</td>\n",
       "      <td>32</td>\n",
       "      <td>57600</td>\n",
       "      <td>Yes]</td>\n",
       "    </tr>\n",
       "    <tr>\n",
       "      <th>3</th>\n",
       "      <td>[USA</td>\n",
       "      <td>35</td>\n",
       "      <td>64800</td>\n",
       "      <td>No]</td>\n",
       "    </tr>\n",
       "    <tr>\n",
       "      <th>4</th>\n",
       "      <td>[Brazil</td>\n",
       "      <td>43</td>\n",
       "      <td>73200</td>\n",
       "      <td>No]</td>\n",
       "    </tr>\n",
       "    <tr>\n",
       "      <th>5</th>\n",
       "      <td>[USA</td>\n",
       "      <td>45</td>\n",
       "      <td></td>\n",
       "      <td>Yes]</td>\n",
       "    </tr>\n",
       "    <tr>\n",
       "      <th>6</th>\n",
       "      <td>[India</td>\n",
       "      <td>40</td>\n",
       "      <td>69600</td>\n",
       "      <td>Yes]</td>\n",
       "    </tr>\n",
       "    <tr>\n",
       "      <th>7</th>\n",
       "      <td>[Brazil</td>\n",
       "      <td></td>\n",
       "      <td>62400</td>\n",
       "      <td>No]</td>\n",
       "    </tr>\n",
       "    <tr>\n",
       "      <th>8</th>\n",
       "      <td>[India</td>\n",
       "      <td>53</td>\n",
       "      <td>94800</td>\n",
       "      <td>Yes]</td>\n",
       "    </tr>\n",
       "    <tr>\n",
       "      <th>9</th>\n",
       "      <td>[USA</td>\n",
       "      <td>55</td>\n",
       "      <td>99600</td>\n",
       "      <td>No]</td>\n",
       "    </tr>\n",
       "    <tr>\n",
       "      <th>10</th>\n",
       "      <td>[India</td>\n",
       "      <td>42</td>\n",
       "      <td>80400</td>\n",
       "      <td>Yes]</td>\n",
       "    </tr>\n",
       "  </tbody>\n",
       "</table>\n",
       "</div>"
      ],
      "text/plain": [
       "          0     1       2      3\n",
       "0        []  None    None   None\n",
       "1    [India    49   86400    No]\n",
       "2   [Brazil    32   57600   Yes]\n",
       "3      [USA    35   64800    No]\n",
       "4   [Brazil    43   73200    No]\n",
       "5      [USA    45           Yes]\n",
       "6    [India    40   69600   Yes]\n",
       "7   [Brazil         62400    No]\n",
       "8    [India    53   94800   Yes]\n",
       "9      [USA    55   99600    No]\n",
       "10   [India    42   80400   Yes]"
      ]
     },
     "execution_count": 19,
     "metadata": {},
     "output_type": "execute_result"
    }
   ],
   "source": [
    "df_table = pd.DataFrame(table_list)\n",
    "df_table2 = df_table[0].str.split(',', expand=True)\n",
    "\n",
    "df_table2"
   ]
  },
  {
   "cell_type": "code",
   "execution_count": 20,
   "metadata": {},
   "outputs": [
    {
     "data": {
      "text/html": [
       "<div>\n",
       "<style scoped>\n",
       "    .dataframe tbody tr th:only-of-type {\n",
       "        vertical-align: middle;\n",
       "    }\n",
       "\n",
       "    .dataframe tbody tr th {\n",
       "        vertical-align: top;\n",
       "    }\n",
       "\n",
       "    .dataframe thead th {\n",
       "        text-align: right;\n",
       "    }\n",
       "</style>\n",
       "<table border=\"1\" class=\"dataframe\">\n",
       "  <thead>\n",
       "    <tr style=\"text-align: right;\">\n",
       "      <th></th>\n",
       "      <th>0</th>\n",
       "      <th>1</th>\n",
       "      <th>2</th>\n",
       "      <th>3</th>\n",
       "    </tr>\n",
       "  </thead>\n",
       "  <tbody>\n",
       "    <tr>\n",
       "      <th>1</th>\n",
       "      <td>India</td>\n",
       "      <td>49</td>\n",
       "      <td>86400</td>\n",
       "      <td>No</td>\n",
       "    </tr>\n",
       "    <tr>\n",
       "      <th>2</th>\n",
       "      <td>Brazil</td>\n",
       "      <td>32</td>\n",
       "      <td>57600</td>\n",
       "      <td>Yes</td>\n",
       "    </tr>\n",
       "    <tr>\n",
       "      <th>3</th>\n",
       "      <td>USA</td>\n",
       "      <td>35</td>\n",
       "      <td>64800</td>\n",
       "      <td>No</td>\n",
       "    </tr>\n",
       "    <tr>\n",
       "      <th>4</th>\n",
       "      <td>Brazil</td>\n",
       "      <td>43</td>\n",
       "      <td>73200</td>\n",
       "      <td>No</td>\n",
       "    </tr>\n",
       "    <tr>\n",
       "      <th>5</th>\n",
       "      <td>USA</td>\n",
       "      <td>45</td>\n",
       "      <td></td>\n",
       "      <td>Yes</td>\n",
       "    </tr>\n",
       "    <tr>\n",
       "      <th>6</th>\n",
       "      <td>India</td>\n",
       "      <td>40</td>\n",
       "      <td>69600</td>\n",
       "      <td>Yes</td>\n",
       "    </tr>\n",
       "    <tr>\n",
       "      <th>7</th>\n",
       "      <td>Brazil</td>\n",
       "      <td></td>\n",
       "      <td>62400</td>\n",
       "      <td>No</td>\n",
       "    </tr>\n",
       "    <tr>\n",
       "      <th>8</th>\n",
       "      <td>India</td>\n",
       "      <td>53</td>\n",
       "      <td>94800</td>\n",
       "      <td>Yes</td>\n",
       "    </tr>\n",
       "    <tr>\n",
       "      <th>9</th>\n",
       "      <td>USA</td>\n",
       "      <td>55</td>\n",
       "      <td>99600</td>\n",
       "      <td>No</td>\n",
       "    </tr>\n",
       "    <tr>\n",
       "      <th>10</th>\n",
       "      <td>India</td>\n",
       "      <td>42</td>\n",
       "      <td>80400</td>\n",
       "      <td>Yes</td>\n",
       "    </tr>\n",
       "  </tbody>\n",
       "</table>\n",
       "</div>"
      ],
      "text/plain": [
       "         0    1       2     3\n",
       "1    India   49   86400    No\n",
       "2   Brazil   32   57600   Yes\n",
       "3      USA   35   64800    No\n",
       "4   Brazil   43   73200    No\n",
       "5      USA   45           Yes\n",
       "6    India   40   69600   Yes\n",
       "7   Brazil        62400    No\n",
       "8    India   53   94800   Yes\n",
       "9      USA   55   99600    No\n",
       "10   India   42   80400   Yes"
      ]
     },
     "execution_count": 20,
     "metadata": {},
     "output_type": "execute_result"
    }
   ],
   "source": [
    "# Remove uneccesary characters\n",
    "df_table2[0] = df_table2[0].str.strip('[')\n",
    "df_table2[3] = df_table2[3].str.strip(']')\n",
    "\n",
    "\n",
    "# Remove all rows with any missing values\n",
    "df_table3 = df_table2.dropna(axis=0, how='any')\n",
    "\n",
    "df_table3"
   ]
  },
  {
   "cell_type": "code",
   "execution_count": 21,
   "metadata": {},
   "outputs": [
    {
     "data": {
      "text/html": [
       "<div>\n",
       "<style scoped>\n",
       "    .dataframe tbody tr th:only-of-type {\n",
       "        vertical-align: middle;\n",
       "    }\n",
       "\n",
       "    .dataframe tbody tr th {\n",
       "        vertical-align: top;\n",
       "    }\n",
       "\n",
       "    .dataframe thead th {\n",
       "        text-align: right;\n",
       "    }\n",
       "</style>\n",
       "<table border=\"1\" class=\"dataframe\">\n",
       "  <thead>\n",
       "    <tr style=\"text-align: right;\">\n",
       "      <th></th>\n",
       "      <th>0</th>\n",
       "      <th>1</th>\n",
       "      <th>2</th>\n",
       "      <th>3</th>\n",
       "    </tr>\n",
       "  </thead>\n",
       "  <tbody>\n",
       "    <tr>\n",
       "      <th>0</th>\n",
       "      <td>Region</td>\n",
       "      <td>Age</td>\n",
       "      <td>Income</td>\n",
       "      <td>Online Shopper</td>\n",
       "    </tr>\n",
       "  </tbody>\n",
       "</table>\n",
       "</div>"
      ],
      "text/plain": [
       "        0     1        2                3\n",
       "0  Region   Age   Income   Online Shopper"
      ]
     },
     "execution_count": 21,
     "metadata": {},
     "output_type": "execute_result"
    }
   ],
   "source": [
    "# We remove uneccessary characters from the header\n",
    "df_header2[0] = df_header2[0].str.strip('[')\n",
    "df_header2[3] = df_header2[3].str.strip(']')\n",
    "\n",
    "df_header2"
   ]
  },
  {
   "cell_type": "code",
   "execution_count": 22,
   "metadata": {},
   "outputs": [
    {
     "data": {
      "text/html": [
       "<div>\n",
       "<style scoped>\n",
       "    .dataframe tbody tr th:only-of-type {\n",
       "        vertical-align: middle;\n",
       "    }\n",
       "\n",
       "    .dataframe tbody tr th {\n",
       "        vertical-align: top;\n",
       "    }\n",
       "\n",
       "    .dataframe thead th {\n",
       "        text-align: right;\n",
       "    }\n",
       "</style>\n",
       "<table border=\"1\" class=\"dataframe\">\n",
       "  <thead>\n",
       "    <tr style=\"text-align: right;\">\n",
       "      <th></th>\n",
       "      <th>0</th>\n",
       "      <th>1</th>\n",
       "      <th>2</th>\n",
       "      <th>3</th>\n",
       "    </tr>\n",
       "  </thead>\n",
       "  <tbody>\n",
       "    <tr>\n",
       "      <th>0</th>\n",
       "      <td>Region</td>\n",
       "      <td>Age</td>\n",
       "      <td>Income</td>\n",
       "      <td>Online Shopper</td>\n",
       "    </tr>\n",
       "    <tr>\n",
       "      <th>1</th>\n",
       "      <td>India</td>\n",
       "      <td>49</td>\n",
       "      <td>86400</td>\n",
       "      <td>No</td>\n",
       "    </tr>\n",
       "    <tr>\n",
       "      <th>2</th>\n",
       "      <td>Brazil</td>\n",
       "      <td>32</td>\n",
       "      <td>57600</td>\n",
       "      <td>Yes</td>\n",
       "    </tr>\n",
       "    <tr>\n",
       "      <th>3</th>\n",
       "      <td>USA</td>\n",
       "      <td>35</td>\n",
       "      <td>64800</td>\n",
       "      <td>No</td>\n",
       "    </tr>\n",
       "    <tr>\n",
       "      <th>4</th>\n",
       "      <td>Brazil</td>\n",
       "      <td>43</td>\n",
       "      <td>73200</td>\n",
       "      <td>No</td>\n",
       "    </tr>\n",
       "    <tr>\n",
       "      <th>5</th>\n",
       "      <td>USA</td>\n",
       "      <td>45</td>\n",
       "      <td></td>\n",
       "      <td>Yes</td>\n",
       "    </tr>\n",
       "    <tr>\n",
       "      <th>6</th>\n",
       "      <td>India</td>\n",
       "      <td>40</td>\n",
       "      <td>69600</td>\n",
       "      <td>Yes</td>\n",
       "    </tr>\n",
       "    <tr>\n",
       "      <th>7</th>\n",
       "      <td>Brazil</td>\n",
       "      <td></td>\n",
       "      <td>62400</td>\n",
       "      <td>No</td>\n",
       "    </tr>\n",
       "    <tr>\n",
       "      <th>8</th>\n",
       "      <td>India</td>\n",
       "      <td>53</td>\n",
       "      <td>94800</td>\n",
       "      <td>Yes</td>\n",
       "    </tr>\n",
       "    <tr>\n",
       "      <th>9</th>\n",
       "      <td>USA</td>\n",
       "      <td>55</td>\n",
       "      <td>99600</td>\n",
       "      <td>No</td>\n",
       "    </tr>\n",
       "    <tr>\n",
       "      <th>10</th>\n",
       "      <td>India</td>\n",
       "      <td>42</td>\n",
       "      <td>80400</td>\n",
       "      <td>Yes</td>\n",
       "    </tr>\n",
       "  </tbody>\n",
       "</table>\n",
       "</div>"
      ],
      "text/plain": [
       "         0     1        2                3\n",
       "0   Region   Age   Income   Online Shopper\n",
       "1    India    49    86400               No\n",
       "2   Brazil    32    57600              Yes\n",
       "3      USA    35    64800               No\n",
       "4   Brazil    43    73200               No\n",
       "5      USA    45                       Yes\n",
       "6    India    40    69600              Yes\n",
       "7   Brazil          62400               No\n",
       "8    India    53    94800              Yes\n",
       "9      USA    55    99600               No\n",
       "10   India    42    80400              Yes"
      ]
     },
     "execution_count": 22,
     "metadata": {},
     "output_type": "execute_result"
    }
   ],
   "source": [
    "# We concatenate the two dataframes\n",
    "frames = [df_header2, df_table3]\n",
    "df = pd.concat(frames)\n",
    "\n",
    "df"
   ]
  },
  {
   "cell_type": "code",
   "execution_count": 23,
   "metadata": {},
   "outputs": [
    {
     "data": {
      "text/html": [
       "<div>\n",
       "<style scoped>\n",
       "    .dataframe tbody tr th:only-of-type {\n",
       "        vertical-align: middle;\n",
       "    }\n",
       "\n",
       "    .dataframe tbody tr th {\n",
       "        vertical-align: top;\n",
       "    }\n",
       "\n",
       "    .dataframe thead th {\n",
       "        text-align: right;\n",
       "    }\n",
       "</style>\n",
       "<table border=\"1\" class=\"dataframe\">\n",
       "  <thead>\n",
       "    <tr style=\"text-align: right;\">\n",
       "      <th></th>\n",
       "      <th>Region</th>\n",
       "      <th>Age</th>\n",
       "      <th>Income</th>\n",
       "      <th>Online Shopper</th>\n",
       "    </tr>\n",
       "  </thead>\n",
       "  <tbody>\n",
       "    <tr>\n",
       "      <th>0</th>\n",
       "      <td>Region</td>\n",
       "      <td>Age</td>\n",
       "      <td>Income</td>\n",
       "      <td>Online Shopper</td>\n",
       "    </tr>\n",
       "    <tr>\n",
       "      <th>1</th>\n",
       "      <td>India</td>\n",
       "      <td>49</td>\n",
       "      <td>86400</td>\n",
       "      <td>No</td>\n",
       "    </tr>\n",
       "    <tr>\n",
       "      <th>2</th>\n",
       "      <td>Brazil</td>\n",
       "      <td>32</td>\n",
       "      <td>57600</td>\n",
       "      <td>Yes</td>\n",
       "    </tr>\n",
       "    <tr>\n",
       "      <th>3</th>\n",
       "      <td>USA</td>\n",
       "      <td>35</td>\n",
       "      <td>64800</td>\n",
       "      <td>No</td>\n",
       "    </tr>\n",
       "    <tr>\n",
       "      <th>4</th>\n",
       "      <td>Brazil</td>\n",
       "      <td>43</td>\n",
       "      <td>73200</td>\n",
       "      <td>No</td>\n",
       "    </tr>\n",
       "    <tr>\n",
       "      <th>5</th>\n",
       "      <td>USA</td>\n",
       "      <td>45</td>\n",
       "      <td></td>\n",
       "      <td>Yes</td>\n",
       "    </tr>\n",
       "    <tr>\n",
       "      <th>6</th>\n",
       "      <td>India</td>\n",
       "      <td>40</td>\n",
       "      <td>69600</td>\n",
       "      <td>Yes</td>\n",
       "    </tr>\n",
       "    <tr>\n",
       "      <th>7</th>\n",
       "      <td>Brazil</td>\n",
       "      <td></td>\n",
       "      <td>62400</td>\n",
       "      <td>No</td>\n",
       "    </tr>\n",
       "    <tr>\n",
       "      <th>8</th>\n",
       "      <td>India</td>\n",
       "      <td>53</td>\n",
       "      <td>94800</td>\n",
       "      <td>Yes</td>\n",
       "    </tr>\n",
       "    <tr>\n",
       "      <th>9</th>\n",
       "      <td>USA</td>\n",
       "      <td>55</td>\n",
       "      <td>99600</td>\n",
       "      <td>No</td>\n",
       "    </tr>\n",
       "    <tr>\n",
       "      <th>10</th>\n",
       "      <td>India</td>\n",
       "      <td>42</td>\n",
       "      <td>80400</td>\n",
       "      <td>Yes</td>\n",
       "    </tr>\n",
       "  </tbody>\n",
       "</table>\n",
       "</div>"
      ],
      "text/plain": [
       "    Region   Age   Income   Online Shopper\n",
       "0   Region   Age   Income   Online Shopper\n",
       "1    India    49    86400               No\n",
       "2   Brazil    32    57600              Yes\n",
       "3      USA    35    64800               No\n",
       "4   Brazil    43    73200               No\n",
       "5      USA    45                       Yes\n",
       "6    India    40    69600              Yes\n",
       "7   Brazil          62400               No\n",
       "8    India    53    94800              Yes\n",
       "9      USA    55    99600               No\n",
       "10   India    42    80400              Yes"
      ]
     },
     "execution_count": 23,
     "metadata": {},
     "output_type": "execute_result"
    }
   ],
   "source": [
    "df2 = df.rename(columns=df.iloc[0]) # We assign the first row to be the dataframe header\n",
    "\n",
    "df2"
   ]
  },
  {
   "cell_type": "code",
   "execution_count": 24,
   "metadata": {},
   "outputs": [
    {
     "data": {
      "text/html": [
       "<div>\n",
       "<style scoped>\n",
       "    .dataframe tbody tr th:only-of-type {\n",
       "        vertical-align: middle;\n",
       "    }\n",
       "\n",
       "    .dataframe tbody tr th {\n",
       "        vertical-align: top;\n",
       "    }\n",
       "\n",
       "    .dataframe thead th {\n",
       "        text-align: right;\n",
       "    }\n",
       "</style>\n",
       "<table border=\"1\" class=\"dataframe\">\n",
       "  <thead>\n",
       "    <tr style=\"text-align: right;\">\n",
       "      <th></th>\n",
       "      <th>Region</th>\n",
       "      <th>Age</th>\n",
       "      <th>Income</th>\n",
       "      <th>Online Shopper</th>\n",
       "    </tr>\n",
       "  </thead>\n",
       "  <tbody>\n",
       "    <tr>\n",
       "      <th>1</th>\n",
       "      <td>India</td>\n",
       "      <td>49</td>\n",
       "      <td>86400</td>\n",
       "      <td>No</td>\n",
       "    </tr>\n",
       "    <tr>\n",
       "      <th>2</th>\n",
       "      <td>Brazil</td>\n",
       "      <td>32</td>\n",
       "      <td>57600</td>\n",
       "      <td>Yes</td>\n",
       "    </tr>\n",
       "    <tr>\n",
       "      <th>3</th>\n",
       "      <td>USA</td>\n",
       "      <td>35</td>\n",
       "      <td>64800</td>\n",
       "      <td>No</td>\n",
       "    </tr>\n",
       "    <tr>\n",
       "      <th>4</th>\n",
       "      <td>Brazil</td>\n",
       "      <td>43</td>\n",
       "      <td>73200</td>\n",
       "      <td>No</td>\n",
       "    </tr>\n",
       "    <tr>\n",
       "      <th>5</th>\n",
       "      <td>USA</td>\n",
       "      <td>45</td>\n",
       "      <td></td>\n",
       "      <td>Yes</td>\n",
       "    </tr>\n",
       "    <tr>\n",
       "      <th>6</th>\n",
       "      <td>India</td>\n",
       "      <td>40</td>\n",
       "      <td>69600</td>\n",
       "      <td>Yes</td>\n",
       "    </tr>\n",
       "    <tr>\n",
       "      <th>7</th>\n",
       "      <td>Brazil</td>\n",
       "      <td></td>\n",
       "      <td>62400</td>\n",
       "      <td>No</td>\n",
       "    </tr>\n",
       "    <tr>\n",
       "      <th>8</th>\n",
       "      <td>India</td>\n",
       "      <td>53</td>\n",
       "      <td>94800</td>\n",
       "      <td>Yes</td>\n",
       "    </tr>\n",
       "    <tr>\n",
       "      <th>9</th>\n",
       "      <td>USA</td>\n",
       "      <td>55</td>\n",
       "      <td>99600</td>\n",
       "      <td>No</td>\n",
       "    </tr>\n",
       "    <tr>\n",
       "      <th>10</th>\n",
       "      <td>India</td>\n",
       "      <td>42</td>\n",
       "      <td>80400</td>\n",
       "      <td>Yes</td>\n",
       "    </tr>\n",
       "  </tbody>\n",
       "</table>\n",
       "</div>"
      ],
      "text/plain": [
       "    Region  Age  Income  Online Shopper\n",
       "1    India   49   86400              No\n",
       "2   Brazil   32   57600             Yes\n",
       "3      USA   35   64800              No\n",
       "4   Brazil   43   73200              No\n",
       "5      USA   45                     Yes\n",
       "6    India   40   69600             Yes\n",
       "7   Brazil        62400              No\n",
       "8    India   53   94800             Yes\n",
       "9      USA   55   99600              No\n",
       "10   India   42   80400             Yes"
      ]
     },
     "execution_count": 24,
     "metadata": {},
     "output_type": "execute_result"
    }
   ],
   "source": [
    "df3 = df2.drop(df2.index[0]) # We drop the replicated header from the first row of the dataframe\n",
    "\n",
    "df3"
   ]
  },
  {
   "cell_type": "markdown",
   "metadata": {},
   "source": [
    "2. The list of the various MSc programmes offered by the School of EECS is provided at the following URL: [http://eecs.qmul.ac.uk/postgraduate/programmes/](http://eecs.qmul.ac.uk/postgraduate/programmes/). Perform web scraping on the table present in the above URL and convert it into a pandas dataframe that would include one row for each programme of study as shown in the webpage. The dataframe should include the following 5 columns: name of postgraduate degree programme (e.g. Advanced Electronic and Electrical Engineering), programme code for part-time study (e.g. H60C), programme code for full-time study (e.g. H60A), URL for part-time study programme details, URL for full-time study programme details. Perform data cleaning to remove unecessary characters when needed. In the report include the code that was used to scrape, convert and clean the table and provide evidence that the table has been successfully scraped (e.g. by displaying the contents of the dataframe). "
   ]
  },
  {
   "cell_type": "code",
   "execution_count": 280,
   "metadata": {},
   "outputs": [],
   "source": [
    "url_programmes = \"http://eecs.qmul.ac.uk/postgraduate/programmes/\"\n",
    "html_programmes = urlopen(url_programmes)\n",
    "soup_programmes = BeautifulSoup(html_programmes, 'lxml')"
   ]
  },
  {
   "cell_type": "code",
   "execution_count": 290,
   "metadata": {},
   "outputs": [],
   "source": [
    "body = soup_programmes.find( \"tbody\" )"
   ]
  },
  {
   "cell_type": "code",
   "execution_count": 292,
   "metadata": {},
   "outputs": [],
   "source": [
    "rows = body.find_all( \"tr\" )"
   ]
  },
  {
   "cell_type": "code",
   "execution_count": 276,
   "metadata": {},
   "outputs": [
    {
     "data": {
      "text/plain": [
       "[]"
      ]
     },
     "execution_count": 276,
     "metadata": {},
     "output_type": "execute_result"
    }
   ],
   "source": [
    "#rows = soup_programmes.find_all(\"tr\" , class_ = [\"odd\",\"even\"])\n",
    "#rows\n",
    "\n",
    "# this does not work for some reason as the class object is broken "
   ]
  },
  {
   "cell_type": "code",
   "execution_count": 293,
   "metadata": {},
   "outputs": [
    {
     "data": {
      "text/plain": [
       "[<tr>\n",
       " <td><span>Advanced Electronic and Electrical Engineering</span></td>\n",
       " <td style=\"text-align: center;\"><a href=\"https://www.qmul.ac.uk/postgraduate/taught/coursefinder/courses/advanced-electronic-and-electrical-engineering-msc/\" title=\"Use alt + click to follow the link\">H60C</a></td>\n",
       " <td style=\"text-align: center;\"><a href=\"https://www.qmul.ac.uk/postgraduate/taught/coursefinder/courses/advanced-electronic-and-electrical-engineering-msc/\" title=\"Use alt + click to follow the link\">H60A</a></td>\n",
       " </tr>,\n",
       " <tr>\n",
       " <td>Artificial Intelligence</td>\n",
       " <td style=\"text-align: center;\"><a href=\"https://www.qmul.ac.uk/postgraduate/taught/coursefinder/courses/artificial-intelligence-msc/\" title=\"Use alt + click to follow the link\">I4U2</a> </td>\n",
       " <td style=\"text-align: center;\"><a href=\"https://www.qmul.ac.uk/postgraduate/taught/coursefinder/courses/artificial-intelligence-msc/\" title=\"Use alt + click to follow the link\">I4U1</a> </td>\n",
       " </tr>,\n",
       " <tr>\n",
       " <td><span>Big Data Science</span></td>\n",
       " <td style=\"text-align: center;\"><a href=\"https://www.qmul.ac.uk/postgraduate/taught/coursefinder/courses/big-data-science-msc/\">H6J6</a></td>\n",
       " <td style=\"text-align: center;\"><a href=\"https://www.qmul.ac.uk/postgraduate/taught/coursefinder/courses/big-data-science-msc/\">H6J7</a></td>\n",
       " </tr>,\n",
       " <tr>\n",
       " <td>Computer Games</td>\n",
       " <td style=\"text-align: center;\"> </td>\n",
       " <td style=\"text-align: center;\"><a href=\"https://www.qmul.ac.uk/postgraduate/taught/coursefinder/courses/computer-games-msc/\">I4U4</a></td>\n",
       " </tr>,\n",
       " <tr>\n",
       " <td><span>Computer Science</span></td>\n",
       " <td style=\"text-align: center;\"><a href=\"https://www.qmul.ac.uk/postgraduate/taught/coursefinder/courses/computer-science-msc/\">G4U2</a></td>\n",
       " <td style=\"text-align: center;\"><a href=\"https://www.qmul.ac.uk/postgraduate/taught/coursefinder/courses/computer-science-msc/\">G4U1</a></td>\n",
       " </tr>,\n",
       " <tr>\n",
       " <td><span>Computer Science by Research</span></td>\n",
       " <td style=\"text-align: center;\"><a href=\"https://www.qmul.ac.uk/postgraduate/taught/coursefinder/courses/computer-science-by-research-msc/\">G4Q2</a></td>\n",
       " <td style=\"text-align: center;\"><a href=\"https://www.qmul.ac.uk/postgraduate/taught/coursefinder/courses/computer-science-by-research-msc/\">G4Q1</a></td>\n",
       " </tr>,\n",
       " <tr>\n",
       " <td><span>Computing and Information Systems</span></td>\n",
       " <td style=\"text-align: center;\"><a href=\"https://www.qmul.ac.uk/postgraduate/taught/coursefinder/courses/computing-and-information-systems-msc/\">G5U6</a></td>\n",
       " <td style=\"text-align: center;\"><a href=\"https://www.qmul.ac.uk/postgraduate/taught/coursefinder/courses/computing-and-information-systems-msc/\">G5U5</a></td>\n",
       " </tr>,\n",
       " <tr>\n",
       " <td><span>Data Science and Artificial Intelligence by Conversion</span></td>\n",
       " <td style=\"text-align: center;\"> </td>\n",
       " <td style=\"text-align: center;\"><a href=\"https://www.qmul.ac.uk/postgraduate/taught/coursefinder/courses/data-science-and-artificial-intelligence-msc/\">I4U5</a> </td>\n",
       " </tr>,\n",
       " <tr>\n",
       " <td><span>Electronic Engineering by Research</span></td>\n",
       " <td style=\"text-align: center;\"><a href=\"https://www.qmul.ac.uk/postgraduate/taught/coursefinder/courses/electronic-engineering-by-research-msc/\">H6T6</a></td>\n",
       " <td style=\"text-align: center;\"><a href=\"https://www.qmul.ac.uk/postgraduate/taught/coursefinder/courses/electronic-engineering-by-research-msc/\">H6T5</a></td>\n",
       " </tr>,\n",
       " <tr>\n",
       " <td><span>Internet of Things (Data)<br/></span></td>\n",
       " <td style=\"text-align: center;\"><a href=\"https://www.qmul.ac.uk/postgraduate/taught/coursefinder/courses/internet-of-things-data-msc/\">I1T2</a></td>\n",
       " <td style=\"text-align: center;\"><a href=\"https://www.qmul.ac.uk/postgraduate/taught/coursefinder/courses/internet-of-things-data-msc/\">I1T0</a></td>\n",
       " </tr>,\n",
       " <tr>\n",
       " <td><span>Machine Learning for Visual Data Analytics</span></td>\n",
       " <td style=\"text-align: center;\"><a href=\"https://www.qmul.ac.uk/postgraduate/taught/coursefinder/courses/machine-learning-for-visual-data-analytics-msc/\">H6JZ</a></td>\n",
       " <td style=\"text-align: center;\"><a href=\"https://www.qmul.ac.uk/postgraduate/taught/coursefinder/courses/machine-learning-for-visual-data-analytics-msc/\">H6JE</a></td>\n",
       " </tr>,\n",
       " <tr>\n",
       " <td><span>Media and Arts Technology by Research</span></td>\n",
       " <td style=\"text-align: center;\"> </td>\n",
       " <td style=\"text-align: center;\"><a href=\"https://www.qmul.ac.uk/postgraduate/taught/coursefinder/courses/media-and-arts-technology-by-research-msc/\">G4Q3</a></td>\n",
       " </tr>,\n",
       " <tr>\n",
       " <td><span>Sound and Music Computing</span> </td>\n",
       " <td style=\"text-align: center;\"><a href=\"https://www.qmul.ac.uk/postgraduate/taught/coursefinder/courses/sound-and-music-computing-msc/\">H6T4</a></td>\n",
       " <td style=\"text-align: center;\"><a href=\"https://www.qmul.ac.uk/postgraduate/taught/coursefinder/courses/sound-and-music-computing-msc/\">H6T8</a></td>\n",
       " </tr>,\n",
       " <tr>\n",
       " <td><span>Telecommunication and Wireless Systems</span></td>\n",
       " <td style=\"text-align: center;\"><a href=\"https://www.qmul.ac.uk/postgraduate/taught/coursefinder/courses/telecommunication-and-wireless-systems-msc/\">H6JD</a></td>\n",
       " <td style=\"text-align: center;\"><a href=\"https://www.qmul.ac.uk/postgraduate/taught/coursefinder/courses/telecommunication-and-wireless-systems-msc/\">H6JA</a></td>\n",
       " </tr>,\n",
       " <tr>\n",
       " <td><span>Digital and Technology Solutions (Apprenticeship)<br/></span></td>\n",
       " <td style=\"text-align: center;\"><a href=\"https://www.qmul.ac.uk/postgraduate/taught/coursefinder/courses/digital-and-technology-solutions-specialist-msc/\">I4DA</a></td>\n",
       " <td style=\"text-align: center;\"> </td>\n",
       " </tr>]"
      ]
     },
     "execution_count": 293,
     "metadata": {},
     "output_type": "execute_result"
    }
   ],
   "source": [
    "rows"
   ]
  },
  {
   "cell_type": "code",
   "execution_count": 313,
   "metadata": {
    "scrolled": false
   },
   "outputs": [
    {
     "name": "stdout",
     "output_type": "stream",
     "text": [
      "['Advanced Electronic and Electrical Engineering , H60C , H60A , https://www.qmul.ac.uk/postgraduate/taught/coursefinder/courses/advanced-electronic-and-electrical-engineering-msc/ , https://www.qmul.ac.uk/postgraduate/taught/coursefinder/courses/advanced-electronic-and-electrical-engineering-msc/  ']\n",
      "['Advanced Electronic and Electrical Engineering , H60C , H60A , https://www.qmul.ac.uk/postgraduate/taught/coursefinder/courses/advanced-electronic-and-electrical-engineering-msc/ , https://www.qmul.ac.uk/postgraduate/taught/coursefinder/courses/advanced-electronic-and-electrical-engineering-msc/  ', 'Artificial Intelligence , I4U2\\xa0 , I4U1\\xa0 , https://www.qmul.ac.uk/postgraduate/taught/coursefinder/courses/artificial-intelligence-msc/ , https://www.qmul.ac.uk/postgraduate/taught/coursefinder/courses/artificial-intelligence-msc/  ']\n",
      "['Advanced Electronic and Electrical Engineering , H60C , H60A , https://www.qmul.ac.uk/postgraduate/taught/coursefinder/courses/advanced-electronic-and-electrical-engineering-msc/ , https://www.qmul.ac.uk/postgraduate/taught/coursefinder/courses/advanced-electronic-and-electrical-engineering-msc/  ', 'Artificial Intelligence , I4U2\\xa0 , I4U1\\xa0 , https://www.qmul.ac.uk/postgraduate/taught/coursefinder/courses/artificial-intelligence-msc/ , https://www.qmul.ac.uk/postgraduate/taught/coursefinder/courses/artificial-intelligence-msc/  ', 'Big Data Science , H6J6 , H6J7 , https://www.qmul.ac.uk/postgraduate/taught/coursefinder/courses/big-data-science-msc/ , https://www.qmul.ac.uk/postgraduate/taught/coursefinder/courses/big-data-science-msc/  ']\n",
      "['Advanced Electronic and Electrical Engineering , H60C , H60A , https://www.qmul.ac.uk/postgraduate/taught/coursefinder/courses/advanced-electronic-and-electrical-engineering-msc/ , https://www.qmul.ac.uk/postgraduate/taught/coursefinder/courses/advanced-electronic-and-electrical-engineering-msc/  ', 'Artificial Intelligence , I4U2\\xa0 , I4U1\\xa0 , https://www.qmul.ac.uk/postgraduate/taught/coursefinder/courses/artificial-intelligence-msc/ , https://www.qmul.ac.uk/postgraduate/taught/coursefinder/courses/artificial-intelligence-msc/  ', 'Big Data Science , H6J6 , H6J7 , https://www.qmul.ac.uk/postgraduate/taught/coursefinder/courses/big-data-science-msc/ , https://www.qmul.ac.uk/postgraduate/taught/coursefinder/courses/big-data-science-msc/  ', 'Computer Games , \\xa0 , I4U4 ,   ,  https://www.qmul.ac.uk/postgraduate/taught/coursefinder/courses/computer-games-msc/  ']\n",
      "['Advanced Electronic and Electrical Engineering , H60C , H60A , https://www.qmul.ac.uk/postgraduate/taught/coursefinder/courses/advanced-electronic-and-electrical-engineering-msc/ , https://www.qmul.ac.uk/postgraduate/taught/coursefinder/courses/advanced-electronic-and-electrical-engineering-msc/  ', 'Artificial Intelligence , I4U2\\xa0 , I4U1\\xa0 , https://www.qmul.ac.uk/postgraduate/taught/coursefinder/courses/artificial-intelligence-msc/ , https://www.qmul.ac.uk/postgraduate/taught/coursefinder/courses/artificial-intelligence-msc/  ', 'Big Data Science , H6J6 , H6J7 , https://www.qmul.ac.uk/postgraduate/taught/coursefinder/courses/big-data-science-msc/ , https://www.qmul.ac.uk/postgraduate/taught/coursefinder/courses/big-data-science-msc/  ', 'Computer Games , \\xa0 , I4U4 ,   ,  https://www.qmul.ac.uk/postgraduate/taught/coursefinder/courses/computer-games-msc/  ', 'Computer Science , G4U2 , G4U1 , https://www.qmul.ac.uk/postgraduate/taught/coursefinder/courses/computer-science-msc/ , https://www.qmul.ac.uk/postgraduate/taught/coursefinder/courses/computer-science-msc/  ']\n",
      "['Advanced Electronic and Electrical Engineering , H60C , H60A , https://www.qmul.ac.uk/postgraduate/taught/coursefinder/courses/advanced-electronic-and-electrical-engineering-msc/ , https://www.qmul.ac.uk/postgraduate/taught/coursefinder/courses/advanced-electronic-and-electrical-engineering-msc/  ', 'Artificial Intelligence , I4U2\\xa0 , I4U1\\xa0 , https://www.qmul.ac.uk/postgraduate/taught/coursefinder/courses/artificial-intelligence-msc/ , https://www.qmul.ac.uk/postgraduate/taught/coursefinder/courses/artificial-intelligence-msc/  ', 'Big Data Science , H6J6 , H6J7 , https://www.qmul.ac.uk/postgraduate/taught/coursefinder/courses/big-data-science-msc/ , https://www.qmul.ac.uk/postgraduate/taught/coursefinder/courses/big-data-science-msc/  ', 'Computer Games , \\xa0 , I4U4 ,   ,  https://www.qmul.ac.uk/postgraduate/taught/coursefinder/courses/computer-games-msc/  ', 'Computer Science , G4U2 , G4U1 , https://www.qmul.ac.uk/postgraduate/taught/coursefinder/courses/computer-science-msc/ , https://www.qmul.ac.uk/postgraduate/taught/coursefinder/courses/computer-science-msc/  ', 'Computer Science by Research , G4Q2 , G4Q1 , https://www.qmul.ac.uk/postgraduate/taught/coursefinder/courses/computer-science-by-research-msc/ , https://www.qmul.ac.uk/postgraduate/taught/coursefinder/courses/computer-science-by-research-msc/  ']\n",
      "['Advanced Electronic and Electrical Engineering , H60C , H60A , https://www.qmul.ac.uk/postgraduate/taught/coursefinder/courses/advanced-electronic-and-electrical-engineering-msc/ , https://www.qmul.ac.uk/postgraduate/taught/coursefinder/courses/advanced-electronic-and-electrical-engineering-msc/  ', 'Artificial Intelligence , I4U2\\xa0 , I4U1\\xa0 , https://www.qmul.ac.uk/postgraduate/taught/coursefinder/courses/artificial-intelligence-msc/ , https://www.qmul.ac.uk/postgraduate/taught/coursefinder/courses/artificial-intelligence-msc/  ', 'Big Data Science , H6J6 , H6J7 , https://www.qmul.ac.uk/postgraduate/taught/coursefinder/courses/big-data-science-msc/ , https://www.qmul.ac.uk/postgraduate/taught/coursefinder/courses/big-data-science-msc/  ', 'Computer Games , \\xa0 , I4U4 ,   ,  https://www.qmul.ac.uk/postgraduate/taught/coursefinder/courses/computer-games-msc/  ', 'Computer Science , G4U2 , G4U1 , https://www.qmul.ac.uk/postgraduate/taught/coursefinder/courses/computer-science-msc/ , https://www.qmul.ac.uk/postgraduate/taught/coursefinder/courses/computer-science-msc/  ', 'Computer Science by Research , G4Q2 , G4Q1 , https://www.qmul.ac.uk/postgraduate/taught/coursefinder/courses/computer-science-by-research-msc/ , https://www.qmul.ac.uk/postgraduate/taught/coursefinder/courses/computer-science-by-research-msc/  ', 'Computing and Information Systems , G5U6 , G5U5 , https://www.qmul.ac.uk/postgraduate/taught/coursefinder/courses/computing-and-information-systems-msc/ , https://www.qmul.ac.uk/postgraduate/taught/coursefinder/courses/computing-and-information-systems-msc/  ']\n",
      "['Advanced Electronic and Electrical Engineering , H60C , H60A , https://www.qmul.ac.uk/postgraduate/taught/coursefinder/courses/advanced-electronic-and-electrical-engineering-msc/ , https://www.qmul.ac.uk/postgraduate/taught/coursefinder/courses/advanced-electronic-and-electrical-engineering-msc/  ', 'Artificial Intelligence , I4U2\\xa0 , I4U1\\xa0 , https://www.qmul.ac.uk/postgraduate/taught/coursefinder/courses/artificial-intelligence-msc/ , https://www.qmul.ac.uk/postgraduate/taught/coursefinder/courses/artificial-intelligence-msc/  ', 'Big Data Science , H6J6 , H6J7 , https://www.qmul.ac.uk/postgraduate/taught/coursefinder/courses/big-data-science-msc/ , https://www.qmul.ac.uk/postgraduate/taught/coursefinder/courses/big-data-science-msc/  ', 'Computer Games , \\xa0 , I4U4 ,   ,  https://www.qmul.ac.uk/postgraduate/taught/coursefinder/courses/computer-games-msc/  ', 'Computer Science , G4U2 , G4U1 , https://www.qmul.ac.uk/postgraduate/taught/coursefinder/courses/computer-science-msc/ , https://www.qmul.ac.uk/postgraduate/taught/coursefinder/courses/computer-science-msc/  ', 'Computer Science by Research , G4Q2 , G4Q1 , https://www.qmul.ac.uk/postgraduate/taught/coursefinder/courses/computer-science-by-research-msc/ , https://www.qmul.ac.uk/postgraduate/taught/coursefinder/courses/computer-science-by-research-msc/  ', 'Computing and Information Systems , G5U6 , G5U5 , https://www.qmul.ac.uk/postgraduate/taught/coursefinder/courses/computing-and-information-systems-msc/ , https://www.qmul.ac.uk/postgraduate/taught/coursefinder/courses/computing-and-information-systems-msc/  ', 'Data Science and Artificial Intelligence by Conversion , \\xa0 , I4U5\\xa0 ,   ,  https://www.qmul.ac.uk/postgraduate/taught/coursefinder/courses/data-science-and-artificial-intelligence-msc/  ']\n",
      "['Advanced Electronic and Electrical Engineering , H60C , H60A , https://www.qmul.ac.uk/postgraduate/taught/coursefinder/courses/advanced-electronic-and-electrical-engineering-msc/ , https://www.qmul.ac.uk/postgraduate/taught/coursefinder/courses/advanced-electronic-and-electrical-engineering-msc/  ', 'Artificial Intelligence , I4U2\\xa0 , I4U1\\xa0 , https://www.qmul.ac.uk/postgraduate/taught/coursefinder/courses/artificial-intelligence-msc/ , https://www.qmul.ac.uk/postgraduate/taught/coursefinder/courses/artificial-intelligence-msc/  ', 'Big Data Science , H6J6 , H6J7 , https://www.qmul.ac.uk/postgraduate/taught/coursefinder/courses/big-data-science-msc/ , https://www.qmul.ac.uk/postgraduate/taught/coursefinder/courses/big-data-science-msc/  ', 'Computer Games , \\xa0 , I4U4 ,   ,  https://www.qmul.ac.uk/postgraduate/taught/coursefinder/courses/computer-games-msc/  ', 'Computer Science , G4U2 , G4U1 , https://www.qmul.ac.uk/postgraduate/taught/coursefinder/courses/computer-science-msc/ , https://www.qmul.ac.uk/postgraduate/taught/coursefinder/courses/computer-science-msc/  ', 'Computer Science by Research , G4Q2 , G4Q1 , https://www.qmul.ac.uk/postgraduate/taught/coursefinder/courses/computer-science-by-research-msc/ , https://www.qmul.ac.uk/postgraduate/taught/coursefinder/courses/computer-science-by-research-msc/  ', 'Computing and Information Systems , G5U6 , G5U5 , https://www.qmul.ac.uk/postgraduate/taught/coursefinder/courses/computing-and-information-systems-msc/ , https://www.qmul.ac.uk/postgraduate/taught/coursefinder/courses/computing-and-information-systems-msc/  ', 'Data Science and Artificial Intelligence by Conversion , \\xa0 , I4U5\\xa0 ,   ,  https://www.qmul.ac.uk/postgraduate/taught/coursefinder/courses/data-science-and-artificial-intelligence-msc/  ', 'Electronic Engineering by Research , H6T6 , H6T5 , https://www.qmul.ac.uk/postgraduate/taught/coursefinder/courses/electronic-engineering-by-research-msc/ , https://www.qmul.ac.uk/postgraduate/taught/coursefinder/courses/electronic-engineering-by-research-msc/  ']\n",
      "['Advanced Electronic and Electrical Engineering , H60C , H60A , https://www.qmul.ac.uk/postgraduate/taught/coursefinder/courses/advanced-electronic-and-electrical-engineering-msc/ , https://www.qmul.ac.uk/postgraduate/taught/coursefinder/courses/advanced-electronic-and-electrical-engineering-msc/  ', 'Artificial Intelligence , I4U2\\xa0 , I4U1\\xa0 , https://www.qmul.ac.uk/postgraduate/taught/coursefinder/courses/artificial-intelligence-msc/ , https://www.qmul.ac.uk/postgraduate/taught/coursefinder/courses/artificial-intelligence-msc/  ', 'Big Data Science , H6J6 , H6J7 , https://www.qmul.ac.uk/postgraduate/taught/coursefinder/courses/big-data-science-msc/ , https://www.qmul.ac.uk/postgraduate/taught/coursefinder/courses/big-data-science-msc/  ', 'Computer Games , \\xa0 , I4U4 ,   ,  https://www.qmul.ac.uk/postgraduate/taught/coursefinder/courses/computer-games-msc/  ', 'Computer Science , G4U2 , G4U1 , https://www.qmul.ac.uk/postgraduate/taught/coursefinder/courses/computer-science-msc/ , https://www.qmul.ac.uk/postgraduate/taught/coursefinder/courses/computer-science-msc/  ', 'Computer Science by Research , G4Q2 , G4Q1 , https://www.qmul.ac.uk/postgraduate/taught/coursefinder/courses/computer-science-by-research-msc/ , https://www.qmul.ac.uk/postgraduate/taught/coursefinder/courses/computer-science-by-research-msc/  ', 'Computing and Information Systems , G5U6 , G5U5 , https://www.qmul.ac.uk/postgraduate/taught/coursefinder/courses/computing-and-information-systems-msc/ , https://www.qmul.ac.uk/postgraduate/taught/coursefinder/courses/computing-and-information-systems-msc/  ', 'Data Science and Artificial Intelligence by Conversion , \\xa0 , I4U5\\xa0 ,   ,  https://www.qmul.ac.uk/postgraduate/taught/coursefinder/courses/data-science-and-artificial-intelligence-msc/  ', 'Electronic Engineering by Research , H6T6 , H6T5 , https://www.qmul.ac.uk/postgraduate/taught/coursefinder/courses/electronic-engineering-by-research-msc/ , https://www.qmul.ac.uk/postgraduate/taught/coursefinder/courses/electronic-engineering-by-research-msc/  ', 'Internet of Things (Data) , I1T2 , I1T0 , https://www.qmul.ac.uk/postgraduate/taught/coursefinder/courses/internet-of-things-data-msc/ , https://www.qmul.ac.uk/postgraduate/taught/coursefinder/courses/internet-of-things-data-msc/  ']\n",
      "['Advanced Electronic and Electrical Engineering , H60C , H60A , https://www.qmul.ac.uk/postgraduate/taught/coursefinder/courses/advanced-electronic-and-electrical-engineering-msc/ , https://www.qmul.ac.uk/postgraduate/taught/coursefinder/courses/advanced-electronic-and-electrical-engineering-msc/  ', 'Artificial Intelligence , I4U2\\xa0 , I4U1\\xa0 , https://www.qmul.ac.uk/postgraduate/taught/coursefinder/courses/artificial-intelligence-msc/ , https://www.qmul.ac.uk/postgraduate/taught/coursefinder/courses/artificial-intelligence-msc/  ', 'Big Data Science , H6J6 , H6J7 , https://www.qmul.ac.uk/postgraduate/taught/coursefinder/courses/big-data-science-msc/ , https://www.qmul.ac.uk/postgraduate/taught/coursefinder/courses/big-data-science-msc/  ', 'Computer Games , \\xa0 , I4U4 ,   ,  https://www.qmul.ac.uk/postgraduate/taught/coursefinder/courses/computer-games-msc/  ', 'Computer Science , G4U2 , G4U1 , https://www.qmul.ac.uk/postgraduate/taught/coursefinder/courses/computer-science-msc/ , https://www.qmul.ac.uk/postgraduate/taught/coursefinder/courses/computer-science-msc/  ', 'Computer Science by Research , G4Q2 , G4Q1 , https://www.qmul.ac.uk/postgraduate/taught/coursefinder/courses/computer-science-by-research-msc/ , https://www.qmul.ac.uk/postgraduate/taught/coursefinder/courses/computer-science-by-research-msc/  ', 'Computing and Information Systems , G5U6 , G5U5 , https://www.qmul.ac.uk/postgraduate/taught/coursefinder/courses/computing-and-information-systems-msc/ , https://www.qmul.ac.uk/postgraduate/taught/coursefinder/courses/computing-and-information-systems-msc/  ', 'Data Science and Artificial Intelligence by Conversion , \\xa0 , I4U5\\xa0 ,   ,  https://www.qmul.ac.uk/postgraduate/taught/coursefinder/courses/data-science-and-artificial-intelligence-msc/  ', 'Electronic Engineering by Research , H6T6 , H6T5 , https://www.qmul.ac.uk/postgraduate/taught/coursefinder/courses/electronic-engineering-by-research-msc/ , https://www.qmul.ac.uk/postgraduate/taught/coursefinder/courses/electronic-engineering-by-research-msc/  ', 'Internet of Things (Data) , I1T2 , I1T0 , https://www.qmul.ac.uk/postgraduate/taught/coursefinder/courses/internet-of-things-data-msc/ , https://www.qmul.ac.uk/postgraduate/taught/coursefinder/courses/internet-of-things-data-msc/  ', 'Machine Learning for Visual Data Analytics , H6JZ , H6JE , https://www.qmul.ac.uk/postgraduate/taught/coursefinder/courses/machine-learning-for-visual-data-analytics-msc/ , https://www.qmul.ac.uk/postgraduate/taught/coursefinder/courses/machine-learning-for-visual-data-analytics-msc/  ']\n",
      "['Advanced Electronic and Electrical Engineering , H60C , H60A , https://www.qmul.ac.uk/postgraduate/taught/coursefinder/courses/advanced-electronic-and-electrical-engineering-msc/ , https://www.qmul.ac.uk/postgraduate/taught/coursefinder/courses/advanced-electronic-and-electrical-engineering-msc/  ', 'Artificial Intelligence , I4U2\\xa0 , I4U1\\xa0 , https://www.qmul.ac.uk/postgraduate/taught/coursefinder/courses/artificial-intelligence-msc/ , https://www.qmul.ac.uk/postgraduate/taught/coursefinder/courses/artificial-intelligence-msc/  ', 'Big Data Science , H6J6 , H6J7 , https://www.qmul.ac.uk/postgraduate/taught/coursefinder/courses/big-data-science-msc/ , https://www.qmul.ac.uk/postgraduate/taught/coursefinder/courses/big-data-science-msc/  ', 'Computer Games , \\xa0 , I4U4 ,   ,  https://www.qmul.ac.uk/postgraduate/taught/coursefinder/courses/computer-games-msc/  ', 'Computer Science , G4U2 , G4U1 , https://www.qmul.ac.uk/postgraduate/taught/coursefinder/courses/computer-science-msc/ , https://www.qmul.ac.uk/postgraduate/taught/coursefinder/courses/computer-science-msc/  ', 'Computer Science by Research , G4Q2 , G4Q1 , https://www.qmul.ac.uk/postgraduate/taught/coursefinder/courses/computer-science-by-research-msc/ , https://www.qmul.ac.uk/postgraduate/taught/coursefinder/courses/computer-science-by-research-msc/  ', 'Computing and Information Systems , G5U6 , G5U5 , https://www.qmul.ac.uk/postgraduate/taught/coursefinder/courses/computing-and-information-systems-msc/ , https://www.qmul.ac.uk/postgraduate/taught/coursefinder/courses/computing-and-information-systems-msc/  ', 'Data Science and Artificial Intelligence by Conversion , \\xa0 , I4U5\\xa0 ,   ,  https://www.qmul.ac.uk/postgraduate/taught/coursefinder/courses/data-science-and-artificial-intelligence-msc/  ', 'Electronic Engineering by Research , H6T6 , H6T5 , https://www.qmul.ac.uk/postgraduate/taught/coursefinder/courses/electronic-engineering-by-research-msc/ , https://www.qmul.ac.uk/postgraduate/taught/coursefinder/courses/electronic-engineering-by-research-msc/  ', 'Internet of Things (Data) , I1T2 , I1T0 , https://www.qmul.ac.uk/postgraduate/taught/coursefinder/courses/internet-of-things-data-msc/ , https://www.qmul.ac.uk/postgraduate/taught/coursefinder/courses/internet-of-things-data-msc/  ', 'Machine Learning for Visual Data Analytics , H6JZ , H6JE , https://www.qmul.ac.uk/postgraduate/taught/coursefinder/courses/machine-learning-for-visual-data-analytics-msc/ , https://www.qmul.ac.uk/postgraduate/taught/coursefinder/courses/machine-learning-for-visual-data-analytics-msc/  ', 'Media and Arts Technology by Research , \\xa0 , G4Q3 ,   ,  https://www.qmul.ac.uk/postgraduate/taught/coursefinder/courses/media-and-arts-technology-by-research-msc/  ']\n",
      "['Advanced Electronic and Electrical Engineering , H60C , H60A , https://www.qmul.ac.uk/postgraduate/taught/coursefinder/courses/advanced-electronic-and-electrical-engineering-msc/ , https://www.qmul.ac.uk/postgraduate/taught/coursefinder/courses/advanced-electronic-and-electrical-engineering-msc/  ', 'Artificial Intelligence , I4U2\\xa0 , I4U1\\xa0 , https://www.qmul.ac.uk/postgraduate/taught/coursefinder/courses/artificial-intelligence-msc/ , https://www.qmul.ac.uk/postgraduate/taught/coursefinder/courses/artificial-intelligence-msc/  ', 'Big Data Science , H6J6 , H6J7 , https://www.qmul.ac.uk/postgraduate/taught/coursefinder/courses/big-data-science-msc/ , https://www.qmul.ac.uk/postgraduate/taught/coursefinder/courses/big-data-science-msc/  ', 'Computer Games , \\xa0 , I4U4 ,   ,  https://www.qmul.ac.uk/postgraduate/taught/coursefinder/courses/computer-games-msc/  ', 'Computer Science , G4U2 , G4U1 , https://www.qmul.ac.uk/postgraduate/taught/coursefinder/courses/computer-science-msc/ , https://www.qmul.ac.uk/postgraduate/taught/coursefinder/courses/computer-science-msc/  ', 'Computer Science by Research , G4Q2 , G4Q1 , https://www.qmul.ac.uk/postgraduate/taught/coursefinder/courses/computer-science-by-research-msc/ , https://www.qmul.ac.uk/postgraduate/taught/coursefinder/courses/computer-science-by-research-msc/  ', 'Computing and Information Systems , G5U6 , G5U5 , https://www.qmul.ac.uk/postgraduate/taught/coursefinder/courses/computing-and-information-systems-msc/ , https://www.qmul.ac.uk/postgraduate/taught/coursefinder/courses/computing-and-information-systems-msc/  ', 'Data Science and Artificial Intelligence by Conversion , \\xa0 , I4U5\\xa0 ,   ,  https://www.qmul.ac.uk/postgraduate/taught/coursefinder/courses/data-science-and-artificial-intelligence-msc/  ', 'Electronic Engineering by Research , H6T6 , H6T5 , https://www.qmul.ac.uk/postgraduate/taught/coursefinder/courses/electronic-engineering-by-research-msc/ , https://www.qmul.ac.uk/postgraduate/taught/coursefinder/courses/electronic-engineering-by-research-msc/  ', 'Internet of Things (Data) , I1T2 , I1T0 , https://www.qmul.ac.uk/postgraduate/taught/coursefinder/courses/internet-of-things-data-msc/ , https://www.qmul.ac.uk/postgraduate/taught/coursefinder/courses/internet-of-things-data-msc/  ', 'Machine Learning for Visual Data Analytics , H6JZ , H6JE , https://www.qmul.ac.uk/postgraduate/taught/coursefinder/courses/machine-learning-for-visual-data-analytics-msc/ , https://www.qmul.ac.uk/postgraduate/taught/coursefinder/courses/machine-learning-for-visual-data-analytics-msc/  ', 'Media and Arts Technology by Research , \\xa0 , G4Q3 ,   ,  https://www.qmul.ac.uk/postgraduate/taught/coursefinder/courses/media-and-arts-technology-by-research-msc/  ', 'Sound and Music Computing\\xa0 , H6T4 , H6T8 , https://www.qmul.ac.uk/postgraduate/taught/coursefinder/courses/sound-and-music-computing-msc/ , https://www.qmul.ac.uk/postgraduate/taught/coursefinder/courses/sound-and-music-computing-msc/  ']\n",
      "['Advanced Electronic and Electrical Engineering , H60C , H60A , https://www.qmul.ac.uk/postgraduate/taught/coursefinder/courses/advanced-electronic-and-electrical-engineering-msc/ , https://www.qmul.ac.uk/postgraduate/taught/coursefinder/courses/advanced-electronic-and-electrical-engineering-msc/  ', 'Artificial Intelligence , I4U2\\xa0 , I4U1\\xa0 , https://www.qmul.ac.uk/postgraduate/taught/coursefinder/courses/artificial-intelligence-msc/ , https://www.qmul.ac.uk/postgraduate/taught/coursefinder/courses/artificial-intelligence-msc/  ', 'Big Data Science , H6J6 , H6J7 , https://www.qmul.ac.uk/postgraduate/taught/coursefinder/courses/big-data-science-msc/ , https://www.qmul.ac.uk/postgraduate/taught/coursefinder/courses/big-data-science-msc/  ', 'Computer Games , \\xa0 , I4U4 ,   ,  https://www.qmul.ac.uk/postgraduate/taught/coursefinder/courses/computer-games-msc/  ', 'Computer Science , G4U2 , G4U1 , https://www.qmul.ac.uk/postgraduate/taught/coursefinder/courses/computer-science-msc/ , https://www.qmul.ac.uk/postgraduate/taught/coursefinder/courses/computer-science-msc/  ', 'Computer Science by Research , G4Q2 , G4Q1 , https://www.qmul.ac.uk/postgraduate/taught/coursefinder/courses/computer-science-by-research-msc/ , https://www.qmul.ac.uk/postgraduate/taught/coursefinder/courses/computer-science-by-research-msc/  ', 'Computing and Information Systems , G5U6 , G5U5 , https://www.qmul.ac.uk/postgraduate/taught/coursefinder/courses/computing-and-information-systems-msc/ , https://www.qmul.ac.uk/postgraduate/taught/coursefinder/courses/computing-and-information-systems-msc/  ', 'Data Science and Artificial Intelligence by Conversion , \\xa0 , I4U5\\xa0 ,   ,  https://www.qmul.ac.uk/postgraduate/taught/coursefinder/courses/data-science-and-artificial-intelligence-msc/  ', 'Electronic Engineering by Research , H6T6 , H6T5 , https://www.qmul.ac.uk/postgraduate/taught/coursefinder/courses/electronic-engineering-by-research-msc/ , https://www.qmul.ac.uk/postgraduate/taught/coursefinder/courses/electronic-engineering-by-research-msc/  ', 'Internet of Things (Data) , I1T2 , I1T0 , https://www.qmul.ac.uk/postgraduate/taught/coursefinder/courses/internet-of-things-data-msc/ , https://www.qmul.ac.uk/postgraduate/taught/coursefinder/courses/internet-of-things-data-msc/  ', 'Machine Learning for Visual Data Analytics , H6JZ , H6JE , https://www.qmul.ac.uk/postgraduate/taught/coursefinder/courses/machine-learning-for-visual-data-analytics-msc/ , https://www.qmul.ac.uk/postgraduate/taught/coursefinder/courses/machine-learning-for-visual-data-analytics-msc/  ', 'Media and Arts Technology by Research , \\xa0 , G4Q3 ,   ,  https://www.qmul.ac.uk/postgraduate/taught/coursefinder/courses/media-and-arts-technology-by-research-msc/  ', 'Sound and Music Computing\\xa0 , H6T4 , H6T8 , https://www.qmul.ac.uk/postgraduate/taught/coursefinder/courses/sound-and-music-computing-msc/ , https://www.qmul.ac.uk/postgraduate/taught/coursefinder/courses/sound-and-music-computing-msc/  ', 'Telecommunication and Wireless Systems , H6JD , H6JA , https://www.qmul.ac.uk/postgraduate/taught/coursefinder/courses/telecommunication-and-wireless-systems-msc/ , https://www.qmul.ac.uk/postgraduate/taught/coursefinder/courses/telecommunication-and-wireless-systems-msc/  ']\n",
      "['Advanced Electronic and Electrical Engineering , H60C , H60A , https://www.qmul.ac.uk/postgraduate/taught/coursefinder/courses/advanced-electronic-and-electrical-engineering-msc/ , https://www.qmul.ac.uk/postgraduate/taught/coursefinder/courses/advanced-electronic-and-electrical-engineering-msc/  ', 'Artificial Intelligence , I4U2\\xa0 , I4U1\\xa0 , https://www.qmul.ac.uk/postgraduate/taught/coursefinder/courses/artificial-intelligence-msc/ , https://www.qmul.ac.uk/postgraduate/taught/coursefinder/courses/artificial-intelligence-msc/  ', 'Big Data Science , H6J6 , H6J7 , https://www.qmul.ac.uk/postgraduate/taught/coursefinder/courses/big-data-science-msc/ , https://www.qmul.ac.uk/postgraduate/taught/coursefinder/courses/big-data-science-msc/  ', 'Computer Games , \\xa0 , I4U4 ,   ,  https://www.qmul.ac.uk/postgraduate/taught/coursefinder/courses/computer-games-msc/  ', 'Computer Science , G4U2 , G4U1 , https://www.qmul.ac.uk/postgraduate/taught/coursefinder/courses/computer-science-msc/ , https://www.qmul.ac.uk/postgraduate/taught/coursefinder/courses/computer-science-msc/  ', 'Computer Science by Research , G4Q2 , G4Q1 , https://www.qmul.ac.uk/postgraduate/taught/coursefinder/courses/computer-science-by-research-msc/ , https://www.qmul.ac.uk/postgraduate/taught/coursefinder/courses/computer-science-by-research-msc/  ', 'Computing and Information Systems , G5U6 , G5U5 , https://www.qmul.ac.uk/postgraduate/taught/coursefinder/courses/computing-and-information-systems-msc/ , https://www.qmul.ac.uk/postgraduate/taught/coursefinder/courses/computing-and-information-systems-msc/  ', 'Data Science and Artificial Intelligence by Conversion , \\xa0 , I4U5\\xa0 ,   ,  https://www.qmul.ac.uk/postgraduate/taught/coursefinder/courses/data-science-and-artificial-intelligence-msc/  ', 'Electronic Engineering by Research , H6T6 , H6T5 , https://www.qmul.ac.uk/postgraduate/taught/coursefinder/courses/electronic-engineering-by-research-msc/ , https://www.qmul.ac.uk/postgraduate/taught/coursefinder/courses/electronic-engineering-by-research-msc/  ', 'Internet of Things (Data) , I1T2 , I1T0 , https://www.qmul.ac.uk/postgraduate/taught/coursefinder/courses/internet-of-things-data-msc/ , https://www.qmul.ac.uk/postgraduate/taught/coursefinder/courses/internet-of-things-data-msc/  ', 'Machine Learning for Visual Data Analytics , H6JZ , H6JE , https://www.qmul.ac.uk/postgraduate/taught/coursefinder/courses/machine-learning-for-visual-data-analytics-msc/ , https://www.qmul.ac.uk/postgraduate/taught/coursefinder/courses/machine-learning-for-visual-data-analytics-msc/  ', 'Media and Arts Technology by Research , \\xa0 , G4Q3 ,   ,  https://www.qmul.ac.uk/postgraduate/taught/coursefinder/courses/media-and-arts-technology-by-research-msc/  ', 'Sound and Music Computing\\xa0 , H6T4 , H6T8 , https://www.qmul.ac.uk/postgraduate/taught/coursefinder/courses/sound-and-music-computing-msc/ , https://www.qmul.ac.uk/postgraduate/taught/coursefinder/courses/sound-and-music-computing-msc/  ', 'Telecommunication and Wireless Systems , H6JD , H6JA , https://www.qmul.ac.uk/postgraduate/taught/coursefinder/courses/telecommunication-and-wireless-systems-msc/ , https://www.qmul.ac.uk/postgraduate/taught/coursefinder/courses/telecommunication-and-wireless-systems-msc/  ', 'Digital and Technology Solutions (Apprenticeship) , I4DA , \\xa0 , https://www.qmul.ac.uk/postgraduate/taught/coursefinder/courses/digital-and-technology-solutions-specialist-msc/ ,   ']\n"
     ]
    }
   ],
   "source": [
    "table_list = []\n",
    "    \n",
    "links = []\n",
    "    \n",
    "linkText = ''\n",
    "    \n",
    "for row in rows:\n",
    "\n",
    "    row_td = row.find_all('td')    \n",
    "    \n",
    "    text = row_td[0].get_text() +' , '+row_td[1].get_text()+' , '+row_td[2].get_text()+' , '\n",
    "\n",
    "\n",
    "    if row_td[1].find('a') != None :\n",
    "\n",
    "        text  = text  + str(row_td[1].find('a').get('href')) +' , '\n",
    "\n",
    "    elif row_td[1].find('a') == None :\n",
    "\n",
    "        text  = text  + \"  ,  \"\n",
    "\n",
    "    if row_td[2].find('a') != None :\n",
    "\n",
    "        text  = text  + str(row_td[2].find('a').get('href')) +'  '\n",
    "\n",
    "    elif row_td[2].find('a') == None :\n",
    "\n",
    "        text  = text  + \"  \"   \n",
    "\n",
    "    #print(str(text))\n",
    "\n",
    "    table_list.append(text)\n",
    "\n",
    "    print(table_list)\n",
    "    "
   ]
  },
  {
   "cell_type": "code",
   "execution_count": 314,
   "metadata": {},
   "outputs": [
    {
     "data": {
      "text/html": [
       "<div>\n",
       "<style scoped>\n",
       "    .dataframe tbody tr th:only-of-type {\n",
       "        vertical-align: middle;\n",
       "    }\n",
       "\n",
       "    .dataframe tbody tr th {\n",
       "        vertical-align: top;\n",
       "    }\n",
       "\n",
       "    .dataframe thead th {\n",
       "        text-align: right;\n",
       "    }\n",
       "</style>\n",
       "<table border=\"1\" class=\"dataframe\">\n",
       "  <thead>\n",
       "    <tr style=\"text-align: right;\">\n",
       "      <th></th>\n",
       "      <th>0</th>\n",
       "      <th>1</th>\n",
       "      <th>2</th>\n",
       "      <th>3</th>\n",
       "      <th>4</th>\n",
       "    </tr>\n",
       "  </thead>\n",
       "  <tbody>\n",
       "    <tr>\n",
       "      <th>0</th>\n",
       "      <td>Advanced Electronic and Electrical Engineering</td>\n",
       "      <td>H60C</td>\n",
       "      <td>H60A</td>\n",
       "      <td>https://www.qmul.ac.uk/postgraduate/taught/co...</td>\n",
       "      <td>https://www.qmul.ac.uk/postgraduate/taught/co...</td>\n",
       "    </tr>\n",
       "    <tr>\n",
       "      <th>1</th>\n",
       "      <td>Artificial Intelligence</td>\n",
       "      <td>I4U2</td>\n",
       "      <td>I4U1</td>\n",
       "      <td>https://www.qmul.ac.uk/postgraduate/taught/co...</td>\n",
       "      <td>https://www.qmul.ac.uk/postgraduate/taught/co...</td>\n",
       "    </tr>\n",
       "    <tr>\n",
       "      <th>2</th>\n",
       "      <td>Big Data Science</td>\n",
       "      <td>H6J6</td>\n",
       "      <td>H6J7</td>\n",
       "      <td>https://www.qmul.ac.uk/postgraduate/taught/co...</td>\n",
       "      <td>https://www.qmul.ac.uk/postgraduate/taught/co...</td>\n",
       "    </tr>\n",
       "    <tr>\n",
       "      <th>3</th>\n",
       "      <td>Computer Games</td>\n",
       "      <td></td>\n",
       "      <td>I4U4</td>\n",
       "      <td></td>\n",
       "      <td>https://www.qmul.ac.uk/postgraduate/taught/c...</td>\n",
       "    </tr>\n",
       "    <tr>\n",
       "      <th>4</th>\n",
       "      <td>Computer Science</td>\n",
       "      <td>G4U2</td>\n",
       "      <td>G4U1</td>\n",
       "      <td>https://www.qmul.ac.uk/postgraduate/taught/co...</td>\n",
       "      <td>https://www.qmul.ac.uk/postgraduate/taught/co...</td>\n",
       "    </tr>\n",
       "    <tr>\n",
       "      <th>5</th>\n",
       "      <td>Computer Science by Research</td>\n",
       "      <td>G4Q2</td>\n",
       "      <td>G4Q1</td>\n",
       "      <td>https://www.qmul.ac.uk/postgraduate/taught/co...</td>\n",
       "      <td>https://www.qmul.ac.uk/postgraduate/taught/co...</td>\n",
       "    </tr>\n",
       "    <tr>\n",
       "      <th>6</th>\n",
       "      <td>Computing and Information Systems</td>\n",
       "      <td>G5U6</td>\n",
       "      <td>G5U5</td>\n",
       "      <td>https://www.qmul.ac.uk/postgraduate/taught/co...</td>\n",
       "      <td>https://www.qmul.ac.uk/postgraduate/taught/co...</td>\n",
       "    </tr>\n",
       "    <tr>\n",
       "      <th>7</th>\n",
       "      <td>Data Science and Artificial Intelligence by Co...</td>\n",
       "      <td></td>\n",
       "      <td>I4U5</td>\n",
       "      <td></td>\n",
       "      <td>https://www.qmul.ac.uk/postgraduate/taught/c...</td>\n",
       "    </tr>\n",
       "    <tr>\n",
       "      <th>8</th>\n",
       "      <td>Electronic Engineering by Research</td>\n",
       "      <td>H6T6</td>\n",
       "      <td>H6T5</td>\n",
       "      <td>https://www.qmul.ac.uk/postgraduate/taught/co...</td>\n",
       "      <td>https://www.qmul.ac.uk/postgraduate/taught/co...</td>\n",
       "    </tr>\n",
       "    <tr>\n",
       "      <th>9</th>\n",
       "      <td>Internet of Things (Data)</td>\n",
       "      <td>I1T2</td>\n",
       "      <td>I1T0</td>\n",
       "      <td>https://www.qmul.ac.uk/postgraduate/taught/co...</td>\n",
       "      <td>https://www.qmul.ac.uk/postgraduate/taught/co...</td>\n",
       "    </tr>\n",
       "    <tr>\n",
       "      <th>10</th>\n",
       "      <td>Machine Learning for Visual Data Analytics</td>\n",
       "      <td>H6JZ</td>\n",
       "      <td>H6JE</td>\n",
       "      <td>https://www.qmul.ac.uk/postgraduate/taught/co...</td>\n",
       "      <td>https://www.qmul.ac.uk/postgraduate/taught/co...</td>\n",
       "    </tr>\n",
       "    <tr>\n",
       "      <th>11</th>\n",
       "      <td>Media and Arts Technology by Research</td>\n",
       "      <td></td>\n",
       "      <td>G4Q3</td>\n",
       "      <td></td>\n",
       "      <td>https://www.qmul.ac.uk/postgraduate/taught/c...</td>\n",
       "    </tr>\n",
       "    <tr>\n",
       "      <th>12</th>\n",
       "      <td>Sound and Music Computing</td>\n",
       "      <td>H6T4</td>\n",
       "      <td>H6T8</td>\n",
       "      <td>https://www.qmul.ac.uk/postgraduate/taught/co...</td>\n",
       "      <td>https://www.qmul.ac.uk/postgraduate/taught/co...</td>\n",
       "    </tr>\n",
       "    <tr>\n",
       "      <th>13</th>\n",
       "      <td>Telecommunication and Wireless Systems</td>\n",
       "      <td>H6JD</td>\n",
       "      <td>H6JA</td>\n",
       "      <td>https://www.qmul.ac.uk/postgraduate/taught/co...</td>\n",
       "      <td>https://www.qmul.ac.uk/postgraduate/taught/co...</td>\n",
       "    </tr>\n",
       "    <tr>\n",
       "      <th>14</th>\n",
       "      <td>Digital and Technology Solutions (Apprenticesh...</td>\n",
       "      <td>I4DA</td>\n",
       "      <td></td>\n",
       "      <td>https://www.qmul.ac.uk/postgraduate/taught/co...</td>\n",
       "      <td></td>\n",
       "    </tr>\n",
       "  </tbody>\n",
       "</table>\n",
       "</div>"
      ],
      "text/plain": [
       "                                                    0        1        2  \\\n",
       "0     Advanced Electronic and Electrical Engineering     H60C     H60A    \n",
       "1                            Artificial Intelligence    I4U2     I4U1     \n",
       "2                                   Big Data Science     H6J6     H6J7    \n",
       "3                                     Computer Games              I4U4    \n",
       "4                                   Computer Science     G4U2     G4U1    \n",
       "5                       Computer Science by Research     G4Q2     G4Q1    \n",
       "6                  Computing and Information Systems     G5U6     G5U5    \n",
       "7   Data Science and Artificial Intelligence by Co...            I4U5     \n",
       "8                 Electronic Engineering by Research     H6T6     H6T5    \n",
       "9                          Internet of Things (Data)     I1T2     I1T0    \n",
       "10        Machine Learning for Visual Data Analytics     H6JZ     H6JE    \n",
       "11             Media and Arts Technology by Research              G4Q3    \n",
       "12                        Sound and Music Computing      H6T4     H6T8    \n",
       "13            Telecommunication and Wireless Systems     H6JD     H6JA    \n",
       "14  Digital and Technology Solutions (Apprenticesh...    I4DA             \n",
       "\n",
       "                                                    3  \\\n",
       "0    https://www.qmul.ac.uk/postgraduate/taught/co...   \n",
       "1    https://www.qmul.ac.uk/postgraduate/taught/co...   \n",
       "2    https://www.qmul.ac.uk/postgraduate/taught/co...   \n",
       "3                                                       \n",
       "4    https://www.qmul.ac.uk/postgraduate/taught/co...   \n",
       "5    https://www.qmul.ac.uk/postgraduate/taught/co...   \n",
       "6    https://www.qmul.ac.uk/postgraduate/taught/co...   \n",
       "7                                                       \n",
       "8    https://www.qmul.ac.uk/postgraduate/taught/co...   \n",
       "9    https://www.qmul.ac.uk/postgraduate/taught/co...   \n",
       "10   https://www.qmul.ac.uk/postgraduate/taught/co...   \n",
       "11                                                      \n",
       "12   https://www.qmul.ac.uk/postgraduate/taught/co...   \n",
       "13   https://www.qmul.ac.uk/postgraduate/taught/co...   \n",
       "14   https://www.qmul.ac.uk/postgraduate/taught/co...   \n",
       "\n",
       "                                                    4  \n",
       "0    https://www.qmul.ac.uk/postgraduate/taught/co...  \n",
       "1    https://www.qmul.ac.uk/postgraduate/taught/co...  \n",
       "2    https://www.qmul.ac.uk/postgraduate/taught/co...  \n",
       "3     https://www.qmul.ac.uk/postgraduate/taught/c...  \n",
       "4    https://www.qmul.ac.uk/postgraduate/taught/co...  \n",
       "5    https://www.qmul.ac.uk/postgraduate/taught/co...  \n",
       "6    https://www.qmul.ac.uk/postgraduate/taught/co...  \n",
       "7     https://www.qmul.ac.uk/postgraduate/taught/c...  \n",
       "8    https://www.qmul.ac.uk/postgraduate/taught/co...  \n",
       "9    https://www.qmul.ac.uk/postgraduate/taught/co...  \n",
       "10   https://www.qmul.ac.uk/postgraduate/taught/co...  \n",
       "11    https://www.qmul.ac.uk/postgraduate/taught/c...  \n",
       "12   https://www.qmul.ac.uk/postgraduate/taught/co...  \n",
       "13   https://www.qmul.ac.uk/postgraduate/taught/co...  \n",
       "14                                                     "
      ]
     },
     "execution_count": 314,
     "metadata": {},
     "output_type": "execute_result"
    }
   ],
   "source": [
    "df_table = pd.DataFrame(table_list)\n",
    "df_table2 = df_table[0].str.split(',', expand=True)\n",
    "\n",
    "df_table2"
   ]
  },
  {
   "cell_type": "code",
   "execution_count": 315,
   "metadata": {},
   "outputs": [],
   "source": [
    "header = [\"Postgraduate Degree Programme\" , \"PT Code\" , \"FT Code\" , \"PT Code URL Link\", \"FT Code URL Link\"]"
   ]
  },
  {
   "cell_type": "code",
   "execution_count": 316,
   "metadata": {},
   "outputs": [],
   "source": [
    "df_table2.columns = header"
   ]
  },
  {
   "cell_type": "code",
   "execution_count": 317,
   "metadata": {
    "scrolled": true
   },
   "outputs": [
    {
     "data": {
      "text/html": [
       "<div>\n",
       "<style scoped>\n",
       "    .dataframe tbody tr th:only-of-type {\n",
       "        vertical-align: middle;\n",
       "    }\n",
       "\n",
       "    .dataframe tbody tr th {\n",
       "        vertical-align: top;\n",
       "    }\n",
       "\n",
       "    .dataframe thead th {\n",
       "        text-align: right;\n",
       "    }\n",
       "</style>\n",
       "<table border=\"1\" class=\"dataframe\">\n",
       "  <thead>\n",
       "    <tr style=\"text-align: right;\">\n",
       "      <th></th>\n",
       "      <th>Postgraduate Degree Programme</th>\n",
       "      <th>PT Code</th>\n",
       "      <th>FT Code</th>\n",
       "      <th>PT Code URL Link</th>\n",
       "      <th>FT Code URL Link</th>\n",
       "    </tr>\n",
       "  </thead>\n",
       "  <tbody>\n",
       "    <tr>\n",
       "      <th>0</th>\n",
       "      <td>Advanced Electronic and Electrical Engineering</td>\n",
       "      <td>H60C</td>\n",
       "      <td>H60A</td>\n",
       "      <td>https://www.qmul.ac.uk/postgraduate/taught/co...</td>\n",
       "      <td>https://www.qmul.ac.uk/postgraduate/taught/co...</td>\n",
       "    </tr>\n",
       "    <tr>\n",
       "      <th>1</th>\n",
       "      <td>Artificial Intelligence</td>\n",
       "      <td>I4U2</td>\n",
       "      <td>I4U1</td>\n",
       "      <td>https://www.qmul.ac.uk/postgraduate/taught/co...</td>\n",
       "      <td>https://www.qmul.ac.uk/postgraduate/taught/co...</td>\n",
       "    </tr>\n",
       "    <tr>\n",
       "      <th>2</th>\n",
       "      <td>Big Data Science</td>\n",
       "      <td>H6J6</td>\n",
       "      <td>H6J7</td>\n",
       "      <td>https://www.qmul.ac.uk/postgraduate/taught/co...</td>\n",
       "      <td>https://www.qmul.ac.uk/postgraduate/taught/co...</td>\n",
       "    </tr>\n",
       "    <tr>\n",
       "      <th>3</th>\n",
       "      <td>Computer Games</td>\n",
       "      <td></td>\n",
       "      <td>I4U4</td>\n",
       "      <td></td>\n",
       "      <td>https://www.qmul.ac.uk/postgraduate/taught/c...</td>\n",
       "    </tr>\n",
       "    <tr>\n",
       "      <th>4</th>\n",
       "      <td>Computer Science</td>\n",
       "      <td>G4U2</td>\n",
       "      <td>G4U1</td>\n",
       "      <td>https://www.qmul.ac.uk/postgraduate/taught/co...</td>\n",
       "      <td>https://www.qmul.ac.uk/postgraduate/taught/co...</td>\n",
       "    </tr>\n",
       "    <tr>\n",
       "      <th>5</th>\n",
       "      <td>Computer Science by Research</td>\n",
       "      <td>G4Q2</td>\n",
       "      <td>G4Q1</td>\n",
       "      <td>https://www.qmul.ac.uk/postgraduate/taught/co...</td>\n",
       "      <td>https://www.qmul.ac.uk/postgraduate/taught/co...</td>\n",
       "    </tr>\n",
       "    <tr>\n",
       "      <th>6</th>\n",
       "      <td>Computing and Information Systems</td>\n",
       "      <td>G5U6</td>\n",
       "      <td>G5U5</td>\n",
       "      <td>https://www.qmul.ac.uk/postgraduate/taught/co...</td>\n",
       "      <td>https://www.qmul.ac.uk/postgraduate/taught/co...</td>\n",
       "    </tr>\n",
       "    <tr>\n",
       "      <th>7</th>\n",
       "      <td>Data Science and Artificial Intelligence by Co...</td>\n",
       "      <td></td>\n",
       "      <td>I4U5</td>\n",
       "      <td></td>\n",
       "      <td>https://www.qmul.ac.uk/postgraduate/taught/c...</td>\n",
       "    </tr>\n",
       "    <tr>\n",
       "      <th>8</th>\n",
       "      <td>Electronic Engineering by Research</td>\n",
       "      <td>H6T6</td>\n",
       "      <td>H6T5</td>\n",
       "      <td>https://www.qmul.ac.uk/postgraduate/taught/co...</td>\n",
       "      <td>https://www.qmul.ac.uk/postgraduate/taught/co...</td>\n",
       "    </tr>\n",
       "    <tr>\n",
       "      <th>9</th>\n",
       "      <td>Internet of Things (Data)</td>\n",
       "      <td>I1T2</td>\n",
       "      <td>I1T0</td>\n",
       "      <td>https://www.qmul.ac.uk/postgraduate/taught/co...</td>\n",
       "      <td>https://www.qmul.ac.uk/postgraduate/taught/co...</td>\n",
       "    </tr>\n",
       "    <tr>\n",
       "      <th>10</th>\n",
       "      <td>Machine Learning for Visual Data Analytics</td>\n",
       "      <td>H6JZ</td>\n",
       "      <td>H6JE</td>\n",
       "      <td>https://www.qmul.ac.uk/postgraduate/taught/co...</td>\n",
       "      <td>https://www.qmul.ac.uk/postgraduate/taught/co...</td>\n",
       "    </tr>\n",
       "    <tr>\n",
       "      <th>11</th>\n",
       "      <td>Media and Arts Technology by Research</td>\n",
       "      <td></td>\n",
       "      <td>G4Q3</td>\n",
       "      <td></td>\n",
       "      <td>https://www.qmul.ac.uk/postgraduate/taught/c...</td>\n",
       "    </tr>\n",
       "    <tr>\n",
       "      <th>12</th>\n",
       "      <td>Sound and Music Computing</td>\n",
       "      <td>H6T4</td>\n",
       "      <td>H6T8</td>\n",
       "      <td>https://www.qmul.ac.uk/postgraduate/taught/co...</td>\n",
       "      <td>https://www.qmul.ac.uk/postgraduate/taught/co...</td>\n",
       "    </tr>\n",
       "    <tr>\n",
       "      <th>13</th>\n",
       "      <td>Telecommunication and Wireless Systems</td>\n",
       "      <td>H6JD</td>\n",
       "      <td>H6JA</td>\n",
       "      <td>https://www.qmul.ac.uk/postgraduate/taught/co...</td>\n",
       "      <td>https://www.qmul.ac.uk/postgraduate/taught/co...</td>\n",
       "    </tr>\n",
       "    <tr>\n",
       "      <th>14</th>\n",
       "      <td>Digital and Technology Solutions (Apprenticesh...</td>\n",
       "      <td>I4DA</td>\n",
       "      <td></td>\n",
       "      <td>https://www.qmul.ac.uk/postgraduate/taught/co...</td>\n",
       "      <td></td>\n",
       "    </tr>\n",
       "  </tbody>\n",
       "</table>\n",
       "</div>"
      ],
      "text/plain": [
       "                        Postgraduate Degree Programme  PT Code  FT Code  \\\n",
       "0     Advanced Electronic and Electrical Engineering     H60C     H60A    \n",
       "1                            Artificial Intelligence    I4U2     I4U1     \n",
       "2                                   Big Data Science     H6J6     H6J7    \n",
       "3                                     Computer Games              I4U4    \n",
       "4                                   Computer Science     G4U2     G4U1    \n",
       "5                       Computer Science by Research     G4Q2     G4Q1    \n",
       "6                  Computing and Information Systems     G5U6     G5U5    \n",
       "7   Data Science and Artificial Intelligence by Co...            I4U5     \n",
       "8                 Electronic Engineering by Research     H6T6     H6T5    \n",
       "9                          Internet of Things (Data)     I1T2     I1T0    \n",
       "10        Machine Learning for Visual Data Analytics     H6JZ     H6JE    \n",
       "11             Media and Arts Technology by Research              G4Q3    \n",
       "12                        Sound and Music Computing      H6T4     H6T8    \n",
       "13            Telecommunication and Wireless Systems     H6JD     H6JA    \n",
       "14  Digital and Technology Solutions (Apprenticesh...    I4DA             \n",
       "\n",
       "                                     PT Code URL Link  \\\n",
       "0    https://www.qmul.ac.uk/postgraduate/taught/co...   \n",
       "1    https://www.qmul.ac.uk/postgraduate/taught/co...   \n",
       "2    https://www.qmul.ac.uk/postgraduate/taught/co...   \n",
       "3                                                       \n",
       "4    https://www.qmul.ac.uk/postgraduate/taught/co...   \n",
       "5    https://www.qmul.ac.uk/postgraduate/taught/co...   \n",
       "6    https://www.qmul.ac.uk/postgraduate/taught/co...   \n",
       "7                                                       \n",
       "8    https://www.qmul.ac.uk/postgraduate/taught/co...   \n",
       "9    https://www.qmul.ac.uk/postgraduate/taught/co...   \n",
       "10   https://www.qmul.ac.uk/postgraduate/taught/co...   \n",
       "11                                                      \n",
       "12   https://www.qmul.ac.uk/postgraduate/taught/co...   \n",
       "13   https://www.qmul.ac.uk/postgraduate/taught/co...   \n",
       "14   https://www.qmul.ac.uk/postgraduate/taught/co...   \n",
       "\n",
       "                                     FT Code URL Link  \n",
       "0    https://www.qmul.ac.uk/postgraduate/taught/co...  \n",
       "1    https://www.qmul.ac.uk/postgraduate/taught/co...  \n",
       "2    https://www.qmul.ac.uk/postgraduate/taught/co...  \n",
       "3     https://www.qmul.ac.uk/postgraduate/taught/c...  \n",
       "4    https://www.qmul.ac.uk/postgraduate/taught/co...  \n",
       "5    https://www.qmul.ac.uk/postgraduate/taught/co...  \n",
       "6    https://www.qmul.ac.uk/postgraduate/taught/co...  \n",
       "7     https://www.qmul.ac.uk/postgraduate/taught/c...  \n",
       "8    https://www.qmul.ac.uk/postgraduate/taught/co...  \n",
       "9    https://www.qmul.ac.uk/postgraduate/taught/co...  \n",
       "10   https://www.qmul.ac.uk/postgraduate/taught/co...  \n",
       "11    https://www.qmul.ac.uk/postgraduate/taught/c...  \n",
       "12   https://www.qmul.ac.uk/postgraduate/taught/co...  \n",
       "13   https://www.qmul.ac.uk/postgraduate/taught/co...  \n",
       "14                                                     "
      ]
     },
     "execution_count": 317,
     "metadata": {},
     "output_type": "execute_result"
    }
   ],
   "source": [
    "df_table2"
   ]
  },
  {
   "cell_type": "markdown",
   "metadata": {},
   "source": [
    "#### 3. Consider the graph in the figure below as displaying the links for a group of 5 webpages.<br><br>\n",
    "##### 3.1 Which of the 5 nodes would you consider hubs and which would you consider authorities? Explain why.<br>"
   ]
  },
  {
   "cell_type": "markdown",
   "metadata": {},
   "source": [
    "• Authority Nodes: {1 , 2} because these nodes have many in-links.<br>\n",
    "• Hub Nodes: {3 , 4 , 5} because these nodes have many out-links to authorities."
   ]
  },
  {
   "cell_type": "markdown",
   "metadata": {},
   "source": [
    "##### 3.2 Assume that this graph is to be used as input to the PageRank algorithm. Calculate the transition probabilities $p_{ij}$ for all 5 nodes in the below graph (where $i$ and $j$ take values between 1 to 5). Add transitions with a uniform probability distribution in the case of dead-end nodes (do not consider cases of dead-end components).<br>"
   ]
  },
  {
   "cell_type": "code",
   "execution_count": 318,
   "metadata": {},
   "outputs": [],
   "source": [
    "import pandas as pd\n",
    "import numpy as np\n",
    "column_names = ['1', '2', '3', '4', '5']\n",
    "row_names    = ['1', '2', '3', '4', '5']"
   ]
  },
  {
   "cell_type": "code",
   "execution_count": 325,
   "metadata": {},
   "outputs": [],
   "source": [
    "matrix = np.reshape(('1/5', '1/5', '1/5', '1/5', '1/5',    \n",
    "                     '1/5', '1/5', '1/5', '1/5', '1/5',\n",
    "                     '1/2', '1/2',   '0',   '0',   '0',\n",
    "                     '1/2', '1/2',   '0',   '0',   '0',\n",
    "                     '1/2', '1/2',   '0',   '0',   '0'                     \n",
    "                    ), (5, 5))"
   ]
  },
  {
   "cell_type": "code",
   "execution_count": 326,
   "metadata": {},
   "outputs": [
    {
     "name": "stdout",
     "output_type": "stream",
     "text": [
      "Transition Probabilities Matrix\n"
     ]
    },
    {
     "data": {
      "text/html": [
       "<div>\n",
       "<style scoped>\n",
       "    .dataframe tbody tr th:only-of-type {\n",
       "        vertical-align: middle;\n",
       "    }\n",
       "\n",
       "    .dataframe tbody tr th {\n",
       "        vertical-align: top;\n",
       "    }\n",
       "\n",
       "    .dataframe thead th {\n",
       "        text-align: right;\n",
       "    }\n",
       "</style>\n",
       "<table border=\"1\" class=\"dataframe\">\n",
       "  <thead>\n",
       "    <tr style=\"text-align: right;\">\n",
       "      <th></th>\n",
       "      <th>1</th>\n",
       "      <th>2</th>\n",
       "      <th>3</th>\n",
       "      <th>4</th>\n",
       "      <th>5</th>\n",
       "    </tr>\n",
       "  </thead>\n",
       "  <tbody>\n",
       "    <tr>\n",
       "      <th>1</th>\n",
       "      <td>1/5</td>\n",
       "      <td>1/5</td>\n",
       "      <td>1/5</td>\n",
       "      <td>1/5</td>\n",
       "      <td>1/5</td>\n",
       "    </tr>\n",
       "    <tr>\n",
       "      <th>2</th>\n",
       "      <td>1/5</td>\n",
       "      <td>1/5</td>\n",
       "      <td>1/5</td>\n",
       "      <td>1/5</td>\n",
       "      <td>1/5</td>\n",
       "    </tr>\n",
       "    <tr>\n",
       "      <th>3</th>\n",
       "      <td>1/2</td>\n",
       "      <td>1/2</td>\n",
       "      <td>0</td>\n",
       "      <td>0</td>\n",
       "      <td>0</td>\n",
       "    </tr>\n",
       "    <tr>\n",
       "      <th>4</th>\n",
       "      <td>1/2</td>\n",
       "      <td>1/2</td>\n",
       "      <td>0</td>\n",
       "      <td>0</td>\n",
       "      <td>0</td>\n",
       "    </tr>\n",
       "    <tr>\n",
       "      <th>5</th>\n",
       "      <td>1/2</td>\n",
       "      <td>1/2</td>\n",
       "      <td>0</td>\n",
       "      <td>0</td>\n",
       "      <td>0</td>\n",
       "    </tr>\n",
       "  </tbody>\n",
       "</table>\n",
       "</div>"
      ],
      "text/plain": [
       "     1    2    3    4    5\n",
       "1  1/5  1/5  1/5  1/5  1/5\n",
       "2  1/5  1/5  1/5  1/5  1/5\n",
       "3  1/2  1/2    0    0    0\n",
       "4  1/2  1/2    0    0    0\n",
       "5  1/2  1/2    0    0    0"
      ]
     },
     "execution_count": 326,
     "metadata": {},
     "output_type": "execute_result"
    }
   ],
   "source": [
    "df = pd.DataFrame(matrix, columns=column_names, index=row_names)\n",
    "print(\"Transition Probabilities Matrix\")\n",
    "df"
   ]
  },
  {
   "cell_type": "markdown",
   "metadata": {},
   "source": [
    "##### 3.3 Derive the PageRank $\\pi(i)$ for all nodes, where $i=\\{1,...,5\\}$ corresponds to the node index. Assume that the teleportation probability is set to $\\alpha$.<br>"
   ]
  },
  {
   "cell_type": "markdown",
   "metadata": {},
   "source": [
    "I set the value to:\n",
    "$\\alpha$ = 0.5 <br><br>\n",
    "\n",
    "$\\pi$(1) = $\\alpha$/5 + (1-$\\alpha$).( $\\pi$(1)/5 + $\\pi$(2)/5 + $\\pi$(3)/2 + $\\pi$(4)/2 + $\\pi$(5)/2)<br>\n",
    "$\\pi$(1) = 0.5/5 + (1-0.5).(1/5 + 2/5 + 3/2 + 4/2 + 5/2)<br>\n",
    "$\\pi$(1) = 3.4<br><br>\n",
    "\n",
    "$\\pi$(2) = $\\alpha$/5 + (1-$\\alpha$).( $\\pi$(1)/5 + $\\pi$(2)/5 + $\\pi$(3)/2 + $\\pi$(4)/2 + $\\pi$(5)/2)<br>\n",
    "$\\pi$(2) = 0.5/5 + (1-0.5).(1/5 + 2/5 + 3/2 + 4/2 + 5/2)<br>\n",
    "$\\pi$(2) = 3.4<br><br>\n",
    "\n",
    "$\\pi$(3) = $\\alpha$/5 + (1-$\\alpha$).( $\\pi$(1)/5 + $\\pi$(2)/5)<br>\n",
    "$\\pi$(3) = 0.5/5 + (1-0.5).(1/5 + 2/5)<br>\n",
    "$\\pi$(3) = 0.4<br><br>\n",
    "\n",
    "$\\pi$(4) = $\\alpha$/5 + (1-$\\alpha$).( $\\pi$(1)/5 + $\\pi$(2)/5)<br>\n",
    "$\\pi$(4) = 0.5/5 + (1-0.5).(1/5 + 2/5)<br>\n",
    "$\\pi$(4) = 0.4<br><br>\n",
    "\n",
    "$\\pi$(5) = $\\alpha$/5 + (1-$\\alpha$).( $\\pi$(1)/5 + $\\pi$(2)/5)<br>\n",
    "$\\pi$(5) = 0.5/5 + (1-0.5).(1/5 + 2/5)<br>\n",
    "$\\pi$(5) = 0.4<br><br>"
   ]
  },
  {
   "cell_type": "markdown",
   "metadata": {},
   "source": [
    "![FigGraph](http://eecs.qmul.ac.uk/~emmanouilb/FigGraph.png)"
   ]
  },
  {
   "cell_type": "markdown",
   "metadata": {},
   "source": [
    "## Part 2"
   ]
  },
  {
   "cell_type": "markdown",
   "metadata": {},
   "source": [
    "#### 1. Consider the following sentences related to data mining theory, and assume that each of the below sentences corresponds to a document $d$:\n",
    "    * Data refers to characteristics that are collected through observation.\n",
    "    * A dataset can be viewed as a collection of objects.\n",
    "    * Data objects are described by a number of attributes.\n",
    "    * An attribute is a characteristic or feature of an object.\n",
    "<br>\n",
    "\n",
    "##### 1.1 Construct and display the document-term matrix for the above documents. Remove all stop words (here consider as stop words: articles, prepositions, conjunctions, pronouns, and common verbs) and punctuation marks; convert any plural nouns/adjectives to their singular form; and convert verbs to the present tense and first person singular form, before you construct the matrix."
   ]
  },
  {
   "cell_type": "markdown",
   "metadata": {},
   "source": [
    "|             | Data  | refers  | characteristics  | collected | observation | dataset  | viewed  | collection  | objects  | described  | number  | attributes  | attribute  | characteristic  | feature | object |\n",
    "|-|-|-|-|-|-|-|-|-|-|-|-|-|-|-|-|-|\n",
    "| Document 1  | 1  | 1  | 1  | 1  | 1  | 0  | 0  | 0  | 0  | 0  | 0  | 0  | 0  | 0  | 0  | 0  |\n",
    "| Document 2  | 0  | 0  | 0  | 0  | 0  | 1  | 1  | 1  | 1  | 0  | 0  | 0  | 0  | 0  | 0  | 0  |\n",
    "| Document 3  | 1  | 0  | 0  | 0  | 0  | 0  | 0  | 0  | 1  | 1  | 1  | 1  | 0  | 0  | 0  | 0  |\n",
    "| Document 4  | 0  | 0  | 0  | 0  | 0  | 0  | 0  | 0  | 0  | 0  | 0  | 0  | 1  | 1  | 1  | 1  |"
   ]
  },
  {
   "cell_type": "markdown",
   "metadata": {},
   "source": [
    "##### 1.2 Using the above constructed document-term matrix, calculate the inverse document frequency $\\mathit{idf}(w)$ for all words $w$ you have identified from question 1(a). "
   ]
  },
  {
   "cell_type": "markdown",
   "metadata": {},
   "source": [
    "IDF(t) = log_e(Total number of documents / Number of documents with term t in it).<br>\n",
    "Total number of documents = 4 <br><br>\n",
    "\n",
    "IDF(Data) = log( 4 / 2 ) = 0.30 <br><br>\n",
    "\n",
    "IDF(refers) = log( 4 / 1 ) = 0.60 <br><br>\n",
    "\n",
    "IDF(characteristics) = log( 4 / 1 ) = 0.60 <br><br>\n",
    "\n",
    "IDF(collected) = log( 4 / 1 ) = 0.60 <br><br>\n",
    "\n",
    "IDF(observation) = log( 4 / 1 ) = 0.60 <br><br>\n",
    "\n",
    "IDF(dataset) = log( 4 / 1 ) = 0.60 <br><br>\n",
    "\n",
    "IDF(viewed) = log( 4 / 1 ) = 0.60 <br><br>\n",
    "\n",
    "IDF(collection) = log( 4 / 1 ) = 0.60 <br><br>\n",
    "\n",
    "IDF(objects) = log( 4 / 2 ) = 0.30 <br><br>\n",
    "\n",
    "IDF(described) = log( 4 / 1 ) = 0.60 <br><br>\n",
    "\n",
    "IDF(number) = log( 4 / 1 ) = 0.60 <br><br>\n",
    "\n",
    "IDF(attributes) = log( 4 / 1 ) = 0.60 <br><br>\n",
    "\n",
    "IDF(attribute) = log( 4 / 1 ) = 0.60 <br><br>\n",
    "\n",
    "IDF(characteristic) = log( 4 / 1 ) = 0.60 <br><br>\n",
    "\n",
    "IDF(feature) = log( 4 / 1 ) = 0.60 <br><br>\n",
    "\n",
    "IDF(object) = log( 4 / 1 ) = 0.60 <br><br>\n",
    "\n",
    "\n",
    "\n",
    "\n",
    "\n"
   ]
  },
  {
   "cell_type": "markdown",
   "metadata": {},
   "source": [
    "#### 2. Consider a timeseries $y$ were we have obtained values of the timeseries for the following times $t$, as shown in the below table. Using linear interpolation, calculate the values $y$ of the timeseries for times $t = 3$ and $t=5$.\n",
    "\n",
    "| $t$  | 1  | 4  | 6  |\n",
    "|-|-|-|-|\n",
    "| $y$  | 2  | 8  | 5  |"
   ]
  },
  {
   "cell_type": "markdown",
   "metadata": {},
   "source": [
    "for t=3 , y = 2 + ( 3-1 / 4-1 ) . (8-2) = 6 <br><br>\n",
    "\n",
    "for t=5 , y = 8 + ( 5-4 / 6-4 ) . (5-8) = 6.5 <br><br>"
   ]
  },
  {
   "cell_type": "markdown",
   "metadata": {},
   "source": [
    "#### 3. Consider the following timeseries $y = \\{0.1, 0.15, 0.2, 0.2, 0.3, 0.4, 0.25, 0.6, 0.5\\}$. Perform binning on the timeseries using $k=3$ values per bin, and show the resulting timeseries after binning."
   ]
  },
  {
   "cell_type": "markdown",
   "metadata": {},
   "source": [
    "$yNewTimeseries = \\{0.15, 0.3, 0.45\\}$"
   ]
  },
  {
   "cell_type": "markdown",
   "metadata": {},
   "source": [
    "#### 4. Load CSV file \"timeseries.csv\", which contains a univariate timeseries. Once loaded, convert the timeseries into a numpy array and use the numpy flatten() function to ensure that the loaded timeseries is one-dimensional. Compute the Discrete Fourier Transform (DFT) of the timeseries, and display plots for both the original timeseries and the magnitude of its DFT. How many predominant frequency components does the timeseries have?"
   ]
  },
  {
   "cell_type": "code",
   "execution_count": 397,
   "metadata": {},
   "outputs": [
    {
     "name": "stdout",
     "output_type": "stream",
     "text": [
      "<class 'numpy.ndarray'>\n"
     ]
    },
    {
     "data": {
      "text/plain": [
       "Text(0.5, 0, 'Time (index $n$)')"
      ]
     },
     "execution_count": 397,
     "metadata": {},
     "output_type": "execute_result"
    },
    {
     "data": {
      "image/png": "[encoded data removed]",
      "text/plain": [
       "<Figure size 720x288 with 1 Axes>"
      ]
     },
     "metadata": {
      "needs_background": "light"
     },
     "output_type": "display_data"
    }
   ],
   "source": [
    "import pandas as pd\n",
    "import numpy as np\n",
    "import re \n",
    "from pandas import read_csv\n",
    "import matplotlib.pyplot as plt\n",
    "\n",
    "#series = read_csv('timeseries.csv', header=0, index_col=0)\n",
    "\n",
    "tempSeries = read_csv('./timeseries.csv')\n",
    "\n",
    "a_df = tempSeries.values\n",
    "\n",
    "seriesArray = a_df.flatten()\n",
    "\n",
    "print(type(seriesArray))\n",
    "\n",
    "#timeseries = pd.DataFrame(data = seriesArray)\n",
    "\n",
    "#timeseries\n",
    "\n",
    "#timeseries.plot(figsize=(15,4))\n",
    "\n",
    "plt.figure(figsize=(10, 4))\n",
    "plt.title('$x$')\n",
    "plt.plot(seriesArray, 'k')\n",
    "plt.xlabel('Time (index $n$)')\n",
    "\n"
   ]
  },
  {
   "cell_type": "code",
   "execution_count": 398,
   "metadata": {},
   "outputs": [
    {
     "data": {
      "image/png": "[encoded data removed]",
      "text/plain": [
       "<Figure size 720x288 with 1 Axes>"
      ]
     },
     "metadata": {
      "needs_background": "light"
     },
     "output_type": "display_data"
    }
   ],
   "source": [
    "# numpy implementation of FFT\n",
    "Xfft = np.fft.fft(seriesArray)\n",
    "\n",
    "# Plot\n",
    "plt.figure(figsize=(10, 4))\n",
    "plt.title('$|series|$ - magnitude of DFT')\n",
    "plt.plot(np.abs(Xfft), 'k')\n",
    "plt.xlabel('Frequency (index $k$)')\n",
    "plt.tight_layout()"
   ]
  },
  {
   "cell_type": "markdown",
   "metadata": {},
   "source": [
    "There are two dominant frequncies"
   ]
  },
  {
   "cell_type": "markdown",
   "metadata": {},
   "source": [
    "#### 5. Using the daily births dataset from this lab tutorial, smooth the timeseries using trailing moving average smoothing and a window size that corresponds to one week; then replace any NaN values with zeros. Perform timeseries forecasting using the smoothed dataset in order to predict daily births for the first 5 days of 1960, using the models below. Show your forecasting results. \n",
    "    * AR model with $p=2$\n",
    "    * ARMA model with $p=2$ and $q=2$"
   ]
  },
  {
   "cell_type": "code",
   "execution_count": 352,
   "metadata": {},
   "outputs": [],
   "source": [
    "from pandas import read_csv\n",
    "import matplotlib.pyplot as plt\n",
    "import pandas as pd\n",
    "import numpy as np\n",
    "import re \n",
    "\n",
    "\n",
    "df = pd.read_csv('./births.csv', header=0, index_col=0)"
   ]
  },
  {
   "cell_type": "code",
   "execution_count": 353,
   "metadata": {},
   "outputs": [
    {
     "name": "stdout",
     "output_type": "stream",
     "text": [
      "            Births\n",
      "Date              \n",
      "1959-01-01      35\n",
      "1959-01-02      32\n",
      "1959-01-03      30\n",
      "1959-01-04      31\n",
      "1959-01-05      44\n"
     ]
    }
   ],
   "source": [
    "print(df.head())"
   ]
  },
  {
   "cell_type": "code",
   "execution_count": 358,
   "metadata": {},
   "outputs": [
    {
     "name": "stdout",
     "output_type": "stream",
     "text": [
      "               Births\n",
      "Date                 \n",
      "1959-01-01   0.000000\n",
      "1959-01-02   0.000000\n",
      "1959-01-03   0.000000\n",
      "1959-01-04   0.000000\n",
      "1959-01-05   0.000000\n",
      "1959-01-06   0.000000\n",
      "1959-01-07  35.142857\n",
      "1959-01-08  36.285714\n",
      "1959-01-09  37.142857\n",
      "1959-01-10  36.714286\n"
     ]
    }
   ],
   "source": [
    "# Perform trailing moving average smoothing\n",
    "rolling = df.rolling(window=7) # using a window of 3 samples: t, t-1, t-2\n",
    "rolling_mean = rolling.mean()\n",
    "rolling_mean = rolling_mean.fillna(0)\n",
    "print(rolling_mean.head(10))"
   ]
  },
  {
   "cell_type": "code",
   "execution_count": 362,
   "metadata": {},
   "outputs": [
    {
     "name": "stdout",
     "output_type": "stream",
     "text": [
      "<class 'pandas.core.frame.DataFrame'>\n"
     ]
    }
   ],
   "source": [
    "print(type(rolling_mean))"
   ]
  },
  {
   "cell_type": "code",
   "execution_count": 360,
   "metadata": {},
   "outputs": [],
   "source": [
    "# Initialise\n",
    "from statsmodels.tsa.arima.model import ARIMA\n",
    "from random import random"
   ]
  },
  {
   "cell_type": "code",
   "execution_count": 363,
   "metadata": {},
   "outputs": [
    {
     "name": "stderr",
     "output_type": "stream",
     "text": [
      "C:\\Users\\Moad\\anaconda3\\lib\\site-packages\\statsmodels\\tsa\\base\\tsa_model.py:524: ValueWarning: No frequency information was provided, so inferred frequency D will be used.\n",
      "  warnings.warn('No frequency information was'\n",
      "C:\\Users\\Moad\\anaconda3\\lib\\site-packages\\statsmodels\\tsa\\base\\tsa_model.py:524: ValueWarning: No frequency information was provided, so inferred frequency D will be used.\n",
      "  warnings.warn('No frequency information was'\n",
      "C:\\Users\\Moad\\anaconda3\\lib\\site-packages\\statsmodels\\tsa\\base\\tsa_model.py:524: ValueWarning: No frequency information was provided, so inferred frequency D will be used.\n",
      "  warnings.warn('No frequency information was'\n"
     ]
    },
    {
     "name": "stdout",
     "output_type": "stream",
     "text": [
      "1960-01-01    45.672857\n",
      "1960-01-02    45.492144\n",
      "1960-01-03    45.304554\n",
      "1960-01-04    45.120825\n",
      "1960-01-05    44.941726\n",
      "Freq: D, Name: predicted_mean, dtype: float64\n"
     ]
    }
   ],
   "source": [
    "#* AR model with $p=2$\n",
    "\n",
    "# Fit AR model\n",
    "model = ARIMA(rolling_mean, order=(2, 0, 0)) # p=2\n",
    "model_fit = model.fit()\n",
    "\n",
    "# Make prediction\n",
    "yhat = model_fit.predict(len(rolling_mean), len(rolling_mean)+4) # arguments denote which dataset indices to predict\n",
    "print(yhat)"
   ]
  },
  {
   "cell_type": "code",
   "execution_count": 364,
   "metadata": {
    "scrolled": true
   },
   "outputs": [
    {
     "name": "stderr",
     "output_type": "stream",
     "text": [
      "C:\\Users\\Moad\\anaconda3\\lib\\site-packages\\statsmodels\\tsa\\base\\tsa_model.py:524: ValueWarning: No frequency information was provided, so inferred frequency D will be used.\n",
      "  warnings.warn('No frequency information was'\n",
      "C:\\Users\\Moad\\anaconda3\\lib\\site-packages\\statsmodels\\tsa\\base\\tsa_model.py:524: ValueWarning: No frequency information was provided, so inferred frequency D will be used.\n",
      "  warnings.warn('No frequency information was'\n",
      "C:\\Users\\Moad\\anaconda3\\lib\\site-packages\\statsmodels\\tsa\\base\\tsa_model.py:524: ValueWarning: No frequency information was provided, so inferred frequency D will be used.\n",
      "  warnings.warn('No frequency information was'\n"
     ]
    },
    {
     "name": "stdout",
     "output_type": "stream",
     "text": [
      "1960-01-01    45.810272\n",
      "1960-01-02    45.818766\n",
      "1960-01-03    45.728027\n",
      "1960-01-04    45.563874\n",
      "1960-01-05    45.347092\n",
      "Freq: D, Name: predicted_mean, dtype: float64\n"
     ]
    }
   ],
   "source": [
    "#* ARMA model with $p=2$ and $q=2$\n",
    "\n",
    "# Fit ARMA model\n",
    "model = ARIMA(rolling_mean, order=(2, 0, 2)) # p=2, q=2\n",
    "model_fit = model.fit()\n",
    "\n",
    "# Make prediction\n",
    "yhat = model_fit.predict(len(rolling_mean), len(rolling_mean)+4) # arguments denote which dataset indices to predict\n",
    "print(yhat)"
   ]
  },
  {
   "cell_type": "code",
   "execution_count": 371,
   "metadata": {},
   "outputs": [
    {
     "name": "stdout",
     "output_type": "stream",
     "text": [
      "1960-01-01    45.380177\n",
      "1960-01-02    44.960852\n",
      "1960-01-03    44.590676\n",
      "1960-01-04    44.271699\n",
      "1960-01-05    43.997395\n",
      "Freq: D, dtype: float64\n"
     ]
    },
    {
     "name": "stderr",
     "output_type": "stream",
     "text": [
      "C:\\Users\\Moad\\anaconda3\\lib\\site-packages\\statsmodels\\tsa\\base\\tsa_model.py:524: ValueWarning: No frequency information was provided, so inferred frequency D will be used.\n",
      "  warnings.warn('No frequency information was'\n"
     ]
    }
   ],
   "source": [
    "\n",
    "# Fit Autoregressive model\n",
    "model = AutoReg(rolling_mean, lags=2, old_names=False) # \"lags\" indicates the model order\n",
    "model_fit = model.fit()\n",
    "\n",
    "# Make prediction\n",
    "yhat = model_fit.predict(len(rolling_mean), len(rolling_mean)+4) # arguments denote which dataset indices to predict\n",
    "print(yhat)"
   ]
  },
  {
   "cell_type": "markdown",
   "metadata": {},
   "source": [
    "#### 6. Using a similar process used in section 1 of this lab notebook, perform document clustering using k-means on the following wikipedia articles: supervised learning, unsupervised learning, semi-supervised learning, association rule learning, anomaly detection, cluster analysis, dimensionality reduction, regression analysis, statistical classification, data mining, data warehouse, online analytical processing. As with section 1, use the elbow metric to find an appropriate number of clusters. Discuss and display the document clustering results."
   ]
  },
  {
   "cell_type": "code",
   "execution_count": 372,
   "metadata": {},
   "outputs": [],
   "source": [
    "import pandas as pd\n",
    "import wikipedia"
   ]
  },
  {
   "cell_type": "code",
   "execution_count": 373,
   "metadata": {},
   "outputs": [],
   "source": [
    "articles=['supervised learning', 'unsupervised learning', 'semi-supervised learning', 'association rule learning', 'anomaly detection', 'cluster analysis', 'dimensionality reduction', 'regression analysis', 'statistical classification', 'data mining', 'data warehouse', 'online analytical processing']\n",
    "wiki_lst=[]\n",
    "title=[]\n"
   ]
  },
  {
   "cell_type": "code",
   "execution_count": 374,
   "metadata": {},
   "outputs": [
    {
     "name": "stdout",
     "output_type": "stream",
     "text": [
      "loading content:  supervised learning\n",
      "loading content:  unsupervised learning\n",
      "loading content:  semi-supervised learning\n",
      "loading content:  association rule learning\n",
      "loading content:  anomaly detection\n",
      "loading content:  cluster analysis\n",
      "loading content:  dimensionality reduction\n",
      "loading content:  regression analysis\n",
      "loading content:  statistical classification\n",
      "loading content:  data mining\n",
      "loading content:  data warehouse\n",
      "loading content:  online analytical processing\n"
     ]
    }
   ],
   "source": [
    "# Load wikipedia articles\n",
    "for article in articles:\n",
    "    print(\"loading content: \",article)\n",
    "    wiki_lst.append(wikipedia.page(article, auto_suggest=False).content)\n",
    "    title.append(article)"
   ]
  },
  {
   "cell_type": "code",
   "execution_count": 375,
   "metadata": {},
   "outputs": [],
   "source": [
    "from sklearn.feature_extraction.text import TfidfVectorizer\n"
   ]
  },
  {
   "cell_type": "code",
   "execution_count": 377,
   "metadata": {},
   "outputs": [
    {
     "name": "stdout",
     "output_type": "stream",
     "text": [
      "(12, 4219)\n"
     ]
    }
   ],
   "source": [
    "vectorizer = TfidfVectorizer(stop_words={'english'})\n",
    "X = vectorizer.fit_transform(wiki_lst) # Create tf-idf feature of the wikipedia dataset\n",
    "\n",
    "print(X.shape) # Print dimensions of tf-idf feature"
   ]
  },
  {
   "cell_type": "code",
   "execution_count": 378,
   "metadata": {},
   "outputs": [],
   "source": [
    "import matplotlib.pyplot as plt\n",
    "from sklearn.cluster import KMeans"
   ]
  },
  {
   "cell_type": "code",
   "execution_count": 379,
   "metadata": {},
   "outputs": [
    {
     "data": {
      "image/png": "[encoded data removed]",
      "text/plain": [
       "<Figure size 432x288 with 1 Axes>"
      ]
     },
     "metadata": {
      "needs_background": "light"
     },
     "output_type": "display_data"
    }
   ],
   "source": [
    "Sum_of_squared_distances = []\n",
    "K = range(2,7)\n",
    "\n",
    "for k in K:\n",
    "    km = KMeans(n_clusters=k, max_iter=200, n_init=10)\n",
    "    km = km.fit(X)\n",
    "    Sum_of_squared_distances.append(km.inertia_)\n",
    "\n",
    "plt.plot(K, Sum_of_squared_distances, 'bx-')\n",
    "plt.xlabel('k')\n",
    "plt.ylabel('Sum_of_squared_distances')\n",
    "plt.title('Elbow Method')\n",
    "plt.show()"
   ]
  },
  {
   "cell_type": "code",
   "execution_count": 380,
   "metadata": {},
   "outputs": [
    {
     "name": "stdout",
     "output_type": "stream",
     "text": [
      "                           title  cluster\n",
      "0            supervised learning        0\n",
      "2       semi-supervised learning        0\n",
      "7            regression analysis        0\n",
      "9                    data mining        1\n",
      "10                data warehouse        1\n",
      "11  online analytical processing        1\n",
      "4              anomaly detection        2\n",
      "1          unsupervised learning        3\n",
      "3      association rule learning        3\n",
      "5               cluster analysis        3\n",
      "6       dimensionality reduction        3\n",
      "8     statistical classification        3\n"
     ]
    }
   ],
   "source": [
    "# Fit k-means model with k=4\n",
    "true_k = 4\n",
    "model = KMeans(n_clusters=true_k, init='k-means++', max_iter=200, n_init=10)\n",
    "model.fit(X)\n",
    "\n",
    "# Print list of documents and associated clusters\n",
    "labels=model.labels_\n",
    "wiki_cl=pd.DataFrame(list(zip(title,labels)),columns=['title','cluster'])\n",
    "print(wiki_cl.sort_values(by=['cluster']))"
   ]
  },
  {
   "cell_type": "markdown",
   "metadata": {},
   "source": [
    "From the results we can see that most of it makes sense but am not sure why 'anomaly detection' doesnt belong to cluster (2) I think it should belong to cluster (3) and I dont think 'dimensionality reduction' and 'statistical classification' belong to cluster (3) and I think 'association rule learning' should belong to cluster (1)"
   ]
  },
  {
   "cell_type": "code",
   "execution_count": 399,
   "metadata": {},
   "outputs": [],
   "source": [
    "#print(wiki_lst[3])"
   ]
  }
 ],
 "metadata": {
  "kernelspec": {
   "display_name": "Python 3",
   "language": "python",
   "name": "python3"
  },
  "language_info": {
   "codemirror_mode": {
    "name": "ipython",
    "version": 3
   },
   "file_extension": ".py",
   "mimetype": "text/x-python",
   "name": "python",
   "nbconvert_exporter": "python",
   "pygments_lexer": "ipython3",
   "version": "3.8.3"
  }
 },
 "nbformat": 4,
 "nbformat_minor": 4
}
