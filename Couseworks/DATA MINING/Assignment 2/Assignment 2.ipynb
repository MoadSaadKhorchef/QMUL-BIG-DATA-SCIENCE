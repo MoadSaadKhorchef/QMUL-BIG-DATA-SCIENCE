{
 "cells": [
  {
   "cell_type": "markdown",
   "metadata": {},
   "source": [
    "# Assignment 2"
   ]
  },
  {
   "cell_type": "markdown",
   "metadata": {},
   "source": [
    "## Part 1"
   ]
  },
  {
   "cell_type": "markdown",
   "metadata": {},
   "source": [
    "#### 1. A data warehouse for a music streaming company consists of the dimensions song, user, time (time and date of when the user listened to a song), and the two measures count (how many times a user listened to the song) and fee (fee paid by the streaming company to the artist every time a user listens to that song). \n"
   ]
  },
  {
   "cell_type": "markdown",
   "metadata": {},
   "source": [
    "##### A. Draw a schema diagram for the above data warehouse using either a star, snowflake, or fact constellation schema."
   ]
  },
  {
   "cell_type": "markdown",
   "metadata": {},
   "source": [
    "![Schema](Schema.PNG)"
   ]
  },
  {
   "cell_type": "markdown",
   "metadata": {},
   "source": [
    "##### B. Starting with the base cuboid [time, user, song], what specific OLAP operations should be performed in order to list the total fee collected for a given song for a given month of a given year (e.g. October 2020)?\n",
    "\n"
   ]
  },
  {
   "cell_type": "markdown",
   "metadata": {},
   "source": [
    "First, I would use the dice operation to select the date (October 2020) and the song category, then i would drilldown to the song name and aggregate by feeAmount."
   ]
  },
  {
   "cell_type": "markdown",
   "metadata": {},
   "source": [
    "##### C. Assume that the time dimension has 5 levels (e.g. day, day of week, month, quarter, year); and that the song and user dimensions both have 1 level (not including the virtual level 'all'). How many cuboids will this cube contain (including the base and apex cuboids)? "
   ]
  },
  {
   "cell_type": "markdown",
   "metadata": {},
   "source": [
    "We have 3 dimensions\n",
    "\n",
    "time has 5 levels\n",
    "\n",
    "user has 1 level\n",
    "\n",
    "song has 1 level\n",
    "\n",
    "according to the equation in the lecture slide\n",
    "\n",
    "24 = (5+1)*(1+1)*(1+1)\n"
   ]
  },
  {
   "cell_type": "markdown",
   "metadata": {},
   "source": [
    "#### 2. Suppose we have access to a data cube that contains information on rainfall for specific regions; the data cube has dimensions region, precipitation, and time.\n",
    "  "
   ]
  },
  {
   "cell_type": "markdown",
   "metadata": {},
   "source": [
    "##### 2.1 Assuming that we would like to compute the total amount of rainfall for a given region and month, which *data cube measure* would we use? To which category of data cube measures does this particular measure fall into? \n",
    " "
   ]
  },
  {
   "cell_type": "markdown",
   "metadata": {},
   "source": [
    "I would use the sum() function. \n",
    "\n",
    "It falls under th Distributive category "
   ]
  },
  {
   "cell_type": "markdown",
   "metadata": {},
   "source": [
    "##### 2.2 Assuming that we would like to compute the average rainfall for a given region and month, which *data cube measure* would we use? To which category of data cube measures does this particular measure fall into? "
   ]
  },
  {
   "cell_type": "markdown",
   "metadata": {},
   "source": [
    "I would use the avg() function. \n",
    "\n",
    "It falls under th Algebric category "
   ]
  },
  {
   "cell_type": "markdown",
   "metadata": {},
   "source": [
    "#### 3. Suppose that a car rental company has a data warehouse that holds record ID lists of vehicles in terms of brands (Audi, Ford, Mini) and store branches (Tower Hamlets, Newham, Hackney). Each record consists of a combination of vehicle brand and branch. We would like to index the OLAP data using bitmap indices. Produce the *base table* for record IDs, and the corresponding *bitmap index tables* for vehicle brand and store branch."
   ]
  },
  {
   "cell_type": "markdown",
   "metadata": {},
   "source": [
    "![Bitmap Index](BitmapIndex.png)"
   ]
  },
  {
   "cell_type": "markdown",
   "metadata": {},
   "source": [
    "#### 4. Using the same CSV file and data cube in the above lab tutorial, modify the \"tutorial_model.json\" file to include aggregate measures for the minimum and maximum amount in the data cube. Using these implemented aggregate measures, produce the values for the minimum and maximum amount in the data per year. Make sure to show your workings in the PDF report."
   ]
  },
  {
   "cell_type": "code",
   "execution_count": 1,
   "metadata": {},
   "outputs": [],
   "source": [
    "from sqlalchemy import create_engine\n",
    "from cubes.tutorial.sql import create_table_from_csv\n",
    "from cubes import Workspace\n",
    "\n",
    "\n",
    "engine = create_engine('sqlite:///data.sqlite')\n",
    "create_table_from_csv(engine,\n",
    "                      \"IBRD_Balance_Sheet__FY2010.csv\",\n",
    "                      table_name=\"ibrd_balance\",\n",
    "                      fields=[\n",
    "                          (\"category\", \"string\"),\n",
    "                          (\"category_label\", \"string\"),\n",
    "                          (\"subcategory\", \"string\"),\n",
    "                          (\"subcategory_label\", \"string\"),\n",
    "                          (\"line_item\", \"string\"),\n",
    "                          (\"year\", \"integer\"),\n",
    "                          (\"amount\", \"integer\")],\n",
    "                      create_id=True\n",
    "                     )\n",
    "\n",
    "\n",
    "workspace = Workspace()\n",
    "workspace.register_default_store(\"sql\", url=\"sqlite:///data.sqlite\")\n",
    "\n",
    "\n",
    "workspace.import_model(\"tutorial_model.json\")\n",
    "cube = workspace.cube(\"ibrd_balance\")\n",
    "\n",
    "browser = workspace.browser(cube)\n",
    "\n",
    "\n",
    "\n",
    "\n",
    "\n"
   ]
  },
  {
   "cell_type": "code",
   "execution_count": 9,
   "metadata": {},
   "outputs": [
    {
     "data": {
      "text/plain": [
       "{'amount_sum': 550840,\n",
       " 'amount_min': -1683,\n",
       " 'amount_max': 110040,\n",
       " 'record_count': 31}"
      ]
     },
     "execution_count": 9,
     "metadata": {},
     "output_type": "execute_result"
    }
   ],
   "source": [
    "import cubes as cubes\n",
    "\n",
    "cuts = [cubes.PointCut(\"year\", [\"2009\"])]\n",
    "cell = cubes.Cell(cube, cuts)\n",
    "\n",
    "result = browser.aggregate(cell, drilldown=[\"item:line_item\"])\n",
    "\n",
    "result.summary\n",
    "\n",
    "#for record in result:\n",
    "#    print(record) "
   ]
  },
  {
   "cell_type": "code",
   "execution_count": 7,
   "metadata": {},
   "outputs": [
    {
     "name": "stdout",
     "output_type": "stream",
     "text": [
      "{'year': 2009, 'amount_max': 110040, 'amount_min': -1683}\n",
      "{'year': 2010, 'amount_max': 128577, 'amount_min': -3043}\n"
     ]
    }
   ],
   "source": [
    "result = browser.aggregate(drilldown=[\"year\"] , aggregates=['amount_max','amount_min'])\n",
    "\n",
    "for record in result:\n",
    "    print(record)"
   ]
  },
  {
   "cell_type": "markdown",
   "metadata": {},
   "source": [
    " the change to the \"tutorial_model.json\" file:  \n",
    "      \n",
    "      \n",
    "      \"dimensions\": [\"item\", \"year\"],\n",
    "        \"measures\": [{\"name\":\"amount\", \"label\":\"Amount\"}],\n",
    "        \"aggregates\": [\n",
    "                    {\t\n",
    "                        \"name\": \"amount_sum\",\n",
    "                        \"measure\": \"amount\",\n",
    "                        \"function\": \"sum\"\n",
    "                    },\n",
    "                    {\n",
    "                        \"name\": \"amount_min\",\n",
    "                        \"measure\": \"amount\",\n",
    "                        \"function\": \"min\"\n",
    "                    },\n",
    "                    {\n",
    "                        \"name\": \"amount_max\",\n",
    "                        \"measure\": \"amount\",\n",
    "                        \"function\": \"max\"\n",
    "                    },\n",
    "                    {\n",
    "                        \"name\": \"record_count\",\n",
    "                        \"function\": \"count\"\n",
    "                    }\n",
    "        ]"
   ]
  },
  {
   "cell_type": "markdown",
   "metadata": {},
   "source": [
    "#### 5. Using the CSV file \"country-income.csv\" (found in the supplementary lab documents), perform the following:\n"
   ]
  },
  {
   "cell_type": "markdown",
   "metadata": {},
   "source": [
    "##### 5.1 Load the CSV file using Cubes, create a JSON file for the data cube model, and create a data cube for the data. Use as dimensions the region, age, and online shopper fields. Use as measure the income. Define aggregate functions in the data cube model for the total, average, minimum, and maximum income. In your PDF report, show the relevant scripts and files created. "
   ]
  },
  {
   "cell_type": "code",
   "execution_count": 3,
   "metadata": {},
   "outputs": [],
   "source": [
    "from sqlalchemy import create_engine\n",
    "from cubes.tutorial.sql import create_table_from_csv\n",
    "from cubes import Workspace\n",
    "\n",
    "\n",
    "engine = create_engine('sqlite:///data.sqlite')\n",
    "create_table_from_csv(engine,\n",
    "                      \"country-income.csv\",\n",
    "                      table_name=\"country_income\",\n",
    "                      fields=[\n",
    "                          (\"Region\", \"string\"),\n",
    "                          (\"Age\", \"integer\"),\n",
    "                          (\"Income\", \"integer\"),\n",
    "                          (\"Online_Shopper\", \"string\")],\n",
    "                      create_id=True\n",
    "                     )\n",
    "\n",
    "\n",
    "workspace = Workspace()\n",
    "workspace.register_default_store(\"sql\", url=\"sqlite:///data.sqlite\")\n",
    "\n",
    "\n",
    "workspace.import_model(\"tutorial_model2.json\")\n",
    "cube = workspace.cube(\"country_income\")\n",
    "\n",
    "browser = workspace.browser(cube)\n"
   ]
  },
  {
   "cell_type": "code",
   "execution_count": 4,
   "metadata": {},
   "outputs": [
    {
     "name": "stdout",
     "output_type": "stream",
     "text": [
      "{'Region': 'Brazil', 'amount_sum': 193200, 'amount_min': 57600, 'amount_max': 73200, 'amount_avg': 64400.0, 'record_count': 3}\n",
      "{'Region': 'India', 'amount_sum': 331200, 'amount_min': 69600, 'amount_max': 94800, 'amount_avg': 82800.0, 'record_count': 4}\n",
      "{'Region': 'USA', 'amount_sum': 243800, 'amount_min': 64800, 'amount_max': 99600, 'amount_avg': 81266.66666666667, 'record_count': 3}\n"
     ]
    }
   ],
   "source": [
    "result = browser.aggregate(drilldown=[\"Region\"])\n",
    "\n",
    "for record in result:\n",
    "    print(record)"
   ]
  },
  {
   "cell_type": "code",
   "execution_count": 6,
   "metadata": {},
   "outputs": [
    {
     "name": "stdout",
     "output_type": "stream",
     "text": [
      "{'Region': 'Brazil', 'amount_max': 73200, 'amount_min': 57600, 'amount_avg': 64400.0}\n",
      "{'Region': 'India', 'amount_max': 94800, 'amount_min': 69600, 'amount_avg': 82800.0}\n",
      "{'Region': 'USA', 'amount_max': 99600, 'amount_min': 64800, 'amount_avg': 81266.66666666667}\n"
     ]
    }
   ],
   "source": [
    "result = browser.aggregate(drilldown=[\"Region\"], aggregates=['amount_sum','amount_max','amount_min','amount_avg'])\n",
    "\n",
    "for record in result:\n",
    "    print(record)"
   ]
  },
  {
   "cell_type": "markdown",
   "metadata": {},
   "source": [
    "The content of \"tutorial_model2.json\" file:\n",
    "\n",
    "    {\n",
    "        \"dimensions\": [\n",
    "\n",
    "            {\"name\":\"Region\"},\n",
    "            {\"name\":\"Age\"},\n",
    "            {\"name\":\"Online_Shopper\"}\n",
    "\n",
    "        ],\n",
    "        \"cubes\": [\n",
    "            {\n",
    "                \"name\": \"country_income\",\n",
    "                \"dimensions\": [\"Region\", \"Age\",\"Online_Shopper\"],\n",
    "                \"measures\": [{\"name\":\"Income\", \"label\":\"Income\"}],\n",
    "                \"aggregates\": [\n",
    "                            {\t\n",
    "                                \"name\": \"amount_sum\",\n",
    "                                \"measure\": \"Income\",\n",
    "                                \"function\": \"sum\"\n",
    "                            },\n",
    "                            {\n",
    "                                \"name\": \"amount_min\",\n",
    "                                \"measure\": \"Income\",\n",
    "                                \"function\": \"min\"\n",
    "                            },\n",
    "                            {\n",
    "                                \"name\": \"amount_max\",\n",
    "                                \"measure\": \"Income\",\n",
    "                                \"function\": \"max\"\n",
    "                            },\n",
    "                            {\n",
    "                                \"name\": \"amount_avg\",\n",
    "                                \"measure\": \"Income\",\n",
    "                                \"function\": \"avg\"\n",
    "                            },\n",
    "                            {\n",
    "                                \"name\": \"record_count\",\n",
    "                                \"function\": \"count\"\n",
    "                            }\n",
    "                ],\n",
    "                \"mappings\": {\n",
    "\n",
    "                             },\n",
    "                \"info\": {\n",
    "\n",
    "                }\n",
    "            }\n",
    "        ]\n",
    "    }\n"
   ]
  },
  {
   "cell_type": "markdown",
   "metadata": {},
   "source": [
    "#####  5.2 Using the created data cube and data cube model, produce aggregate results for: the whole data cube; results per region; results per online shopping activity; and results for all people aged between 40 and 50."
   ]
  },
  {
   "cell_type": "code",
   "execution_count": 7,
   "metadata": {},
   "outputs": [
    {
     "name": "stdout",
     "output_type": "stream",
     "text": [
      "{'Region': 'Brazil', 'amount_sum': 193200, 'amount_max': 73200, 'amount_min': 57600, 'amount_avg': 64400.0}\n",
      "{'Region': 'India', 'amount_sum': 331200, 'amount_max': 94800, 'amount_min': 69600, 'amount_avg': 82800.0}\n",
      "{'Region': 'USA', 'amount_sum': 243800, 'amount_max': 99600, 'amount_min': 64800, 'amount_avg': 81266.66666666667}\n"
     ]
    }
   ],
   "source": [
    "result = browser.aggregate(drilldown=[\"Region\"], aggregates=['amount_sum','amount_max','amount_min','amount_avg'])\n",
    "\n",
    "for record in result:\n",
    "    print(record)"
   ]
  },
  {
   "cell_type": "code",
   "execution_count": 8,
   "metadata": {},
   "outputs": [
    {
     "name": "stdout",
     "output_type": "stream",
     "text": [
      "{'Age': 32, 'amount_sum': 57600, 'amount_max': 57600, 'amount_min': 57600, 'amount_avg': 57600.0}\n",
      "{'Age': 35, 'amount_sum': 64800, 'amount_max': 64800, 'amount_min': 64800, 'amount_avg': 64800.0}\n",
      "{'Age': 40, 'amount_sum': 69600, 'amount_max': 69600, 'amount_min': 69600, 'amount_avg': 69600.0}\n",
      "{'Age': 42, 'amount_sum': 80400, 'amount_max': 80400, 'amount_min': 80400, 'amount_avg': 80400.0}\n",
      "{'Age': 43, 'amount_sum': 73200, 'amount_max': 73200, 'amount_min': 73200, 'amount_avg': 73200.0}\n",
      "{'Age': 45, 'amount_sum': 79400, 'amount_max': 79400, 'amount_min': 79400, 'amount_avg': 79400.0}\n",
      "{'Age': 46, 'amount_sum': 62400, 'amount_max': 62400, 'amount_min': 62400, 'amount_avg': 62400.0}\n",
      "{'Age': 49, 'amount_sum': 86400, 'amount_max': 86400, 'amount_min': 86400, 'amount_avg': 86400.0}\n",
      "{'Age': 53, 'amount_sum': 94800, 'amount_max': 94800, 'amount_min': 94800, 'amount_avg': 94800.0}\n",
      "{'Age': 55, 'amount_sum': 99600, 'amount_max': 99600, 'amount_min': 99600, 'amount_avg': 99600.0}\n"
     ]
    }
   ],
   "source": [
    "result = browser.aggregate(drilldown=[\"Age\"], aggregates=['amount_sum','amount_max','amount_min','amount_avg'])\n",
    "\n",
    "for record in result:\n",
    "    print(record)"
   ]
  },
  {
   "cell_type": "code",
   "execution_count": 9,
   "metadata": {},
   "outputs": [
    {
     "name": "stdout",
     "output_type": "stream",
     "text": [
      "{'Online_Shopper': 'No', 'amount_sum': 386400, 'amount_max': 99600, 'amount_min': 62400, 'amount_avg': 77280.0}\n",
      "{'Online_Shopper': 'Yes', 'amount_sum': 381800, 'amount_max': 94800, 'amount_min': 57600, 'amount_avg': 76360.0}\n"
     ]
    }
   ],
   "source": [
    "result = browser.aggregate(drilldown=[\"Online_Shopper\"], aggregates=['amount_sum','amount_max','amount_min','amount_avg'])\n",
    "\n",
    "for record in result:\n",
    "    print(record)"
   ]
  },
  {
   "cell_type": "code",
   "execution_count": 15,
   "metadata": {},
   "outputs": [
    {
     "name": "stdout",
     "output_type": "stream",
     "text": [
      "Total Sum: 768200\n",
      "Max: 99600\n",
      "Min: 57600\n",
      "Average: 76820.0\n"
     ]
    }
   ],
   "source": [
    "result = browser.aggregate()\n",
    "print('Total Sum:' ,result.summary['amount_sum'])\n",
    "print('Max:' ,result.summary['amount_max'])\n",
    "print('Min:' ,result.summary['amount_min'])\n",
    "print('Average:' ,result.summary['amount_avg'])"
   ]
  },
  {
   "cell_type": "code",
   "execution_count": 22,
   "metadata": {},
   "outputs": [
    {
     "name": "stdout",
     "output_type": "stream",
     "text": [
      "{'Age': 40, 'amount_sum': 69600, 'amount_max': 69600, 'amount_min': 69600, 'amount_avg': 69600.0}\n",
      "{'Age': 42, 'amount_sum': 80400, 'amount_max': 80400, 'amount_min': 80400, 'amount_avg': 80400.0}\n",
      "{'Age': 43, 'amount_sum': 73200, 'amount_max': 73200, 'amount_min': 73200, 'amount_avg': 73200.0}\n",
      "{'Age': 45, 'amount_sum': 79400, 'amount_max': 79400, 'amount_min': 79400, 'amount_avg': 79400.0}\n",
      "{'Age': 46, 'amount_sum': 62400, 'amount_max': 62400, 'amount_min': 62400, 'amount_avg': 62400.0}\n",
      "{'Age': 49, 'amount_sum': 86400, 'amount_max': 86400, 'amount_min': 86400, 'amount_avg': 86400.0}\n"
     ]
    }
   ],
   "source": [
    "\n",
    "cuts = [ cubes.RangeCut(\"Age\", [40], [50] ) ]\n",
    "cell = cubes.Cell(cube, cuts)\n",
    "result = browser.aggregate(cell,drilldown=[\"Age\"], aggregates=['amount_sum','amount_max','amount_min','amount_avg'])\n",
    "\n",
    "for record in result:\n",
    "    print(record)\n",
    "\n",
    "\n"
   ]
  },
  {
   "cell_type": "markdown",
   "metadata": {},
   "source": [
    "## Part 2"
   ]
  },
  {
   "cell_type": "markdown",
   "metadata": {},
   "source": [
    "#### 1. Consider a dataset $\\mathcal{D}$ that contains only two observations $\\mathbf{x}_{1} = (1, 1)$ and $\\mathbf{x}_2 = (-1, -1)$. Suppose that the class of the first observation is $y_1 = 0$ and that the class of the second observation is $y_2 = 1$. How would a 1-nearest neighbour classifier based on the Euclidean distance classify the observation $\\mathbf{x} = (2, 3)$? What are the distances between this new observation and each observation in the dataset?"
   ]
  },
  {
   "cell_type": "code",
   "execution_count": 20,
   "metadata": {},
   "outputs": [],
   "source": [
    "import numpy as np\n",
    "\n",
    "a = (1,1) \n",
    "b = (-1,-1)\n",
    "\n",
    "\n",
    "\n",
    "y = (0,1)\n",
    "\n",
    "label = y"
   ]
  },
  {
   "cell_type": "code",
   "execution_count": 29,
   "metadata": {},
   "outputs": [],
   "source": [
    "features = [a,b]\n"
   ]
  },
  {
   "cell_type": "code",
   "execution_count": 30,
   "metadata": {},
   "outputs": [],
   "source": [
    "from sklearn.neighbors import KNeighborsClassifier\n",
    "\n",
    "knn = KNeighborsClassifier(n_neighbors=1)"
   ]
  },
  {
   "cell_type": "code",
   "execution_count": 31,
   "metadata": {},
   "outputs": [
    {
     "data": {
      "text/plain": [
       "[[1, 1], [-1, -1]]"
      ]
     },
     "execution_count": 31,
     "metadata": {},
     "output_type": "execute_result"
    }
   ],
   "source": [
    "features"
   ]
  },
  {
   "cell_type": "code",
   "execution_count": 33,
   "metadata": {},
   "outputs": [
    {
     "data": {
      "text/plain": [
       "KNeighborsClassifier(n_neighbors=1)"
      ]
     },
     "execution_count": 33,
     "metadata": {},
     "output_type": "execute_result"
    }
   ],
   "source": [
    "knn.fit(features,label)\n"
   ]
  },
  {
   "cell_type": "code",
   "execution_count": 34,
   "metadata": {},
   "outputs": [
    {
     "name": "stdout",
     "output_type": "stream",
     "text": [
      "[0]\n"
     ]
    }
   ],
   "source": [
    "predicted= knn.predict([[2,3]]) # 0:Overcast, 2:Mild\n",
    "print(predicted)"
   ]
  },
  {
   "cell_type": "code",
   "execution_count": 35,
   "metadata": {},
   "outputs": [],
   "source": [
    "from math import sqrt\n"
   ]
  },
  {
   "cell_type": "code",
   "execution_count": 36,
   "metadata": {},
   "outputs": [],
   "source": [
    "def euclidean_distance(row1, row2):\n",
    "    distance = 0.0\n",
    "    for i in range(len(row1)):\n",
    "        distance += (row1[i] - row2[i])**2\n",
    "    return sqrt(distance)"
   ]
  },
  {
   "cell_type": "code",
   "execution_count": 38,
   "metadata": {},
   "outputs": [
    {
     "name": "stdout",
     "output_type": "stream",
     "text": [
      "2.23606797749979\n",
      "5.0\n"
     ]
    }
   ],
   "source": [
    "new = (2,3)\n",
    "for row in features:\n",
    "    distance = euclidean_distance(new, row)\n",
    "    print(distance)"
   ]
  },
  {
   "cell_type": "markdown",
   "metadata": {},
   "source": [
    "#### 2. Consider a dataset $\\mathcal{D}$ that only contains observations of two different classes. Explain why a $k$-nearest neighbour classifier does not need a tie-breaking policy when $k$ is odd."
   ]
  },
  {
   "cell_type": "markdown",
   "metadata": {},
   "source": [
    "The k, in the KNN algorithm, represent the number of closest neighbors that you are comparing, no matter if you have 2 or n classes, if you choose an even k, there is a risk of a tie in the decision of which class you should set a new instance. This is why the k is usually odd - no ties.\n",
    "\n",
    "For example\n",
    "\n",
    "In KNN, K is the number of nearest neighbors. The number of neighbors is the main deciding factor thats why K is generally an odd number. We suppose P1 is the point, for which label needs to predict. First, you find the k closest point to P1 and then classify points by majority vote of its k neighbors. Each object votes for their class and the class with the most votes is taken as the prediction.\n"
   ]
  },
  {
   "cell_type": "markdown",
   "metadata": {},
   "source": [
    "#### 3. Explain why a classifier that obtains an accuracy of $99.9\\%$ can be terrible for some datasets."
   ]
  },
  {
   "cell_type": "markdown",
   "metadata": {},
   "source": [
    "Classification Accuracy\n",
    "\n",
    "\n",
    "\"Classification accuracy is our starting point. It is the number of correct predictions made divided by the total number of predictions made, multiplied by 100 to turn it into a percentage\".\n",
    "\n",
    "\n",
    "for example in the breast cancer dataset a model is that only predicts no recurrence of breast cancer would achieve an accuracy of (2001/286)x100 or 70.28%. this accuracy is high but the model is terrible because it will incorrectly inform doctors that 85 women who have cancer dont have it resulting in a case of high negatives. \n",
    "\n"
   ]
  },
  {
   "cell_type": "markdown",
   "metadata": {},
   "source": [
    "#### 4. Consider a classifier tasked with predicting whether an observation belongs to class $y$ (positive class). Suppose that this classifier has precision $1.0$ and recall $0.1$ on a test dataset. If this classifier predicts that an observation does not belong to class $y$, should it be trusted? Should it be trusted if it predicts that the observation belongs to class $y$?"
   ]
  },
  {
   "cell_type": "code",
   "execution_count": null,
   "metadata": {},
   "outputs": [],
   "source": [
    "precision = 1.0 # high precision = perfect precision\n",
    "\n",
    "recall = 0.1 # low recall "
   ]
  },
  {
   "cell_type": "markdown",
   "metadata": {},
   "source": [
    "\"Precision-Recall is a useful measure of success of prediction when the classes are very imbalanced. In information retrieval, precision is a measure of result relevancy, while recall is a measure of how many truly relevant results are returned\".\n",
    "\n",
    "\n",
    "Precision can be thought of as a measure of a classifiers exactness. A low precision can also indicate a large number of False Positives, where high precision indicates a low False positive rate\n",
    "\n",
    "\n",
    "Recall can be thought of as a measure of a classifiers completeness. A low recall indicates many False Negatives, and high recall relates to a low false negative rate.\n",
    "\n",
    "\n",
    "A system with high recall but low precision returns many results, but most of its predicted labels are incorrect when compared to the training labels. \n",
    "\n",
    "A system with high precision but low recall is just the opposite, returning very few results, but most of its predicted labels are correct when compared to the training labels. \n",
    "\n",
    "\n",
    "In this question there is a high precision but low recall, which make the classifier alot picky in predicting the positive class which results in a high false negatives meaning that it misses a high number of actual positive class. As a result it cannot be trusted with predicting whether an observation belongs to class  𝑦 or not.\n",
    "\n",
    "\n",
    "\n",
    "\n",
    "\n"
   ]
  },
  {
   "cell_type": "markdown",
   "metadata": {},
   "source": [
    "#### 5. What is the pair of classes that is most confusing for the $1$-nearest neighbour classifier trained in the previous sections?"
   ]
  },
  {
   "cell_type": "code",
   "execution_count": 40,
   "metadata": {},
   "outputs": [],
   "source": [
    "# Configuring the appearance of ``seaborn`` graphics in this notebook\n",
    "%config InlineBackend.figure_formats = set(['retina'])\n",
    "\n",
    "import gzip\n",
    "import pickle\n",
    "\n",
    "import numpy as np\n",
    "import pandas as pd\n",
    "import matplotlib.pyplot as plt\n",
    "import seaborn as sns\n",
    "sns.set_style('darkgrid')\n",
    "\n",
    "# Selecting the training data from the original dataset\n",
    "f = gzip.open('data/mnist.pkl.gz', 'rb')\n",
    "X, y = pickle.load(f, encoding='latin1')[0]\n",
    "f.close()\n",
    "\n",
    "# Subsampling\n",
    "sample_size = 2000\n",
    "X, y = X[:sample_size], y[:sample_size]\n",
    "\n",
    "#i = 1520 #change i to any number to see the chnages\n",
    "#plt.imshow(X[i].reshape(28, 28), cmap=plt.cm.gray_r, interpolation='nearest')\n",
    "#plt.show()\n",
    "#print('Observation index: {0}. Class: {1}.'.format(i, y[i]))"
   ]
  },
  {
   "cell_type": "code",
   "execution_count": 42,
   "metadata": {},
   "outputs": [],
   "source": [
    "from sklearn.model_selection import train_test_split\n",
    "\n",
    "X_train, X_test, y_train, y_test = train_test_split(X, y, test_size=0.2, random_state=0)"
   ]
  },
  {
   "cell_type": "code",
   "execution_count": 48,
   "metadata": {},
   "outputs": [
    {
     "name": "stdout",
     "output_type": "stream",
     "text": [
      "Best hyperparameter setting: KNeighborsClassifier(n_neighbors=1).\n",
      "Average accuracy across folds of best hyperparameter setting: 0.899375.\n",
      "Test dataset accuracy of best hyperparameter setting: 0.8925.\n"
     ]
    }
   ],
   "source": [
    "from sklearn.model_selection import GridSearchCV\n",
    "\n",
    "parameters = {'n_neighbors': [1, 3, 5, 7, 9, 10]}\n",
    "\n",
    "knn = KNeighborsClassifier()\n",
    "knn_cv = GridSearchCV(knn, parameters, cv=5)\n",
    "knn_cv.fit(X_train, y_train)\n",
    "\n",
    "print('Best hyperparameter setting: {0}.'.format(knn_cv.best_estimator_))\n",
    "print('Average accuracy across folds of best hyperparameter setting: {0}.'.format(knn_cv.best_score_))\n",
    "print('Test dataset accuracy of best hyperparameter setting: {0}.'.format(knn_cv.score(X_test, y_test)))"
   ]
  },
  {
   "cell_type": "code",
   "execution_count": 50,
   "metadata": {},
   "outputs": [
    {
     "name": "stdout",
     "output_type": "stream",
     "text": [
      "Precision for each class:\n",
      " [1.         0.8        0.975      0.975      0.85106383 0.82051282\n",
      " 0.95121951 0.89473684 0.87096774 0.80555556].\n",
      "Recall for each class: \n",
      "[0.97435897 1.         0.84782609 0.88636364 0.85106383 0.88888889\n",
      " 0.92857143 0.87179487 0.84375    0.82857143].\n",
      "\n",
      "Confusion matrix:\n"
     ]
    },
    {
     "data": {
      "text/html": [
       "<div>\n",
       "<style scoped>\n",
       "    .dataframe tbody tr th:only-of-type {\n",
       "        vertical-align: middle;\n",
       "    }\n",
       "\n",
       "    .dataframe tbody tr th {\n",
       "        vertical-align: top;\n",
       "    }\n",
       "\n",
       "    .dataframe thead th {\n",
       "        text-align: right;\n",
       "    }\n",
       "</style>\n",
       "<table border=\"1\" class=\"dataframe\">\n",
       "  <thead>\n",
       "    <tr style=\"text-align: right;\">\n",
       "      <th></th>\n",
       "      <th>0</th>\n",
       "      <th>1</th>\n",
       "      <th>2</th>\n",
       "      <th>3</th>\n",
       "      <th>4</th>\n",
       "      <th>5</th>\n",
       "      <th>6</th>\n",
       "      <th>7</th>\n",
       "      <th>8</th>\n",
       "      <th>9</th>\n",
       "    </tr>\n",
       "  </thead>\n",
       "  <tbody>\n",
       "    <tr>\n",
       "      <th>0</th>\n",
       "      <td>38</td>\n",
       "      <td>0</td>\n",
       "      <td>0</td>\n",
       "      <td>0</td>\n",
       "      <td>0</td>\n",
       "      <td>0</td>\n",
       "      <td>1</td>\n",
       "      <td>0</td>\n",
       "      <td>0</td>\n",
       "      <td>0</td>\n",
       "    </tr>\n",
       "    <tr>\n",
       "      <th>1</th>\n",
       "      <td>0</td>\n",
       "      <td>40</td>\n",
       "      <td>0</td>\n",
       "      <td>0</td>\n",
       "      <td>0</td>\n",
       "      <td>0</td>\n",
       "      <td>0</td>\n",
       "      <td>0</td>\n",
       "      <td>0</td>\n",
       "      <td>0</td>\n",
       "    </tr>\n",
       "    <tr>\n",
       "      <th>2</th>\n",
       "      <td>0</td>\n",
       "      <td>3</td>\n",
       "      <td>39</td>\n",
       "      <td>0</td>\n",
       "      <td>0</td>\n",
       "      <td>2</td>\n",
       "      <td>0</td>\n",
       "      <td>1</td>\n",
       "      <td>1</td>\n",
       "      <td>0</td>\n",
       "    </tr>\n",
       "    <tr>\n",
       "      <th>3</th>\n",
       "      <td>0</td>\n",
       "      <td>1</td>\n",
       "      <td>1</td>\n",
       "      <td>39</td>\n",
       "      <td>0</td>\n",
       "      <td>1</td>\n",
       "      <td>0</td>\n",
       "      <td>1</td>\n",
       "      <td>0</td>\n",
       "      <td>1</td>\n",
       "    </tr>\n",
       "    <tr>\n",
       "      <th>4</th>\n",
       "      <td>0</td>\n",
       "      <td>3</td>\n",
       "      <td>0</td>\n",
       "      <td>0</td>\n",
       "      <td>40</td>\n",
       "      <td>0</td>\n",
       "      <td>0</td>\n",
       "      <td>1</td>\n",
       "      <td>0</td>\n",
       "      <td>3</td>\n",
       "    </tr>\n",
       "    <tr>\n",
       "      <th>5</th>\n",
       "      <td>0</td>\n",
       "      <td>0</td>\n",
       "      <td>0</td>\n",
       "      <td>1</td>\n",
       "      <td>0</td>\n",
       "      <td>32</td>\n",
       "      <td>1</td>\n",
       "      <td>0</td>\n",
       "      <td>2</td>\n",
       "      <td>0</td>\n",
       "    </tr>\n",
       "    <tr>\n",
       "      <th>6</th>\n",
       "      <td>0</td>\n",
       "      <td>1</td>\n",
       "      <td>0</td>\n",
       "      <td>0</td>\n",
       "      <td>1</td>\n",
       "      <td>1</td>\n",
       "      <td>39</td>\n",
       "      <td>0</td>\n",
       "      <td>0</td>\n",
       "      <td>0</td>\n",
       "    </tr>\n",
       "    <tr>\n",
       "      <th>7</th>\n",
       "      <td>0</td>\n",
       "      <td>0</td>\n",
       "      <td>0</td>\n",
       "      <td>0</td>\n",
       "      <td>2</td>\n",
       "      <td>1</td>\n",
       "      <td>0</td>\n",
       "      <td>34</td>\n",
       "      <td>0</td>\n",
       "      <td>2</td>\n",
       "    </tr>\n",
       "    <tr>\n",
       "      <th>8</th>\n",
       "      <td>0</td>\n",
       "      <td>2</td>\n",
       "      <td>0</td>\n",
       "      <td>0</td>\n",
       "      <td>0</td>\n",
       "      <td>2</td>\n",
       "      <td>0</td>\n",
       "      <td>0</td>\n",
       "      <td>27</td>\n",
       "      <td>1</td>\n",
       "    </tr>\n",
       "    <tr>\n",
       "      <th>9</th>\n",
       "      <td>0</td>\n",
       "      <td>0</td>\n",
       "      <td>0</td>\n",
       "      <td>0</td>\n",
       "      <td>4</td>\n",
       "      <td>0</td>\n",
       "      <td>0</td>\n",
       "      <td>1</td>\n",
       "      <td>1</td>\n",
       "      <td>29</td>\n",
       "    </tr>\n",
       "  </tbody>\n",
       "</table>\n",
       "</div>"
      ],
      "text/plain": [
       "    0   1   2   3   4   5   6   7   8   9\n",
       "0  38   0   0   0   0   0   1   0   0   0\n",
       "1   0  40   0   0   0   0   0   0   0   0\n",
       "2   0   3  39   0   0   2   0   1   1   0\n",
       "3   0   1   1  39   0   1   0   1   0   1\n",
       "4   0   3   0   0  40   0   0   1   0   3\n",
       "5   0   0   0   1   0  32   1   0   2   0\n",
       "6   0   1   0   0   1   1  39   0   0   0\n",
       "7   0   0   0   0   2   1   0  34   0   2\n",
       "8   0   2   0   0   0   2   0   0  27   1\n",
       "9   0   0   0   0   4   0   0   1   1  29"
      ]
     },
     "metadata": {},
     "output_type": "display_data"
    }
   ],
   "source": [
    "from sklearn.metrics import precision_recall_fscore_support\n",
    "from sklearn.metrics import confusion_matrix\n",
    "\n",
    "y_pred = knn_cv.predict(X_test)\n",
    "\n",
    "precision, recall, _, _ = precision_recall_fscore_support(y_test, y_pred)\n",
    "print('Precision for each class:\\n {0}.'.format(precision))\n",
    "print('Recall for each class: \\n{0}.\\n'.format(recall))\n",
    "\n",
    "df = pd.DataFrame.from_records(confusion_matrix(y_test, y_pred))\n",
    "print('Confusion matrix:')\n",
    "display(df)"
   ]
  },
  {
   "cell_type": "code",
   "execution_count": 49,
   "metadata": {},
   "outputs": [
    {
     "data": {
      "image/png": "[encoded data removed]",
      "text/plain": [
       "<Figure size 432x288 with 1 Axes>"
      ]
     },
     "metadata": {
      "image/png": {
       "height": 261,
       "width": 261
      }
     },
     "output_type": "display_data"
    }
   ],
   "source": [
    "mat = confusion_matrix(y_test, y_pred)\n",
    "sns.heatmap(mat.T, square=True, annot=True, fmt='d', cbar=False)\n",
    "plt.xlabel('true label')\n",
    "plt.ylabel('predicted label');"
   ]
  },
  {
   "cell_type": "markdown",
   "metadata": {},
   "source": [
    "I used a heatmap on the confusion matrix to make more sense outof it and we can see the classifier is confused between the digit 9 and 4"
   ]
  },
  {
   "cell_type": "markdown",
   "metadata": {},
   "source": [
    "#### 6. Train a support vector machine classifier using the same training dataset used in the previous sections and compute its accuracy on the corresponding test dataset. You can use the default hyperparameters for the class ``SVC`` from ``sklearn.svm``. Show the code in the report."
   ]
  },
  {
   "cell_type": "code",
   "execution_count": 61,
   "metadata": {},
   "outputs": [],
   "source": [
    "from sklearn import svm\n",
    "\n",
    "\n",
    "f = gzip.open('data/mnist.pkl.gz', 'rb')\n",
    "X, y = pickle.load(f, encoding='latin1')[0]\n",
    "f.close()\n",
    "\n",
    "# Subsampling\n",
    "sample_size = 2000\n",
    "X, y = X[:sample_size], y[:sample_size]\n",
    "\n",
    "\n",
    "\n",
    "#####\n",
    "#X = [[0, 0], [1, 1]]\n",
    "#y = [0, 1]\n",
    "#clf = svm.SVC()\n",
    "#clf.fit(X, y)\n",
    "#SVC()\n",
    "\n",
    "\n",
    "#clf.predict([[2., 2.]])\n",
    "#array([1])"
   ]
  },
  {
   "cell_type": "code",
   "execution_count": 62,
   "metadata": {},
   "outputs": [],
   "source": [
    "X_train, X_test, y_train, y_test = train_test_split(X, y, test_size=0.2, random_state=0)"
   ]
  },
  {
   "cell_type": "code",
   "execution_count": 66,
   "metadata": {},
   "outputs": [],
   "source": [
    "#Create a svm Classifier\n",
    "clf = svm.SVC() # Linear Kernel\n",
    "\n",
    "#Train the model using the training sets\n",
    "clf.fit(X_train, y_train)\n",
    "\n",
    "#Predict the response for test dataset\n",
    "y_pred = clf.predict(X_test)"
   ]
  },
  {
   "cell_type": "code",
   "execution_count": 67,
   "metadata": {},
   "outputs": [
    {
     "name": "stdout",
     "output_type": "stream",
     "text": [
      "Accuracy: 0.9275\n"
     ]
    }
   ],
   "source": [
    "from sklearn import metrics\n",
    "\n",
    "\n",
    "# Model Accuracy: how often is the classifier correct?\n",
    "print(\"Accuracy:\",metrics.accuracy_score(y_test, y_pred))"
   ]
  },
  {
   "cell_type": "code",
   "execution_count": 73,
   "metadata": {},
   "outputs": [
    {
     "name": "stdout",
     "output_type": "stream",
     "text": [
      "Precision: 0.9307657388657347\n"
     ]
    }
   ],
   "source": [
    "# Model Precision: what percentage of positive tuples are labeled as such?\n",
    "print(\"Precision:\",metrics.precision_score(y_test, y_pred,average='macro'))"
   ]
  },
  {
   "cell_type": "code",
   "execution_count": 74,
   "metadata": {},
   "outputs": [
    {
     "name": "stdout",
     "output_type": "stream",
     "text": [
      "Recall: 0.9264008135712576\n"
     ]
    }
   ],
   "source": [
    "\n",
    "# Model Recall: what percentage of positive tuples are labelled as such?\n",
    "print(\"Recall:\",metrics.recall_score(y_test, y_pred, average='macro'))"
   ]
  },
  {
   "cell_type": "markdown",
   "metadata": {},
   "source": [
    "#### 7. Using the same training dataset used in the previous sections, employ ``GridSearchCV`` to find the best hyperparameter settings based on 5-fold cross-validation for a ``RandomForestClassifier``. Consider ``n_estimators`` $ \\in \\{ 50, 100, 200\\}$ and ``max_features`` $ \\in \\{0.1, 0.25\\}$. Use the default values for the remaining hyperparameters. Compute the accuracy of the best model on the corresponding test dataset. Show the code in the report."
   ]
  },
  {
   "cell_type": "code",
   "execution_count": 85,
   "metadata": {},
   "outputs": [],
   "source": [
    "from sklearn.ensemble import RandomForestClassifier\n",
    "\n",
    "f = gzip.open('data/mnist.pkl.gz', 'rb')\n",
    "X, y = pickle.load(f, encoding='latin1')[0]\n",
    "f.close()\n",
    "\n",
    "# Subsampling\n",
    "sample_size = 2000\n",
    "X, y = X[:sample_size], y[:sample_size]\n"
   ]
  },
  {
   "cell_type": "code",
   "execution_count": 86,
   "metadata": {},
   "outputs": [],
   "source": [
    "X_train, X_test, y_train, y_test = train_test_split(X, y, test_size=0.2, random_state=0)\n"
   ]
  },
  {
   "cell_type": "code",
   "execution_count": 87,
   "metadata": {},
   "outputs": [
    {
     "data": {
      "text/plain": [
       "GridSearchCV(cv=5, estimator=RandomForestClassifier(),\n",
       "             param_grid={'max_features': [0.1, 0.25],\n",
       "                         'n_estimators': [50, 100, 200]})"
      ]
     },
     "execution_count": 87,
     "metadata": {},
     "output_type": "execute_result"
    }
   ],
   "source": [
    "param_grid = {\n",
    "    'max_features': [0.1, 0.25],\n",
    "    'n_estimators': [50, 100, 200]\n",
    "}\n",
    "\n",
    "\n",
    "rfc = RandomForestClassifier()\n",
    "\n",
    "rfc_cv = GridSearchCV(rfc, param_grid, cv=5)\n",
    "#rfc_cv = GridSearchCV(estimator = rf, param_grid = param_grid, cv = 5)\n",
    "\n",
    "rfc_cv.fit(X_train, y_train)"
   ]
  },
  {
   "cell_type": "code",
   "execution_count": 90,
   "metadata": {},
   "outputs": [
    {
     "name": "stdout",
     "output_type": "stream",
     "text": [
      "Best hyperparameter setting: RandomForestClassifier(max_features=0.1, n_estimators=200).\n",
      "Average accuracy across folds of best hyperparameter setting: 0.9137500000000001.\n",
      "Test dataset accuracy of best hyperparameter setting: 0.915.\n"
     ]
    }
   ],
   "source": [
    "print('Best hyperparameter setting: {0}.'.format(rfc_cv.best_estimator_))\n",
    "print('Average accuracy across folds of best hyperparameter setting: {0}.'.format(rfc_cv.best_score_))\n",
    "print('Test dataset accuracy of best hyperparameter setting: {0}.'.format(rfc_cv.score(X_test, y_test)))"
   ]
  },
  {
   "cell_type": "markdown",
   "metadata": {},
   "source": [
    "#### 8. The function ``kmeans_update`` presented below is part of an implementation of the k-means clustering algorithm. The variable ``X`` is a matrix (numpy array) where each row corresponds to an observation. Explain in detail each line of this function. You can refer to each (non-empty) line by a number between 1 and 6. \n",
    "\n",
    "```python\n",
    "def kmeans_update(X, cluster_centers): # we pass the variable X to the function which contains matrix of the observations and we pass the variable cluster_centers which contains a list of randomly chosen cluster centers. \n",
    "    \n",
    "    y_pred = np.argmin(cdist(X, cluster_centers), axis=1) #y_pred is an array that contains all the indices of the distances between observations and thier nearest cluster centre\n",
    "        \n",
    "    next_cluster_centers = np.zeros(cluster_centers.shape) # initializing next_cluster_centers variable with a matrix of zeros\n",
    "    \n",
    "    for i in range(len(next_cluster_centers)): # loop through every new cluster\n",
    "        next_cluster_centers[i] = X[y_pred == i].mean(axis=0) # computes the new centroid mean for each cluster, these new cluster centres will be used again if the centroids havn't converged   \n",
    "        \n",
    "    return y_pred, next_cluster_centers # returns the new cluster centre and an array of indices that point to the distance of an observation and its nearest cluster \n",
    "```"
   ]
  },
  {
   "cell_type": "code",
   "execution_count": null,
   "metadata": {},
   "outputs": [],
   "source": []
  }
 ],
 "metadata": {
  "kernelspec": {
   "display_name": "Python 3",
   "language": "python",
   "name": "python3"
  },
  "language_info": {
   "codemirror_mode": {
    "name": "ipython",
    "version": 3
   },
   "file_extension": ".py",
   "mimetype": "text/x-python",
   "name": "python",
   "nbconvert_exporter": "python",
   "pygments_lexer": "ipython3",
   "version": "3.8.5"
  }
 },
 "nbformat": 4,
 "nbformat_minor": 4
}
