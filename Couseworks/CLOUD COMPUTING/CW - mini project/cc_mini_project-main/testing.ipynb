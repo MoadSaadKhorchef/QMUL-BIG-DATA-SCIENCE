{
 "cells": [
  {
   "cell_type": "code",
   "execution_count": 1,
   "metadata": {},
   "outputs": [],
   "source": [
    "import arrow\n",
    "import requests\n",
    "\n",
    "# Get first hour of today\n",
    "start = arrow.utcnow()\n",
    "\n",
    "# Get last hour of today\n",
    "end = arrow.utcnow().shift(hours=5)\n",
    "\n",
    "response = requests.get(\n",
    "  'https://api.stormglass.io/v2/weather/point',\n",
    "  params={\n",
    "    'lat': 50.8225,\n",
    "    'lng': 0.1372,\n",
    "    'params': ','.join(['waveHeight', 'airTemperature','gust','cloudCover','precipitation']),\n",
    "    'start': start.timestamp(),  # Convert to UTC timestamp\n",
    "    'end': end.timestamp()  # Convert to UTC timestamp\n",
    "  },\n",
    "  headers={\n",
    "    'Authorization': '9287cd42-8f13-11eb-a978-0242ac130002-9287cdb0-8f13-11eb-a978-0242ac130002'\n",
    "  }\n",
    ")\n",
    "\n",
    "# Do something with response data.\n",
    "json_data = response.json()\n",
    "\n"
   ]
  },
  {
   "cell_type": "code",
   "execution_count": 2,
   "metadata": {},
   "outputs": [
    {
     "name": "stdout",
     "output_type": "stream",
     "text": [
      "{'hours': [{'airTemperature': {'dwd': 9.72, 'noaa': 8.06, 'sg': 9.72}, 'cloudCover': {'dwd': 100.0, 'noaa': 93.2, 'sg': 100.0}, 'gust': {'dwd': 8.14, 'noaa': 16.72, 'sg': 8.14}, 'precipitation': {'dwd': 0.0, 'noaa': 0.0, 'sg': 0.0}, 'time': '2021-03-28T21:00:00+00:00', 'waveHeight': {'dwd': 1.24, 'icon': 1.29, 'meteo': 1.56, 'noaa': 1.19, 'sg': 1.56}}, {'airTemperature': {'dwd': 9.61, 'noaa': 8.05, 'sg': 9.61}, 'cloudCover': {'dwd': 100.0, 'noaa': 94.0, 'sg': 100.0}, 'gust': {'dwd': 7.53, 'noaa': 16.36, 'sg': 7.53}, 'precipitation': {'dwd': 0.0, 'noaa': 0.0, 'sg': 0.0}, 'time': '2021-03-28T22:00:00+00:00', 'waveHeight': {'dwd': 1.15, 'icon': 1.23, 'meteo': 1.54, 'noaa': 1.14, 'sg': 1.54}}, {'airTemperature': {'dwd': 9.52, 'noaa': 8.03, 'sg': 9.52}, 'cloudCover': {'dwd': 100.0, 'noaa': 94.8, 'sg': 100.0}, 'gust': {'dwd': 7.53, 'noaa': 16.01, 'sg': 7.53}, 'precipitation': {'dwd': 0.0, 'noaa': 0.0, 'sg': 0.0}, 'time': '2021-03-28T23:00:00+00:00', 'waveHeight': {'dwd': 1.09, 'icon': 1.17, 'meteo': 1.51, 'noaa': 1.11, 'sg': 1.51}}, {'airTemperature': {'dwd': 9.32, 'noaa': 8.01, 'sg': 9.32}, 'cloudCover': {'dwd': 83.41, 'noaa': 95.6, 'sg': 83.41}, 'gust': {'dwd': 7.27, 'noaa': 15.65, 'sg': 7.27}, 'precipitation': {'dwd': 0.0, 'noaa': 0.0, 'sg': 0.0}, 'time': '2021-03-29T00:00:00+00:00', 'waveHeight': {'dwd': 1.05, 'icon': 1.11, 'meteo': 1.49, 'noaa': 1.1, 'sg': 1.49}}, {'airTemperature': {'dwd': 9.04, 'noaa': 7.86, 'sg': 9.04}, 'cloudCover': {'dwd': 80.93, 'noaa': 65.43, 'sg': 80.93}, 'gust': {'dwd': 7.12, 'noaa': 15.6, 'sg': 7.12}, 'precipitation': {'dwd': 0.0, 'noaa': 0.0, 'sg': 0.0}, 'time': '2021-03-29T01:00:00+00:00', 'waveHeight': {'dwd': 1.04, 'icon': 1.1, 'meteo': 1.48, 'noaa': 1.09, 'sg': 1.48}}, {'airTemperature': {'dwd': 8.91, 'noaa': 7.7, 'sg': 8.91}, 'cloudCover': {'dwd': 24.51, 'noaa': 35.27, 'sg': 24.51}, 'gust': {'dwd': 8.01, 'noaa': 15.55, 'sg': 8.01}, 'precipitation': {'dwd': 0.0, 'noaa': 0.0, 'sg': 0.0}, 'time': '2021-03-29T02:00:00+00:00', 'waveHeight': {'dwd': 1.05, 'icon': 1.1, 'meteo': 1.46, 'noaa': 1.1, 'sg': 1.46}}], 'meta': {'cost': 1, 'dailyQuota': 50, 'end': '2021-03-29 02:28', 'lat': 50.8225, 'lng': 0.1372, 'params': ['waveHeight', 'airTemperature', 'gust', 'cloudCover', 'precipitation'], 'requestCount': 6, 'start': '2021-03-28 21:00'}}\n"
     ]
    }
   ],
   "source": [
    "print(json_data)"
   ]
  },
  {
   "cell_type": "code",
   "execution_count": 16,
   "metadata": {},
   "outputs": [
    {
     "name": "stdout",
     "output_type": "stream",
     "text": [
      "9.72\n",
      "1.24\n",
      "8.14\n",
      "100.0\n",
      "0.0\n"
     ]
    }
   ],
   "source": [
    "print(json_data['hours'][0]['airTemperature']['dwd'])\n",
    "print(json_data['hours'][0]['waveHeight']['dwd'])\n",
    "print(json_data['hours'][0]['gust']['dwd'])\n",
    "print(json_data['hours'][0]['cloudCover']['dwd'])\n",
    "print(json_data['hours'][0]['precipitation']['dwd'])"
   ]
  },
  {
   "cell_type": "code",
   "execution_count": 32,
   "metadata": {},
   "outputs": [
    {
     "name": "stdout",
     "output_type": "stream",
     "text": [
      "Beach weather 0 hours from now:\n",
      "  Air temp:  9.72\n",
      "  Wave Height:  1.24\n",
      "  Gust:  8.14\n",
      "  Cloud Cover:  100.0\n",
      "  precipitation:  0.0\n",
      "\n",
      "\n",
      "Beach weather 1 hours from now:\n",
      "  Air temp:  9.61\n",
      "  Wave Height:  1.15\n",
      "  Gust:  7.53\n",
      "  Cloud Cover:  100.0\n",
      "  precipitation:  0.0\n",
      "\n",
      "\n",
      "Beach weather 2 hours from now:\n",
      "  Air temp:  9.52\n",
      "  Wave Height:  1.09\n",
      "  Gust:  7.53\n",
      "  Cloud Cover:  100.0\n",
      "  precipitation:  0.0\n",
      "\n",
      "\n",
      "Beach weather 3 hours from now:\n",
      "  Air temp:  9.32\n",
      "  Wave Height:  1.05\n",
      "  Gust:  7.27\n",
      "  Cloud Cover:  83.41\n",
      "  precipitation:  0.0\n",
      "\n",
      "\n",
      "Beach weather 4 hours from now:\n",
      "  Air temp:  9.04\n",
      "  Wave Height:  1.04\n",
      "  Gust:  7.12\n",
      "  Cloud Cover:  80.93\n",
      "  precipitation:  0.0\n",
      "\n",
      "\n",
      "Beach weather 5 hours from now:\n",
      "  Air temp:  8.91\n",
      "  Wave Height:  1.05\n",
      "  Gust:  8.01\n",
      "  Cloud Cover:  24.51\n",
      "  precipitation:  0.0\n",
      "\n",
      "\n"
     ]
    }
   ],
   "source": [
    "mylist1 = []\n",
    "mylist2 = []\n",
    "mylist3 = []\n",
    "mylist4 = []\n",
    "mylist5 = []\n",
    "\n",
    "for i in range(len(json_data['hours'])):\n",
    "    \n",
    "    print('Beach weather',i ,'hours from now:')\n",
    "    print('  Air temp: ' , json_data['hours'][i]['airTemperature']['dwd'])\n",
    "    print('  Wave Height: ' , json_data['hours'][i]['waveHeight']['dwd'])\n",
    "    print('  Gust: ' , json_data['hours'][i]['gust']['dwd'])\n",
    "    print('  Cloud Cover: ' , json_data['hours'][i]['cloudCover']['dwd'])\n",
    "    print('  precipitation: ' , json_data['hours'][i]['precipitation']['dwd'])\n",
    "    print('\\n')\n",
    "    \n",
    "    mylist1.append(json_data['hours'][i]['airTemperature']['dwd'])\n",
    "    mylist2.append(json_data['hours'][i]['waveHeight']['dwd'])\n",
    "    mylist3.append(json_data['hours'][i]['gust']['dwd'])\n",
    "    mylist4.append(json_data['hours'][i]['cloudCover']['dwd'])\n",
    "    mylist5.append(json_data['hours'][i]['precipitation']['dwd'])\n",
    "    "
   ]
  },
  {
   "cell_type": "code",
   "execution_count": 35,
   "metadata": {},
   "outputs": [
    {
     "name": "stdout",
     "output_type": "stream",
     "text": [
      "Beach weather in the next 5 hours from now:\n",
      "  Air temp Max:  9.72\n",
      "  Air temp Min:  8.91\n",
      "  Wave Height Max:  1.24\n",
      "  Wave Height Min:  1.04\n",
      "  Gust Max:  8.14\n",
      "  Gust Min:  7.12\n",
      "  Cloud Cover Max:  100.0\n",
      "  Cloud Cover Min:  24.51\n",
      "  Precipitation Max:  0.0\n",
      "  Precipitation Min:  0.0\n",
      "\n",
      "\n"
     ]
    }
   ],
   "source": [
    "print('Beach weather in the next',len(json_data['hours'])-1 ,'hours from now:')\n",
    "print('  Air temp Max: ' ,max(mylist1) )\n",
    "print('  Air temp Min: ' ,min(mylist1) )\n",
    "\n",
    "print('  Wave Height Max: ' ,max(mylist2) )\n",
    "print('  Wave Height Min: ' ,min(mylist2) )\n",
    "\n",
    "print('  Gust Max: ' , max(mylist3) )\n",
    "print('  Gust Min: ' , min(mylist3) )\n",
    "\n",
    "print('  Cloud Cover Max: ' , max(mylist4) )\n",
    "print('  Cloud Cover Min: ' , min(mylist4) )\n",
    "\n",
    "print('  Precipitation Max: ' , max(mylist5) )\n",
    "print('  Precipitation Min: ' , min(mylist5) )\n",
    "\n",
    "print('\\n')"
   ]
  },
  {
   "cell_type": "code",
   "execution_count": 39,
   "metadata": {},
   "outputs": [
    {
     "data": {
      "text/plain": [
       "'2021-03-28'"
      ]
     },
     "execution_count": 39,
     "metadata": {},
     "output_type": "execute_result"
    }
   ],
   "source": [
    "start.format('YYYY-MM-DD')"
   ]
  },
  {
   "cell_type": "code",
   "execution_count": 40,
   "metadata": {},
   "outputs": [
    {
     "name": "stdout",
     "output_type": "stream",
     "text": [
      "{'result': {'uv': 0, 'uv_time': '2021-03-28T00:00:00.000Z', 'uv_max': 3.366, 'uv_max_time': '2021-03-27T12:05:59.628Z', 'ozone': 364.8, 'ozone_time': '2021-03-29T00:04:04.803Z', 'safe_exposure_time': {'st1': None, 'st2': None, 'st3': None, 'st4': None, 'st5': None, 'st6': None}, 'sun_info': {'sun_times': {'solarNoon': '2021-03-27T12:05:59.628Z', 'nadir': '2021-03-27T00:05:59.628Z', 'sunrise': '2021-03-27T05:47:39.731Z', 'sunset': '2021-03-27T18:24:19.524Z', 'sunriseEnd': '2021-03-27T05:51:02.957Z', 'sunsetStart': '2021-03-27T18:20:56.298Z', 'dawn': '2021-03-27T05:14:34.229Z', 'dusk': '2021-03-27T18:57:25.026Z', 'nauticalDawn': '2021-03-27T04:35:05.491Z', 'nauticalDusk': '2021-03-27T19:36:53.765Z', 'nightEnd': '2021-03-27T03:53:28.644Z', 'night': '2021-03-27T20:18:30.611Z', 'goldenHourEnd': '2021-03-27T06:30:58.276Z', 'goldenHour': '2021-03-27T17:41:00.979Z'}, 'sun_position': {'azimuth': 3.1134217893090996, 'altitude': -0.6338961811489381}}}}\n"
     ]
    }
   ],
   "source": [
    "import requests\n",
    "\n",
    "def fetch_uv_data(lat=50.8225, lng=0.1372):\n",
    "    uv_url_template ='https://api.openuv.io/api/v1/uv?lat={lat}&lng={lng}&dt={data}'\n",
    "    my_latitude = lat\n",
    "    my_longitude = lng\n",
    "    my_date = start.format('YYYY-MM-DD')\n",
    "    headers = {'x-access-token': '10d1164b1d5b4a643fe25e8c86a93062'}\n",
    "\n",
    "    uv_url = uv_url_template.format(lat=my_latitude, lng=my_longitude, data=my_date)\n",
    "    resp = requests.get(uv_url, headers=headers)\n",
    "    \n",
    "    if resp.ok:\n",
    "        return resp.json()\n",
    "    else:\n",
    "        return resp.reason\n",
    "\n",
    "uv = fetch_uv_data()\n",
    "print(uv)"
   ]
  },
  {
   "cell_type": "code",
   "execution_count": 42,
   "metadata": {},
   "outputs": [
    {
     "name": "stdout",
     "output_type": "stream",
     "text": [
      "3.366\n"
     ]
    }
   ],
   "source": [
    "print(uv['result']['uv_max'])\n"
   ]
  },
  {
   "cell_type": "markdown",
   "metadata": {},
   "source": [
    "###  testing output"
   ]
  },
  {
   "cell_type": "code",
   "execution_count": 43,
   "metadata": {},
   "outputs": [
    {
     "name": "stdout",
     "output_type": "stream",
     "text": [
      "Beach weather in the next 5 hours from now:\n",
      "  Air temp Max:  9.72\n",
      "  Air temp Min:  8.91\n",
      "  Wave Height Max:  1.24\n",
      "  Wave Height Min:  1.04\n",
      "  Gust Max:  8.14\n",
      "  Gust Min:  7.12\n",
      "  Cloud Cover Max:  100.0\n",
      "  Cloud Cover Min:  24.51\n",
      "  Precipitation Max:  0.0\n",
      "  Precipitation Min:  0.0\n",
      "  UV Max:  3.366\n",
      "\n",
      "\n"
     ]
    }
   ],
   "source": [
    "print('Beach weather in the next',len(json_data['hours'])-1 ,'hours from now:')\n",
    "print('  Air temp Max: ' ,max(mylist1) )\n",
    "print('  Air temp Min: ' ,min(mylist1) )\n",
    "\n",
    "print('  Wave Height Max: ' ,max(mylist2) )\n",
    "print('  Wave Height Min: ' ,min(mylist2) )\n",
    "\n",
    "print('  Gust Max: ' , max(mylist3) )\n",
    "print('  Gust Min: ' , min(mylist3) )\n",
    "\n",
    "print('  Cloud Cover Max: ' , max(mylist4) )\n",
    "print('  Cloud Cover Min: ' , min(mylist4) )\n",
    "\n",
    "print('  Precipitation Max: ' , max(mylist5) )\n",
    "print('  Precipitation Min: ' , min(mylist5) )\n",
    "\n",
    "print('  UV Max: ' ,uv['result']['uv_max'])\n",
    "\n",
    "\n",
    "print('\\n')"
   ]
  },
  {
   "cell_type": "markdown",
   "metadata": {},
   "source": [
    "## Final"
   ]
  },
  {
   "cell_type": "code",
   "execution_count": 44,
   "metadata": {},
   "outputs": [],
   "source": [
    "import arrow\n",
    "import requests\n",
    "import json\n",
    "\n",
    "\n",
    "def get_weather_data(lat, lng):\n",
    "    # Get first hour of today\n",
    "    start = arrow.utcnow()\n",
    "\n",
    "    # Get last hour of today\n",
    "    end = arrow.utcnow().shift(hours=5)\n",
    "\n",
    "    response = requests.get(\n",
    "      'https://api.stormglass.io/v2/weather/point',\n",
    "      params={\n",
    "        'lat': lat,\n",
    "        'lng': lng,\n",
    "        'params': ','.join(['waveHeight', 'airTemperature','gust','cloudCover','precipitation']),\n",
    "        'start': start.timestamp(),  # Convert to UTC timestamp\n",
    "        'end': end.timestamp()  # Convert to UTC timestamp\n",
    "      },\n",
    "      headers={\n",
    "        'Authorization': '9287cd42-8f13-11eb-a978-0242ac130002-9287cdb0-8f13-11eb-a978-0242ac130002'\n",
    "      }\n",
    "    )\n",
    "\n",
    "    # Do something with response data.\n",
    "    json_data = response.json()\n",
    "    return json_data\n",
    "\n",
    "\n",
    "def fetch_uv_data(lat, lng):\n",
    "    uv_url_template ='https://api.openuv.io/api/v1/uv?lat={lat}&lng={lng}&dt={data}'\n",
    "    my_latitude = lat\n",
    "    my_longitude = lng\n",
    "    my_longitude = lng\n",
    "    start = arrow.utcnow()\n",
    "    my_date = start.format('YYYY-MM-DD')\n",
    "    headers = {'x-access-token': '10d1164b1d5b4a643fe25e8c86a93062'}\n",
    "\n",
    "    uv_url = uv_url_template.format(lat=my_latitude, lng=my_longitude, data=my_date)\n",
    "    resp = requests.get(uv_url, headers=headers)\n",
    "    \n",
    "    if resp.ok:\n",
    "        return resp.json()\n",
    "    else:\n",
    "        return resp.reason\n",
    "    \n",
    "    \n",
    "def retirve_all_data(lat, lng)\n",
    "\n",
    "    uv = fetch_uv_data(lat, lng)\n",
    "    weather_data = get_weather_data(lat, lng)\n",
    "    \n",
    "    mylist1 = []\n",
    "    mylist2 = []\n",
    "    mylist3 = []\n",
    "    mylist4 = []\n",
    "    mylist5 = []\n",
    "\n",
    "    for i in range(len(json_data['hours'])):\n",
    "\n",
    "        mylist1.append(weather_data['hours'][i]['airTemperature']['dwd'])\n",
    "        mylist2.append(weather_data['hours'][i]['waveHeight']['dwd'])\n",
    "        mylist3.append(weather_data['hours'][i]['gust']['dwd'])\n",
    "        mylist4.append(weather_data['hours'][i]['cloudCover']['dwd'])\n",
    "        mylist5.append(weather_data['hours'][i]['precipitation']['dwd'])\n",
    "        \n",
    "    x= ' { \"Air_Temp_Max\":' + str(max(mylist1)) + ' , \"Air_Temp_Min\":' + str(min(mylist1)) + ' , \"Wave_Height_Max\": ' + str(max(mylist2) ) + ' , \"Wave_Height_Min\": ' + str(min(mylist2)) + ' , \"Gust_Max\": ' + str( max(mylist3) ) + ' , \"Gust_Min\": ' + str(min(mylist3) ) +' , \"Cloud_Cover_Max\": ' + str(max(mylist4) ) + ' , \"Cloud_Cover_Min\": ' + str( min(mylist4) ) + ' , \"Precipitation_Max\": ' + str( max(mylist5) ) +' , \"Precipitation_Min\": ' + str( min(mylist5) ) + ' , \"UV_Max\": ' + str(uv['result']['uv_max'])+'}'\n",
    " \n",
    "    # parse x:\n",
    "    y = json.loads(x)\n",
    "\n",
    "    # the result is a Python dictionary:\n",
    "    #print(y)\n",
    "\n",
    "    # retun databin JSON format\n",
    "    return y \n",
    "\n"
   ]
  },
  {
   "cell_type": "code",
   "execution_count": null,
   "metadata": {},
   "outputs": [],
   "source": []
  }
 ],
 "metadata": {
  "kernelspec": {
   "display_name": "Python 3",
   "language": "python",
   "name": "python3"
  },
  "language_info": {
   "codemirror_mode": {
    "name": "ipython",
    "version": 3
   },
   "file_extension": ".py",
   "mimetype": "text/x-python",
   "name": "python",
   "nbconvert_exporter": "python",
   "pygments_lexer": "ipython3",
   "version": "3.8.5"
  }
 },
 "nbformat": 4,
 "nbformat_minor": 4
}
