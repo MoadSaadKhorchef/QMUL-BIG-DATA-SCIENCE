{
  "nbformat": 4,
  "nbformat_minor": 0,
  "metadata": {
    "kernelspec": {
      "display_name": "Python 3",
      "language": "python",
      "name": "python3"
    },
    "language_info": {
      "codemirror_mode": {
        "name": "ipython",
        "version": 3
      },
      "file_extension": ".py",
      "mimetype": "text/x-python",
      "name": "python",
      "nbconvert_exporter": "python",
      "pygments_lexer": "ipython3",
      "version": "3.8.5"
    },
    "colab": {
      "name": "CIFAR10_VGG_Resnet.ipynb",
      "provenance": []
    },
    "accelerator": "GPU"
  },
  "cells": [
    {
      "cell_type": "code",
      "metadata": {
        "id": "pTVbLfh0NGhc"
      },
      "source": [
        "import torch\n",
        "from torch import nn\n",
        "import torch.nn.functional as F\n",
        "from torchvision import datasets, transforms\n",
        "\n",
        "import matplotlib.pyplot as plt\n",
        "import numpy as np\n",
        "import time\n",
        "import copy\n",
        "from collections import namedtuple\n",
        "import os\n",
        "import random\n",
        "import shutil\n",
        "\n",
        "from sklearn import decomposition\n",
        "from sklearn import manifold\n",
        "from sklearn.metrics import confusion_matrix\n",
        "from sklearn.metrics import ConfusionMatrixDisplay\n",
        "\n",
        "from __future__ import print_function\n",
        "import torch\n",
        "import torch.nn as nn\n",
        "import torch.nn.functional as F\n",
        "import torch.optim as optim\n",
        "from torchvision import datasets, transforms, models\n",
        "from torch.optim.lr_scheduler import StepLR, _LRScheduler\n"
      ],
      "execution_count": null,
      "outputs": []
    },
    {
      "cell_type": "code",
      "metadata": {
        "id": "NHJfzTq9NGhx",
        "colab": {
          "base_uri": "https://localhost:8080/"
        },
        "outputId": "cc185d48-8216-43a4-fcc4-6274d9eda770"
      },
      "source": [
        "# using pretrained means to normalize the dataset\n",
        "pretrained_means = [0.4914, 0.4822, 0.4465]\n",
        "pretrained_stds= [0.247, 0.243, 0.261]\n",
        "BATCH_SIZE = 128\n",
        "\n",
        "# define tranforms on the training set\n",
        "# include resizing and horizontal flip\n",
        "transform = transforms.Compose([transforms.Resize((32,32)),\n",
        "                                transforms.RandomHorizontalFlip(),\n",
        "                                transforms.ToTensor(),\n",
        "                                transforms.Normalize(mean = pretrained_means,\n",
        "                                                     std = pretrained_stds)])\n",
        "# load the data\n",
        "train = datasets.CIFAR10(root='./data', train=True, download=True, transform = transform)\n",
        "test = datasets.CIFAR10(root='./data', train=False, download=True, transform = transform)\n",
        "\n",
        "# percentage of the training data to be used in training\n",
        "TRAIN_VAL_RATIO = 0.90\n",
        "\n",
        "n_train_examples = int(len(train) * TRAIN_VAL_RATIO)\n",
        "n_valid_examples = len(train) - n_train_examples\n",
        "\n",
        "train, val = torch.utils.data.random_split(train, [n_train_examples, n_valid_examples])\n",
        "\n",
        "# applying the transform on validation set\n",
        "val = copy.deepcopy(val)\n",
        "val.dataset.transform = transform\n",
        "\n",
        "# defining appropriate dataloaders\n",
        "train_loader = torch.utils.data.DataLoader(train, batch_size=BATCH_SIZE, shuffle=True)\n",
        "val_loader = torch.utils.data.DataLoader(val, batch_size = BATCH_SIZE, shuffle = True)\n",
        "test_loader = torch.utils.data.DataLoader(test, batch_size = BATCH_SIZE, shuffle=False)\n"
      ],
      "execution_count": null,
      "outputs": [
        {
          "output_type": "stream",
          "text": [
            "Files already downloaded and verified\n",
            "Files already downloaded and verified\n"
          ],
          "name": "stdout"
        }
      ]
    },
    {
      "cell_type": "code",
      "metadata": {
        "id": "ZvNjnxR8ZbBm"
      },
      "source": [
        "def calculate_accuracy(y_pred, y):\n",
        "    '''get model accuracy'''\n",
        "    p = y_pred.argmax(1, keepdim = True)\n",
        "    acc = p.eq(y.view_as(p)).sum().float() / y.shape[0]\n",
        "    return acc\n",
        "\n",
        "def train(model, iterator, optimizer, criterion, device):\n",
        "    '''\n",
        "    function to be called for training and collect \n",
        "    model loss and model accuracy\n",
        "    and perform a training step\n",
        "\n",
        "    iterator: DataLoader Object\n",
        "    optimizer: Optimizer type\n",
        "    criterion: loss type\n",
        "    '''\n",
        "    epoch_loss = 0\n",
        "    epoch_acc = 0\n",
        "    \n",
        "    # set to training mode\n",
        "    model.train()\n",
        "    \n",
        "    for (x, y) in iterator:\n",
        "        \n",
        "        x = x.to(device)\n",
        "        y = y.to(device)\n",
        "        \n",
        "        optimizer.zero_grad()\n",
        "        y_pred = model(x)\n",
        "        \n",
        "        loss = criterion(y_pred, y)\n",
        "        \n",
        "        acc = calculate_accuracy(y_pred, y)\n",
        "        loss.backward()\n",
        "        optimizer.step()\n",
        "\n",
        "        # update loss and accuracy values\n",
        "        epoch_loss += loss.item()\n",
        "        epoch_acc += acc.item()\n",
        "        \n",
        "    return epoch_loss / len(iterator), epoch_acc / len(iterator)\n",
        "\n",
        "def evaluate(model, iterator, criterion, device):\n",
        "    '''\n",
        "    function to be called for evaluating and collect \n",
        "    model val loss and model val accuracy\n",
        "\n",
        "    iterator: DataLoader Object\n",
        "    optimizer: Optimizer type\n",
        "    criterion: loss type\n",
        "    '''\n",
        "    epoch_loss = 0\n",
        "    epoch_acc = 0\n",
        "    \n",
        "    # evaluation mode\n",
        "    model.eval()\n",
        "    \n",
        "    with torch.no_grad():\n",
        "        \n",
        "        for (x, y) in iterator:\n",
        "\n",
        "            x = x.to(device)\n",
        "            y = y.to(device)\n",
        "\n",
        "            y_pred = model(x)\n",
        "            loss = criterion(y_pred, y)\n",
        "            acc = calculate_accuracy(y_pred, y)\n",
        "            \n",
        "            epoch_loss += loss.item()\n",
        "            epoch_acc += acc.item()\n",
        "        \n",
        "    return epoch_loss / len(iterator), epoch_acc / len(iterator)\n",
        "\n",
        "\n",
        "def epoch_time(start_time, end_time):\n",
        "    elapsed_time = end_time - start_time\n",
        "    elapsed_mins = int(elapsed_time / 60)\n",
        "    elapsed_secs = int(elapsed_time - (elapsed_mins * 60))\n",
        "    return elapsed_mins, elapsed_secs"
      ],
      "execution_count": null,
      "outputs": []
    },
    {
      "cell_type": "code",
      "metadata": {
        "id": "WGYf6Hj-NGhy"
      },
      "source": [
        "class LRFinder:\n",
        "    def __init__(self, model, optimizer, criterion, device):\n",
        "        \n",
        "        self.optimizer = optimizer\n",
        "        self.model = model\n",
        "        self.criterion = criterion\n",
        "        self.device = device\n",
        "        \n",
        "        torch.save(model.state_dict(), 'init_params.pt')\n",
        "\n",
        "    def range_test(self, iterator, end_lr = 10, num_iter = 100, smooth_f = 0.05, diverge_th = 5):\n",
        "        \n",
        "        lrs = []\n",
        "        losses = []\n",
        "        best_loss = float('inf')\n",
        "\n",
        "        lr_scheduler = ExponentialLR(self.optimizer, end_lr, num_iter)\n",
        "        \n",
        "        iterator = IteratorWrapper(iterator)\n",
        "        \n",
        "        for iteration in range(num_iter):\n",
        "\n",
        "            loss = self._train_batch(iterator)\n",
        "\n",
        "            #update lr\n",
        "            lr_scheduler.step()\n",
        "            \n",
        "            lrs.append(lr_scheduler.get_lr()[0])\n",
        "\n",
        "            if iteration > 0:\n",
        "                loss = smooth_f * loss + (1 - smooth_f) * losses[-1]\n",
        "                \n",
        "            if loss < best_loss:\n",
        "                best_loss = loss\n",
        "\n",
        "            losses.append(loss)\n",
        "            \n",
        "            if loss > diverge_th * best_loss:\n",
        "                print(\"Stopping early, the loss has diverged\")\n",
        "                break\n",
        "                       \n",
        "        #reset model to initial parameters\n",
        "        model.load_state_dict(torch.load('init_params.pt'))\n",
        "                    \n",
        "        return lrs, losses\n",
        "\n",
        "    def _train_batch(self, iterator):\n",
        "        \n",
        "        self.model.train()\n",
        "        \n",
        "        self.optimizer.zero_grad()\n",
        "        \n",
        "        x, y = iterator.get_batch()\n",
        "        \n",
        "        x = x.to(self.device)\n",
        "        y = y.to(self.device)\n",
        "        \n",
        "        #y_pred, _ = self.model(x) original\n",
        "        y_pred = self.model(x)\n",
        "\n",
        "                \n",
        "        loss = self.criterion(y_pred, y)\n",
        "        \n",
        "        loss.backward()\n",
        "        \n",
        "        self.optimizer.step()\n",
        "        \n",
        "        return loss.item()\n",
        "\n",
        "class ExponentialLR(_LRScheduler):\n",
        "    def __init__(self, optimizer, end_lr, num_iter, last_epoch=-1):\n",
        "        self.end_lr = end_lr\n",
        "        self.num_iter = num_iter\n",
        "        super(ExponentialLR, self).__init__(optimizer, last_epoch)\n",
        "\n",
        "    def get_lr(self):\n",
        "        curr_iter = self.last_epoch + 1\n",
        "        r = curr_iter / self.num_iter\n",
        "        return [base_lr * (self.end_lr / base_lr) ** r for base_lr in self.base_lrs]\n",
        "\n",
        "class IteratorWrapper:\n",
        "    def __init__(self, iterator):\n",
        "        self.iterator = iterator\n",
        "        self._iterator = iter(iterator)\n",
        "\n",
        "    def __next__(self):\n",
        "        try:\n",
        "            inputs, labels = next(self._iterator)\n",
        "        except StopIteration:\n",
        "            self._iterator = iter(self.iterator)\n",
        "            inputs, labels, *_ = next(self._iterator)\n",
        "\n",
        "        return inputs, labels\n",
        "\n",
        "    def get_batch(self):\n",
        "        return next(self)"
      ],
      "execution_count": null,
      "outputs": []
    },
    {
      "cell_type": "code",
      "metadata": {
        "id": "OhY2jAiXNGhz"
      },
      "source": [
        "def plot_lr_finder(lrs, losses, skip_start = 5, skip_end = 5):\n",
        "    \n",
        "    if skip_end == 0:\n",
        "        lrs = lrs[skip_start:]\n",
        "        losses = losses[skip_start:]\n",
        "    else:\n",
        "        lrs = lrs[skip_start:-skip_end]\n",
        "        losses = losses[skip_start:-skip_end]\n",
        "    \n",
        "    fig = plt.figure(figsize = (16,8))\n",
        "    ax = fig.add_subplot(1,1,1)\n",
        "    ax.plot(lrs, losses)\n",
        "    ax.set_xscale('log')\n",
        "    ax.set_xlabel('Learning rate')\n",
        "    ax.set_ylabel('Loss')\n",
        "    ax.grid(True, 'both', 'x')\n",
        "    plt.show()"
      ],
      "execution_count": null,
      "outputs": []
    },
    {
      "cell_type": "code",
      "metadata": {
        "id": "WB6Wf6R3NGh0"
      },
      "source": [
        "def get_preds(model, iterator):\n",
        "\n",
        "    model.eval()\n",
        "\n",
        "    images = []\n",
        "    labels = []\n",
        "    probs = []\n",
        "\n",
        "    with torch.no_grad():\n",
        "\n",
        "        for (x, y) in iterator:\n",
        "\n",
        "            x = x.to(device)\n",
        "\n",
        "            y_pred = model(x)\n",
        "\n",
        "            y_prob = F.softmax(y_pred, dim = -1)\n",
        "            top_pred = y_prob.argmax(1, keepdim = True)\n",
        "\n",
        "            images.append(x.cpu())\n",
        "            labels.append(y.cpu())\n",
        "            probs.append(y_prob.cpu())\n",
        "\n",
        "    images = torch.cat(images, dim = 0)\n",
        "    labels = torch.cat(labels, dim = 0)\n",
        "    probs = torch.cat(probs, dim = 0)\n",
        "\n",
        "    return images, labels, probs"
      ],
      "execution_count": null,
      "outputs": []
    },
    {
      "cell_type": "code",
      "metadata": {
        "id": "GCZXnTXkNGh0"
      },
      "source": [
        "def plot_confusion_matrix(labels, pred_labels, classes):\n",
        "    \n",
        "    fig = plt.figure(figsize = (10, 10));\n",
        "    ax = fig.add_subplot(1, 1, 1);\n",
        "    cm = confusion_matrix(labels, pred_labels);\n",
        "    cm = ConfusionMatrixDisplay(cm, classes);\n",
        "    cm.plot(values_format = 'd', cmap = 'Blues', ax = ax)\n",
        "    plt.xticks(rotation = 20)"
      ],
      "execution_count": null,
      "outputs": []
    },
    {
      "cell_type": "code",
      "metadata": {
        "id": "ngBsGGFfNGh1"
      },
      "source": [
        "def labels_accuracy(y, y_pred):\n",
        "    crr = 0\n",
        "    for i in range(len(y)):\n",
        "        if y[i] == y_pred[i]:\n",
        "            crr += 1\n",
        "    return crr/len(y)"
      ],
      "execution_count": null,
      "outputs": []
    },
    {
      "cell_type": "code",
      "metadata": {
        "id": "oNdDgRBHNGh1"
      },
      "source": [
        "def normalize_image(image):\n",
        "    image_min = image.min()\n",
        "    image_max = image.max()\n",
        "    image.clamp_(min = image_min, max = image_max)\n",
        "    image.add_(-image_min).div_(image_max - image_min + 1e-5)\n",
        "    return image\n",
        "\n",
        "def plot_images(images, labels, classes, normalize = False):\n",
        "\n",
        "    n_images = len(images)\n",
        "\n",
        "    rows = int(np.sqrt(n_images))\n",
        "    cols = int(np.sqrt(n_images))\n",
        "\n",
        "    fig = plt.figure(figsize = (10, 10))\n",
        "\n",
        "    for i in range(rows*cols):\n",
        "\n",
        "        ax = fig.add_subplot(rows, cols, i+1)\n",
        "        \n",
        "        image = images[i]\n",
        "\n",
        "        if normalize:\n",
        "            image = normalize_image(image)\n",
        "\n",
        "        ax.imshow(image.permute(1, 2, 0).cpu().numpy())\n",
        "        ax.set_title(classes[labels[i]])\n",
        "        ax.axis('off')"
      ],
      "execution_count": null,
      "outputs": []
    },
    {
      "cell_type": "code",
      "metadata": {
        "id": "kP83y2Z4NGh2"
      },
      "source": [
        "def show_incorrect_preds(incorrect, classes, n_images, normalize = False):\n",
        "\n",
        "    rows = 1 \n",
        "    cols = n_images  \n",
        "\n",
        "    fig = plt.figure(figsize = (10, 10))\n",
        "    fig.tight_layout()\n",
        "    for i in range(cols):\n",
        "\n",
        "        ax = fig.add_subplot(rows, cols, i+1)\n",
        "        \n",
        "        image, true_label, probs = incorrect[i]\n",
        "        image = image[0]\n",
        "        true_prob = probs[true_label]\n",
        "        incorrect_prob, incorrect_label = torch.max(probs, dim = 0)\n",
        "        true_class = classes[true_label][0]\n",
        "        incorrect_class = classes[incorrect_label][0]\n",
        "\n",
        "        if normalize:\n",
        "            image = normalize_image(image)\n",
        "\n",
        "        ax.imshow(image.cpu().numpy())\n",
        "        ax.set_title(f'true class: {true_class}\\n' \\\n",
        "                     f'pred class: {incorrect_class}')\n",
        "        ax.axis('off')\n"
      ],
      "execution_count": null,
      "outputs": []
    },
    {
      "cell_type": "markdown",
      "metadata": {
        "id": "A63CFXWxNGh2"
      },
      "source": [
        "# VGG"
      ]
    },
    {
      "cell_type": "code",
      "metadata": {
        "id": "roYgAiN4NGh2"
      },
      "source": [
        "class VGG(nn.Module):\n",
        "    def __init__(self, features, output_dim):\n",
        "        super().__init__()\n",
        "        \n",
        "        self.features = features\n",
        "        \n",
        "        #self.avgpool = nn.AdaptiveAvgPool2d(7)\n",
        "        \n",
        "        self.classifier = nn.Sequential(\n",
        "            nn.Linear(512 , 128),\n",
        "            nn.ReLU(inplace = True),\n",
        "            nn.Dropout(0.2),\n",
        "            nn.Linear(128, 128),\n",
        "            nn.ReLU(inplace = True),\n",
        "            nn.Dropout(0.2),\n",
        "            nn.Linear(128, output_dim),\n",
        "        )\n",
        "\n",
        "    def forward(self, x):\n",
        "        x = self.features(x)\n",
        "        #x = self.avgpool(x)\n",
        "        h = x.view(x.shape[0], -1)\n",
        "        x = self.classifier(h)\n",
        "        return x#, h"
      ],
      "execution_count": null,
      "outputs": []
    },
    {
      "cell_type": "code",
      "metadata": {
        "id": "6rwnj81QNGh3"
      },
      "source": [
        "def get_vgg_layers(config, batch_norm):\n",
        "    \n",
        "    layers = []\n",
        "    in_channels = 3\n",
        "    \n",
        "    for c in config:\n",
        "        assert c == 'M' or isinstance(c, int)\n",
        "        if c == 'M':\n",
        "            layers += [nn.MaxPool2d(kernel_size = 2)]\n",
        "        else:\n",
        "            conv2d = nn.Conv2d(in_channels, c, kernel_size = 3, padding = 1)\n",
        "            if batch_norm:\n",
        "                layers += [conv2d, nn.BatchNorm2d(c), nn.ReLU(inplace = True)]\n",
        "            else:\n",
        "                layers += [conv2d, nn.ReLU(inplace = True)]\n",
        "            in_channels = c\n",
        "            \n",
        "    return nn.Sequential(*layers)"
      ],
      "execution_count": null,
      "outputs": []
    },
    {
      "cell_type": "code",
      "metadata": {
        "id": "0vtIJ1jwNGh3"
      },
      "source": [
        "vgg11_config = [64, 'M', 128, 'M', 256, 256, 'M', 512, 512, 'M', 512, 512, 'M']\n",
        "\n",
        "vgg13_config = [64, 64, 'M', 128, 128, 'M', 256, 256, 'M', 512, 512, 'M', 512, 512, 'M']\n",
        "\n",
        "vgg16_config = [64, 64, 'M', 128, 128, 'M', 256, 256, 256, 'M', 512, 512, 512, 'M', 512, 512, 512, 'M']\n",
        "\n",
        "vgg19_config = [64, 64, 'M', 128, 128, 'M', 256, 256, 256, 256, 'M', 512, 512, 512, 512, 'M', 512, 512, 512, 512, 'M']"
      ],
      "execution_count": null,
      "outputs": []
    },
    {
      "cell_type": "code",
      "metadata": {
        "id": "ixwfkWKwNGh3",
        "colab": {
          "base_uri": "https://localhost:8080/"
        },
        "outputId": "5ddb785c-dd54-420c-b1be-038a78d165af"
      },
      "source": [
        "vgg13_layers = get_vgg_layers(vgg13_config, batch_norm = True)\n",
        "vgg16_layers = get_vgg_layers(vgg16_config, batch_norm = True)\n",
        "vgg19_layers = get_vgg_layers(vgg19_config, batch_norm = True)\n",
        "\n",
        "#vgg16_layers"
      ],
      "execution_count": null,
      "outputs": [
        {
          "output_type": "execute_result",
          "data": {
            "text/plain": [
              "Sequential(\n",
              "  (0): Conv2d(3, 64, kernel_size=(3, 3), stride=(1, 1), padding=(1, 1))\n",
              "  (1): BatchNorm2d(64, eps=1e-05, momentum=0.1, affine=True, track_running_stats=True)\n",
              "  (2): ReLU(inplace=True)\n",
              "  (3): Conv2d(64, 64, kernel_size=(3, 3), stride=(1, 1), padding=(1, 1))\n",
              "  (4): BatchNorm2d(64, eps=1e-05, momentum=0.1, affine=True, track_running_stats=True)\n",
              "  (5): ReLU(inplace=True)\n",
              "  (6): MaxPool2d(kernel_size=2, stride=2, padding=0, dilation=1, ceil_mode=False)\n",
              "  (7): Conv2d(64, 128, kernel_size=(3, 3), stride=(1, 1), padding=(1, 1))\n",
              "  (8): BatchNorm2d(128, eps=1e-05, momentum=0.1, affine=True, track_running_stats=True)\n",
              "  (9): ReLU(inplace=True)\n",
              "  (10): Conv2d(128, 128, kernel_size=(3, 3), stride=(1, 1), padding=(1, 1))\n",
              "  (11): BatchNorm2d(128, eps=1e-05, momentum=0.1, affine=True, track_running_stats=True)\n",
              "  (12): ReLU(inplace=True)\n",
              "  (13): MaxPool2d(kernel_size=2, stride=2, padding=0, dilation=1, ceil_mode=False)\n",
              "  (14): Conv2d(128, 256, kernel_size=(3, 3), stride=(1, 1), padding=(1, 1))\n",
              "  (15): BatchNorm2d(256, eps=1e-05, momentum=0.1, affine=True, track_running_stats=True)\n",
              "  (16): ReLU(inplace=True)\n",
              "  (17): Conv2d(256, 256, kernel_size=(3, 3), stride=(1, 1), padding=(1, 1))\n",
              "  (18): BatchNorm2d(256, eps=1e-05, momentum=0.1, affine=True, track_running_stats=True)\n",
              "  (19): ReLU(inplace=True)\n",
              "  (20): Conv2d(256, 256, kernel_size=(3, 3), stride=(1, 1), padding=(1, 1))\n",
              "  (21): BatchNorm2d(256, eps=1e-05, momentum=0.1, affine=True, track_running_stats=True)\n",
              "  (22): ReLU(inplace=True)\n",
              "  (23): MaxPool2d(kernel_size=2, stride=2, padding=0, dilation=1, ceil_mode=False)\n",
              "  (24): Conv2d(256, 512, kernel_size=(3, 3), stride=(1, 1), padding=(1, 1))\n",
              "  (25): BatchNorm2d(512, eps=1e-05, momentum=0.1, affine=True, track_running_stats=True)\n",
              "  (26): ReLU(inplace=True)\n",
              "  (27): Conv2d(512, 512, kernel_size=(3, 3), stride=(1, 1), padding=(1, 1))\n",
              "  (28): BatchNorm2d(512, eps=1e-05, momentum=0.1, affine=True, track_running_stats=True)\n",
              "  (29): ReLU(inplace=True)\n",
              "  (30): Conv2d(512, 512, kernel_size=(3, 3), stride=(1, 1), padding=(1, 1))\n",
              "  (31): BatchNorm2d(512, eps=1e-05, momentum=0.1, affine=True, track_running_stats=True)\n",
              "  (32): ReLU(inplace=True)\n",
              "  (33): MaxPool2d(kernel_size=2, stride=2, padding=0, dilation=1, ceil_mode=False)\n",
              "  (34): Conv2d(512, 512, kernel_size=(3, 3), stride=(1, 1), padding=(1, 1))\n",
              "  (35): BatchNorm2d(512, eps=1e-05, momentum=0.1, affine=True, track_running_stats=True)\n",
              "  (36): ReLU(inplace=True)\n",
              "  (37): Conv2d(512, 512, kernel_size=(3, 3), stride=(1, 1), padding=(1, 1))\n",
              "  (38): BatchNorm2d(512, eps=1e-05, momentum=0.1, affine=True, track_running_stats=True)\n",
              "  (39): ReLU(inplace=True)\n",
              "  (40): Conv2d(512, 512, kernel_size=(3, 3), stride=(1, 1), padding=(1, 1))\n",
              "  (41): BatchNorm2d(512, eps=1e-05, momentum=0.1, affine=True, track_running_stats=True)\n",
              "  (42): ReLU(inplace=True)\n",
              "  (43): MaxPool2d(kernel_size=2, stride=2, padding=0, dilation=1, ceil_mode=False)\n",
              ")"
            ]
          },
          "metadata": {
            "tags": []
          },
          "execution_count": 15
        }
      ]
    },
    {
      "cell_type": "markdown",
      "metadata": {
        "id": "a-qlMtXPXlp_"
      },
      "source": [
        "## VGG16"
      ]
    },
    {
      "cell_type": "code",
      "metadata": {
        "id": "cgN9V4AMNGh4",
        "colab": {
          "base_uri": "https://localhost:8080/"
        },
        "outputId": "f13b75c1-29b6-4669-c819-f46b183c2839"
      },
      "source": [
        "OUTPUT_DIM = 10\n",
        "\n",
        "#model = VGG(vgg13_layers, OUTPUT_DIM)\n",
        "model_VGG16 = VGG(vgg16_layers, OUTPUT_DIM)\n",
        "#model = VGG(vgg19_layers, OUTPUT_DIM)\n",
        "\n",
        "#print(model_VGG16)"
      ],
      "execution_count": null,
      "outputs": [
        {
          "output_type": "stream",
          "text": [
            "VGG(\n",
            "  (features): Sequential(\n",
            "    (0): Conv2d(3, 64, kernel_size=(3, 3), stride=(1, 1), padding=(1, 1))\n",
            "    (1): BatchNorm2d(64, eps=1e-05, momentum=0.1, affine=True, track_running_stats=True)\n",
            "    (2): ReLU(inplace=True)\n",
            "    (3): Conv2d(64, 64, kernel_size=(3, 3), stride=(1, 1), padding=(1, 1))\n",
            "    (4): BatchNorm2d(64, eps=1e-05, momentum=0.1, affine=True, track_running_stats=True)\n",
            "    (5): ReLU(inplace=True)\n",
            "    (6): MaxPool2d(kernel_size=2, stride=2, padding=0, dilation=1, ceil_mode=False)\n",
            "    (7): Conv2d(64, 128, kernel_size=(3, 3), stride=(1, 1), padding=(1, 1))\n",
            "    (8): BatchNorm2d(128, eps=1e-05, momentum=0.1, affine=True, track_running_stats=True)\n",
            "    (9): ReLU(inplace=True)\n",
            "    (10): Conv2d(128, 128, kernel_size=(3, 3), stride=(1, 1), padding=(1, 1))\n",
            "    (11): BatchNorm2d(128, eps=1e-05, momentum=0.1, affine=True, track_running_stats=True)\n",
            "    (12): ReLU(inplace=True)\n",
            "    (13): MaxPool2d(kernel_size=2, stride=2, padding=0, dilation=1, ceil_mode=False)\n",
            "    (14): Conv2d(128, 256, kernel_size=(3, 3), stride=(1, 1), padding=(1, 1))\n",
            "    (15): BatchNorm2d(256, eps=1e-05, momentum=0.1, affine=True, track_running_stats=True)\n",
            "    (16): ReLU(inplace=True)\n",
            "    (17): Conv2d(256, 256, kernel_size=(3, 3), stride=(1, 1), padding=(1, 1))\n",
            "    (18): BatchNorm2d(256, eps=1e-05, momentum=0.1, affine=True, track_running_stats=True)\n",
            "    (19): ReLU(inplace=True)\n",
            "    (20): Conv2d(256, 256, kernel_size=(3, 3), stride=(1, 1), padding=(1, 1))\n",
            "    (21): BatchNorm2d(256, eps=1e-05, momentum=0.1, affine=True, track_running_stats=True)\n",
            "    (22): ReLU(inplace=True)\n",
            "    (23): MaxPool2d(kernel_size=2, stride=2, padding=0, dilation=1, ceil_mode=False)\n",
            "    (24): Conv2d(256, 512, kernel_size=(3, 3), stride=(1, 1), padding=(1, 1))\n",
            "    (25): BatchNorm2d(512, eps=1e-05, momentum=0.1, affine=True, track_running_stats=True)\n",
            "    (26): ReLU(inplace=True)\n",
            "    (27): Conv2d(512, 512, kernel_size=(3, 3), stride=(1, 1), padding=(1, 1))\n",
            "    (28): BatchNorm2d(512, eps=1e-05, momentum=0.1, affine=True, track_running_stats=True)\n",
            "    (29): ReLU(inplace=True)\n",
            "    (30): Conv2d(512, 512, kernel_size=(3, 3), stride=(1, 1), padding=(1, 1))\n",
            "    (31): BatchNorm2d(512, eps=1e-05, momentum=0.1, affine=True, track_running_stats=True)\n",
            "    (32): ReLU(inplace=True)\n",
            "    (33): MaxPool2d(kernel_size=2, stride=2, padding=0, dilation=1, ceil_mode=False)\n",
            "    (34): Conv2d(512, 512, kernel_size=(3, 3), stride=(1, 1), padding=(1, 1))\n",
            "    (35): BatchNorm2d(512, eps=1e-05, momentum=0.1, affine=True, track_running_stats=True)\n",
            "    (36): ReLU(inplace=True)\n",
            "    (37): Conv2d(512, 512, kernel_size=(3, 3), stride=(1, 1), padding=(1, 1))\n",
            "    (38): BatchNorm2d(512, eps=1e-05, momentum=0.1, affine=True, track_running_stats=True)\n",
            "    (39): ReLU(inplace=True)\n",
            "    (40): Conv2d(512, 512, kernel_size=(3, 3), stride=(1, 1), padding=(1, 1))\n",
            "    (41): BatchNorm2d(512, eps=1e-05, momentum=0.1, affine=True, track_running_stats=True)\n",
            "    (42): ReLU(inplace=True)\n",
            "    (43): MaxPool2d(kernel_size=2, stride=2, padding=0, dilation=1, ceil_mode=False)\n",
            "  )\n",
            "  (classifier): Sequential(\n",
            "    (0): Linear(in_features=512, out_features=128, bias=True)\n",
            "    (1): ReLU(inplace=True)\n",
            "    (2): Dropout(p=0.2, inplace=False)\n",
            "    (3): Linear(in_features=128, out_features=128, bias=True)\n",
            "    (4): ReLU(inplace=True)\n",
            "    (5): Dropout(p=0.2, inplace=False)\n",
            "    (6): Linear(in_features=128, out_features=10, bias=True)\n",
            "  )\n",
            ")\n"
          ],
          "name": "stdout"
        }
      ]
    },
    {
      "cell_type": "code",
      "metadata": {
        "id": "b32d_8tuNGh4"
      },
      "source": [
        "device = 'cuda' if torch.cuda.is_available() else 'cpu'\n",
        "model_VGG16 = model_VGG16.to(device)"
      ],
      "execution_count": null,
      "outputs": []
    },
    {
      "cell_type": "code",
      "metadata": {
        "id": "UylbpHxPNGh4",
        "colab": {
          "base_uri": "https://localhost:8080/"
        },
        "outputId": "dc1ea110-7a36-4969-bfba-18500c7ce750"
      },
      "source": [
        "from torchsummary import summary\n",
        "\n",
        "#summary(model_VGG16.to(device), (3, 32, 32))"
      ],
      "execution_count": null,
      "outputs": [
        {
          "output_type": "stream",
          "text": [
            "----------------------------------------------------------------\n",
            "        Layer (type)               Output Shape         Param #\n",
            "================================================================\n",
            "            Conv2d-1           [-1, 64, 32, 32]           1,792\n",
            "       BatchNorm2d-2           [-1, 64, 32, 32]             128\n",
            "              ReLU-3           [-1, 64, 32, 32]               0\n",
            "            Conv2d-4           [-1, 64, 32, 32]          36,928\n",
            "       BatchNorm2d-5           [-1, 64, 32, 32]             128\n",
            "              ReLU-6           [-1, 64, 32, 32]               0\n",
            "         MaxPool2d-7           [-1, 64, 16, 16]               0\n",
            "            Conv2d-8          [-1, 128, 16, 16]          73,856\n",
            "       BatchNorm2d-9          [-1, 128, 16, 16]             256\n",
            "             ReLU-10          [-1, 128, 16, 16]               0\n",
            "           Conv2d-11          [-1, 128, 16, 16]         147,584\n",
            "      BatchNorm2d-12          [-1, 128, 16, 16]             256\n",
            "             ReLU-13          [-1, 128, 16, 16]               0\n",
            "        MaxPool2d-14            [-1, 128, 8, 8]               0\n",
            "           Conv2d-15            [-1, 256, 8, 8]         295,168\n",
            "      BatchNorm2d-16            [-1, 256, 8, 8]             512\n",
            "             ReLU-17            [-1, 256, 8, 8]               0\n",
            "           Conv2d-18            [-1, 256, 8, 8]         590,080\n",
            "      BatchNorm2d-19            [-1, 256, 8, 8]             512\n",
            "             ReLU-20            [-1, 256, 8, 8]               0\n",
            "           Conv2d-21            [-1, 256, 8, 8]         590,080\n",
            "      BatchNorm2d-22            [-1, 256, 8, 8]             512\n",
            "             ReLU-23            [-1, 256, 8, 8]               0\n",
            "        MaxPool2d-24            [-1, 256, 4, 4]               0\n",
            "           Conv2d-25            [-1, 512, 4, 4]       1,180,160\n",
            "      BatchNorm2d-26            [-1, 512, 4, 4]           1,024\n",
            "             ReLU-27            [-1, 512, 4, 4]               0\n",
            "           Conv2d-28            [-1, 512, 4, 4]       2,359,808\n",
            "      BatchNorm2d-29            [-1, 512, 4, 4]           1,024\n",
            "             ReLU-30            [-1, 512, 4, 4]               0\n",
            "           Conv2d-31            [-1, 512, 4, 4]       2,359,808\n",
            "      BatchNorm2d-32            [-1, 512, 4, 4]           1,024\n",
            "             ReLU-33            [-1, 512, 4, 4]               0\n",
            "        MaxPool2d-34            [-1, 512, 2, 2]               0\n",
            "           Conv2d-35            [-1, 512, 2, 2]       2,359,808\n",
            "      BatchNorm2d-36            [-1, 512, 2, 2]           1,024\n",
            "             ReLU-37            [-1, 512, 2, 2]               0\n",
            "           Conv2d-38            [-1, 512, 2, 2]       2,359,808\n",
            "      BatchNorm2d-39            [-1, 512, 2, 2]           1,024\n",
            "             ReLU-40            [-1, 512, 2, 2]               0\n",
            "           Conv2d-41            [-1, 512, 2, 2]       2,359,808\n",
            "      BatchNorm2d-42            [-1, 512, 2, 2]           1,024\n",
            "             ReLU-43            [-1, 512, 2, 2]               0\n",
            "        MaxPool2d-44            [-1, 512, 1, 1]               0\n",
            "           Linear-45                  [-1, 128]          65,664\n",
            "             ReLU-46                  [-1, 128]               0\n",
            "          Dropout-47                  [-1, 128]               0\n",
            "           Linear-48                  [-1, 128]          16,512\n",
            "             ReLU-49                  [-1, 128]               0\n",
            "          Dropout-50                  [-1, 128]               0\n",
            "           Linear-51                   [-1, 10]           1,290\n",
            "================================================================\n",
            "Total params: 14,806,602\n",
            "Trainable params: 14,806,602\n",
            "Non-trainable params: 0\n",
            "----------------------------------------------------------------\n",
            "Input size (MB): 0.01\n",
            "Forward/backward pass size (MB): 6.57\n",
            "Params size (MB): 56.48\n",
            "Estimated Total Size (MB): 63.07\n",
            "----------------------------------------------------------------\n"
          ],
          "name": "stdout"
        }
      ]
    },
    {
      "cell_type": "markdown",
      "metadata": {
        "id": "QT_pH7ZHNGh4"
      },
      "source": [
        "### Finding best LR"
      ]
    },
    {
      "cell_type": "code",
      "metadata": {
        "id": "4_3LdNnkNGh5"
      },
      "source": [
        "START_LR = 1e-7\n",
        "\n",
        "optimizer = optim.Adam(model_VGG16.parameters(), lr = START_LR)\n",
        "\n",
        "device = torch.device('cuda' if torch.cuda.is_available() else 'cpu')\n",
        "\n",
        "criterion = nn.CrossEntropyLoss()\n",
        "\n",
        "model_VGG16 = model_VGG16.to(device)\n",
        "criterion = criterion.to(device)"
      ],
      "execution_count": null,
      "outputs": []
    },
    {
      "cell_type": "code",
      "metadata": {
        "id": "Pv3S-_hQNGh5"
      },
      "source": [
        "END_LR = 10\n",
        "NUM_ITER = 100\n",
        "\n",
        "lr_finder = LRFinder(model_VGG16, optimizer, criterion, device)\n",
        "lrs, losses = lr_finder.range_test(train_loader, END_LR, NUM_ITER)"
      ],
      "execution_count": null,
      "outputs": []
    },
    {
      "cell_type": "code",
      "metadata": {
        "id": "sgE8FFKzNGh6"
      },
      "source": [
        "plot_lr_finder(lrs, losses, skip_start = 10, skip_end = 20)"
      ],
      "execution_count": null,
      "outputs": []
    },
    {
      "cell_type": "markdown",
      "metadata": {
        "id": "Ebx6UcABNGh6"
      },
      "source": [
        "### Train"
      ]
    },
    {
      "cell_type": "code",
      "metadata": {
        "id": "_LZVpslENGh6"
      },
      "source": [
        "criterion = nn.CrossEntropyLoss()\n",
        "criterion = criterion.to(device)\n",
        "optimizer = torch.optim.SGD(model_VGG16.parameters(), lr = 0.01, momentum=0.9, weight_decay=0.0001)\n",
        "# scheduler for VGG\n",
        "#scheduler = torch.optim.lr_scheduler.MultiStepLR(optimizer,milestones=[10], last_epoch= -1)\n",
        "# scheduler for ResNet\n",
        "##scheduler = torch.optim.lr_scheduler.MultiStepLR(optimizer,milestones=[100, 150], last_epoch= -1)"
      ],
      "execution_count": null,
      "outputs": []
    },
    {
      "cell_type": "code",
      "metadata": {
        "id": "fxBQwyGINGh6",
        "colab": {
          "base_uri": "https://localhost:8080/"
        },
        "outputId": "0391d841-6089-4a1c-8e11-14cd1cd56d1d"
      },
      "source": [
        "\n",
        "\n",
        "EPOCHS = 40\n",
        "train_loss_list_VGG16 = []\n",
        "train_acc_list_VGG16 = []\n",
        "\n",
        "val_loss_list_VGG16 = []\n",
        "val_acc_list_VGG16 = []\n",
        "\n",
        "for epoch in range(EPOCHS):\n",
        "    \n",
        "    start_time = time.time()\n",
        "    \n",
        "    train_loss, train_acc = train(model_VGG16, train_loader, optimizer, criterion, device)\n",
        "    #optimizer.step()\n",
        "    val_loss, val_acc = evaluate(model_VGG16, val_loader, criterion, device)\n",
        "    end_time = time.time()\n",
        "\n",
        "    train_loss_list_VGG16.append(train_loss)\n",
        "    train_acc_list_VGG16.append(train_acc)\n",
        "    val_loss_list_VGG16.append(val_loss)\n",
        "    val_acc_list_VGG16.append(val_acc)\n",
        "\n",
        "    epoch_mins, epoch_secs = epoch_time(start_time, end_time)\n",
        "\n",
        "    print(f'Epoch: {epoch+1:02} | Epoch Time: {epoch_mins}m {epoch_secs}s')\n",
        "    print(f'\\tTrain Loss: {train_loss:.3f} | Train Acc: {train_acc*100:.2f}%')\n",
        "    print(f'\\t Val. Loss: {val_loss:.3f} |  Val. Acc: {val_acc*100:.2f}%')\n",
        "    \n"
      ],
      "execution_count": null,
      "outputs": [
        {
          "output_type": "stream",
          "text": [
            "Epoch: 01 | Epoch Time: 0m 34s\n",
            "\tTrain Loss: 0.134 | Train Acc: 97.13%\n",
            "\t Val. Loss: 0.709 |  Val. Acc: 85.18%\n",
            "Epoch: 02 | Epoch Time: 0m 34s\n",
            "\tTrain Loss: 0.053 | Train Acc: 98.47%\n",
            "\t Val. Loss: 0.657 |  Val. Acc: 86.29%\n",
            "Epoch: 03 | Epoch Time: 0m 34s\n",
            "\tTrain Loss: 0.046 | Train Acc: 98.65%\n",
            "\t Val. Loss: 0.767 |  Val. Acc: 84.69%\n",
            "Epoch: 04 | Epoch Time: 0m 34s\n",
            "\tTrain Loss: 0.046 | Train Acc: 98.67%\n",
            "\t Val. Loss: 0.585 |  Val. Acc: 87.40%\n",
            "Epoch: 05 | Epoch Time: 0m 34s\n",
            "\tTrain Loss: 0.037 | Train Acc: 98.91%\n",
            "\t Val. Loss: 0.591 |  Val. Acc: 87.60%\n",
            "Epoch: 06 | Epoch Time: 0m 34s\n",
            "\tTrain Loss: 0.045 | Train Acc: 98.65%\n",
            "\t Val. Loss: 0.615 |  Val. Acc: 87.29%\n",
            "Epoch: 07 | Epoch Time: 0m 34s\n",
            "\tTrain Loss: 0.035 | Train Acc: 98.96%\n",
            "\t Val. Loss: 0.571 |  Val. Acc: 87.48%\n",
            "Epoch: 08 | Epoch Time: 0m 34s\n",
            "\tTrain Loss: 0.028 | Train Acc: 99.17%\n",
            "\t Val. Loss: 0.619 |  Val. Acc: 87.73%\n",
            "Epoch: 09 | Epoch Time: 0m 34s\n",
            "\tTrain Loss: 0.036 | Train Acc: 98.87%\n",
            "\t Val. Loss: 0.642 |  Val. Acc: 86.60%\n",
            "Epoch: 10 | Epoch Time: 0m 34s\n",
            "\tTrain Loss: 0.028 | Train Acc: 99.16%\n",
            "\t Val. Loss: 0.659 |  Val. Acc: 87.34%\n",
            "Epoch: 11 | Epoch Time: 0m 34s\n",
            "\tTrain Loss: 0.025 | Train Acc: 99.22%\n",
            "\t Val. Loss: 0.753 |  Val. Acc: 86.54%\n",
            "Epoch: 12 | Epoch Time: 0m 34s\n",
            "\tTrain Loss: 0.031 | Train Acc: 99.10%\n",
            "\t Val. Loss: 0.619 |  Val. Acc: 87.38%\n",
            "Epoch: 13 | Epoch Time: 0m 34s\n",
            "\tTrain Loss: 0.027 | Train Acc: 99.19%\n",
            "\t Val. Loss: 0.660 |  Val. Acc: 87.27%\n",
            "Epoch: 14 | Epoch Time: 0m 34s\n",
            "\tTrain Loss: 0.029 | Train Acc: 99.11%\n",
            "\t Val. Loss: 0.607 |  Val. Acc: 86.99%\n",
            "Epoch: 15 | Epoch Time: 0m 34s\n",
            "\tTrain Loss: 0.025 | Train Acc: 99.27%\n",
            "\t Val. Loss: 0.692 |  Val. Acc: 86.86%\n",
            "Epoch: 16 | Epoch Time: 0m 34s\n",
            "\tTrain Loss: 0.024 | Train Acc: 99.27%\n",
            "\t Val. Loss: 0.662 |  Val. Acc: 86.86%\n",
            "Epoch: 17 | Epoch Time: 0m 34s\n",
            "\tTrain Loss: 0.028 | Train Acc: 99.18%\n",
            "\t Val. Loss: 0.619 |  Val. Acc: 86.78%\n",
            "Epoch: 18 | Epoch Time: 0m 34s\n",
            "\tTrain Loss: 0.020 | Train Acc: 99.39%\n",
            "\t Val. Loss: 0.618 |  Val. Acc: 87.93%\n",
            "Epoch: 19 | Epoch Time: 0m 34s\n",
            "\tTrain Loss: 0.019 | Train Acc: 99.39%\n",
            "\t Val. Loss: 0.663 |  Val. Acc: 87.13%\n",
            "Epoch: 20 | Epoch Time: 0m 34s\n",
            "\tTrain Loss: 0.022 | Train Acc: 99.30%\n",
            "\t Val. Loss: 0.663 |  Val. Acc: 87.23%\n",
            "Epoch: 21 | Epoch Time: 0m 34s\n",
            "\tTrain Loss: 0.023 | Train Acc: 99.34%\n",
            "\t Val. Loss: 0.573 |  Val. Acc: 88.63%\n",
            "Epoch: 22 | Epoch Time: 0m 34s\n",
            "\tTrain Loss: 0.019 | Train Acc: 99.41%\n",
            "\t Val. Loss: 0.710 |  Val. Acc: 86.39%\n",
            "Epoch: 23 | Epoch Time: 0m 34s\n",
            "\tTrain Loss: 0.022 | Train Acc: 99.32%\n",
            "\t Val. Loss: 0.681 |  Val. Acc: 86.84%\n",
            "Epoch: 24 | Epoch Time: 0m 34s\n",
            "\tTrain Loss: 0.016 | Train Acc: 99.55%\n",
            "\t Val. Loss: 0.559 |  Val. Acc: 89.47%\n",
            "Epoch: 25 | Epoch Time: 0m 34s\n",
            "\tTrain Loss: 0.017 | Train Acc: 99.46%\n",
            "\t Val. Loss: 0.702 |  Val. Acc: 86.60%\n",
            "Epoch: 26 | Epoch Time: 0m 34s\n",
            "\tTrain Loss: 0.020 | Train Acc: 99.41%\n",
            "\t Val. Loss: 0.568 |  Val. Acc: 88.65%\n",
            "Epoch: 27 | Epoch Time: 0m 34s\n",
            "\tTrain Loss: 0.013 | Train Acc: 99.63%\n",
            "\t Val. Loss: 0.628 |  Val. Acc: 87.91%\n",
            "Epoch: 28 | Epoch Time: 0m 34s\n",
            "\tTrain Loss: 0.017 | Train Acc: 99.49%\n",
            "\t Val. Loss: 0.569 |  Val. Acc: 88.67%\n",
            "Epoch: 29 | Epoch Time: 0m 34s\n",
            "\tTrain Loss: 0.018 | Train Acc: 99.47%\n",
            "\t Val. Loss: 0.606 |  Val. Acc: 88.07%\n",
            "Epoch: 30 | Epoch Time: 0m 34s\n",
            "\tTrain Loss: 0.013 | Train Acc: 99.63%\n",
            "\t Val. Loss: 0.664 |  Val. Acc: 87.56%\n",
            "Epoch: 31 | Epoch Time: 0m 34s\n",
            "\tTrain Loss: 0.011 | Train Acc: 99.68%\n",
            "\t Val. Loss: 0.651 |  Val. Acc: 88.03%\n",
            "Epoch: 32 | Epoch Time: 0m 34s\n",
            "\tTrain Loss: 0.014 | Train Acc: 99.62%\n",
            "\t Val. Loss: 0.588 |  Val. Acc: 89.04%\n",
            "Epoch: 33 | Epoch Time: 0m 34s\n",
            "\tTrain Loss: 0.010 | Train Acc: 99.71%\n",
            "\t Val. Loss: 0.701 |  Val. Acc: 87.66%\n",
            "Epoch: 34 | Epoch Time: 0m 35s\n",
            "\tTrain Loss: 0.018 | Train Acc: 99.39%\n",
            "\t Val. Loss: 0.598 |  Val. Acc: 88.54%\n",
            "Epoch: 35 | Epoch Time: 0m 34s\n",
            "\tTrain Loss: 0.018 | Train Acc: 99.46%\n",
            "\t Val. Loss: 0.685 |  Val. Acc: 87.32%\n",
            "Epoch: 36 | Epoch Time: 0m 34s\n",
            "\tTrain Loss: 0.018 | Train Acc: 99.41%\n",
            "\t Val. Loss: 0.567 |  Val. Acc: 88.57%\n",
            "Epoch: 37 | Epoch Time: 0m 34s\n",
            "\tTrain Loss: 0.016 | Train Acc: 99.48%\n",
            "\t Val. Loss: 0.632 |  Val. Acc: 87.79%\n",
            "Epoch: 38 | Epoch Time: 0m 34s\n",
            "\tTrain Loss: 0.016 | Train Acc: 99.55%\n",
            "\t Val. Loss: 0.615 |  Val. Acc: 88.18%\n",
            "Epoch: 39 | Epoch Time: 0m 34s\n",
            "\tTrain Loss: 0.016 | Train Acc: 99.49%\n",
            "\t Val. Loss: 0.660 |  Val. Acc: 87.79%\n",
            "Epoch: 40 | Epoch Time: 0m 34s\n",
            "\tTrain Loss: 0.014 | Train Acc: 99.56%\n",
            "\t Val. Loss: 0.646 |  Val. Acc: 87.83%\n"
          ],
          "name": "stdout"
        }
      ]
    },
    {
      "cell_type": "code",
      "metadata": {
        "id": "cMGEvkCnNGh7"
      },
      "source": [
        "images, labels, probs = get_preds(model_VGG16, test_loader)\n",
        "pred_labels = torch.argmax(probs, 1)"
      ],
      "execution_count": null,
      "outputs": []
    },
    {
      "cell_type": "code",
      "metadata": {
        "id": "JZ195jESNGh7",
        "colab": {
          "base_uri": "https://localhost:8080/",
          "height": 580
        },
        "outputId": "317656d3-b918-4b7e-841b-f088ede04fc7"
      },
      "source": [
        "classes = test.classes\n",
        "\n",
        "plot_confusion_matrix(labels, pred_labels, classes)"
      ],
      "execution_count": null,
      "outputs": [
        {
          "output_type": "display_data",
          "data": {
            "image/png": "[encoded data removed]",
            "text/plain": [
              "<Figure size 720x720 with 2 Axes>"
            ]
          },
          "metadata": {
            "tags": [],
            "needs_background": "light"
          }
        }
      ]
    },
    {
      "cell_type": "code",
      "metadata": {
        "id": "4mSlRO_NNGh7",
        "colab": {
          "base_uri": "https://localhost:8080/",
          "height": 298
        },
        "outputId": "0d5a32ec-7014-4623-9e49-c76515655b0a"
      },
      "source": [
        "plt.plot([i for i in range(1,EPOCHS + 1)], train_loss_list_VGG16, label = 'training loss')\n",
        "plt.plot([i for i in range(1,EPOCHS + 1)], val_loss_list_VGG16, label = 'validation loss')\n",
        "plt.legend()\n",
        "plt.title('VGG16 , Cross Entropy Loss across Epochs')"
      ],
      "execution_count": null,
      "outputs": [
        {
          "output_type": "execute_result",
          "data": {
            "text/plain": [
              "Text(0.5, 1.0, 'VGG1 , Cross Entropy Loss across Epochs')"
            ]
          },
          "metadata": {
            "tags": []
          },
          "execution_count": 35
        },
        {
          "output_type": "display_data",
          "data": {
            "image/png": "[encoded data removed]",
            "text/plain": [
              "<Figure size 432x288 with 1 Axes>"
            ]
          },
          "metadata": {
            "tags": [],
            "needs_background": "light"
          }
        }
      ]
    },
    {
      "cell_type": "code",
      "metadata": {
        "id": "CzVMwPvfNGh8",
        "colab": {
          "base_uri": "https://localhost:8080/",
          "height": 298
        },
        "outputId": "e42815f1-c112-4cb5-c92b-89c930abc49b"
      },
      "source": [
        "plt.plot([i for i in range(1,EPOCHS + 1)], train_acc_list, label = 'training accuracy')\n",
        "plt.plot([i for i in range(1,EPOCHS + 1)], val_acc_list, label = 'validation accuracy')\n",
        "plt.legend()\n",
        "plt.title('VGG16 , Accuracy across Epochs')"
      ],
      "execution_count": null,
      "outputs": [
        {
          "output_type": "execute_result",
          "data": {
            "text/plain": [
              "Text(0.5, 1.0, 'VGG1 , Accuracy across Epochs')"
            ]
          },
          "metadata": {
            "tags": []
          },
          "execution_count": 37
        },
        {
          "output_type": "display_data",
          "data": {
            "image/png": "[encoded data removed]",
            "text/plain": [
              "<Figure size 432x288 with 1 Axes>"
            ]
          },
          "metadata": {
            "tags": [],
            "needs_background": "light"
          }
        }
      ]
    },
    {
      "cell_type": "code",
      "metadata": {
        "id": "3XbngY-ZNGh8",
        "colab": {
          "base_uri": "https://localhost:8080/"
        },
        "outputId": "4faf90c1-b6f0-4844-814c-c985124a4f4c"
      },
      "source": [
        "labels_accuracy(labels.numpy(), pred_labels.numpy())"
      ],
      "execution_count": null,
      "outputs": [
        {
          "output_type": "execute_result",
          "data": {
            "text/plain": [
              "0.8706"
            ]
          },
          "metadata": {
            "tags": []
          },
          "execution_count": 38
        }
      ]
    },
    {
      "cell_type": "code",
      "metadata": {
        "id": "_gjyNig8NGh8"
      },
      "source": [
        "correct_pred = torch.eq(labels, pred_labels)\n",
        "incorrect_examples = []\n",
        "\n",
        "for image, label, prob, correct in zip(images, labels, probs, correct_pred):\n",
        "    if not correct:\n",
        "        incorrect_examples.append((image, label, prob))\n",
        "\n",
        "incorrect_examples.sort(reverse = True, key = lambda x: torch.max(x[2], dim = 0).values)"
      ],
      "execution_count": null,
      "outputs": []
    },
    {
      "cell_type": "code",
      "metadata": {
        "id": "uxIl-ZiCNGh8",
        "colab": {
          "base_uri": "https://localhost:8080/",
          "height": 158
        },
        "outputId": "ca1468aa-9347-4a08-9436-d3306c52bedb"
      },
      "source": [
        "show_incorrect_preds(incorrect_examples, classes, 5)"
      ],
      "execution_count": null,
      "outputs": [
        {
          "output_type": "display_data",
          "data": {
            "image/png": "[encoded data removed]",
            "text/plain": [
              "<Figure size 720x720 with 5 Axes>"
            ]
          },
          "metadata": {
            "tags": [],
            "needs_background": "light"
          }
        }
      ]
    },
    {
      "cell_type": "code",
      "metadata": {
        "id": "7EA-K8Q0NGh9"
      },
      "source": [
        "## "
      ],
      "execution_count": null,
      "outputs": []
    },
    {
      "cell_type": "markdown",
      "metadata": {
        "id": "m-WxjGaQZE-g"
      },
      "source": [
        "## VGG13"
      ]
    },
    {
      "cell_type": "code",
      "metadata": {
        "id": "YQhT-pzvZT8l"
      },
      "source": [
        "OUTPUT_DIM = 10\n",
        "\n",
        "model_VGG13 = VGG(vgg13_layers, OUTPUT_DIM)\n",
        "#model_VGG16 = VGG(vgg16_layers, OUTPUT_DIM)\n",
        "#model = VGG(vgg19_layers, OUTPUT_DIM)\n",
        "\n",
        "#print(model_VGG16)"
      ],
      "execution_count": null,
      "outputs": []
    },
    {
      "cell_type": "code",
      "metadata": {
        "id": "apML1RxFZUFC"
      },
      "source": [
        "device = 'cuda' if torch.cuda.is_available() else 'cpu'\n",
        "model_VGG16 = model_VGG16.to(device)"
      ],
      "execution_count": null,
      "outputs": []
    },
    {
      "cell_type": "code",
      "metadata": {
        "id": "-wqKF_VFZUI-"
      },
      "source": [
        "from torchsummary import summary\n",
        "\n",
        "#summary(model_VGG13.to(device), (3, 32, 32))"
      ],
      "execution_count": null,
      "outputs": []
    },
    {
      "cell_type": "markdown",
      "metadata": {
        "id": "dtM6OCjQZ0JL"
      },
      "source": [
        "### Find Best LR"
      ]
    },
    {
      "cell_type": "code",
      "metadata": {
        "id": "rWr4AD0KZxuA"
      },
      "source": [
        "START_LR = 1e-7\n",
        "\n",
        "optimizer = optim.Adam(model_VGG13.parameters(), lr = START_LR)\n",
        "\n",
        "device = torch.device('cuda' if torch.cuda.is_available() else 'cpu')\n",
        "\n",
        "criterion = nn.CrossEntropyLoss()\n",
        "\n",
        "model_VGG13 = model_VGG13.to(device)\n",
        "criterion = criterion.to(device)"
      ],
      "execution_count": null,
      "outputs": []
    },
    {
      "cell_type": "code",
      "metadata": {
        "id": "yGeTPEzCZUNE"
      },
      "source": [
        "END_LR = 10\n",
        "NUM_ITER = 100\n",
        "\n",
        "lr_finder = LRFinder(model_VGG13, optimizer, criterion, device)\n",
        "lrs, losses = lr_finder.range_test(train_loader, END_LR, NUM_ITER)"
      ],
      "execution_count": null,
      "outputs": []
    },
    {
      "cell_type": "code",
      "metadata": {
        "id": "MrRigXcBZUQj"
      },
      "source": [
        "plot_lr_finder(lrs, losses, skip_start = 10, skip_end = 20)"
      ],
      "execution_count": null,
      "outputs": []
    },
    {
      "cell_type": "markdown",
      "metadata": {
        "id": "l_8S3cs5Z57C"
      },
      "source": [
        "### Training"
      ]
    },
    {
      "cell_type": "code",
      "metadata": {
        "id": "0CIHO9aLZ8v1"
      },
      "source": [
        "criterion = nn.CrossEntropyLoss()\n",
        "criterion = criterion.to(device)\n",
        "optimizer = torch.optim.SGD(model_VGG13.parameters(), lr = 0.01, momentum=0.9, weight_decay=0.0001)\n",
        "# scheduler for VGG\n",
        "#scheduler = torch.optim.lr_scheduler.MultiStepLR(optimizer,milestones=[10], last_epoch= -1)\n",
        "# scheduler for ResNet\n",
        "##scheduler = torch.optim.lr_scheduler.MultiStepLR(optimizer,milestones=[100, 150], last_epoch= -1)"
      ],
      "execution_count": null,
      "outputs": []
    },
    {
      "cell_type": "code",
      "metadata": {
        "id": "MadAWnGZZ9CZ"
      },
      "source": [
        "EPOCHS = 40\n",
        "train_loss_list_VGG13 = []\n",
        "train_acc_list_VGG13 = []\n",
        "\n",
        "val_loss_list_VGG13 = []\n",
        "val_acc_list_VGG13 = []\n",
        "\n",
        "for epoch in range(EPOCHS):\n",
        "    \n",
        "    start_time = time.time()\n",
        "    \n",
        "    train_loss, train_acc = train(model_VGG13, train_loader, optimizer, criterion, device)\n",
        "    #optimizer.step()\n",
        "    val_loss, val_acc = evaluate(model_VGG13, val_loader, criterion, device)\n",
        "    end_time = time.time()\n",
        "\n",
        "    train_loss_list_VGG13.append(train_loss)\n",
        "    train_acc_list_VGG13.append(train_acc)\n",
        "    val_loss_list_VGG13.append(val_loss)\n",
        "    val_acc_list_VGG13.append(val_acc)\n",
        "\n",
        "    epoch_mins, epoch_secs = epoch_time(start_time, end_time)\n",
        "\n",
        "    print(f'Epoch: {epoch+1:02} | Epoch Time: {epoch_mins}m {epoch_secs}s')\n",
        "    print(f'\\tTrain Loss: {train_loss:.3f} | Train Acc: {train_acc*100:.2f}%')\n",
        "    print(f'\\t Val. Loss: {val_loss:.3f} |  Val. Acc: {val_acc*100:.2f}%')\n",
        "    \n"
      ],
      "execution_count": null,
      "outputs": []
    },
    {
      "cell_type": "code",
      "metadata": {
        "id": "f-XcLq0VZ9Fq"
      },
      "source": [
        "images, labels, probs = get_preds(model_VGG13, test_loader)\n",
        "pred_labels = torch.argmax(probs, 1)"
      ],
      "execution_count": null,
      "outputs": []
    },
    {
      "cell_type": "code",
      "metadata": {
        "id": "yhWb1E_iZ9Jt"
      },
      "source": [
        "classes = test.classes\n",
        "\n",
        "plot_confusion_matrix(labels, pred_labels, classes)"
      ],
      "execution_count": null,
      "outputs": []
    },
    {
      "cell_type": "code",
      "metadata": {
        "id": "Z-5UlfFmakFs"
      },
      "source": [
        "plt.plot([i for i in range(1,EPOCHS + 1)], train_loss_list_VGG13, label = 'training loss')\n",
        "plt.plot([i for i in range(1,EPOCHS + 1)], val_loss_list_VGG13, label = 'validation loss')\n",
        "plt.legend()\n",
        "plt.title('VGG13 , Cross Entropy Loss across Epochs')"
      ],
      "execution_count": null,
      "outputs": []
    },
    {
      "cell_type": "code",
      "metadata": {
        "id": "ZMk-l3zoakJi"
      },
      "source": [
        "plt.plot([i for i in range(1,EPOCHS + 1)], train_acc_list_VGG13, label = 'training accuracy')\n",
        "plt.plot([i for i in range(1,EPOCHS + 1)], val_acc_list_VGG13, label = 'validation accuracy')\n",
        "plt.legend()\n",
        "plt.title('VGG13 , Accuracy across Epochs')"
      ],
      "execution_count": null,
      "outputs": []
    },
    {
      "cell_type": "code",
      "metadata": {
        "id": "3KVlOWprakNh"
      },
      "source": [
        "labels_accuracy(labels.numpy(), pred_labels.numpy())"
      ],
      "execution_count": null,
      "outputs": []
    },
    {
      "cell_type": "code",
      "metadata": {
        "id": "Vr09EIXbau8P"
      },
      "source": [
        "correct_pred = torch.eq(labels, pred_labels)\n",
        "incorrect_examples = []\n",
        "\n",
        "for image, label, prob, correct in zip(images, labels, probs, correct_pred):\n",
        "    if not correct:\n",
        "        incorrect_examples.append((image, label, prob))\n",
        "\n",
        "incorrect_examples.sort(reverse = True, key = lambda x: torch.max(x[2], dim = 0).values)"
      ],
      "execution_count": null,
      "outputs": []
    },
    {
      "cell_type": "code",
      "metadata": {
        "id": "X6GZ4R5YavBW"
      },
      "source": [
        "show_incorrect_preds(incorrect_examples, classes, 5)"
      ],
      "execution_count": null,
      "outputs": []
    },
    {
      "cell_type": "markdown",
      "metadata": {
        "id": "dyXeMzFFNGh9"
      },
      "source": [
        "# Resnet"
      ]
    },
    {
      "cell_type": "code",
      "metadata": {
        "id": "ZXsXOCbKNGh9"
      },
      "source": [
        "class ResNet(nn.Module):\n",
        "    def __init__(self, config, output_dim):\n",
        "        super().__init__()\n",
        "                \n",
        "        block, n_blocks, channels = config\n",
        "        self.in_channels = channels[0]\n",
        "            \n",
        "        assert len(n_blocks) == len(channels) == 4\n",
        "        \n",
        "        self.conv1 = nn.Conv2d(3, self.in_channels, kernel_size = 7, stride = 2, padding = 3, bias = False)\n",
        "        self.bn1 = nn.BatchNorm2d(self.in_channels)\n",
        "        self.relu = nn.ReLU(inplace = True)\n",
        "        self.maxpool = nn.MaxPool2d(kernel_size = 3, stride = 2, padding = 1)\n",
        "        \n",
        "        self.layer1 = self.get_resnet_layer(block, n_blocks[0], channels[0])\n",
        "        self.layer2 = self.get_resnet_layer(block, n_blocks[1], channels[1], stride = 2)\n",
        "        self.layer3 = self.get_resnet_layer(block, n_blocks[2], channels[2], stride = 2)\n",
        "        self.layer4 = self.get_resnet_layer(block, n_blocks[3], channels[3], stride = 2)\n",
        "        \n",
        "        self.avgpool = nn.AdaptiveAvgPool2d((1,1))\n",
        "        self.fc = nn.Linear(self.in_channels, output_dim)\n",
        "        \n",
        "    def get_resnet_layer(self, block, n_blocks, channels, stride = 1):\n",
        "    \n",
        "        layers = []\n",
        "        \n",
        "        if self.in_channels != block.expansion * channels:\n",
        "            downsample = True\n",
        "        else:\n",
        "            downsample = False\n",
        "        \n",
        "        layers.append(block(self.in_channels, channels, stride, downsample))\n",
        "        \n",
        "        for i in range(1, n_blocks):\n",
        "            layers.append(block(block.expansion * channels, channels))\n",
        "\n",
        "        self.in_channels = block.expansion * channels\n",
        "            \n",
        "        return nn.Sequential(*layers)\n",
        "        \n",
        "    def forward(self, x):\n",
        "        \n",
        "        x = self.conv1(x)\n",
        "        x = self.bn1(x)\n",
        "        x = self.relu(x)\n",
        "        x = self.maxpool(x)\n",
        "\n",
        "        x = self.layer1(x)\n",
        "        x = self.layer2(x)\n",
        "        x = self.layer3(x)\n",
        "        x = self.layer4(x)\n",
        "        \n",
        "        x = self.avgpool(x)\n",
        "        h = x.view(x.shape[0], -1)\n",
        "        x = self.fc(h)\n",
        "        \n",
        "        return x#, h"
      ],
      "execution_count": null,
      "outputs": []
    },
    {
      "cell_type": "code",
      "metadata": {
        "id": "9Rq-aAoLNGh-"
      },
      "source": [
        "class BasicBlock(nn.Module):\n",
        "    \n",
        "    expansion = 1\n",
        "    \n",
        "    def __init__(self, in_channels, out_channels, stride = 1, downsample = False):\n",
        "        super().__init__()\n",
        "                \n",
        "        self.conv1 = nn.Conv2d(in_channels, out_channels, kernel_size = 3, stride = stride, padding = 1, bias = False)\n",
        "        self.bn1 = nn.BatchNorm2d(out_channels)\n",
        "        \n",
        "        self.relu = nn.ReLU(inplace = True)\n",
        "        \n",
        "        self.conv2 = nn.Conv2d(out_channels, out_channels, kernel_size = 3, stride = 1, padding = 1, bias = False)\n",
        "        self.bn2 = nn.BatchNorm2d(out_channels)\n",
        "        \n",
        "        \n",
        "        \n",
        "        if downsample:\n",
        "            conv = nn.Conv2d(in_channels, out_channels, kernel_size = 1, stride = stride, bias = False)\n",
        "            bn = nn.BatchNorm2d(out_channels)\n",
        "            downsample = nn.Sequential(conv, bn)\n",
        "        else:\n",
        "            downsample = None\n",
        "        \n",
        "        self.downsample = downsample\n",
        "        \n",
        "    def forward(self, x):\n",
        "        \n",
        "        i = x\n",
        "        \n",
        "        x = self.conv1(x)\n",
        "        x = self.bn1(x)\n",
        "        \n",
        "        x = self.relu(x)\n",
        "        \n",
        "        x = self.conv2(x)\n",
        "        x = self.bn2(x)\n",
        "        \n",
        "        if self.downsample is not None:\n",
        "            i = self.downsample(i)\n",
        "                        \n",
        "        x += i\n",
        "        x = self.relu(x)\n",
        "        \n",
        "        return x"
      ],
      "execution_count": null,
      "outputs": []
    },
    {
      "cell_type": "code",
      "metadata": {
        "id": "gjsXRXyqNGh-"
      },
      "source": [
        "class Bottleneck(nn.Module):\n",
        "    \n",
        "    expansion = 4\n",
        "    \n",
        "    def __init__(self, in_channels, out_channels, stride = 1, downsample = False):\n",
        "        super().__init__()\n",
        "    \n",
        "        self.conv1 = nn.Conv2d(in_channels, out_channels, kernel_size = 1, stride = 1, bias = False)\n",
        "        self.bn1 = nn.BatchNorm2d(out_channels)\n",
        "        \n",
        "        self.conv2 = nn.Conv2d(out_channels, out_channels, kernel_size = 3, stride = stride, padding = 1, bias = False)\n",
        "        self.bn2 = nn.BatchNorm2d(out_channels)\n",
        "        \n",
        "        self.conv3 = nn.Conv2d(out_channels, self.expansion * out_channels, kernel_size = 1, stride = 1, bias = False)\n",
        "        self.bn3 = nn.BatchNorm2d(self.expansion * out_channels)\n",
        "        \n",
        "        self.relu = nn.ReLU(inplace = True)\n",
        "        \n",
        "        if downsample:\n",
        "            conv = nn.Conv2d(in_channels, self.expansion * out_channels, kernel_size = 1, stride = stride, bias = False)\n",
        "            bn = nn.BatchNorm2d(self.expansion * out_channels)\n",
        "            downsample = nn.Sequential(conv, bn)\n",
        "        else:\n",
        "            downsample = None\n",
        "            \n",
        "        self.downsample = downsample\n",
        "        \n",
        "    def forward(self, x):\n",
        "        \n",
        "        i = x\n",
        "        \n",
        "        x = self.conv1(x)\n",
        "        x = self.bn1(x)\n",
        "        \n",
        "        x = self.relu(x)\n",
        "        \n",
        "        x = self.conv2(x)\n",
        "        x = self.bn2(x)\n",
        "        \n",
        "        x = self.relu(x)\n",
        "        \n",
        "        x = self.conv3(x)\n",
        "        x = self.bn3(x)\n",
        "                \n",
        "        if self.downsample is not None:\n",
        "            i = self.downsample(i)\n",
        "            \n",
        "        x += i\n",
        "        x = self.relu(x)\n",
        "    \n",
        "        return x"
      ],
      "execution_count": null,
      "outputs": []
    },
    {
      "cell_type": "code",
      "metadata": {
        "id": "33NV7-K9NGh_"
      },
      "source": [
        "class CIFARResNet(nn.Module):\n",
        "    def __init__(self, config, output_dim):\n",
        "        super().__init__()\n",
        "                \n",
        "        block, layers, channels = config\n",
        "        self.in_channels = channels[0]\n",
        "            \n",
        "        assert len(layers) == len(channels) == 3\n",
        "        assert all([i == j*2 for i, j in zip(channels[1:], channels[:-1])])\n",
        "        \n",
        "        self.conv1 = nn.Conv2d(3, self.in_channels, kernel_size = 3, stride = 1, padding = 1, bias = False)\n",
        "        self.bn1 = nn.BatchNorm2d(self.in_channels)\n",
        "        \n",
        "        self.relu = nn.ReLU(inplace = True)\n",
        "        \n",
        "        self.layer1 = self.get_resnet_layer(block, layers[0], channels[0])\n",
        "        self.layer2 = self.get_resnet_layer(block, layers[1], channels[1], stride = 2)\n",
        "        self.layer3 = self.get_resnet_layer(block, layers[2], channels[2], stride = 2)\n",
        "        \n",
        "        self.avgpool = nn.AdaptiveAvgPool2d((1,1))\n",
        "        self.fc = nn.Linear(self.in_channels, output_dim)\n",
        "        \n",
        "    def get_resnet_layer(self, block, n_blocks, channels, stride = 1):\n",
        "    \n",
        "        layers = []\n",
        "        \n",
        "        if self.in_channels != channels:\n",
        "            downsample = True\n",
        "        else:\n",
        "            downsample = False\n",
        "        \n",
        "        layers.append(block(self.in_channels, channels, stride, downsample))\n",
        "        \n",
        "        for i in range(1, n_blocks):\n",
        "            layers.append(block(channels, channels))\n",
        "\n",
        "        self.in_channels = channels\n",
        "            \n",
        "        return nn.Sequential(*layers)\n",
        "        \n",
        "    def forward(self, x):\n",
        "        \n",
        "        x = self.conv1(x)\n",
        "        x = self.bn1(x)\n",
        "        \n",
        "        x = self.relu(x)\n",
        "\n",
        "        x = self.layer1(x)\n",
        "        x = self.layer2(x)\n",
        "        x = self.layer3(x)\n",
        "        \n",
        "        x = self.avgpool(x)\n",
        "        h = x.view(x.shape[0], -1)\n",
        "        x = self.fc(h)\n",
        "        \n",
        "        return x#, h"
      ],
      "execution_count": null,
      "outputs": []
    },
    {
      "cell_type": "code",
      "metadata": {
        "id": "yr1Rur5FNGh_"
      },
      "source": [
        "class Identity(nn.Module):\n",
        "    def __init__(self, f):\n",
        "        super().__init__()\n",
        "        self.f = f\n",
        "        \n",
        "    def forward(self, x):\n",
        "        return self.f(x)\n",
        "        \n",
        "\n",
        "class CIFARBasicBlock(nn.Module):\n",
        "        \n",
        "    def __init__(self, in_channels, out_channels, stride = 1, downsample = False):\n",
        "        super().__init__()\n",
        "                \n",
        "        self.conv1 = nn.Conv2d(in_channels, out_channels, kernel_size = 3,stride = stride, padding = 1, bias = False)\n",
        "        self.bn1 = nn.BatchNorm2d(out_channels)\n",
        "        \n",
        "        self.relu = nn.ReLU(inplace = True)\n",
        "\n",
        "        self.conv2 = nn.Conv2d(out_channels, out_channels, kernel_size = 3,stride = 1, padding = 1, bias = False)\n",
        "        self.bn2 = nn.BatchNorm2d(out_channels)\n",
        "                \n",
        "        \n",
        "        if downsample:\n",
        "            identity_fn = lambda x : F.pad(x[:, :, ::2, ::2], [0, 0, 0, 0, in_channels // 2, in_channels // 2])\n",
        "            downsample = Identity(identity_fn)\n",
        "        else:\n",
        "            downsample = None\n",
        "        \n",
        "        self.downsample = downsample\n",
        "        \n",
        "    def forward(self, x):\n",
        "        \n",
        "        i = x\n",
        "        \n",
        "        x = self.conv1(x)\n",
        "        x = self.bn1(x)\n",
        "        \n",
        "        x = self.relu(x)\n",
        "        \n",
        "        x = self.conv2(x)\n",
        "        x = self.bn2(x)\n",
        "        \n",
        "        if self.downsample is not None:\n",
        "            i = self.downsample(i)\n",
        "                                \n",
        "        x += i\n",
        "        x = self.relu(x)\n",
        "        \n",
        "        return x"
      ],
      "execution_count": null,
      "outputs": []
    },
    {
      "cell_type": "code",
      "metadata": {
        "id": "O-437eRMNGiA"
      },
      "source": [
        "ResNetConfig = namedtuple('ResNetConfig', ['block', 'n_blocks', 'channels'])"
      ],
      "execution_count": null,
      "outputs": []
    },
    {
      "cell_type": "code",
      "metadata": {
        "id": "FSm1QogWNGiA"
      },
      "source": [
        "resnet18_config = ResNetConfig (block = BasicBlock, n_blocks = [2,2,2,2], channels = [64, 128, 256, 512])\n",
        "resnet34_config = ResNetConfig (block = BasicBlock, n_blocks = [3,4,6,3], channels = [64, 128, 256, 512])\n",
        "\n",
        "resnet50_config = ResNetConfig (block = Bottleneck,n_blocks = [3, 4, 6, 3], channels = [64, 128, 256, 512])\n",
        "\n",
        "cifar_resnet20_config = ResNetConfig (block = CIFARBasicBlock, n_blocks = [3, 3, 3], channels = [16, 32, 64])\n",
        "cifar_resnet32_config = ResNetConfig (block = CIFARBasicBlock, n_blocks = [5, 5, 5], channels = [16, 32, 64])\n",
        "cifar_resnet44_config = ResNetConfig (block = CIFARBasicBlock, n_blocks = [7, 7, 7], channels = [16, 32, 64])"
      ],
      "execution_count": null,
      "outputs": []
    },
    {
      "cell_type": "markdown",
      "metadata": {
        "id": "CuzwVBeddSSc"
      },
      "source": [
        "## Resnet44"
      ]
    },
    {
      "cell_type": "code",
      "metadata": {
        "id": "2EQgZ20xdFnX"
      },
      "source": [
        "#model_Resnet20 = CIFARResNet(cifar_resnet20_config,10)\n",
        "model_Resnet44 = CIFARResNet(cifar_resnet44_config,10)"
      ],
      "execution_count": null,
      "outputs": []
    },
    {
      "cell_type": "code",
      "metadata": {
        "id": "evxXMykRNGiA"
      },
      "source": [
        "device = 'cuda' if torch.cuda.is_available() else 'cpu'\n",
        "model_Resnet44 = model_Resnet44.to(device)\n",
        "#model_Resnet44"
      ],
      "execution_count": null,
      "outputs": []
    },
    {
      "cell_type": "code",
      "metadata": {
        "id": "VW9PTpw_NGiA",
        "colab": {
          "base_uri": "https://localhost:8080/"
        },
        "outputId": "1175d2ec-854c-41d1-9944-5bfae5407f92"
      },
      "source": [
        "from torchsummary import summary\n",
        "\n",
        "#summary(model_Resnet44.to(device), (3, 32, 32))"
      ],
      "execution_count": null,
      "outputs": [
        {
          "output_type": "stream",
          "text": [
            "----------------------------------------------------------------\n",
            "        Layer (type)               Output Shape         Param #\n",
            "================================================================\n",
            "            Conv2d-1           [-1, 16, 32, 32]             432\n",
            "       BatchNorm2d-2           [-1, 16, 32, 32]              32\n",
            "              ReLU-3           [-1, 16, 32, 32]               0\n",
            "            Conv2d-4           [-1, 16, 32, 32]           2,304\n",
            "       BatchNorm2d-5           [-1, 16, 32, 32]              32\n",
            "              ReLU-6           [-1, 16, 32, 32]               0\n",
            "            Conv2d-7           [-1, 16, 32, 32]           2,304\n",
            "       BatchNorm2d-8           [-1, 16, 32, 32]              32\n",
            "              ReLU-9           [-1, 16, 32, 32]               0\n",
            "  CIFARBasicBlock-10           [-1, 16, 32, 32]               0\n",
            "           Conv2d-11           [-1, 16, 32, 32]           2,304\n",
            "      BatchNorm2d-12           [-1, 16, 32, 32]              32\n",
            "             ReLU-13           [-1, 16, 32, 32]               0\n",
            "           Conv2d-14           [-1, 16, 32, 32]           2,304\n",
            "      BatchNorm2d-15           [-1, 16, 32, 32]              32\n",
            "             ReLU-16           [-1, 16, 32, 32]               0\n",
            "  CIFARBasicBlock-17           [-1, 16, 32, 32]               0\n",
            "           Conv2d-18           [-1, 16, 32, 32]           2,304\n",
            "      BatchNorm2d-19           [-1, 16, 32, 32]              32\n",
            "             ReLU-20           [-1, 16, 32, 32]               0\n",
            "           Conv2d-21           [-1, 16, 32, 32]           2,304\n",
            "      BatchNorm2d-22           [-1, 16, 32, 32]              32\n",
            "             ReLU-23           [-1, 16, 32, 32]               0\n",
            "  CIFARBasicBlock-24           [-1, 16, 32, 32]               0\n",
            "           Conv2d-25           [-1, 16, 32, 32]           2,304\n",
            "      BatchNorm2d-26           [-1, 16, 32, 32]              32\n",
            "             ReLU-27           [-1, 16, 32, 32]               0\n",
            "           Conv2d-28           [-1, 16, 32, 32]           2,304\n",
            "      BatchNorm2d-29           [-1, 16, 32, 32]              32\n",
            "             ReLU-30           [-1, 16, 32, 32]               0\n",
            "  CIFARBasicBlock-31           [-1, 16, 32, 32]               0\n",
            "           Conv2d-32           [-1, 16, 32, 32]           2,304\n",
            "      BatchNorm2d-33           [-1, 16, 32, 32]              32\n",
            "             ReLU-34           [-1, 16, 32, 32]               0\n",
            "           Conv2d-35           [-1, 16, 32, 32]           2,304\n",
            "      BatchNorm2d-36           [-1, 16, 32, 32]              32\n",
            "             ReLU-37           [-1, 16, 32, 32]               0\n",
            "  CIFARBasicBlock-38           [-1, 16, 32, 32]               0\n",
            "           Conv2d-39           [-1, 16, 32, 32]           2,304\n",
            "      BatchNorm2d-40           [-1, 16, 32, 32]              32\n",
            "             ReLU-41           [-1, 16, 32, 32]               0\n",
            "           Conv2d-42           [-1, 16, 32, 32]           2,304\n",
            "      BatchNorm2d-43           [-1, 16, 32, 32]              32\n",
            "             ReLU-44           [-1, 16, 32, 32]               0\n",
            "  CIFARBasicBlock-45           [-1, 16, 32, 32]               0\n",
            "           Conv2d-46           [-1, 16, 32, 32]           2,304\n",
            "      BatchNorm2d-47           [-1, 16, 32, 32]              32\n",
            "             ReLU-48           [-1, 16, 32, 32]               0\n",
            "           Conv2d-49           [-1, 16, 32, 32]           2,304\n",
            "      BatchNorm2d-50           [-1, 16, 32, 32]              32\n",
            "             ReLU-51           [-1, 16, 32, 32]               0\n",
            "  CIFARBasicBlock-52           [-1, 16, 32, 32]               0\n",
            "           Conv2d-53           [-1, 32, 16, 16]           4,608\n",
            "      BatchNorm2d-54           [-1, 32, 16, 16]              64\n",
            "             ReLU-55           [-1, 32, 16, 16]               0\n",
            "           Conv2d-56           [-1, 32, 16, 16]           9,216\n",
            "      BatchNorm2d-57           [-1, 32, 16, 16]              64\n",
            "         Identity-58           [-1, 32, 16, 16]               0\n",
            "             ReLU-59           [-1, 32, 16, 16]               0\n",
            "  CIFARBasicBlock-60           [-1, 32, 16, 16]               0\n",
            "           Conv2d-61           [-1, 32, 16, 16]           9,216\n",
            "      BatchNorm2d-62           [-1, 32, 16, 16]              64\n",
            "             ReLU-63           [-1, 32, 16, 16]               0\n",
            "           Conv2d-64           [-1, 32, 16, 16]           9,216\n",
            "      BatchNorm2d-65           [-1, 32, 16, 16]              64\n",
            "             ReLU-66           [-1, 32, 16, 16]               0\n",
            "  CIFARBasicBlock-67           [-1, 32, 16, 16]               0\n",
            "           Conv2d-68           [-1, 32, 16, 16]           9,216\n",
            "      BatchNorm2d-69           [-1, 32, 16, 16]              64\n",
            "             ReLU-70           [-1, 32, 16, 16]               0\n",
            "           Conv2d-71           [-1, 32, 16, 16]           9,216\n",
            "      BatchNorm2d-72           [-1, 32, 16, 16]              64\n",
            "             ReLU-73           [-1, 32, 16, 16]               0\n",
            "  CIFARBasicBlock-74           [-1, 32, 16, 16]               0\n",
            "           Conv2d-75           [-1, 32, 16, 16]           9,216\n",
            "      BatchNorm2d-76           [-1, 32, 16, 16]              64\n",
            "             ReLU-77           [-1, 32, 16, 16]               0\n",
            "           Conv2d-78           [-1, 32, 16, 16]           9,216\n",
            "      BatchNorm2d-79           [-1, 32, 16, 16]              64\n",
            "             ReLU-80           [-1, 32, 16, 16]               0\n",
            "  CIFARBasicBlock-81           [-1, 32, 16, 16]               0\n",
            "           Conv2d-82           [-1, 32, 16, 16]           9,216\n",
            "      BatchNorm2d-83           [-1, 32, 16, 16]              64\n",
            "             ReLU-84           [-1, 32, 16, 16]               0\n",
            "           Conv2d-85           [-1, 32, 16, 16]           9,216\n",
            "      BatchNorm2d-86           [-1, 32, 16, 16]              64\n",
            "             ReLU-87           [-1, 32, 16, 16]               0\n",
            "  CIFARBasicBlock-88           [-1, 32, 16, 16]               0\n",
            "           Conv2d-89           [-1, 32, 16, 16]           9,216\n",
            "      BatchNorm2d-90           [-1, 32, 16, 16]              64\n",
            "             ReLU-91           [-1, 32, 16, 16]               0\n",
            "           Conv2d-92           [-1, 32, 16, 16]           9,216\n",
            "      BatchNorm2d-93           [-1, 32, 16, 16]              64\n",
            "             ReLU-94           [-1, 32, 16, 16]               0\n",
            "  CIFARBasicBlock-95           [-1, 32, 16, 16]               0\n",
            "           Conv2d-96           [-1, 32, 16, 16]           9,216\n",
            "      BatchNorm2d-97           [-1, 32, 16, 16]              64\n",
            "             ReLU-98           [-1, 32, 16, 16]               0\n",
            "           Conv2d-99           [-1, 32, 16, 16]           9,216\n",
            "     BatchNorm2d-100           [-1, 32, 16, 16]              64\n",
            "            ReLU-101           [-1, 32, 16, 16]               0\n",
            " CIFARBasicBlock-102           [-1, 32, 16, 16]               0\n",
            "          Conv2d-103             [-1, 64, 8, 8]          18,432\n",
            "     BatchNorm2d-104             [-1, 64, 8, 8]             128\n",
            "            ReLU-105             [-1, 64, 8, 8]               0\n",
            "          Conv2d-106             [-1, 64, 8, 8]          36,864\n",
            "     BatchNorm2d-107             [-1, 64, 8, 8]             128\n",
            "        Identity-108             [-1, 64, 8, 8]               0\n",
            "            ReLU-109             [-1, 64, 8, 8]               0\n",
            " CIFARBasicBlock-110             [-1, 64, 8, 8]               0\n",
            "          Conv2d-111             [-1, 64, 8, 8]          36,864\n",
            "     BatchNorm2d-112             [-1, 64, 8, 8]             128\n",
            "            ReLU-113             [-1, 64, 8, 8]               0\n",
            "          Conv2d-114             [-1, 64, 8, 8]          36,864\n",
            "     BatchNorm2d-115             [-1, 64, 8, 8]             128\n",
            "            ReLU-116             [-1, 64, 8, 8]               0\n",
            " CIFARBasicBlock-117             [-1, 64, 8, 8]               0\n",
            "          Conv2d-118             [-1, 64, 8, 8]          36,864\n",
            "     BatchNorm2d-119             [-1, 64, 8, 8]             128\n",
            "            ReLU-120             [-1, 64, 8, 8]               0\n",
            "          Conv2d-121             [-1, 64, 8, 8]          36,864\n",
            "     BatchNorm2d-122             [-1, 64, 8, 8]             128\n",
            "            ReLU-123             [-1, 64, 8, 8]               0\n",
            " CIFARBasicBlock-124             [-1, 64, 8, 8]               0\n",
            "          Conv2d-125             [-1, 64, 8, 8]          36,864\n",
            "     BatchNorm2d-126             [-1, 64, 8, 8]             128\n",
            "            ReLU-127             [-1, 64, 8, 8]               0\n",
            "          Conv2d-128             [-1, 64, 8, 8]          36,864\n",
            "     BatchNorm2d-129             [-1, 64, 8, 8]             128\n",
            "            ReLU-130             [-1, 64, 8, 8]               0\n",
            " CIFARBasicBlock-131             [-1, 64, 8, 8]               0\n",
            "          Conv2d-132             [-1, 64, 8, 8]          36,864\n",
            "     BatchNorm2d-133             [-1, 64, 8, 8]             128\n",
            "            ReLU-134             [-1, 64, 8, 8]               0\n",
            "          Conv2d-135             [-1, 64, 8, 8]          36,864\n",
            "     BatchNorm2d-136             [-1, 64, 8, 8]             128\n",
            "            ReLU-137             [-1, 64, 8, 8]               0\n",
            " CIFARBasicBlock-138             [-1, 64, 8, 8]               0\n",
            "          Conv2d-139             [-1, 64, 8, 8]          36,864\n",
            "     BatchNorm2d-140             [-1, 64, 8, 8]             128\n",
            "            ReLU-141             [-1, 64, 8, 8]               0\n",
            "          Conv2d-142             [-1, 64, 8, 8]          36,864\n",
            "     BatchNorm2d-143             [-1, 64, 8, 8]             128\n",
            "            ReLU-144             [-1, 64, 8, 8]               0\n",
            " CIFARBasicBlock-145             [-1, 64, 8, 8]               0\n",
            "          Conv2d-146             [-1, 64, 8, 8]          36,864\n",
            "     BatchNorm2d-147             [-1, 64, 8, 8]             128\n",
            "            ReLU-148             [-1, 64, 8, 8]               0\n",
            "          Conv2d-149             [-1, 64, 8, 8]          36,864\n",
            "     BatchNorm2d-150             [-1, 64, 8, 8]             128\n",
            "            ReLU-151             [-1, 64, 8, 8]               0\n",
            " CIFARBasicBlock-152             [-1, 64, 8, 8]               0\n",
            "AdaptiveAvgPool2d-153             [-1, 64, 1, 1]               0\n",
            "          Linear-154                   [-1, 10]             650\n",
            "================================================================\n",
            "Total params: 658,586\n",
            "Trainable params: 658,586\n",
            "Non-trainable params: 0\n",
            "----------------------------------------------------------------\n",
            "Input size (MB): 0.01\n",
            "Forward/backward pass size (MB): 11.19\n",
            "Params size (MB): 2.51\n",
            "Estimated Total Size (MB): 13.71\n",
            "----------------------------------------------------------------\n"
          ],
          "name": "stdout"
        }
      ]
    },
    {
      "cell_type": "markdown",
      "metadata": {
        "id": "MDR2AysFNGiB"
      },
      "source": [
        "### Fiding best LR"
      ]
    },
    {
      "cell_type": "code",
      "metadata": {
        "id": "sAy0CQpmNGiB"
      },
      "source": [
        "START_LR = 1e-7\n",
        "\n",
        "optimizer = optim.SGD(model_Resnet44.parameters(), momentum=0.9, lr = START_LR)\n",
        "\n",
        "device = torch.device('cuda' if torch.cuda.is_available() else 'cpu')\n",
        "\n",
        "criterion = nn.CrossEntropyLoss()\n",
        "\n",
        "model_Resnet44 = model_Resnet44.to(device)\n",
        "criterion = criterion.to(device)"
      ],
      "execution_count": null,
      "outputs": []
    },
    {
      "cell_type": "code",
      "metadata": {
        "id": "dGjOXDleNGiB"
      },
      "source": [
        "END_LR = 10\n",
        "NUM_ITER = 100\n",
        "\n",
        "lr_finder = LRFinder(model_Resnet44, optimizer, criterion, device)\n",
        "lrs, losses = lr_finder.range_test(train_loader, END_LR, NUM_ITER)"
      ],
      "execution_count": null,
      "outputs": []
    },
    {
      "cell_type": "code",
      "metadata": {
        "id": "I5jwaA2BNGiB",
        "colab": {
          "base_uri": "https://localhost:8080/",
          "height": 501
        },
        "outputId": "f86ad115-d857-49e4-d316-425ec8ec4d43"
      },
      "source": [
        "plot_lr_finder(lrs, losses, skip_start = 10, skip_end = 20)"
      ],
      "execution_count": null,
      "outputs": [
        {
          "output_type": "display_data",
          "data": {
            "image/png": "[encoded data removed]",
            "text/plain": [
              "<Figure size 1152x576 with 1 Axes>"
            ]
          },
          "metadata": {
            "tags": [],
            "needs_background": "light"
          }
        }
      ]
    },
    {
      "cell_type": "markdown",
      "metadata": {
        "id": "C5_bJdtCNGiB"
      },
      "source": [
        "###  Training"
      ]
    },
    {
      "cell_type": "code",
      "metadata": {
        "id": "aFzCvHxbNGiB"
      },
      "source": [
        "criterion = nn.CrossEntropyLoss()\n",
        "criterion = criterion.to(device)\n",
        "optimizer = torch.optim.SGD(model_Resnet44.parameters(), momentum=0.1, lr = 0.1, weight_decay=0.0001)\n",
        "# scheduler for VGG\n",
        "#scheduler = torch.optim.lr_scheduler.MultiStepLR(optimizer,milestones=[10], last_epoch= -1)\n",
        "# scheduler for ResNet\n",
        "##scheduler = torch.optim.lr_scheduler.MultiStepLR(optimizer,milestones=[100, 150], last_epoch= -1)"
      ],
      "execution_count": null,
      "outputs": []
    },
    {
      "cell_type": "code",
      "metadata": {
        "id": "T7TW-cshNGiC",
        "colab": {
          "base_uri": "https://localhost:8080/"
        },
        "outputId": "68ebfccd-ecbe-42e9-81c8-62dd752c3c4e"
      },
      "source": [
        "EPOCHS = 150\n",
        "train_loss_list_Resnet44 = []\n",
        "train_acc_list_Resnet44 = []\n",
        "\n",
        "val_loss_list_Resnet44 = []\n",
        "val_acc_list_Resnet44 = []\n",
        "\n",
        "for epoch in range(EPOCHS):\n",
        "    \n",
        "    start_time = time.time()\n",
        "    \n",
        "    train_loss, train_acc = train(model_Resnet44, train_loader, optimizer, criterion, device)\n",
        "    #optimizer.step()\n",
        "    val_loss, val_acc = evaluate(model_Resnet44, val_loader, criterion, device)\n",
        "    end_time = time.time()\n",
        "\n",
        "    train_loss_list_Resnet44.append(train_loss)\n",
        "    train_acc_list_Resnet44.append(train_acc)\n",
        "    val_loss_list_Resnet44.append(val_loss)\n",
        "    val_acc_list_Resnet44.append(val_acc)\n",
        "\n",
        "    epoch_mins, epoch_secs = epoch_time(start_time, end_time)\n",
        "\n",
        "    print(f'Epoch: {epoch+1:02} | Epoch Time: {epoch_mins}m {epoch_secs}s')\n",
        "    print(f'\\tTrain Loss: {train_loss:.3f} | Train Acc: {train_acc*100:.2f}%')\n",
        "    print(f'\\t Val. Loss: {val_loss:.3f} |  Val. Acc: {val_acc*100:.2f}%')\n",
        "    \n"
      ],
      "execution_count": null,
      "outputs": [
        {
          "output_type": "stream",
          "text": [
            "Epoch: 01 | Epoch Time: 0m 36s\n",
            "\tTrain Loss: 0.337 | Train Acc: 88.58%\n",
            "\t Val. Loss: 0.415 |  Val. Acc: 85.53%\n",
            "Epoch: 02 | Epoch Time: 0m 36s\n",
            "\tTrain Loss: 0.303 | Train Acc: 89.61%\n",
            "\t Val. Loss: 0.399 |  Val. Acc: 86.52%\n",
            "Epoch: 03 | Epoch Time: 0m 36s\n",
            "\tTrain Loss: 0.290 | Train Acc: 90.07%\n",
            "\t Val. Loss: 0.399 |  Val. Acc: 86.95%\n",
            "Epoch: 04 | Epoch Time: 0m 36s\n",
            "\tTrain Loss: 0.278 | Train Acc: 90.39%\n",
            "\t Val. Loss: 0.407 |  Val. Acc: 86.02%\n",
            "Epoch: 05 | Epoch Time: 0m 35s\n",
            "\tTrain Loss: 0.273 | Train Acc: 90.70%\n",
            "\t Val. Loss: 0.391 |  Val. Acc: 87.48%\n",
            "Epoch: 06 | Epoch Time: 0m 36s\n",
            "\tTrain Loss: 0.263 | Train Acc: 90.96%\n",
            "\t Val. Loss: 0.397 |  Val. Acc: 86.74%\n",
            "Epoch: 07 | Epoch Time: 0m 36s\n",
            "\tTrain Loss: 0.257 | Train Acc: 91.22%\n",
            "\t Val. Loss: 0.384 |  Val. Acc: 87.17%\n",
            "Epoch: 08 | Epoch Time: 0m 36s\n",
            "\tTrain Loss: 0.255 | Train Acc: 91.30%\n",
            "\t Val. Loss: 0.396 |  Val. Acc: 86.66%\n",
            "Epoch: 09 | Epoch Time: 0m 36s\n",
            "\tTrain Loss: 0.249 | Train Acc: 91.59%\n",
            "\t Val. Loss: 0.391 |  Val. Acc: 86.54%\n",
            "Epoch: 10 | Epoch Time: 0m 36s\n",
            "\tTrain Loss: 0.247 | Train Acc: 91.62%\n",
            "\t Val. Loss: 0.409 |  Val. Acc: 86.50%\n",
            "Epoch: 11 | Epoch Time: 0m 36s\n",
            "\tTrain Loss: 0.243 | Train Acc: 91.68%\n",
            "\t Val. Loss: 0.381 |  Val. Acc: 87.11%\n",
            "Epoch: 12 | Epoch Time: 0m 36s\n",
            "\tTrain Loss: 0.240 | Train Acc: 91.83%\n",
            "\t Val. Loss: 0.405 |  Val. Acc: 87.05%\n",
            "Epoch: 13 | Epoch Time: 0m 36s\n",
            "\tTrain Loss: 0.235 | Train Acc: 91.89%\n",
            "\t Val. Loss: 0.381 |  Val. Acc: 86.80%\n",
            "Epoch: 14 | Epoch Time: 0m 36s\n",
            "\tTrain Loss: 0.229 | Train Acc: 92.19%\n",
            "\t Val. Loss: 0.370 |  Val. Acc: 87.54%\n",
            "Epoch: 15 | Epoch Time: 0m 36s\n",
            "\tTrain Loss: 0.230 | Train Acc: 92.14%\n",
            "\t Val. Loss: 0.386 |  Val. Acc: 87.07%\n",
            "Epoch: 16 | Epoch Time: 0m 36s\n",
            "\tTrain Loss: 0.225 | Train Acc: 92.36%\n",
            "\t Val. Loss: 0.406 |  Val. Acc: 86.17%\n",
            "Epoch: 17 | Epoch Time: 0m 36s\n",
            "\tTrain Loss: 0.222 | Train Acc: 92.29%\n",
            "\t Val. Loss: 0.382 |  Val. Acc: 86.99%\n",
            "Epoch: 18 | Epoch Time: 0m 36s\n",
            "\tTrain Loss: 0.220 | Train Acc: 92.46%\n",
            "\t Val. Loss: 0.384 |  Val. Acc: 87.40%\n",
            "Epoch: 19 | Epoch Time: 0m 36s\n",
            "\tTrain Loss: 0.216 | Train Acc: 92.63%\n",
            "\t Val. Loss: 0.379 |  Val. Acc: 86.91%\n",
            "Epoch: 20 | Epoch Time: 0m 36s\n",
            "\tTrain Loss: 0.215 | Train Acc: 92.60%\n",
            "\t Val. Loss: 0.396 |  Val. Acc: 86.88%\n",
            "Epoch: 21 | Epoch Time: 0m 36s\n",
            "\tTrain Loss: 0.211 | Train Acc: 92.76%\n",
            "\t Val. Loss: 0.394 |  Val. Acc: 86.99%\n",
            "Epoch: 22 | Epoch Time: 0m 36s\n",
            "\tTrain Loss: 0.210 | Train Acc: 92.83%\n",
            "\t Val. Loss: 0.379 |  Val. Acc: 87.13%\n",
            "Epoch: 23 | Epoch Time: 0m 36s\n",
            "\tTrain Loss: 0.205 | Train Acc: 92.97%\n",
            "\t Val. Loss: 0.393 |  Val. Acc: 86.74%\n",
            "Epoch: 24 | Epoch Time: 0m 36s\n",
            "\tTrain Loss: 0.205 | Train Acc: 93.07%\n",
            "\t Val. Loss: 0.398 |  Val. Acc: 87.19%\n",
            "Epoch: 25 | Epoch Time: 0m 36s\n",
            "\tTrain Loss: 0.203 | Train Acc: 92.94%\n",
            "\t Val. Loss: 0.377 |  Val. Acc: 87.71%\n",
            "Epoch: 26 | Epoch Time: 0m 36s\n",
            "\tTrain Loss: 0.199 | Train Acc: 93.22%\n",
            "\t Val. Loss: 0.389 |  Val. Acc: 87.27%\n",
            "Epoch: 27 | Epoch Time: 0m 36s\n",
            "\tTrain Loss: 0.198 | Train Acc: 93.24%\n",
            "\t Val. Loss: 0.375 |  Val. Acc: 87.52%\n",
            "Epoch: 28 | Epoch Time: 0m 36s\n",
            "\tTrain Loss: 0.198 | Train Acc: 93.09%\n",
            "\t Val. Loss: 0.410 |  Val. Acc: 86.54%\n",
            "Epoch: 29 | Epoch Time: 0m 36s\n",
            "\tTrain Loss: 0.195 | Train Acc: 93.23%\n",
            "\t Val. Loss: 0.383 |  Val. Acc: 87.03%\n",
            "Epoch: 30 | Epoch Time: 0m 36s\n",
            "\tTrain Loss: 0.189 | Train Acc: 93.55%\n",
            "\t Val. Loss: 0.391 |  Val. Acc: 87.44%\n",
            "Epoch: 31 | Epoch Time: 0m 36s\n",
            "\tTrain Loss: 0.188 | Train Acc: 93.50%\n",
            "\t Val. Loss: 0.391 |  Val. Acc: 87.09%\n",
            "Epoch: 32 | Epoch Time: 0m 36s\n",
            "\tTrain Loss: 0.185 | Train Acc: 93.72%\n",
            "\t Val. Loss: 0.387 |  Val. Acc: 87.60%\n",
            "Epoch: 33 | Epoch Time: 0m 36s\n",
            "\tTrain Loss: 0.183 | Train Acc: 93.73%\n",
            "\t Val. Loss: 0.389 |  Val. Acc: 87.62%\n",
            "Epoch: 34 | Epoch Time: 0m 36s\n",
            "\tTrain Loss: 0.183 | Train Acc: 93.66%\n",
            "\t Val. Loss: 0.400 |  Val. Acc: 87.34%\n",
            "Epoch: 35 | Epoch Time: 0m 36s\n",
            "\tTrain Loss: 0.181 | Train Acc: 93.83%\n",
            "\t Val. Loss: 0.404 |  Val. Acc: 86.99%\n",
            "Epoch: 36 | Epoch Time: 0m 36s\n",
            "\tTrain Loss: 0.177 | Train Acc: 93.90%\n",
            "\t Val. Loss: 0.396 |  Val. Acc: 87.48%\n",
            "Epoch: 37 | Epoch Time: 0m 36s\n",
            "\tTrain Loss: 0.178 | Train Acc: 93.88%\n",
            "\t Val. Loss: 0.389 |  Val. Acc: 87.52%\n",
            "Epoch: 38 | Epoch Time: 0m 36s\n",
            "\tTrain Loss: 0.174 | Train Acc: 94.05%\n",
            "\t Val. Loss: 0.400 |  Val. Acc: 86.80%\n",
            "Epoch: 39 | Epoch Time: 0m 36s\n",
            "\tTrain Loss: 0.173 | Train Acc: 94.04%\n",
            "\t Val. Loss: 0.413 |  Val. Acc: 86.72%\n",
            "Epoch: 40 | Epoch Time: 0m 36s\n",
            "\tTrain Loss: 0.170 | Train Acc: 94.19%\n",
            "\t Val. Loss: 0.413 |  Val. Acc: 86.91%\n",
            "Epoch: 41 | Epoch Time: 0m 36s\n",
            "\tTrain Loss: 0.170 | Train Acc: 94.09%\n",
            "\t Val. Loss: 0.411 |  Val. Acc: 87.17%\n",
            "Epoch: 42 | Epoch Time: 0m 36s\n",
            "\tTrain Loss: 0.168 | Train Acc: 94.28%\n",
            "\t Val. Loss: 0.418 |  Val. Acc: 86.45%\n",
            "Epoch: 43 | Epoch Time: 0m 36s\n",
            "\tTrain Loss: 0.164 | Train Acc: 94.41%\n",
            "\t Val. Loss: 0.420 |  Val. Acc: 87.13%\n",
            "Epoch: 44 | Epoch Time: 0m 36s\n",
            "\tTrain Loss: 0.160 | Train Acc: 94.40%\n",
            "\t Val. Loss: 0.408 |  Val. Acc: 87.73%\n",
            "Epoch: 45 | Epoch Time: 0m 36s\n",
            "\tTrain Loss: 0.158 | Train Acc: 94.62%\n",
            "\t Val. Loss: 0.444 |  Val. Acc: 87.38%\n",
            "Epoch: 46 | Epoch Time: 0m 36s\n",
            "\tTrain Loss: 0.157 | Train Acc: 94.59%\n",
            "\t Val. Loss: 0.421 |  Val. Acc: 87.36%\n",
            "Epoch: 47 | Epoch Time: 0m 36s\n",
            "\tTrain Loss: 0.159 | Train Acc: 94.62%\n",
            "\t Val. Loss: 0.413 |  Val. Acc: 87.34%\n",
            "Epoch: 48 | Epoch Time: 0m 36s\n",
            "\tTrain Loss: 0.155 | Train Acc: 94.52%\n",
            "\t Val. Loss: 0.441 |  Val. Acc: 86.52%\n",
            "Epoch: 49 | Epoch Time: 0m 36s\n",
            "\tTrain Loss: 0.151 | Train Acc: 94.81%\n",
            "\t Val. Loss: 0.429 |  Val. Acc: 87.03%\n",
            "Epoch: 50 | Epoch Time: 0m 36s\n",
            "\tTrain Loss: 0.149 | Train Acc: 94.85%\n",
            "\t Val. Loss: 0.415 |  Val. Acc: 87.46%\n",
            "Epoch: 51 | Epoch Time: 0m 36s\n",
            "\tTrain Loss: 0.149 | Train Acc: 94.86%\n",
            "\t Val. Loss: 0.421 |  Val. Acc: 87.64%\n",
            "Epoch: 52 | Epoch Time: 0m 36s\n",
            "\tTrain Loss: 0.147 | Train Acc: 94.98%\n",
            "\t Val. Loss: 0.444 |  Val. Acc: 87.09%\n",
            "Epoch: 53 | Epoch Time: 0m 36s\n",
            "\tTrain Loss: 0.145 | Train Acc: 95.03%\n",
            "\t Val. Loss: 0.444 |  Val. Acc: 86.74%\n",
            "Epoch: 54 | Epoch Time: 0m 36s\n",
            "\tTrain Loss: 0.144 | Train Acc: 94.99%\n",
            "\t Val. Loss: 0.447 |  Val. Acc: 86.95%\n",
            "Epoch: 55 | Epoch Time: 0m 36s\n",
            "\tTrain Loss: 0.143 | Train Acc: 95.09%\n",
            "\t Val. Loss: 0.431 |  Val. Acc: 87.09%\n",
            "Epoch: 56 | Epoch Time: 0m 36s\n",
            "\tTrain Loss: 0.140 | Train Acc: 95.22%\n",
            "\t Val. Loss: 0.448 |  Val. Acc: 86.66%\n",
            "Epoch: 57 | Epoch Time: 0m 36s\n",
            "\tTrain Loss: 0.136 | Train Acc: 95.33%\n",
            "\t Val. Loss: 0.465 |  Val. Acc: 87.23%\n",
            "Epoch: 58 | Epoch Time: 0m 36s\n",
            "\tTrain Loss: 0.136 | Train Acc: 95.40%\n",
            "\t Val. Loss: 0.480 |  Val. Acc: 86.41%\n",
            "Epoch: 59 | Epoch Time: 0m 36s\n",
            "\tTrain Loss: 0.134 | Train Acc: 95.40%\n",
            "\t Val. Loss: 0.507 |  Val. Acc: 86.68%\n",
            "Epoch: 60 | Epoch Time: 0m 36s\n",
            "\tTrain Loss: 0.132 | Train Acc: 95.42%\n",
            "\t Val. Loss: 0.460 |  Val. Acc: 86.37%\n",
            "Epoch: 61 | Epoch Time: 0m 36s\n",
            "\tTrain Loss: 0.131 | Train Acc: 95.49%\n",
            "\t Val. Loss: 0.486 |  Val. Acc: 85.74%\n",
            "Epoch: 62 | Epoch Time: 0m 36s\n",
            "\tTrain Loss: 0.128 | Train Acc: 95.63%\n",
            "\t Val. Loss: 0.469 |  Val. Acc: 86.70%\n",
            "Epoch: 63 | Epoch Time: 0m 36s\n",
            "\tTrain Loss: 0.127 | Train Acc: 95.69%\n",
            "\t Val. Loss: 0.458 |  Val. Acc: 86.45%\n",
            "Epoch: 64 | Epoch Time: 0m 36s\n",
            "\tTrain Loss: 0.126 | Train Acc: 95.64%\n",
            "\t Val. Loss: 0.484 |  Val. Acc: 86.48%\n",
            "Epoch: 65 | Epoch Time: 0m 36s\n",
            "\tTrain Loss: 0.124 | Train Acc: 95.75%\n",
            "\t Val. Loss: 0.464 |  Val. Acc: 86.93%\n",
            "Epoch: 66 | Epoch Time: 0m 36s\n",
            "\tTrain Loss: 0.122 | Train Acc: 95.88%\n",
            "\t Val. Loss: 0.543 |  Val. Acc: 85.47%\n",
            "Epoch: 67 | Epoch Time: 0m 36s\n",
            "\tTrain Loss: 0.119 | Train Acc: 95.91%\n",
            "\t Val. Loss: 0.536 |  Val. Acc: 85.12%\n",
            "Epoch: 68 | Epoch Time: 0m 36s\n",
            "\tTrain Loss: 0.117 | Train Acc: 95.90%\n",
            "\t Val. Loss: 0.529 |  Val. Acc: 85.04%\n",
            "Epoch: 69 | Epoch Time: 0m 36s\n",
            "\tTrain Loss: 0.117 | Train Acc: 95.92%\n",
            "\t Val. Loss: 0.491 |  Val. Acc: 86.11%\n",
            "Epoch: 70 | Epoch Time: 0m 36s\n",
            "\tTrain Loss: 0.116 | Train Acc: 96.00%\n",
            "\t Val. Loss: 0.501 |  Val. Acc: 86.00%\n",
            "Epoch: 71 | Epoch Time: 0m 36s\n",
            "\tTrain Loss: 0.113 | Train Acc: 96.16%\n",
            "\t Val. Loss: 0.543 |  Val. Acc: 85.88%\n",
            "Epoch: 72 | Epoch Time: 0m 36s\n",
            "\tTrain Loss: 0.112 | Train Acc: 96.18%\n",
            "\t Val. Loss: 0.499 |  Val. Acc: 86.89%\n",
            "Epoch: 73 | Epoch Time: 0m 36s\n",
            "\tTrain Loss: 0.110 | Train Acc: 96.20%\n",
            "\t Val. Loss: 0.512 |  Val. Acc: 86.50%\n",
            "Epoch: 74 | Epoch Time: 0m 36s\n",
            "\tTrain Loss: 0.109 | Train Acc: 96.25%\n",
            "\t Val. Loss: 0.518 |  Val. Acc: 85.82%\n",
            "Epoch: 75 | Epoch Time: 0m 36s\n",
            "\tTrain Loss: 0.107 | Train Acc: 96.37%\n",
            "\t Val. Loss: 0.516 |  Val. Acc: 86.89%\n",
            "Epoch: 76 | Epoch Time: 0m 36s\n",
            "\tTrain Loss: 0.107 | Train Acc: 96.29%\n",
            "\t Val. Loss: 0.533 |  Val. Acc: 85.96%\n",
            "Epoch: 77 | Epoch Time: 0m 36s\n",
            "\tTrain Loss: 0.103 | Train Acc: 96.45%\n",
            "\t Val. Loss: 0.498 |  Val. Acc: 86.56%\n",
            "Epoch: 78 | Epoch Time: 0m 36s\n",
            "\tTrain Loss: 0.103 | Train Acc: 96.49%\n",
            "\t Val. Loss: 0.540 |  Val. Acc: 86.39%\n",
            "Epoch: 79 | Epoch Time: 0m 36s\n",
            "\tTrain Loss: 0.103 | Train Acc: 96.46%\n",
            "\t Val. Loss: 0.506 |  Val. Acc: 86.72%\n",
            "Epoch: 80 | Epoch Time: 0m 36s\n",
            "\tTrain Loss: 0.100 | Train Acc: 96.59%\n",
            "\t Val. Loss: 0.515 |  Val. Acc: 86.05%\n",
            "Epoch: 81 | Epoch Time: 0m 36s\n",
            "\tTrain Loss: 0.102 | Train Acc: 96.47%\n",
            "\t Val. Loss: 0.531 |  Val. Acc: 86.19%\n",
            "Epoch: 82 | Epoch Time: 0m 36s\n",
            "\tTrain Loss: 0.097 | Train Acc: 96.72%\n",
            "\t Val. Loss: 0.507 |  Val. Acc: 87.09%\n",
            "Epoch: 83 | Epoch Time: 0m 36s\n",
            "\tTrain Loss: 0.096 | Train Acc: 96.64%\n",
            "\t Val. Loss: 0.548 |  Val. Acc: 86.13%\n",
            "Epoch: 84 | Epoch Time: 0m 36s\n",
            "\tTrain Loss: 0.098 | Train Acc: 96.67%\n",
            "\t Val. Loss: 0.531 |  Val. Acc: 85.98%\n",
            "Epoch: 85 | Epoch Time: 0m 36s\n",
            "\tTrain Loss: 0.094 | Train Acc: 96.69%\n",
            "\t Val. Loss: 0.569 |  Val. Acc: 85.31%\n",
            "Epoch: 86 | Epoch Time: 0m 36s\n",
            "\tTrain Loss: 0.096 | Train Acc: 96.70%\n",
            "\t Val. Loss: 0.565 |  Val. Acc: 85.96%\n",
            "Epoch: 87 | Epoch Time: 0m 36s\n",
            "\tTrain Loss: 0.091 | Train Acc: 96.92%\n",
            "\t Val. Loss: 0.548 |  Val. Acc: 86.52%\n",
            "Epoch: 88 | Epoch Time: 0m 36s\n",
            "\tTrain Loss: 0.089 | Train Acc: 96.98%\n",
            "\t Val. Loss: 0.591 |  Val. Acc: 85.51%\n",
            "Epoch: 89 | Epoch Time: 0m 36s\n",
            "\tTrain Loss: 0.085 | Train Acc: 97.09%\n",
            "\t Val. Loss: 0.570 |  Val. Acc: 85.84%\n",
            "Epoch: 90 | Epoch Time: 0m 36s\n",
            "\tTrain Loss: 0.088 | Train Acc: 96.97%\n",
            "\t Val. Loss: 0.581 |  Val. Acc: 86.39%\n",
            "Epoch: 91 | Epoch Time: 0m 36s\n",
            "\tTrain Loss: 0.086 | Train Acc: 97.02%\n",
            "\t Val. Loss: 0.614 |  Val. Acc: 85.82%\n",
            "Epoch: 92 | Epoch Time: 0m 36s\n",
            "\tTrain Loss: 0.081 | Train Acc: 97.30%\n",
            "\t Val. Loss: 0.593 |  Val. Acc: 86.15%\n",
            "Epoch: 93 | Epoch Time: 0m 36s\n",
            "\tTrain Loss: 0.085 | Train Acc: 97.10%\n",
            "\t Val. Loss: 0.571 |  Val. Acc: 85.00%\n",
            "Epoch: 94 | Epoch Time: 0m 36s\n",
            "\tTrain Loss: 0.083 | Train Acc: 97.19%\n",
            "\t Val. Loss: 0.545 |  Val. Acc: 85.72%\n",
            "Epoch: 95 | Epoch Time: 0m 36s\n",
            "\tTrain Loss: 0.084 | Train Acc: 97.10%\n",
            "\t Val. Loss: 0.612 |  Val. Acc: 85.92%\n",
            "Epoch: 96 | Epoch Time: 0m 36s\n",
            "\tTrain Loss: 0.085 | Train Acc: 97.00%\n",
            "\t Val. Loss: 0.605 |  Val. Acc: 85.62%\n",
            "Epoch: 97 | Epoch Time: 0m 36s\n",
            "\tTrain Loss: 0.082 | Train Acc: 97.15%\n",
            "\t Val. Loss: 0.605 |  Val. Acc: 86.15%\n",
            "Epoch: 98 | Epoch Time: 0m 36s\n",
            "\tTrain Loss: 0.081 | Train Acc: 97.27%\n",
            "\t Val. Loss: 0.618 |  Val. Acc: 85.39%\n",
            "Epoch: 99 | Epoch Time: 0m 36s\n",
            "\tTrain Loss: 0.082 | Train Acc: 97.15%\n",
            "\t Val. Loss: 0.579 |  Val. Acc: 86.00%\n",
            "Epoch: 100 | Epoch Time: 0m 36s\n",
            "\tTrain Loss: 0.075 | Train Acc: 97.38%\n",
            "\t Val. Loss: 0.647 |  Val. Acc: 85.29%\n",
            "Epoch: 101 | Epoch Time: 0m 36s\n",
            "\tTrain Loss: 0.078 | Train Acc: 97.32%\n",
            "\t Val. Loss: 0.618 |  Val. Acc: 86.29%\n",
            "Epoch: 102 | Epoch Time: 0m 36s\n",
            "\tTrain Loss: 0.078 | Train Acc: 97.34%\n",
            "\t Val. Loss: 0.605 |  Val. Acc: 85.31%\n",
            "Epoch: 103 | Epoch Time: 0m 36s\n",
            "\tTrain Loss: 0.077 | Train Acc: 97.27%\n",
            "\t Val. Loss: 0.573 |  Val. Acc: 86.13%\n",
            "Epoch: 104 | Epoch Time: 0m 36s\n",
            "\tTrain Loss: 0.077 | Train Acc: 97.32%\n",
            "\t Val. Loss: 0.622 |  Val. Acc: 85.66%\n",
            "Epoch: 105 | Epoch Time: 0m 36s\n",
            "\tTrain Loss: 0.076 | Train Acc: 97.45%\n",
            "\t Val. Loss: 0.642 |  Val. Acc: 85.39%\n",
            "Epoch: 106 | Epoch Time: 0m 36s\n",
            "\tTrain Loss: 0.071 | Train Acc: 97.58%\n",
            "\t Val. Loss: 0.601 |  Val. Acc: 86.29%\n",
            "Epoch: 107 | Epoch Time: 0m 36s\n",
            "\tTrain Loss: 0.073 | Train Acc: 97.57%\n",
            "\t Val. Loss: 0.634 |  Val. Acc: 85.55%\n",
            "Epoch: 108 | Epoch Time: 0m 36s\n",
            "\tTrain Loss: 0.073 | Train Acc: 97.49%\n",
            "\t Val. Loss: 0.622 |  Val. Acc: 85.49%\n",
            "Epoch: 109 | Epoch Time: 0m 36s\n",
            "\tTrain Loss: 0.073 | Train Acc: 97.57%\n",
            "\t Val. Loss: 0.715 |  Val. Acc: 84.55%\n",
            "Epoch: 110 | Epoch Time: 0m 35s\n",
            "\tTrain Loss: 0.068 | Train Acc: 97.67%\n",
            "\t Val. Loss: 0.659 |  Val. Acc: 85.37%\n",
            "Epoch: 111 | Epoch Time: 0m 36s\n",
            "\tTrain Loss: 0.072 | Train Acc: 97.39%\n",
            "\t Val. Loss: 0.639 |  Val. Acc: 85.18%\n",
            "Epoch: 112 | Epoch Time: 0m 36s\n",
            "\tTrain Loss: 0.072 | Train Acc: 97.56%\n",
            "\t Val. Loss: 0.670 |  Val. Acc: 84.75%\n",
            "Epoch: 113 | Epoch Time: 0m 35s\n",
            "\tTrain Loss: 0.071 | Train Acc: 97.52%\n",
            "\t Val. Loss: 0.670 |  Val. Acc: 85.02%\n",
            "Epoch: 114 | Epoch Time: 0m 35s\n",
            "\tTrain Loss: 0.067 | Train Acc: 97.74%\n",
            "\t Val. Loss: 0.602 |  Val. Acc: 85.51%\n",
            "Epoch: 115 | Epoch Time: 0m 36s\n",
            "\tTrain Loss: 0.067 | Train Acc: 97.78%\n",
            "\t Val. Loss: 0.643 |  Val. Acc: 85.51%\n",
            "Epoch: 116 | Epoch Time: 0m 36s\n",
            "\tTrain Loss: 0.070 | Train Acc: 97.61%\n",
            "\t Val. Loss: 0.635 |  Val. Acc: 85.59%\n",
            "Epoch: 117 | Epoch Time: 0m 36s\n",
            "\tTrain Loss: 0.066 | Train Acc: 97.73%\n",
            "\t Val. Loss: 0.668 |  Val. Acc: 85.21%\n",
            "Epoch: 118 | Epoch Time: 0m 36s\n",
            "\tTrain Loss: 0.063 | Train Acc: 97.86%\n",
            "\t Val. Loss: 0.641 |  Val. Acc: 85.59%\n",
            "Epoch: 119 | Epoch Time: 0m 35s\n",
            "\tTrain Loss: 0.071 | Train Acc: 97.60%\n",
            "\t Val. Loss: 0.646 |  Val. Acc: 85.82%\n",
            "Epoch: 120 | Epoch Time: 0m 36s\n",
            "\tTrain Loss: 0.064 | Train Acc: 97.79%\n",
            "\t Val. Loss: 0.684 |  Val. Acc: 85.61%\n",
            "Epoch: 121 | Epoch Time: 0m 36s\n",
            "\tTrain Loss: 0.065 | Train Acc: 97.90%\n",
            "\t Val. Loss: 0.656 |  Val. Acc: 85.25%\n",
            "Epoch: 122 | Epoch Time: 0m 36s\n",
            "\tTrain Loss: 0.063 | Train Acc: 97.84%\n",
            "\t Val. Loss: 0.650 |  Val. Acc: 85.57%\n",
            "Epoch: 123 | Epoch Time: 0m 36s\n",
            "\tTrain Loss: 0.064 | Train Acc: 97.78%\n",
            "\t Val. Loss: 0.657 |  Val. Acc: 85.86%\n",
            "Epoch: 124 | Epoch Time: 0m 36s\n",
            "\tTrain Loss: 0.068 | Train Acc: 97.65%\n",
            "\t Val. Loss: 0.685 |  Val. Acc: 85.72%\n",
            "Epoch: 125 | Epoch Time: 0m 36s\n",
            "\tTrain Loss: 0.062 | Train Acc: 97.89%\n",
            "\t Val. Loss: 0.674 |  Val. Acc: 84.65%\n",
            "Epoch: 126 | Epoch Time: 0m 36s\n",
            "\tTrain Loss: 0.060 | Train Acc: 97.99%\n",
            "\t Val. Loss: 0.644 |  Val. Acc: 85.78%\n",
            "Epoch: 127 | Epoch Time: 0m 36s\n",
            "\tTrain Loss: 0.065 | Train Acc: 97.76%\n",
            "\t Val. Loss: 0.660 |  Val. Acc: 85.37%\n",
            "Epoch: 128 | Epoch Time: 0m 36s\n",
            "\tTrain Loss: 0.063 | Train Acc: 97.87%\n",
            "\t Val. Loss: 0.741 |  Val. Acc: 84.30%\n",
            "Epoch: 129 | Epoch Time: 0m 36s\n",
            "\tTrain Loss: 0.061 | Train Acc: 97.87%\n",
            "\t Val. Loss: 0.834 |  Val. Acc: 83.81%\n",
            "Epoch: 130 | Epoch Time: 0m 36s\n",
            "\tTrain Loss: 0.064 | Train Acc: 97.81%\n",
            "\t Val. Loss: 0.726 |  Val. Acc: 84.88%\n",
            "Epoch: 131 | Epoch Time: 0m 36s\n",
            "\tTrain Loss: 0.062 | Train Acc: 97.84%\n",
            "\t Val. Loss: 0.644 |  Val. Acc: 85.47%\n",
            "Epoch: 132 | Epoch Time: 0m 36s\n",
            "\tTrain Loss: 0.059 | Train Acc: 98.01%\n",
            "\t Val. Loss: 0.769 |  Val. Acc: 84.53%\n",
            "Epoch: 133 | Epoch Time: 0m 36s\n",
            "\tTrain Loss: 0.060 | Train Acc: 97.94%\n",
            "\t Val. Loss: 0.740 |  Val. Acc: 84.41%\n",
            "Epoch: 134 | Epoch Time: 0m 35s\n",
            "\tTrain Loss: 0.061 | Train Acc: 97.95%\n",
            "\t Val. Loss: 0.745 |  Val. Acc: 84.02%\n",
            "Epoch: 135 | Epoch Time: 0m 36s\n",
            "\tTrain Loss: 0.057 | Train Acc: 98.03%\n",
            "\t Val. Loss: 0.688 |  Val. Acc: 85.72%\n",
            "Epoch: 136 | Epoch Time: 0m 36s\n",
            "\tTrain Loss: 0.059 | Train Acc: 97.90%\n",
            "\t Val. Loss: 0.711 |  Val. Acc: 84.57%\n",
            "Epoch: 137 | Epoch Time: 0m 36s\n",
            "\tTrain Loss: 0.063 | Train Acc: 97.84%\n",
            "\t Val. Loss: 0.684 |  Val. Acc: 85.51%\n",
            "Epoch: 138 | Epoch Time: 0m 36s\n",
            "\tTrain Loss: 0.055 | Train Acc: 98.14%\n",
            "\t Val. Loss: 0.733 |  Val. Acc: 84.49%\n",
            "Epoch: 139 | Epoch Time: 0m 36s\n",
            "\tTrain Loss: 0.057 | Train Acc: 98.07%\n",
            "\t Val. Loss: 0.647 |  Val. Acc: 85.84%\n",
            "Epoch: 140 | Epoch Time: 0m 36s\n",
            "\tTrain Loss: 0.057 | Train Acc: 98.06%\n",
            "\t Val. Loss: 0.735 |  Val. Acc: 84.96%\n",
            "Epoch: 141 | Epoch Time: 0m 36s\n",
            "\tTrain Loss: 0.058 | Train Acc: 98.03%\n",
            "\t Val. Loss: 0.769 |  Val. Acc: 83.93%\n",
            "Epoch: 142 | Epoch Time: 0m 35s\n",
            "\tTrain Loss: 0.060 | Train Acc: 97.94%\n",
            "\t Val. Loss: 0.741 |  Val. Acc: 84.41%\n",
            "Epoch: 143 | Epoch Time: 0m 36s\n",
            "\tTrain Loss: 0.056 | Train Acc: 98.07%\n",
            "\t Val. Loss: 0.795 |  Val. Acc: 83.48%\n",
            "Epoch: 144 | Epoch Time: 0m 36s\n",
            "\tTrain Loss: 0.056 | Train Acc: 98.09%\n",
            "\t Val. Loss: 0.698 |  Val. Acc: 85.21%\n",
            "Epoch: 145 | Epoch Time: 0m 35s\n",
            "\tTrain Loss: 0.057 | Train Acc: 98.11%\n",
            "\t Val. Loss: 0.697 |  Val. Acc: 85.41%\n",
            "Epoch: 146 | Epoch Time: 0m 36s\n",
            "\tTrain Loss: 0.055 | Train Acc: 98.12%\n",
            "\t Val. Loss: 0.730 |  Val. Acc: 84.55%\n",
            "Epoch: 147 | Epoch Time: 0m 36s\n",
            "\tTrain Loss: 0.059 | Train Acc: 97.96%\n",
            "\t Val. Loss: 0.786 |  Val. Acc: 84.36%\n",
            "Epoch: 148 | Epoch Time: 0m 36s\n",
            "\tTrain Loss: 0.057 | Train Acc: 98.10%\n",
            "\t Val. Loss: 0.660 |  Val. Acc: 85.88%\n",
            "Epoch: 149 | Epoch Time: 0m 36s\n",
            "\tTrain Loss: 0.058 | Train Acc: 98.04%\n",
            "\t Val. Loss: 0.755 |  Val. Acc: 84.75%\n",
            "Epoch: 150 | Epoch Time: 0m 36s\n",
            "\tTrain Loss: 0.053 | Train Acc: 98.19%\n",
            "\t Val. Loss: 0.744 |  Val. Acc: 84.45%\n"
          ],
          "name": "stdout"
        }
      ]
    },
    {
      "cell_type": "code",
      "metadata": {
        "id": "551DHVHBNGiC"
      },
      "source": [
        "images, labels, probs = get_preds(model_Resnet44, test_loader)\n",
        "pred_labels = torch.argmax(probs, 1)"
      ],
      "execution_count": null,
      "outputs": []
    },
    {
      "cell_type": "code",
      "metadata": {
        "id": "2gE-3T5LNGiC",
        "colab": {
          "base_uri": "https://localhost:8080/",
          "height": 580
        },
        "outputId": "817c0894-16d3-4444-9cfd-35eb2ad66b60"
      },
      "source": [
        "classes = test.classes\n",
        "\n",
        "plot_confusion_matrix(labels, pred_labels, classes)"
      ],
      "execution_count": null,
      "outputs": [
        {
          "output_type": "display_data",
          "data": {
            "image/png": "[encoded data removed]",
            "text/plain": [
              "<Figure size 720x720 with 2 Axes>"
            ]
          },
          "metadata": {
            "tags": [],
            "needs_background": "light"
          }
        }
      ]
    },
    {
      "cell_type": "code",
      "metadata": {
        "id": "SuS3aqYhNGiC",
        "colab": {
          "base_uri": "https://localhost:8080/",
          "height": 298
        },
        "outputId": "6395e8be-adeb-40b4-d3f6-6a6da6c9ae9f"
      },
      "source": [
        "plt.plot([i for i in range(1,EPOCHS + 1)], train_loss_list_Resnet44, label = 'training loss')\n",
        "plt.plot([i for i in range(1,EPOCHS + 1)], val_loss_list_Resnet44, label = 'validation loss')\n",
        "plt.legend()\n",
        "plt.title('Resnet44 , Cross Entropy Loss across Epochs')"
      ],
      "execution_count": null,
      "outputs": [
        {
          "output_type": "execute_result",
          "data": {
            "text/plain": [
              "Text(0.5, 1.0, 'VGG1 , Cross Entropy Loss across Epochs')"
            ]
          },
          "metadata": {
            "tags": []
          },
          "execution_count": 60
        },
        {
          "output_type": "display_data",
          "data": {
            "image/png": "[encoded data removed]",
            "text/plain": [
              "<Figure size 432x288 with 1 Axes>"
            ]
          },
          "metadata": {
            "tags": [],
            "needs_background": "light"
          }
        }
      ]
    },
    {
      "cell_type": "code",
      "metadata": {
        "id": "DQrl83ozNGiD",
        "colab": {
          "base_uri": "https://localhost:8080/",
          "height": 298
        },
        "outputId": "bf977c30-8108-4163-8862-24635bd831ce"
      },
      "source": [
        "plt.plot([i for i in range(1,EPOCHS + 1)], train_acc_list_Resnet44, label = 'training accuracy')\n",
        "plt.plot([i for i in range(1,EPOCHS + 1)], val_acc_list_Resnet44, label = 'validation accuracy')\n",
        "plt.legend()\n",
        "plt.title('Resnet44 , Accuracy across Epochs')"
      ],
      "execution_count": null,
      "outputs": [
        {
          "output_type": "execute_result",
          "data": {
            "text/plain": [
              "Text(0.5, 1.0, 'VGG1 , Accuracy across Epochs')"
            ]
          },
          "metadata": {
            "tags": []
          },
          "execution_count": 61
        },
        {
          "output_type": "display_data",
          "data": {
            "image/png": "[encoded data removed]",
            "text/plain": [
              "<Figure size 432x288 with 1 Axes>"
            ]
          },
          "metadata": {
            "tags": [],
            "needs_background": "light"
          }
        }
      ]
    },
    {
      "cell_type": "code",
      "metadata": {
        "id": "JlbmARlRNGiD"
      },
      "source": [
        "labels_accuracy(labels.numpy(), pred_labels.numpy())"
      ],
      "execution_count": null,
      "outputs": []
    },
    {
      "cell_type": "code",
      "metadata": {
        "id": "yKie_zDyNGiD"
      },
      "source": [
        "correct_pred = torch.eq(labels, pred_labels)\n",
        "incorrect_examples = []\n",
        "\n",
        "for image, label, prob, correct in zip(images, labels, probs, correct_pred):\n",
        "    if not correct:\n",
        "        incorrect_examples.append((image, label, prob))\n",
        "\n",
        "incorrect_examples.sort(reverse = True, key = lambda x: torch.max(x[2], dim = 0).values)"
      ],
      "execution_count": null,
      "outputs": []
    },
    {
      "cell_type": "code",
      "metadata": {
        "id": "omdMieN5NGiD"
      },
      "source": [
        "show_incorrect_preds(incorrect_examples, classes, 5)"
      ],
      "execution_count": null,
      "outputs": []
    },
    {
      "cell_type": "markdown",
      "metadata": {
        "id": "UrQU_FDPea7Z"
      },
      "source": [
        "## Resnet20"
      ]
    },
    {
      "cell_type": "code",
      "metadata": {
        "id": "xG3HZWIqefG8"
      },
      "source": [
        "model_Resnet20 = CIFARResNet(cifar_resnet20_config,10)\n",
        "#model_Resnet44 = CIFARResNet(cifar_resnet44_config,10)"
      ],
      "execution_count": null,
      "outputs": []
    },
    {
      "cell_type": "code",
      "metadata": {
        "id": "ZGhI1yGDefPI"
      },
      "source": [
        "device = 'cuda' if torch.cuda.is_available() else 'cpu'\n",
        "model_Resnet20 = model_Resnet20.to(device)\n",
        "#model_Resnet44"
      ],
      "execution_count": null,
      "outputs": []
    },
    {
      "cell_type": "code",
      "metadata": {
        "id": "rIjPfFRcefSY"
      },
      "source": [
        "from torchsummary import summary\n",
        "\n",
        "#summary(model_Resnet20.to(device), (3, 32, 32))"
      ],
      "execution_count": null,
      "outputs": []
    },
    {
      "cell_type": "markdown",
      "metadata": {
        "id": "Zq7GLjwEe-JD"
      },
      "source": [
        "### Find Best LR"
      ]
    },
    {
      "cell_type": "code",
      "metadata": {
        "id": "q7hS5x63efVt"
      },
      "source": [
        "START_LR = 1e-7\n",
        "\n",
        "optimizer = optim.SGD(model_Resnet20.parameters(), momentum=0.9, lr = START_LR)\n",
        "\n",
        "device = torch.device('cuda' if torch.cuda.is_available() else 'cpu')\n",
        "\n",
        "criterion = nn.CrossEntropyLoss()\n",
        "\n",
        "model_Resnet20 = model_Resnet20.to(device)\n",
        "criterion = criterion.to(device)"
      ],
      "execution_count": null,
      "outputs": []
    },
    {
      "cell_type": "code",
      "metadata": {
        "id": "sIHgUmnEfHnT"
      },
      "source": [
        "END_LR = 10\n",
        "NUM_ITER = 100\n",
        "\n",
        "lr_finder = LRFinder(model_Resnet20, optimizer, criterion, device)\n",
        "lrs, losses = lr_finder.range_test(train_loader, END_LR, NUM_ITER)"
      ],
      "execution_count": null,
      "outputs": []
    },
    {
      "cell_type": "code",
      "metadata": {
        "id": "QJXRFY_zefYq"
      },
      "source": [
        "plot_lr_finder(lrs, losses, skip_start = 10, skip_end = 20)"
      ],
      "execution_count": null,
      "outputs": []
    },
    {
      "cell_type": "markdown",
      "metadata": {
        "id": "lHmXAgcifEsO"
      },
      "source": [
        "### Training"
      ]
    },
    {
      "cell_type": "code",
      "metadata": {
        "id": "Uzb2KITVeaFx"
      },
      "source": [
        "EPOCHS = 150\n",
        "train_loss_list_Resnet20 = []\n",
        "train_acc_list_Resnet20 = []\n",
        "\n",
        "val_loss_list_Resnet20 = []\n",
        "val_acc_list_Resnet20 = []\n",
        "\n",
        "for epoch in range(EPOCHS):\n",
        "    \n",
        "    start_time = time.time()\n",
        "    \n",
        "    train_loss, train_acc = train(model_Resnet20, train_loader, optimizer, criterion, device)\n",
        "    #optimizer.step()\n",
        "    val_loss, val_acc = evaluate(model_Resnet20, val_loader, criterion, device)\n",
        "    end_time = time.time()\n",
        "\n",
        "    train_loss_list_Resnet20.append(train_loss)\n",
        "    train_acc_list_Resnet20.append(train_acc)\n",
        "    val_loss_list_Resnet20.append(val_loss)\n",
        "    val_acc_list_Resnet20.append(val_acc)\n",
        "\n",
        "    epoch_mins, epoch_secs = epoch_time(start_time, end_time)\n",
        "\n",
        "    print(f'Epoch: {epoch+1:02} | Epoch Time: {epoch_mins}m {epoch_secs}s')\n",
        "    print(f'\\tTrain Loss: {train_loss:.3f} | Train Acc: {train_acc*100:.2f}%')\n",
        "    print(f'\\t Val. Loss: {val_loss:.3f} |  Val. Acc: {val_acc*100:.2f}%')\n",
        "    \n"
      ],
      "execution_count": null,
      "outputs": []
    },
    {
      "cell_type": "code",
      "metadata": {
        "id": "KZN4gMldfRKD"
      },
      "source": [
        "images, labels, probs = get_preds(model_Resnet20, test_loader)\n",
        "pred_labels = torch.argmax(probs, 1)"
      ],
      "execution_count": null,
      "outputs": []
    },
    {
      "cell_type": "code",
      "metadata": {
        "id": "d9d2hRgPfRNf"
      },
      "source": [
        "classes = test.classes\n",
        "\n",
        "plot_confusion_matrix(labels, pred_labels, classes)"
      ],
      "execution_count": null,
      "outputs": []
    },
    {
      "cell_type": "code",
      "metadata": {
        "id": "RfD7tH7-fRQd"
      },
      "source": [
        "plt.plot([i for i in range(1,EPOCHS + 1)], train_loss_list_Resnet20, label = 'training loss')\n",
        "plt.plot([i for i in range(1,EPOCHS + 1)], val_loss_list_Resnet20, label = 'validation loss')\n",
        "plt.legend()\n",
        "plt.title('Resnet20 , Cross Entropy Loss across Epochs')"
      ],
      "execution_count": null,
      "outputs": []
    },
    {
      "cell_type": "code",
      "metadata": {
        "id": "G54Ljk-4fRZy"
      },
      "source": [
        "plt.plot([i for i in range(1,EPOCHS + 1)], train_acc_list_Resnet20, label = 'training accuracy')\n",
        "plt.plot([i for i in range(1,EPOCHS + 1)], val_acc_list_Resnet20, label = 'validation accuracy')\n",
        "plt.legend()\n",
        "plt.title('Resnet20 , Accuracy across Epochs')"
      ],
      "execution_count": null,
      "outputs": []
    },
    {
      "cell_type": "code",
      "metadata": {
        "id": "JyrcpuGafaSl"
      },
      "source": [
        "labels_accuracy(labels.numpy(), pred_labels.numpy())"
      ],
      "execution_count": null,
      "outputs": []
    },
    {
      "cell_type": "code",
      "metadata": {
        "id": "qbPFcFkHfaYD"
      },
      "source": [
        "correct_pred = torch.eq(labels, pred_labels)\n",
        "incorrect_examples = []\n",
        "\n",
        "for image, label, prob, correct in zip(images, labels, probs, correct_pred):\n",
        "    if not correct:\n",
        "        incorrect_examples.append((image, label, prob))\n",
        "\n",
        "incorrect_examples.sort(reverse = True, key = lambda x: torch.max(x[2], dim = 0).values)"
      ],
      "execution_count": null,
      "outputs": []
    },
    {
      "cell_type": "code",
      "metadata": {
        "id": "_L7kHdohflFI"
      },
      "source": [
        "show_incorrect_preds(incorrect_examples, classes, 5)"
      ],
      "execution_count": null,
      "outputs": []
    },
    {
      "cell_type": "markdown",
      "metadata": {
        "id": "hXl7qDk9NGiD"
      },
      "source": [
        "# Comparing Models"
      ]
    },
    {
      "cell_type": "code",
      "metadata": {
        "id": "2b6Tp3GYNGiD"
      },
      "source": [
        "import seaborn as sns\n",
        "with sns.color_palette(\"husl\"):\n",
        "  \n",
        "    sns.lineplot([i for i in range(1,EPOCHS + 1)], train_acc_list, label = 'Training Accuracy')\n",
        "    sns.lineplot([i for i in range(1,EPOCHS + 1)], val_20, label = 'ResNet-20')\n",
        "    plt.plot([i for i in range(1,EPOCHS + 1)], val_44, label = 'ResNet-44')\n",
        "    plt.plot([i for i in range(1,EPOCHS + 1)], val_16, label = 'VGG-16')\n",
        "    plt.plot([i for i in range(1,EPOCHS + 1)], val_13, label = 'VGG-13')\n",
        "    plt.legend()\n",
        "    plt.title('Validation Accuracy on MNIST')"
      ],
      "execution_count": null,
      "outputs": []
    }
  ]
}