{
  "nbformat": 4,
  "nbformat_minor": 0,
  "metadata": {
    "colab": {
      "name": "CIFAR10.ipynb",
      "provenance": []
    },
    "kernelspec": {
      "name": "python3",
      "display_name": "Python 3"
    },
    "accelerator": "GPU"
  },
  "cells": [
    {
      "cell_type": "code",
      "metadata": {
        "id": "jTi4E33xM1Py",
        "colab_type": "code",
        "outputId": "071d0888-4966-4d3d-bdf6-3e45723214eb",
        "colab": {
          "base_uri": "https://localhost:8080/",
          "height": 102
        }
      },
      "source": [
        "!pip3 install torch torchvision"
      ],
      "execution_count": 9,
      "outputs": [
        {
          "output_type": "stream",
          "text": [
            "Requirement already satisfied: torch in /usr/local/lib/python3.6/dist-packages (1.5.0+cu101)\n",
            "Requirement already satisfied: torchvision in /usr/local/lib/python3.6/dist-packages (0.6.0+cu101)\n",
            "Requirement already satisfied: numpy in /usr/local/lib/python3.6/dist-packages (from torch) (1.18.4)\n",
            "Requirement already satisfied: future in /usr/local/lib/python3.6/dist-packages (from torch) (0.16.0)\n",
            "Requirement already satisfied: pillow>=4.1.1 in /usr/local/lib/python3.6/dist-packages (from torchvision) (7.0.0)\n"
          ],
          "name": "stdout"
        }
      ]
    },
    {
      "cell_type": "code",
      "metadata": {
        "id": "fIVXPenFYC1x",
        "colab_type": "code",
        "colab": {}
      },
      "source": [
        "import torch\n",
        "from torch import nn\n",
        "import torch.nn.functional as F\n",
        "from torchvision import datasets, transforms\n",
        "\n",
        "import matplotlib.pyplot as plt\n",
        "import numpy as np\n",
        "import time\n",
        "import copy\n",
        "# (0.1307,), (0.3081,)"
      ],
      "execution_count": 0,
      "outputs": []
    },
    {
      "cell_type": "markdown",
      "metadata": {
        "id": "DOvSktn50YXN",
        "colab_type": "text"
      },
      "source": [
        "# Data Preparation"
      ]
    },
    {
      "cell_type": "code",
      "metadata": {
        "id": "536_3W9oM0HS",
        "colab_type": "code",
        "outputId": "18b7dc58-2e78-40f6-f9ef-7c82533ab6bf",
        "colab": {
          "base_uri": "https://localhost:8080/",
          "height": 51
        }
      },
      "source": [
        "# using pretrained means to normalize the dataset\n",
        "pretrained_means = [0.4914, 0.4822, 0.4465]\n",
        "pretrained_stds= [0.247, 0.243, 0.261]\n",
        "BATCH_SIZE = 100\n",
        "\n",
        "# define tranforms on the training set\n",
        "# include resizing and horizontal flip\n",
        "transform = transforms.Compose([transforms.Resize((32,32)),\n",
        "                                transforms.RandomHorizontalFlip(),\n",
        "                                transforms.ToTensor(),\n",
        "                                transforms.Normalize(mean = pretrained_means,\n",
        "                                                     std = pretrained_stds)])\n",
        "# load the data\n",
        "train = datasets.CIFAR10(root='./data', train=True, download=True, transform = transform)\n",
        "test = datasets.CIFAR10(root='./data', train=False, download=True, transform = transform)\n",
        "\n",
        "# percentage of the training data to be used in training\n",
        "TRAIN_VAL_RATIO = 0.90\n",
        "\n",
        "n_train_examples = int(len(train) * TRAIN_VAL_RATIO)\n",
        "n_valid_examples = len(train) - n_train_examples\n",
        "\n",
        "train, val = torch.utils.data.random_split(train, [n_train_examples, n_valid_examples])\n",
        "\n",
        "# applying the transform on validation set\n",
        "val = copy.deepcopy(val)\n",
        "val.dataset.transform = transform\n",
        "\n",
        "# defining appropriate dataloaders\n",
        "train_loader = torch.utils.data.DataLoader(train, batch_size=BATCH_SIZE, shuffle=True)\n",
        "val_loader = torch.utils.data.DataLoader(val, batch_size = BATCH_SIZE, shuffle = True)\n",
        "test_loader = torch.utils.data.DataLoader(test, batch_size = BATCH_SIZE, shuffle=False)\n"
      ],
      "execution_count": 11,
      "outputs": [
        {
          "output_type": "stream",
          "text": [
            "Files already downloaded and verified\n",
            "Files already downloaded and verified\n"
          ],
          "name": "stdout"
        }
      ]
    },
    {
      "cell_type": "markdown",
      "metadata": {
        "id": "RZxRTAi20hhw",
        "colab_type": "text"
      },
      "source": [
        "# VGG Architectures"
      ]
    },
    {
      "cell_type": "code",
      "metadata": {
        "id": "8Hugm-m-TxnP",
        "colab_type": "code",
        "colab": {}
      },
      "source": [
        "\n",
        "# dictionary with model architectures, to define VGG19 simply add it to the dict\n",
        "VGG_architectures = {\n",
        "    'VGG13': [64, 64, 'pool', 128, 128, 'pool', 256, 256, 'pool', 512, 512, 'pool', 512, 512, 'pool'],\n",
        "    'VGG16': [64, 64, 'pool', 128, 128, 'pool', 256, 256, 256, 'pool', 512, 512, 512, 'pool', 512, 512, 512, 'pool']\n",
        "}\n",
        "\n",
        "class VGG(nn.Module):\n",
        "  '''\n",
        "  Implementation of VGG with Batch Norm for MNIST and CIFAR\n",
        "\n",
        "  num_classes (int): number of existing classes in data\n",
        "  '''\n",
        "  def __init__(self, in_planes = 1, num_classes = 10):\n",
        "    super(VGG, self).__init__()\n",
        "    self.in_planes = in_planes\n",
        "    # using the stack layers function - define which architecture the model should use\n",
        "    self.convs = self.stack_layers(VGG_architectures['VGG13'])\n",
        "\n",
        "    # after Conv layers in the original VGG the output is 7x7, hence \n",
        "    # the input size for the FC layers should be 512x7x7 and output is 4096\n",
        "    # CIFAR10 is 32x32, so this is my adaptation of VGG for CIFAR\n",
        "    self.fully_connected = nn.Sequential(\n",
        "        nn.Linear(512, 128),\n",
        "        nn.ReLU(inplace = True),\n",
        "        nn.Dropout(0.2),\n",
        "        nn.Linear(128, 128),\n",
        "        nn.ReLU(inplace = True),\n",
        "        nn.Dropout(0.2),\n",
        "        nn.Linear(128, num_classes)\n",
        "    )\n",
        "\n",
        "  def stack_layers(self, architecture):\n",
        "    in_planes = self.in_planes\n",
        "    # initialize empty list for all layers to be added\n",
        "    stack = []\n",
        "\n",
        "    for layer in architecture:\n",
        "      if type(layer) == int:\n",
        "        out = layer\n",
        "        stack += [nn.Conv2d(in_planes, out, kernel_size = 3, stride = 1, padding = 1),\n",
        "                  # use Batch Normalization here\n",
        "                  nn.BatchNorm2d(layer),\n",
        "                  nn.ReLU(inplace = True)]\n",
        "        in_planes = layer\n",
        "      else:\n",
        "        stack += [nn.MaxPool2d(kernel_size = 2)]\n",
        "      \n",
        "    return nn.Sequential(*stack)\n",
        "\n",
        "  def forward(self, x):\n",
        "    # bringing together all parts of the network here\n",
        "    x = self.convs(x)\n",
        "    x = x.reshape(x.shape[0], -1)\n",
        "    x = self.fully_connected(x)\n",
        "\n",
        "    return x\n"
      ],
      "execution_count": 0,
      "outputs": []
    },
    {
      "cell_type": "markdown",
      "metadata": {
        "id": "LJVGSyl30xO1",
        "colab_type": "text"
      },
      "source": [
        "# ResNet Architectures"
      ]
    },
    {
      "cell_type": "code",
      "metadata": {
        "id": "hjZtQxWfuOuK",
        "colab_type": "code",
        "colab": {}
      },
      "source": [
        "class ResNetBlock(nn.Module):\n",
        "    '''\n",
        "    A class for a Basic ResNet Block to be used in the ResNet class\n",
        "    Suited only for CIFAR10 and MNIST\n",
        "    Defined according to 4.2 of the ResNet paper\n",
        "\n",
        "    in_planes (int): number of input channels\n",
        "    planes (int): number of output channels\n",
        "    stride (int): stride of the convolutional layer\n",
        "    '''\n",
        "    def __init__(self, in_planes, planes, stride=1):\n",
        "        super(ResNetBlock, self).__init__()\n",
        "\n",
        "        self.conv1 = nn.Conv2d(in_planes, planes, kernel_size=3, stride=stride, padding=1, bias=False)\n",
        "        self.bn1 = nn.BatchNorm2d(planes)\n",
        "        self.conv2 = nn.Conv2d(planes, planes, kernel_size=3, stride=1, padding=1, bias=False)\n",
        "        self.bn2 = nn.BatchNorm2d(planes)\n",
        "\n",
        "        self.shortcut = nn.Sequential()\n",
        "        if stride != 1 or in_planes != planes:\n",
        "            self.shortcut = nn.Sequential(\n",
        "              nn.Conv2d(in_planes, planes, kernel_size=1, stride=stride, bias=False),\n",
        "              nn.BatchNorm2d(planes)\n",
        "              )\n",
        "        \n",
        "    def forward(self, x):\n",
        "        out = F.relu(self.bn1(self.conv1(x)))\n",
        "        out = self.bn2(self.conv2(out))\n",
        "        out += self.shortcut(x)\n",
        "        out = F.relu(out)\n",
        "        return out\n",
        "        \n",
        "class ResNet(nn.Module):\n",
        "    '''\n",
        "    ResNet Class, building on a ResNet Block to make a full network\n",
        "\n",
        "    num_blocks (int):       multiplier used to stack layers, \n",
        "                            total number of layers is 6*num_blocks + 2\n",
        "    channels (int):         number of colour_channels present in data\n",
        "    num_classes (int):      number of existing classes in data\n",
        "    '''\n",
        "    def __init__(self, block, num_blocks, channels, num_classes):\n",
        "        super(ResNet, self).__init__()\n",
        "        # initialize number of output channels at 16\n",
        "        self.in_planes = 16\n",
        "\n",
        "        self.conv1 = nn.Conv2d(channels, 16, kernel_size=3, stride=1, padding=1, bias=False)\n",
        "        self.bn1 = nn.BatchNorm2d(16)\n",
        "        self.layer1 = self.stack_layer(block, 16, num_blocks, stride=1)\n",
        "        self.layer2 = self.stack_layer(block, 32, num_blocks, stride=2)\n",
        "        self.layer3 = self.stack_layer(block, 64, num_blocks, stride=2)\n",
        "        self.linear = nn.Linear(64, num_classes)\n",
        "    \n",
        "    def stack_layer(self, block, planes, num_blocks, stride):\n",
        "        strides = [stride] + [1]*(num_blocks-1)\n",
        "        layers = []\n",
        "        for stride in strides:\n",
        "            layers.append(block(self.in_planes, planes, stride))\n",
        "            # update the number of output channels\n",
        "            self.in_planes = planes \n",
        "\n",
        "        return nn.Sequential(*layers)\n",
        "\n",
        "    def forward(self, x):\n",
        "        # creating the network\n",
        "        out = F.relu(self.bn1(self.conv1(x)))\n",
        "        out = self.layer1(out)\n",
        "        out = self.layer2(out)\n",
        "        out = self.layer3(out)\n",
        "        out = F.avg_pool2d(out, out.size()[3])\n",
        "        # reshaping\n",
        "        out = out.view(out.size(0), -1)\n",
        "        out = self.linear(out)\n",
        "        return out\n",
        "    \n",
        "def resnet20():\n",
        "    return ResNet(ResNetBlock, num_blocks = 3, channels = 3, num_classes = 10)\n",
        "\n",
        "\n",
        "def resnet44():\n",
        "    return ResNet(ResNetBlock, num_blocks = 7, channels = 3, num_classes = 10)"
      ],
      "execution_count": 0,
      "outputs": []
    },
    {
      "cell_type": "code",
      "metadata": {
        "id": "o475Ye9Qzabq",
        "colab_type": "code",
        "colab": {}
      },
      "source": [
        "device = 'cuda' if torch.cuda.is_available() else 'cpu'\n",
        "\n",
        "# umcomment a model to use here\n",
        "#model = VGG(in_planes=3,num_classes=10).to(device)\n",
        "model = resnet20().to(device)\n",
        "#model = resnet44().to(device)"
      ],
      "execution_count": 0,
      "outputs": []
    },
    {
      "cell_type": "code",
      "metadata": {
        "id": "aDsdDo3_jlJC",
        "colab_type": "code",
        "colab": {}
      },
      "source": [
        "criterion = nn.CrossEntropyLoss()\n",
        "criterion = criterion.to(device)\n",
        "optimizer = torch.optim.SGD(model.parameters(), lr = 0.01, momentum = 0.9, weight_decay=0.0001)\n",
        "# scheduler for VGG\n",
        "scheduler = torch.optim.lr_scheduler.MultiStepLR(optimizer,milestones=[10], last_epoch= -1)\n",
        "# scheduler for ResNet\n",
        "#scheduler = torch.optim.lr_scheduler.MultiStepLR(optimizer,milestones=[100, 150], last_epoch= -1)"
      ],
      "execution_count": 0,
      "outputs": []
    },
    {
      "cell_type": "code",
      "metadata": {
        "id": "oKX25jkckf-7",
        "colab_type": "code",
        "outputId": "96086e19-1af5-45d2-ebf1-dd33785e6c42",
        "colab": {
          "base_uri": "https://localhost:8080/",
          "height": 1000
        }
      },
      "source": [
        "def calculate_accuracy(y_pred, y):\n",
        "    '''get model accuracy'''\n",
        "    p = y_pred.argmax(1, keepdim = True)\n",
        "    acc = p.eq(y.view_as(p)).sum().float() / y.shape[0]\n",
        "    return acc\n",
        "\n",
        "def train(model, iterator, optimizer, criterion, device):\n",
        "    '''\n",
        "    function to be called for training and collect \n",
        "    model loss and model accuracy\n",
        "    and perform a training step\n",
        "\n",
        "    iterator: DataLoader Object\n",
        "    optimizer: Optimizer type\n",
        "    criterion: loss type\n",
        "    '''\n",
        "    epoch_loss = 0\n",
        "    epoch_acc = 0\n",
        "    \n",
        "    # set to training mode\n",
        "    model.train()\n",
        "    \n",
        "    for (x, y) in iterator:\n",
        "        \n",
        "        x = x.to(device)\n",
        "        y = y.to(device)\n",
        "        \n",
        "        optimizer.zero_grad()\n",
        "        y_pred = model(x)\n",
        "        loss = criterion(y_pred, y)\n",
        "        acc = calculate_accuracy(y_pred, y)\n",
        "        loss.backward()\n",
        "        optimizer.step()\n",
        "\n",
        "        # update loss and accuracy values\n",
        "        epoch_loss += loss.item()\n",
        "        epoch_acc += acc.item()\n",
        "        \n",
        "    return epoch_loss / len(iterator), epoch_acc / len(iterator)\n",
        "\n",
        "def evaluate(model, iterator, criterion, device):\n",
        "    '''\n",
        "    function to be called for evaluating and collect \n",
        "    model val loss and model val accuracy\n",
        "\n",
        "    iterator: DataLoader Object\n",
        "    optimizer: Optimizer type\n",
        "    criterion: loss type\n",
        "    '''\n",
        "    epoch_loss = 0\n",
        "    epoch_acc = 0\n",
        "    \n",
        "    # evaluation mode\n",
        "    model.eval()\n",
        "    \n",
        "    with torch.no_grad():\n",
        "        \n",
        "        for (x, y) in iterator:\n",
        "\n",
        "            x = x.to(device)\n",
        "            y = y.to(device)\n",
        "\n",
        "            y_pred = model(x)\n",
        "            loss = criterion(y_pred, y)\n",
        "            acc = calculate_accuracy(y_pred, y)\n",
        "            \n",
        "            epoch_loss += loss.item()\n",
        "            epoch_acc += acc.item()\n",
        "        \n",
        "    return epoch_loss / len(iterator), epoch_acc / len(iterator)\n",
        "\n",
        "\n",
        "def epoch_time(start_time, end_time):\n",
        "    elapsed_time = end_time - start_time\n",
        "    elapsed_mins = int(elapsed_time / 60)\n",
        "    elapsed_secs = int(elapsed_time - (elapsed_mins * 60))\n",
        "    return elapsed_mins, elapsed_secs\n",
        "\n",
        "EPOCHS = 20\n",
        "train_loss_list = []\n",
        "train_acc_list = []\n",
        "\n",
        "val_loss_list = []\n",
        "val_acc_list = []\n",
        "for epoch in range(EPOCHS):\n",
        "    \n",
        "    start_time = time.time()\n",
        "    \n",
        "    train_loss, train_acc = train(model, train_loader, optimizer, criterion, device)\n",
        "    scheduler.step()\n",
        "    val_loss, val_acc = evaluate(model, val_loader, criterion, device)\n",
        "    end_time = time.time()\n",
        "\n",
        "    train_loss_list.append(train_loss)\n",
        "    train_acc_list.append(train_acc)\n",
        "    val_loss_list.append(val_loss)\n",
        "    val_acc_list.append(val_acc)\n",
        "\n",
        "    epoch_mins, epoch_secs = epoch_time(start_time, end_time)\n",
        "    \n",
        "    print(f'epoch: {epoch+1:02}, Time: {epoch_mins}m {epoch_secs}s')\n",
        "    print(f'\\t train accuracy: {train_acc:.3f} | train loss: {train_loss:.3f} | ')\n",
        "    print(f'\\t val accuracy: {val_acc:.3f} | val accuracy: {val_loss:.3f}')"
      ],
      "execution_count": 16,
      "outputs": [
        {
          "output_type": "stream",
          "text": [
            "epoch: 01, Time: 0m 45s\n",
            "\t train accuracy: 0.451 | train loss: 1.474 | \n",
            "\t val accuracy: 0.522 | val accuracy: 1.301\n",
            "epoch: 02, Time: 0m 44s\n",
            "\t train accuracy: 0.638 | train loss: 1.003 | \n",
            "\t val accuracy: 0.622 | val accuracy: 1.050\n",
            "epoch: 03, Time: 0m 44s\n",
            "\t train accuracy: 0.715 | train loss: 0.806 | \n",
            "\t val accuracy: 0.699 | val accuracy: 0.848\n",
            "epoch: 04, Time: 0m 44s\n",
            "\t train accuracy: 0.762 | train loss: 0.685 | \n",
            "\t val accuracy: 0.734 | val accuracy: 0.776\n",
            "epoch: 05, Time: 0m 45s\n",
            "\t train accuracy: 0.787 | train loss: 0.612 | \n",
            "\t val accuracy: 0.751 | val accuracy: 0.725\n",
            "epoch: 06, Time: 0m 44s\n",
            "\t train accuracy: 0.810 | train loss: 0.549 | \n",
            "\t val accuracy: 0.783 | val accuracy: 0.619\n",
            "epoch: 07, Time: 0m 45s\n",
            "\t train accuracy: 0.826 | train loss: 0.507 | \n",
            "\t val accuracy: 0.766 | val accuracy: 0.677\n",
            "epoch: 08, Time: 0m 44s\n",
            "\t train accuracy: 0.837 | train loss: 0.470 | \n",
            "\t val accuracy: 0.790 | val accuracy: 0.596\n",
            "epoch: 09, Time: 0m 45s\n",
            "\t train accuracy: 0.848 | train loss: 0.441 | \n",
            "\t val accuracy: 0.799 | val accuracy: 0.580\n",
            "epoch: 10, Time: 0m 44s\n",
            "\t train accuracy: 0.858 | train loss: 0.410 | \n",
            "\t val accuracy: 0.811 | val accuracy: 0.562\n",
            "epoch: 11, Time: 0m 45s\n",
            "\t train accuracy: 0.896 | train loss: 0.308 | \n",
            "\t val accuracy: 0.844 | val accuracy: 0.446\n",
            "epoch: 12, Time: 0m 44s\n",
            "\t train accuracy: 0.907 | train loss: 0.281 | \n",
            "\t val accuracy: 0.842 | val accuracy: 0.445\n",
            "epoch: 13, Time: 0m 45s\n",
            "\t train accuracy: 0.911 | train loss: 0.268 | \n",
            "\t val accuracy: 0.848 | val accuracy: 0.443\n",
            "epoch: 14, Time: 0m 44s\n",
            "\t train accuracy: 0.913 | train loss: 0.261 | \n",
            "\t val accuracy: 0.848 | val accuracy: 0.443\n",
            "epoch: 15, Time: 0m 45s\n",
            "\t train accuracy: 0.917 | train loss: 0.248 | \n",
            "\t val accuracy: 0.847 | val accuracy: 0.444\n",
            "epoch: 16, Time: 0m 44s\n",
            "\t train accuracy: 0.918 | train loss: 0.242 | \n",
            "\t val accuracy: 0.851 | val accuracy: 0.442\n",
            "epoch: 17, Time: 0m 45s\n",
            "\t train accuracy: 0.922 | train loss: 0.233 | \n",
            "\t val accuracy: 0.846 | val accuracy: 0.442\n",
            "epoch: 18, Time: 0m 44s\n",
            "\t train accuracy: 0.925 | train loss: 0.224 | \n",
            "\t val accuracy: 0.847 | val accuracy: 0.448\n",
            "epoch: 19, Time: 0m 45s\n",
            "\t train accuracy: 0.929 | train loss: 0.215 | \n",
            "\t val accuracy: 0.848 | val accuracy: 0.449\n",
            "epoch: 20, Time: 0m 44s\n",
            "\t train accuracy: 0.931 | train loss: 0.210 | \n",
            "\t val accuracy: 0.844 | val accuracy: 0.460\n"
          ],
          "name": "stdout"
        }
      ]
    },
    {
      "cell_type": "code",
      "metadata": {
        "id": "KczrmHqQMDsH",
        "colab_type": "code",
        "colab": {}
      },
      "source": [
        "def get_preds(model, iterator):\n",
        "\n",
        "    model.eval()\n",
        "\n",
        "    images = []\n",
        "    labels = []\n",
        "    probs = []\n",
        "\n",
        "    with torch.no_grad():\n",
        "\n",
        "        for (x, y) in iterator:\n",
        "\n",
        "            x = x.to(device)\n",
        "            y_pred = model(x)\n",
        "\n",
        "            y_prob = F.softmax(y_pred, dim = -1)\n",
        "            top_pred = y_prob.argmax(1, keepdim = True)\n",
        "\n",
        "            images.append(x.cpu())\n",
        "            labels.append(y.cpu())\n",
        "            probs.append(y_prob.cpu())\n",
        "\n",
        "    images = torch.cat(images, dim = 0)\n",
        "    labels = torch.cat(labels, dim = 0)\n",
        "    probs = torch.cat(probs, dim = 0)\n",
        "\n",
        "    return images, labels, probs"
      ],
      "execution_count": 0,
      "outputs": []
    },
    {
      "cell_type": "code",
      "metadata": {
        "id": "m7UpKogkPH-1",
        "colab_type": "code",
        "colab": {}
      },
      "source": [
        "images, labels, probs = get_preds(model, test_loader)\n",
        "pred_labels = torch.argmax(probs, 1)"
      ],
      "execution_count": 0,
      "outputs": []
    },
    {
      "cell_type": "code",
      "metadata": {
        "id": "jK5UrBbVPKpM",
        "colab_type": "code",
        "colab": {}
      },
      "source": [
        "from sklearn.metrics import confusion_matrix\n",
        "from sklearn.metrics import ConfusionMatrixDisplay\n",
        "def plot_confusion_matrix(labels, pred_labels, classes):\n",
        "    \n",
        "    fig = plt.figure(figsize = (10, 10));\n",
        "    ax = fig.add_subplot(1, 1, 1);\n",
        "    cm = confusion_matrix(labels, pred_labels);\n",
        "    cm = ConfusionMatrixDisplay(cm, classes);\n",
        "    cm.plot(values_format = 'd', cmap = 'Blues', ax = ax)\n",
        "    plt.xticks(rotation = 20)"
      ],
      "execution_count": 0,
      "outputs": []
    },
    {
      "cell_type": "code",
      "metadata": {
        "id": "AY7WxsiFPNey",
        "colab_type": "code",
        "outputId": "59066364-dbad-40ae-c48f-572c881b5e53",
        "colab": {
          "base_uri": "https://localhost:8080/",
          "height": 580
        }
      },
      "source": [
        "classes = test.classes\n",
        "\n",
        "plot_confusion_matrix(labels, pred_labels, classes)"
      ],
      "execution_count": 20,
      "outputs": [
        {
          "output_type": "display_data",
          "data": {
            "image/png": "[encoded data removed]",
            "text/plain": [
              "<Figure size 720x720 with 2 Axes>"
            ]
          },
          "metadata": {
            "tags": [],
            "needs_background": "light"
          }
        }
      ]
    },
    {
      "cell_type": "code",
      "metadata": {
        "id": "WdS7fUm0gE1-",
        "colab_type": "code",
        "outputId": "e4b8eb5c-2459-4310-ea7e-56aedada40be",
        "colab": {
          "base_uri": "https://localhost:8080/",
          "height": 298
        }
      },
      "source": [
        "plt.plot([i for i in range(1,EPOCHS + 1)], train_loss_list, label = 'training loss')\n",
        "plt.plot([i for i in range(1,EPOCHS + 1)], val_loss_list, label = 'validation loss')\n",
        "plt.legend()\n",
        "plt.title('VGG13, Cross Entropy Loss across Epochs')"
      ],
      "execution_count": 21,
      "outputs": [
        {
          "output_type": "execute_result",
          "data": {
            "text/plain": [
              "Text(0.5, 1.0, 'VGG13, Cross Entropy Loss across Epochs')"
            ]
          },
          "metadata": {
            "tags": []
          },
          "execution_count": 21
        },
        {
          "output_type": "display_data",
          "data": {
            "image/png": "[encoded data removed]",
            "text/plain": [
              "<Figure size 432x288 with 1 Axes>"
            ]
          },
          "metadata": {
            "tags": [],
            "needs_background": "light"
          }
        }
      ]
    },
    {
      "cell_type": "code",
      "metadata": {
        "id": "SADaVIOa_vNB",
        "colab_type": "code",
        "colab": {
          "base_uri": "https://localhost:8080/",
          "height": 298
        },
        "outputId": "6302a93f-1488-422b-b764-287db50cabbd"
      },
      "source": [
        "plt.plot([i for i in range(1,EPOCHS + 1)], train_acc_list, label = 'training accuracy')\n",
        "plt.plot([i for i in range(1,EPOCHS + 1)], val_acc_list, label = 'validation accuracy')\n",
        "plt.legend()\n",
        "plt.title('VGG13, Accuracy across Epochs')"
      ],
      "execution_count": 22,
      "outputs": [
        {
          "output_type": "execute_result",
          "data": {
            "text/plain": [
              "Text(0.5, 1.0, 'VGG13, Accuracy across Epochs')"
            ]
          },
          "metadata": {
            "tags": []
          },
          "execution_count": 22
        },
        {
          "output_type": "display_data",
          "data": {
            "image/png": "[encoded data removed]",
            "text/plain": [
              "<Figure size 432x288 with 1 Axes>"
            ]
          },
          "metadata": {
            "tags": [],
            "needs_background": "light"
          }
        }
      ]
    },
    {
      "cell_type": "code",
      "metadata": {
        "id": "5yLkF8NMma7C",
        "colab_type": "code",
        "colab": {}
      },
      "source": [
        "def labels_accuracy(y, y_pred):\n",
        "  crr = 0\n",
        "  for i in range(len(y)):\n",
        "    if y[i] == y_pred[i]:\n",
        "      crr += 1\n",
        "  return crr/len(y)"
      ],
      "execution_count": 0,
      "outputs": []
    },
    {
      "cell_type": "code",
      "metadata": {
        "id": "Acw-qKXgmokq",
        "colab_type": "code",
        "colab": {
          "base_uri": "https://localhost:8080/",
          "height": 34
        },
        "outputId": "981ee7d7-6336-41d5-f27b-2b12b60c8f4f"
      },
      "source": [
        "labels_accuracy(labels.numpy(), pred_labels.numpy())"
      ],
      "execution_count": 24,
      "outputs": [
        {
          "output_type": "execute_result",
          "data": {
            "text/plain": [
              "0.8539"
            ]
          },
          "metadata": {
            "tags": []
          },
          "execution_count": 24
        }
      ]
    },
    {
      "cell_type": "code",
      "metadata": {
        "id": "kuI2y3PPvSry",
        "colab_type": "code",
        "colab": {}
      },
      "source": [
        "correct_pred = torch.eq(labels, pred_labels)\n",
        "incorrect_examples = []\n",
        "\n",
        "for image, label, prob, correct in zip(images, labels, probs, correct_pred):\n",
        "    if not correct:\n",
        "        incorrect_examples.append((image, label, prob))\n",
        "\n",
        "incorrect_examples.sort(reverse = True, key = lambda x: torch.max(x[2], dim = 0).values)"
      ],
      "execution_count": 0,
      "outputs": []
    },
    {
      "cell_type": "code",
      "metadata": {
        "id": "LCBJVtUh1Ek_",
        "colab_type": "code",
        "colab": {}
      },
      "source": [
        "def normalize_image(image):\n",
        "    image_min = image.min()\n",
        "    image_max = image.max()\n",
        "    image.clamp_(min = image_min, max = image_max)\n",
        "    image.add_(-image_min).div_(image_max - image_min + 1e-5)\n",
        "    return image\n",
        "\n",
        "def plot_images(images, labels, classes, normalize = True):\n",
        "\n",
        "    n_images = len(images)\n",
        "\n",
        "    rows = int(np.sqrt(n_images))\n",
        "    cols = int(np.sqrt(n_images))\n",
        "\n",
        "    fig = plt.figure(figsize = (10, 10))\n",
        "\n",
        "    for i in range(rows*cols):\n",
        "\n",
        "        ax = fig.add_subplot(rows, cols, i+1)\n",
        "        \n",
        "        image = images[i]\n",
        "\n",
        "        if normalize:\n",
        "            image = normalize_image(image)\n",
        "\n",
        "        ax.imshow(image.permute(1, 2, 0).cpu().numpy())\n",
        "        ax.set_title(classes[labels[i]])\n",
        "        ax.axis('off')"
      ],
      "execution_count": 0,
      "outputs": []
    },
    {
      "cell_type": "code",
      "metadata": {
        "id": "0Ngstm5WgvO9",
        "colab_type": "code",
        "colab": {
          "base_uri": "https://localhost:8080/",
          "height": 158
        },
        "outputId": "506bc3f0-bd22-4242-c346-5438e87dadce"
      },
      "source": [
        "def show_incorrect_preds(incorrect, classes, n_images, normalize = True):\n",
        "\n",
        "    rows = 1\n",
        "    cols = n_images \n",
        "\n",
        "    fig = plt.figure(figsize = (10, 10))\n",
        "    fig.tight_layout()\n",
        "    for i in range(rows*cols):\n",
        "\n",
        "        ax = fig.add_subplot(rows, cols, i+1)\n",
        "        \n",
        "        image, true_label, probs = incorrect[i]\n",
        "        image = image.permute(1, 2, 0)\n",
        "        true_prob = probs[true_label]\n",
        "        incorrect_prob, incorrect_label = torch.max(probs, dim = 0)\n",
        "        true_class = classes[true_label]\n",
        "        incorrect_class = classes[incorrect_label]\n",
        "\n",
        "        if normalize:\n",
        "            image = normalize_image(image)\n",
        "\n",
        "        ax.imshow(image.cpu().numpy())\n",
        "        ax.set_title(f'true class: {true_class}\\n' \\\n",
        "                     f'pred class: {incorrect_class}')\n",
        "        ax.axis('off')\n",
        "        \n",
        "    fig.subplots_adjust(hspace = 0.0)\n",
        "\n",
        "show_incorrect_preds(incorrect_examples, classes, 5)"
      ],
      "execution_count": 27,
      "outputs": [
        {
          "output_type": "display_data",
          "data": {
            "image/png": "[encoded data removed]",
            "text/plain": [
              "<Figure size 720x720 with 5 Axes>"
            ]
          },
          "metadata": {
            "tags": [],
            "needs_background": "light"
          }
        }
      ]
    },
    {
      "cell_type": "code",
      "metadata": {
        "id": "r0M3rWtJG22F",
        "colab_type": "code",
        "colab": {}
      },
      "source": [
        ""
      ],
      "execution_count": 0,
      "outputs": []
    }
  ]
}