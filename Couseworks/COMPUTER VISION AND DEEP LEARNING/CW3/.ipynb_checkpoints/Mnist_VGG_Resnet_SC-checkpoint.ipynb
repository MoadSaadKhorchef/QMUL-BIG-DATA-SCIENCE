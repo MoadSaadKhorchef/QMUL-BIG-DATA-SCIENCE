{
 "cells": [
  {
   "cell_type": "code",
   "execution_count": 1,
   "metadata": {
    "id": "xhKQZm-fo9nL"
   },
   "outputs": [],
   "source": [
    "import matplotlib.pyplot as plt\n",
    "import numpy as np\n",
    "import time\n",
    "import datetime\n",
    "import copy\n",
    "from collections import namedtuple\n",
    "import os\n",
    "import random\n",
    "import shutil\n",
    "\n",
    "from sklearn import decomposition\n",
    "from sklearn import manifold\n",
    "from sklearn.metrics import confusion_matrix\n",
    "from sklearn.metrics import ConfusionMatrixDisplay\n",
    "\n",
    "from __future__ import print_function\n",
    "import torch\n",
    "import torch.nn as nn\n",
    "import torch.nn.functional as F\n",
    "import torch.optim as optim\n",
    "from torchvision import datasets, transforms, models\n",
    "from torch.optim.lr_scheduler import StepLR, _LRScheduler\n"
   ]
  },
  {
   "cell_type": "markdown",
   "metadata": {
    "id": "NlQ-uRZKo9nm"
   },
   "source": [
    "## Load Mnist Dataset"
   ]
  },
  {
   "cell_type": "code",
   "execution_count": 2,
   "metadata": {
    "colab": {
     "base_uri": "https://localhost:8080/",
     "height": 837,
     "referenced_widgets": [
      "8a9cf696c4ea415bb6021ed814c8004a",
      "bfd935328a63459fbb6231e60aef055b",
      "16fc0c0ececa4cddbe7659e8dbe7ad18",
      "d3f79ab3f126414bb0aeb598648fe548",
      "72e81a89c35f4cadadb3204bfe99e576",
      "4a05fea99b07495bbd293bb6613e6497",
      "10fd62984e4f4d2eaab1a14565592e18",
      "0261a0ac51214a65a46613390f18e17e",
      "f5d32a5e397c4c999a45465a1580b431",
      "f3c660a4428f4563983b1148670fe86e",
      "519dce0b2d624408a3ab9c77e88e5724",
      "389f5e077eee46748500e6a778ed6b52",
      "6fed7bbeea3441eb8c5475faaefbceca",
      "a9af88213b6c49abb72daea7e1941f72",
      "d7f2ece25a984314a591c0687f9ef84a",
      "498d49f6ee77453db6e4578036d8094e",
      "fe2868ec4540412184738ba444699683",
      "a2577b807b6f4d0a9025fd01309d5b1a",
      "d6bebd2f28e54f30b5cbebd7bfe6f578",
      "bf292f509a3b49caaac1ec190957d69a",
      "8d83c4bf7c0a489ba005ca6201dcfa4e",
      "adb41a8493c04020aa054a6c7905144f",
      "d5b3e6b6ba844107998d02ef9206e761",
      "7844d1ee41a8417a9f300b0927cb70d9",
      "467111915255455db47b4eb927e52712",
      "b8cf9e3dfff64c55bf378fff76828c7b",
      "8b8bfab932fe4b828b0a0b9d780925a3",
      "0cae92ed210943fc91eae74dd4ba5d28",
      "3b20d60d0a5a4803bd7fa7a01cd7d255",
      "ac57a6200f3244c98204896de1c4b38d",
      "31bbdbe13f04432f830604670cef1641",
      "2411fc6143f24865b6bb126c5c2a5ea5"
     ]
    },
    "id": "oPtFkXzMo9nn",
    "outputId": "f44a9169-8ee0-4003-afb6-a21d0cda619b"
   },
   "outputs": [
    {
     "name": "stdout",
     "output_type": "stream",
     "text": [
      "Downloading http://yann.lecun.com/exdb/mnist/train-images-idx3-ubyte.gz\n",
      "Failed to download (trying next):\n",
      "HTTP Error 503: Service Unavailable\n",
      "\n",
      "Downloading https://ossci-datasets.s3.amazonaws.com/mnist/train-images-idx3-ubyte.gz\n",
      "Downloading https://ossci-datasets.s3.amazonaws.com/mnist/train-images-idx3-ubyte.gz to ./data/MNIST/raw/train-images-idx3-ubyte.gz\n"
     ]
    },
    {
     "data": {
      "application/vnd.jupyter.widget-view+json": {
       "model_id": "8a9cf696c4ea415bb6021ed814c8004a",
       "version_major": 2,
       "version_minor": 0
      },
      "text/plain": [
       "HBox(children=(FloatProgress(value=0.0, max=9912422.0), HTML(value='')))"
      ]
     },
     "metadata": {
      "tags": []
     },
     "output_type": "display_data"
    },
    {
     "name": "stdout",
     "output_type": "stream",
     "text": [
      "\n",
      "Extracting ./data/MNIST/raw/train-images-idx3-ubyte.gz to ./data/MNIST/raw\n",
      "\n",
      "Downloading http://yann.lecun.com/exdb/mnist/train-labels-idx1-ubyte.gz\n",
      "Failed to download (trying next):\n",
      "HTTP Error 503: Service Unavailable\n",
      "\n",
      "Downloading https://ossci-datasets.s3.amazonaws.com/mnist/train-labels-idx1-ubyte.gz\n",
      "Downloading https://ossci-datasets.s3.amazonaws.com/mnist/train-labels-idx1-ubyte.gz to ./data/MNIST/raw/train-labels-idx1-ubyte.gz\n"
     ]
    },
    {
     "data": {
      "application/vnd.jupyter.widget-view+json": {
       "model_id": "f5d32a5e397c4c999a45465a1580b431",
       "version_major": 2,
       "version_minor": 0
      },
      "text/plain": [
       "HBox(children=(FloatProgress(value=0.0, max=28881.0), HTML(value='')))"
      ]
     },
     "metadata": {
      "tags": []
     },
     "output_type": "display_data"
    },
    {
     "name": "stdout",
     "output_type": "stream",
     "text": [
      "\n",
      "Extracting ./data/MNIST/raw/train-labels-idx1-ubyte.gz to ./data/MNIST/raw\n",
      "\n",
      "Downloading http://yann.lecun.com/exdb/mnist/t10k-images-idx3-ubyte.gz\n",
      "Failed to download (trying next):\n",
      "HTTP Error 503: Service Unavailable\n",
      "\n",
      "Downloading https://ossci-datasets.s3.amazonaws.com/mnist/t10k-images-idx3-ubyte.gz\n",
      "Downloading https://ossci-datasets.s3.amazonaws.com/mnist/t10k-images-idx3-ubyte.gz to ./data/MNIST/raw/t10k-images-idx3-ubyte.gz\n"
     ]
    },
    {
     "data": {
      "application/vnd.jupyter.widget-view+json": {
       "model_id": "fe2868ec4540412184738ba444699683",
       "version_major": 2,
       "version_minor": 0
      },
      "text/plain": [
       "HBox(children=(FloatProgress(value=0.0, max=1648877.0), HTML(value='')))"
      ]
     },
     "metadata": {
      "tags": []
     },
     "output_type": "display_data"
    },
    {
     "name": "stdout",
     "output_type": "stream",
     "text": [
      "\n",
      "Extracting ./data/MNIST/raw/t10k-images-idx3-ubyte.gz to ./data/MNIST/raw\n",
      "\n",
      "Downloading http://yann.lecun.com/exdb/mnist/t10k-labels-idx1-ubyte.gz\n",
      "Failed to download (trying next):\n",
      "HTTP Error 503: Service Unavailable\n",
      "\n",
      "Downloading https://ossci-datasets.s3.amazonaws.com/mnist/t10k-labels-idx1-ubyte.gz\n",
      "Downloading https://ossci-datasets.s3.amazonaws.com/mnist/t10k-labels-idx1-ubyte.gz to ./data/MNIST/raw/t10k-labels-idx1-ubyte.gz\n"
     ]
    },
    {
     "data": {
      "application/vnd.jupyter.widget-view+json": {
       "model_id": "467111915255455db47b4eb927e52712",
       "version_major": 2,
       "version_minor": 0
      },
      "text/plain": [
       "HBox(children=(FloatProgress(value=0.0, max=4542.0), HTML(value='')))"
      ]
     },
     "metadata": {
      "tags": []
     },
     "output_type": "display_data"
    },
    {
     "name": "stdout",
     "output_type": "stream",
     "text": [
      "\n",
      "Extracting ./data/MNIST/raw/t10k-labels-idx1-ubyte.gz to ./data/MNIST/raw\n",
      "\n",
      "Processing...\n",
      "Done!\n"
     ]
    },
    {
     "name": "stderr",
     "output_type": "stream",
     "text": [
      "/usr/local/lib/python3.7/dist-packages/torchvision/datasets/mnist.py:502: UserWarning: The given NumPy array is not writeable, and PyTorch does not support non-writeable tensors. This means you can write to the underlying (supposedly non-writeable) NumPy array using the tensor. You may want to copy the array to protect its data or make it writeable before converting it to a tensor. This type of warning will be suppressed for the rest of this program. (Triggered internally at  /pytorch/torch/csrc/utils/tensor_numpy.cpp:143.)\n",
      "  return torch.from_numpy(parsed.astype(m[2], copy=False)).view(*s)\n"
     ]
    }
   ],
   "source": [
    "'''\n",
    "transforms.Compose([\n",
    "    transforms.Resize(256),\n",
    "    transforms.CenterCrop(224),\n",
    "    transforms.ToTensor(),\n",
    "    transforms.Normalize(mean=[0.485, 0.456, 0.406], std=[0.229, 0.224, 0.225]),\n",
    "])\n",
    "'''\n",
    "BATCH_SIZE = 128\n",
    "\n",
    "# define tranforms on the training set\n",
    "# include resizing and random rotations\n",
    "train_transform = transforms.Compose([transforms.Resize((32,32)),\n",
    "                                    # transforms.RandomRotation(degrees=(10, -10), fill=(0,)),\n",
    "                                      transforms.ToTensor(),\n",
    "                                      # normalize using pretrained values\n",
    "                                      transforms.Normalize((0.1307,), (0.3081,))])\n",
    "# define transforms on the test set\n",
    "test_transform = transforms.Compose([transforms.Resize((32,32)),\n",
    "                                     transforms.ToTensor(),\n",
    "                                     # normalize using pretrained values\n",
    "                                     transforms.Normalize((0.1307,), (0.3081,))])\n",
    "# load the data\n",
    "train = datasets.MNIST(root='./data', train=True, download=True, transform = train_transform)\n",
    "test = datasets.MNIST(root='./data', train=False, download=True, transform = test_transform)\n",
    "\n",
    "# percentage of the training data to be used in training\n",
    "TRAIN_VAL_RATIO = 0.95\n",
    "\n",
    "n_train_examples = int(len(train) * TRAIN_VAL_RATIO)\n",
    "n_valid_examples = len(train) - n_train_examples\n",
    "\n",
    "train, val = torch.utils.data.random_split(train, [n_train_examples, n_valid_examples])\n",
    "\n",
    "# applying the transform on validation set\n",
    "val = copy.deepcopy(val)\n",
    "val.dataset.transform = test_transform\n",
    "\n",
    "# defining appropriate dataloaders\n",
    "train_loader = torch.utils.data.DataLoader(train, batch_size=BATCH_SIZE, shuffle=True)\n",
    "val_loader = torch.utils.data.DataLoader(val, batch_size = BATCH_SIZE, shuffle = True)\n",
    "test_loader = torch.utils.data.DataLoader(test, batch_size = BATCH_SIZE, shuffle=False)"
   ]
  },
  {
   "cell_type": "markdown",
   "metadata": {
    "id": "BJXCLfUnq1q4"
   },
   "source": [
    "# Utils Functions"
   ]
  },
  {
   "cell_type": "code",
   "execution_count": 3,
   "metadata": {
    "id": "ZvNjnxR8ZbBm"
   },
   "outputs": [],
   "source": [
    "def calculate_accuracy(y_pred, y):\n",
    "    '''get model accuracy'''\n",
    "    p = y_pred.argmax(1, keepdim = True)\n",
    "    acc = p.eq(y.view_as(p)).sum().float() / y.shape[0]\n",
    "    return acc\n",
    "\n",
    "def train(model, iterator, optimizer, criterion, device):\n",
    "    '''\n",
    "    function to be called for training and collect \n",
    "    model loss and model accuracy\n",
    "    and perform a training step\n",
    "\n",
    "    iterator: DataLoader Object\n",
    "    optimizer: Optimizer type\n",
    "    criterion: loss type\n",
    "    '''\n",
    "    epoch_loss = 0\n",
    "    epoch_acc = 0\n",
    "    \n",
    "    # set to training mode\n",
    "    model.train()\n",
    "    \n",
    "    for (x, y) in iterator:\n",
    "        \n",
    "        x = x.to(device)\n",
    "        y = y.to(device)\n",
    "        \n",
    "        optimizer.zero_grad()\n",
    "        y_pred = model(x)\n",
    "        \n",
    "        loss = criterion(y_pred, y)\n",
    "        \n",
    "        acc = calculate_accuracy(y_pred, y)\n",
    "        loss.backward()\n",
    "        optimizer.step()\n",
    "\n",
    "        # update loss and accuracy values\n",
    "        epoch_loss += loss.item()\n",
    "        epoch_acc += acc.item()\n",
    "        \n",
    "    return epoch_loss / len(iterator), epoch_acc / len(iterator)\n",
    "\n",
    "def evaluate(model, iterator, criterion, device):\n",
    "    '''\n",
    "    function to be called for evaluating and collect \n",
    "    model val loss and model val accuracy\n",
    "\n",
    "    iterator: DataLoader Object\n",
    "    optimizer: Optimizer type\n",
    "    criterion: loss type\n",
    "    '''\n",
    "    epoch_loss = 0\n",
    "    epoch_acc = 0\n",
    "    \n",
    "    # evaluation mode\n",
    "    model.eval()\n",
    "    \n",
    "    with torch.no_grad():\n",
    "        \n",
    "        for (x, y) in iterator:\n",
    "\n",
    "            x = x.to(device)\n",
    "            y = y.to(device)\n",
    "\n",
    "            y_pred = model(x)\n",
    "            loss = criterion(y_pred, y)\n",
    "            acc = calculate_accuracy(y_pred, y)\n",
    "            \n",
    "            epoch_loss += loss.item()\n",
    "            epoch_acc += acc.item()\n",
    "        \n",
    "    return epoch_loss / len(iterator), epoch_acc / len(iterator)\n",
    "\n",
    "\n",
    "def epoch_time(start_time, end_time):\n",
    "    elapsed_time = end_time - start_time\n",
    "    elapsed_mins = int(elapsed_time / 60)\n",
    "    elapsed_secs = int(elapsed_time - (elapsed_mins * 60))\n",
    "    return elapsed_mins, elapsed_secs"
   ]
  },
  {
   "cell_type": "code",
   "execution_count": 4,
   "metadata": {
    "id": "WGYf6Hj-NGhy"
   },
   "outputs": [],
   "source": [
    "class LRFinder:\n",
    "    def __init__(self, model, optimizer, criterion, device):\n",
    "        \n",
    "        self.optimizer = optimizer\n",
    "        self.model = model\n",
    "        self.criterion = criterion\n",
    "        self.device = device\n",
    "        \n",
    "        torch.save(model.state_dict(), 'init_params.pt')\n",
    "\n",
    "    def range_test(self, iterator, end_lr = 10, num_iter = 100, smooth_f = 0.05, diverge_th = 5):\n",
    "        \n",
    "        lrs = []\n",
    "        losses = []\n",
    "        best_loss = float('inf')\n",
    "\n",
    "        lr_scheduler = ExponentialLR(self.optimizer, end_lr, num_iter)\n",
    "        \n",
    "        iterator = IteratorWrapper(iterator)\n",
    "        \n",
    "        for iteration in range(num_iter):\n",
    "\n",
    "            loss = self._train_batch(iterator)\n",
    "\n",
    "            #update lr\n",
    "            lr_scheduler.step()\n",
    "            \n",
    "            lrs.append(lr_scheduler.get_lr()[0])\n",
    "\n",
    "            if iteration > 0:\n",
    "                loss = smooth_f * loss + (1 - smooth_f) * losses[-1]\n",
    "                \n",
    "            if loss < best_loss:\n",
    "                best_loss = loss\n",
    "\n",
    "            losses.append(loss)\n",
    "            \n",
    "            if loss > diverge_th * best_loss:\n",
    "                print(\"Stopping early, the loss has diverged\")\n",
    "                break\n",
    "                       \n",
    "        #reset model to initial parameters\n",
    "        self.model.load_state_dict(torch.load('init_params.pt'))\n",
    "                    \n",
    "        return lrs, losses\n",
    "\n",
    "    def _train_batch(self, iterator):\n",
    "        \n",
    "        self.model.train()\n",
    "        \n",
    "        self.optimizer.zero_grad()\n",
    "        \n",
    "        x, y = iterator.get_batch()\n",
    "        \n",
    "        x = x.to(self.device)\n",
    "        y = y.to(self.device)\n",
    "        \n",
    "        #y_pred, _ = self.model(x) original\n",
    "        y_pred = self.model(x)\n",
    "\n",
    "                \n",
    "        loss = self.criterion(y_pred, y)\n",
    "        \n",
    "        loss.backward()\n",
    "        \n",
    "        self.optimizer.step()\n",
    "        \n",
    "        return loss.item()\n",
    "\n",
    "class ExponentialLR(_LRScheduler):\n",
    "    def __init__(self, optimizer, end_lr, num_iter, last_epoch=-1):\n",
    "        self.end_lr = end_lr\n",
    "        self.num_iter = num_iter\n",
    "        super(ExponentialLR, self).__init__(optimizer, last_epoch)\n",
    "\n",
    "    def get_lr(self):\n",
    "        curr_iter = self.last_epoch + 1\n",
    "        r = curr_iter / self.num_iter\n",
    "        return [base_lr * (self.end_lr / base_lr) ** r for base_lr in self.base_lrs]\n",
    "\n",
    "class IteratorWrapper:\n",
    "    def __init__(self, iterator):\n",
    "        self.iterator = iterator\n",
    "        self._iterator = iter(iterator)\n",
    "\n",
    "    def __next__(self):\n",
    "        try:\n",
    "            inputs, labels = next(self._iterator)\n",
    "        except StopIteration:\n",
    "            self._iterator = iter(self.iterator)\n",
    "            inputs, labels, *_ = next(self._iterator)\n",
    "\n",
    "        return inputs, labels\n",
    "\n",
    "    def get_batch(self):\n",
    "        return next(self)"
   ]
  },
  {
   "cell_type": "code",
   "execution_count": 5,
   "metadata": {
    "id": "OhY2jAiXNGhz"
   },
   "outputs": [],
   "source": [
    "def plot_lr_finder(lrs, losses, skip_start = 5, skip_end = 5):\n",
    "    \n",
    "    if skip_end == 0:\n",
    "        lrs = lrs[skip_start:]\n",
    "        losses = losses[skip_start:]\n",
    "    else:\n",
    "        lrs = lrs[skip_start:-skip_end]\n",
    "        losses = losses[skip_start:-skip_end]\n",
    "    \n",
    "    fig = plt.figure(figsize = (16,8))\n",
    "    ax = fig.add_subplot(1,1,1)\n",
    "    ax.plot(lrs, losses)\n",
    "    ax.set_xscale('log')\n",
    "    ax.set_xlabel('Learning rate')\n",
    "    ax.set_ylabel('Loss')\n",
    "    ax.grid(True, 'both', 'x')\n",
    "    plt.show()"
   ]
  },
  {
   "cell_type": "code",
   "execution_count": 6,
   "metadata": {
    "id": "WB6Wf6R3NGh0"
   },
   "outputs": [],
   "source": [
    "def get_preds(model, iterator):\n",
    "\n",
    "    model.eval()\n",
    "\n",
    "    images = []\n",
    "    labels = []\n",
    "    probs = []\n",
    "\n",
    "    with torch.no_grad():\n",
    "\n",
    "        for (x, y) in iterator:\n",
    "\n",
    "            x = x.to(device)\n",
    "\n",
    "            y_pred = model(x)\n",
    "\n",
    "            y_prob = F.softmax(y_pred, dim = -1)\n",
    "            top_pred = y_prob.argmax(1, keepdim = True)\n",
    "\n",
    "            images.append(x.cpu())\n",
    "            labels.append(y.cpu())\n",
    "            probs.append(y_prob.cpu())\n",
    "\n",
    "    images = torch.cat(images, dim = 0)\n",
    "    labels = torch.cat(labels, dim = 0)\n",
    "    probs = torch.cat(probs, dim = 0)\n",
    "\n",
    "    return images, labels, probs"
   ]
  },
  {
   "cell_type": "code",
   "execution_count": 7,
   "metadata": {
    "id": "GCZXnTXkNGh0"
   },
   "outputs": [],
   "source": [
    "def plot_confusion_matrix(labels, pred_labels, classes):\n",
    "    \n",
    "    fig = plt.figure(figsize = (10, 10));\n",
    "    ax = fig.add_subplot(1, 1, 1);\n",
    "    cm = confusion_matrix(labels, pred_labels);\n",
    "    cm = ConfusionMatrixDisplay(cm, classes);\n",
    "    cm.plot(values_format = 'd', cmap = 'Blues', ax = ax)\n",
    "    plt.xticks(rotation = 20)"
   ]
  },
  {
   "cell_type": "code",
   "execution_count": 8,
   "metadata": {
    "id": "ngBsGGFfNGh1"
   },
   "outputs": [],
   "source": [
    "def labels_accuracy(y, y_pred):\n",
    "    crr = 0\n",
    "    for i in range(len(y)):\n",
    "        if y[i] == y_pred[i]:\n",
    "            crr += 1\n",
    "    return crr/len(y)"
   ]
  },
  {
   "cell_type": "code",
   "execution_count": 9,
   "metadata": {
    "id": "oNdDgRBHNGh1"
   },
   "outputs": [],
   "source": [
    "def normalize_image(image):\n",
    "    image_min = image.min()\n",
    "    image_max = image.max()\n",
    "    image.clamp_(min = image_min, max = image_max)\n",
    "    image.add_(-image_min).div_(image_max - image_min + 1e-5)\n",
    "    return image\n",
    "\n",
    "def plot_images(images, labels, classes, normalize = False):\n",
    "\n",
    "    n_images = len(images)\n",
    "\n",
    "    rows = int(np.sqrt(n_images))\n",
    "    cols = int(np.sqrt(n_images))\n",
    "\n",
    "    fig = plt.figure(figsize = (10, 10))\n",
    "\n",
    "    for i in range(rows*cols):\n",
    "\n",
    "        ax = fig.add_subplot(rows, cols, i+1)\n",
    "        \n",
    "        image = images[i]\n",
    "\n",
    "        if normalize:\n",
    "            image = normalize_image(image)\n",
    "\n",
    "        ax.imshow(image.permute(1, 2, 0).cpu().numpy())\n",
    "        ax.set_title(classes[labels[i]])\n",
    "        ax.axis('off')"
   ]
  },
  {
   "cell_type": "code",
   "execution_count": 10,
   "metadata": {
    "id": "kP83y2Z4NGh2"
   },
   "outputs": [],
   "source": [
    "def show_incorrect_preds(incorrect, classes, n_images, normalize = False):\n",
    "\n",
    "    rows = 1 \n",
    "    cols = n_images  \n",
    "\n",
    "    fig = plt.figure(figsize = (10, 10))\n",
    "    fig.tight_layout()\n",
    "    for i in range(cols):\n",
    "\n",
    "        ax = fig.add_subplot(rows, cols, i+1)\n",
    "        \n",
    "        image, true_label, probs = incorrect[i]\n",
    "        image = image[0]\n",
    "        true_prob = probs[true_label]\n",
    "        incorrect_prob, incorrect_label = torch.max(probs, dim = 0)\n",
    "        true_class = classes[true_label][0]\n",
    "        incorrect_class = classes[incorrect_label][0]\n",
    "\n",
    "        if normalize:\n",
    "            image = normalize_image(image)\n",
    "\n",
    "        ax.imshow(image.cpu().numpy())\n",
    "        ax.set_title(f'true class: {true_class}\\n' \\\n",
    "                     f'pred class: {incorrect_class}')\n",
    "        ax.axis('off')\n"
   ]
  },
  {
   "cell_type": "code",
   "execution_count": 10,
   "metadata": {
    "id": "JjrcMHQqq9by"
   },
   "outputs": [],
   "source": []
  },
  {
   "cell_type": "markdown",
   "metadata": {
    "id": "A63CFXWxNGh2"
   },
   "source": [
    "# VGG"
   ]
  },
  {
   "cell_type": "code",
   "execution_count": 11,
   "metadata": {
    "id": "roYgAiN4NGh2"
   },
   "outputs": [],
   "source": [
    "class VGG(nn.Module):\n",
    "    def __init__(self, features, output_dim):\n",
    "        super().__init__()\n",
    "        \n",
    "        self.features = features\n",
    "        \n",
    "        #self.avgpool = nn.AdaptiveAvgPool2d(7)\n",
    "        \n",
    "        self.classifier = nn.Sequential(\n",
    "            nn.Linear(512 , 128),\n",
    "            nn.ReLU(inplace = True),\n",
    "            nn.Dropout(0.2),\n",
    "            nn.Linear(128, 128),\n",
    "            nn.ReLU(inplace = True),\n",
    "            nn.Dropout(0.2),\n",
    "            nn.Linear(128, output_dim),\n",
    "        )\n",
    "\n",
    "    def forward(self, x):\n",
    "        x = self.features(x)\n",
    "        #x = self.avgpool(x)\n",
    "        h = x.view(x.shape[0], -1)\n",
    "        x = self.classifier(h)\n",
    "        return x#, h"
   ]
  },
  {
   "cell_type": "code",
   "execution_count": 12,
   "metadata": {
    "id": "6rwnj81QNGh3"
   },
   "outputs": [],
   "source": [
    "def get_vgg_layers(config, batch_norm):\n",
    "    \n",
    "    layers = []\n",
    "    in_channels = 1\n",
    "    \n",
    "    for c in config:\n",
    "        assert c == 'M' or isinstance(c, int)\n",
    "        if c == 'M':\n",
    "            layers += [nn.MaxPool2d(kernel_size = 2)]\n",
    "        else:\n",
    "            conv2d = nn.Conv2d(in_channels, c, kernel_size = 3, padding = 1)\n",
    "            if batch_norm:\n",
    "                layers += [conv2d, nn.BatchNorm2d(c), nn.ReLU(inplace = True)]\n",
    "            else:\n",
    "                layers += [conv2d, nn.ReLU(inplace = True)]\n",
    "            in_channels = c\n",
    "            \n",
    "    return nn.Sequential(*layers)"
   ]
  },
  {
   "cell_type": "code",
   "execution_count": 13,
   "metadata": {
    "id": "0vtIJ1jwNGh3"
   },
   "outputs": [],
   "source": [
    "vgg11_config = [64, 'M', 128, 'M', 256, 256, 'M', 512, 512, 'M', 512, 512, 'M']\n",
    "\n",
    "vgg13_config = [64, 64, 'M', 128, 128, 'M', 256, 256, 'M', 512, 512, 'M', 512, 512, 'M']\n",
    "\n",
    "vgg16_config = [64, 64, 'M', 128, 128, 'M', 256, 256, 256, 'M', 512, 512, 512, 'M', 512, 512, 512, 'M']\n",
    "\n",
    "vgg19_config = [64, 64, 'M', 128, 128, 'M', 256, 256, 256, 256, 'M', 512, 512, 512, 512, 'M', 512, 512, 512, 512, 'M']"
   ]
  },
  {
   "cell_type": "code",
   "execution_count": 14,
   "metadata": {
    "id": "ixwfkWKwNGh3"
   },
   "outputs": [],
   "source": [
    "vgg13_layers = get_vgg_layers(vgg13_config, batch_norm = True)\n",
    "vgg16_layers = get_vgg_layers(vgg16_config, batch_norm = True)\n",
    "vgg19_layers = get_vgg_layers(vgg19_config, batch_norm = True)\n",
    "\n",
    "#vgg16_layers"
   ]
  },
  {
   "cell_type": "markdown",
   "metadata": {
    "id": "a-qlMtXPXlp_"
   },
   "source": [
    "## VGG16"
   ]
  },
  {
   "cell_type": "code",
   "execution_count": 15,
   "metadata": {
    "id": "cgN9V4AMNGh4"
   },
   "outputs": [],
   "source": [
    "OUTPUT_DIM = 10\n",
    "\n",
    "#model_VGG13 = VGG(vgg13_layers, OUTPUT_DIM)\n",
    "model_VGG16 = VGG(vgg16_layers, OUTPUT_DIM)\n",
    "#model_VGG19 = VGG(vgg19_layers, OUTPUT_DIM)\n",
    "\n",
    "#print(model_VGG16)"
   ]
  },
  {
   "cell_type": "code",
   "execution_count": 16,
   "metadata": {
    "id": "b32d_8tuNGh4"
   },
   "outputs": [],
   "source": [
    "device = 'cuda' if torch.cuda.is_available() else 'cpu'\n",
    "model_VGG16 = model_VGG16.to(device)"
   ]
  },
  {
   "cell_type": "code",
   "execution_count": 17,
   "metadata": {
    "id": "UylbpHxPNGh4"
   },
   "outputs": [],
   "source": [
    "from torchsummary import summary\n",
    "\n",
    "#summary(model_VGG16.to(device), (3, 32, 32))"
   ]
  },
  {
   "cell_type": "markdown",
   "metadata": {
    "id": "QT_pH7ZHNGh4"
   },
   "source": [
    "### Find Best LR"
   ]
  },
  {
   "cell_type": "code",
   "execution_count": 18,
   "metadata": {
    "id": "4_3LdNnkNGh5"
   },
   "outputs": [],
   "source": [
    "START_LR = 1e-7\n",
    "\n",
    "optimizer = optim.SGD(model_VGG16.parameters(), momentum=0.9, lr = START_LR)\n",
    "\n",
    "device = torch.device('cuda' if torch.cuda.is_available() else 'cpu')\n",
    "\n",
    "criterion = nn.CrossEntropyLoss()\n",
    "\n",
    "model_VGG16 = model_VGG16.to(device)\n",
    "criterion = criterion.to(device)"
   ]
  },
  {
   "cell_type": "code",
   "execution_count": 19,
   "metadata": {
    "id": "Pv3S-_hQNGh5"
   },
   "outputs": [],
   "source": [
    "END_LR = 10\n",
    "NUM_ITER = 100\n",
    "\n",
    "lr_finder = LRFinder(model_VGG16, optimizer, criterion, device)\n",
    "lrs, losses = lr_finder.range_test(train_loader, END_LR, NUM_ITER)"
   ]
  },
  {
   "cell_type": "code",
   "execution_count": 20,
   "metadata": {
    "colab": {
     "base_uri": "https://localhost:8080/",
     "height": 0
    },
    "id": "sgE8FFKzNGh6",
    "outputId": "8468df45-fe2b-4bd5-81fe-4f1fdd62abad"
   },
   "outputs": [
    {
     "data": {
      "image/png": "[encoded data removed]",
      "text/plain": [
       "<Figure size 1152x576 with 1 Axes>"
      ]
     },
     "metadata": {
      "needs_background": "light",
      "tags": []
     },
     "output_type": "display_data"
    }
   ],
   "source": [
    "plot_lr_finder(lrs, losses, skip_start = 10, skip_end = 20)"
   ]
  },
  {
   "cell_type": "markdown",
   "metadata": {
    "id": "Ebx6UcABNGh6"
   },
   "source": [
    "### Training"
   ]
  },
  {
   "cell_type": "code",
   "execution_count": 21,
   "metadata": {
    "id": "_LZVpslENGh6"
   },
   "outputs": [],
   "source": [
    "criterion = nn.CrossEntropyLoss()\n",
    "criterion = criterion.to(device)\n",
    "optimizer = torch.optim.SGD(model_VGG16.parameters(), lr = 0.01, momentum=0.9, weight_decay=0.0001)\n",
    "# scheduler for VGG\n",
    "#scheduler = torch.optim.lr_scheduler.MultiStepLR(optimizer,milestones=[10], last_epoch= -1)\n",
    "# scheduler for ResNet\n",
    "##scheduler = torch.optim.lr_scheduler.MultiStepLR(optimizer,milestones=[100, 150], last_epoch= -1)"
   ]
  },
  {
   "cell_type": "code",
   "execution_count": 22,
   "metadata": {
    "colab": {
     "base_uri": "https://localhost:8080/"
    },
    "id": "fxBQwyGINGh6",
    "outputId": "fc336564-30c7-4a03-b01b-7c352f8cbab1"
   },
   "outputs": [
    {
     "name": "stdout",
     "output_type": "stream",
     "text": [
      "Epoch: 01 | Epoch Time: 0m 39s, | Timestamp: 2021-05-13 01:12:05.465958\n",
      "\tTrain Loss: 0.179 | Train Acc: 95.04%\n",
      "\t Val. Loss: 0.077 |  Val. Acc: 97.95%\n",
      "Epoch: 02 | Epoch Time: 0m 40s, | Timestamp: 2021-05-13 01:12:46.134004\n",
      "\tTrain Loss: 0.040 | Train Acc: 98.99%\n",
      "\t Val. Loss: 0.069 |  Val. Acc: 98.17%\n",
      "Epoch: 03 | Epoch Time: 0m 40s, | Timestamp: 2021-05-13 01:13:26.903753\n",
      "\tTrain Loss: 0.026 | Train Acc: 99.32%\n",
      "\t Val. Loss: 0.036 |  Val. Acc: 99.06%\n",
      "Epoch: 04 | Epoch Time: 0m 40s, | Timestamp: 2021-05-13 01:14:07.570714\n",
      "\tTrain Loss: 0.020 | Train Acc: 99.44%\n",
      "\t Val. Loss: 0.050 |  Val. Acc: 98.76%\n",
      "Epoch: 05 | Epoch Time: 0m 40s, | Timestamp: 2021-05-13 01:14:48.438511\n",
      "\tTrain Loss: 0.017 | Train Acc: 99.53%\n",
      "\t Val. Loss: 0.041 |  Val. Acc: 99.05%\n",
      "Epoch: 06 | Epoch Time: 0m 40s, | Timestamp: 2021-05-13 01:15:29.219572\n",
      "\tTrain Loss: 0.011 | Train Acc: 99.69%\n",
      "\t Val. Loss: 0.031 |  Val. Acc: 99.34%\n",
      "Epoch: 07 | Epoch Time: 0m 40s, | Timestamp: 2021-05-13 01:16:10.005072\n",
      "\tTrain Loss: 0.013 | Train Acc: 99.63%\n",
      "\t Val. Loss: 0.042 |  Val. Acc: 99.21%\n",
      "Epoch: 08 | Epoch Time: 0m 41s, | Timestamp: 2021-05-13 01:16:51.069013\n",
      "\tTrain Loss: 0.011 | Train Acc: 99.72%\n",
      "\t Val. Loss: 0.035 |  Val. Acc: 99.24%\n",
      "Epoch: 09 | Epoch Time: 0m 41s, | Timestamp: 2021-05-13 01:17:32.271940\n",
      "\tTrain Loss: 0.007 | Train Acc: 99.81%\n",
      "\t Val. Loss: 0.040 |  Val. Acc: 99.22%\n",
      "Epoch: 10 | Epoch Time: 0m 40s, | Timestamp: 2021-05-13 01:18:13.166112\n",
      "\tTrain Loss: 0.006 | Train Acc: 99.86%\n",
      "\t Val. Loss: 0.041 |  Val. Acc: 99.28%\n",
      "Epoch: 11 | Epoch Time: 0m 40s, | Timestamp: 2021-05-13 01:18:53.954094\n",
      "\tTrain Loss: 0.005 | Train Acc: 99.88%\n",
      "\t Val. Loss: 0.040 |  Val. Acc: 99.19%\n",
      "Epoch: 12 | Epoch Time: 0m 40s, | Timestamp: 2021-05-13 01:19:34.765897\n",
      "\tTrain Loss: 0.006 | Train Acc: 99.85%\n",
      "\t Val. Loss: 0.049 |  Val. Acc: 99.27%\n",
      "Epoch: 13 | Epoch Time: 0m 40s, | Timestamp: 2021-05-13 01:20:15.632493\n",
      "\tTrain Loss: 0.007 | Train Acc: 99.83%\n",
      "\t Val. Loss: 0.039 |  Val. Acc: 99.20%\n",
      "Epoch: 14 | Epoch Time: 0m 40s, | Timestamp: 2021-05-13 01:20:56.453915\n",
      "\tTrain Loss: 0.005 | Train Acc: 99.86%\n",
      "\t Val. Loss: 0.036 |  Val. Acc: 99.35%\n",
      "Epoch: 15 | Epoch Time: 0m 40s, | Timestamp: 2021-05-13 01:21:37.408005\n",
      "\tTrain Loss: 0.004 | Train Acc: 99.92%\n",
      "\t Val. Loss: 0.039 |  Val. Acc: 99.25%\n",
      "Epoch: 16 | Epoch Time: 0m 40s, | Timestamp: 2021-05-13 01:22:18.353575\n",
      "\tTrain Loss: 0.002 | Train Acc: 99.96%\n",
      "\t Val. Loss: 0.048 |  Val. Acc: 99.09%\n",
      "Epoch: 17 | Epoch Time: 0m 41s, | Timestamp: 2021-05-13 01:22:59.685106\n",
      "\tTrain Loss: 0.002 | Train Acc: 99.95%\n",
      "\t Val. Loss: 0.041 |  Val. Acc: 99.35%\n",
      "Epoch: 18 | Epoch Time: 0m 40s, | Timestamp: 2021-05-13 01:23:40.654164\n",
      "\tTrain Loss: 0.002 | Train Acc: 99.95%\n",
      "\t Val. Loss: 0.047 |  Val. Acc: 99.12%\n",
      "Epoch: 19 | Epoch Time: 0m 40s, | Timestamp: 2021-05-13 01:24:21.439402\n",
      "\tTrain Loss: 0.006 | Train Acc: 99.85%\n",
      "\t Val. Loss: 0.049 |  Val. Acc: 99.19%\n",
      "Epoch: 20 | Epoch Time: 0m 40s, | Timestamp: 2021-05-13 01:25:02.265292\n",
      "\tTrain Loss: 0.004 | Train Acc: 99.90%\n",
      "\t Val. Loss: 0.038 |  Val. Acc: 99.35%\n",
      "Epoch: 21 | Epoch Time: 0m 40s, | Timestamp: 2021-05-13 01:25:43.041118\n",
      "\tTrain Loss: 0.002 | Train Acc: 99.95%\n",
      "\t Val. Loss: 0.037 |  Val. Acc: 99.41%\n",
      "Epoch: 22 | Epoch Time: 0m 40s, | Timestamp: 2021-05-13 01:26:23.836918\n",
      "\tTrain Loss: 0.002 | Train Acc: 99.94%\n",
      "\t Val. Loss: 0.039 |  Val. Acc: 99.32%\n",
      "Epoch: 23 | Epoch Time: 0m 40s, | Timestamp: 2021-05-13 01:27:04.567589\n",
      "\tTrain Loss: 0.001 | Train Acc: 99.97%\n",
      "\t Val. Loss: 0.039 |  Val. Acc: 99.47%\n",
      "Epoch: 24 | Epoch Time: 0m 40s, | Timestamp: 2021-05-13 01:27:45.292919\n",
      "\tTrain Loss: 0.004 | Train Acc: 99.89%\n",
      "\t Val. Loss: 0.044 |  Val. Acc: 99.25%\n",
      "Epoch: 25 | Epoch Time: 0m 40s, | Timestamp: 2021-05-13 01:28:26.058961\n",
      "\tTrain Loss: 0.002 | Train Acc: 99.94%\n",
      "\t Val. Loss: 0.042 |  Val. Acc: 99.18%\n",
      "Epoch: 26 | Epoch Time: 0m 40s, | Timestamp: 2021-05-13 01:29:06.778648\n",
      "\tTrain Loss: 0.001 | Train Acc: 99.98%\n",
      "\t Val. Loss: 0.040 |  Val. Acc: 99.38%\n",
      "Epoch: 27 | Epoch Time: 0m 40s, | Timestamp: 2021-05-13 01:29:47.488628\n",
      "\tTrain Loss: 0.000 | Train Acc: 100.00%\n",
      "\t Val. Loss: 0.042 |  Val. Acc: 99.32%\n",
      "Epoch: 28 | Epoch Time: 0m 40s, | Timestamp: 2021-05-13 01:30:28.125879\n",
      "\tTrain Loss: 0.001 | Train Acc: 99.99%\n",
      "\t Val. Loss: 0.043 |  Val. Acc: 99.32%\n",
      "Epoch: 29 | Epoch Time: 0m 40s, | Timestamp: 2021-05-13 01:31:08.849826\n",
      "\tTrain Loss: 0.000 | Train Acc: 100.00%\n",
      "\t Val. Loss: 0.044 |  Val. Acc: 99.38%\n",
      "Epoch: 30 | Epoch Time: 0m 40s, | Timestamp: 2021-05-13 01:31:49.505269\n",
      "\tTrain Loss: 0.000 | Train Acc: 100.00%\n",
      "\t Val. Loss: 0.044 |  Val. Acc: 99.38%\n",
      "Epoch: 31 | Epoch Time: 0m 40s, | Timestamp: 2021-05-13 01:32:30.100417\n",
      "\tTrain Loss: 0.000 | Train Acc: 100.00%\n",
      "\t Val. Loss: 0.046 |  Val. Acc: 99.38%\n",
      "Epoch: 32 | Epoch Time: 0m 40s, | Timestamp: 2021-05-13 01:33:10.827399\n",
      "\tTrain Loss: 0.000 | Train Acc: 100.00%\n",
      "\t Val. Loss: 0.044 |  Val. Acc: 99.32%\n",
      "Epoch: 33 | Epoch Time: 0m 40s, | Timestamp: 2021-05-13 01:33:51.504357\n",
      "\tTrain Loss: 0.000 | Train Acc: 100.00%\n",
      "\t Val. Loss: 0.049 |  Val. Acc: 99.34%\n",
      "Epoch: 34 | Epoch Time: 0m 40s, | Timestamp: 2021-05-13 01:34:32.012707\n",
      "\tTrain Loss: 0.000 | Train Acc: 100.00%\n",
      "\t Val. Loss: 0.049 |  Val. Acc: 99.34%\n",
      "Epoch: 35 | Epoch Time: 0m 40s, | Timestamp: 2021-05-13 01:35:12.526596\n",
      "\tTrain Loss: 0.000 | Train Acc: 100.00%\n",
      "\t Val. Loss: 0.045 |  Val. Acc: 99.28%\n",
      "Epoch: 36 | Epoch Time: 0m 40s, | Timestamp: 2021-05-13 01:35:53.024997\n",
      "\tTrain Loss: 0.000 | Train Acc: 100.00%\n",
      "\t Val. Loss: 0.045 |  Val. Acc: 99.35%\n",
      "Epoch: 37 | Epoch Time: 0m 40s, | Timestamp: 2021-05-13 01:36:33.616551\n",
      "\tTrain Loss: 0.000 | Train Acc: 100.00%\n",
      "\t Val. Loss: 0.044 |  Val. Acc: 99.35%\n",
      "Epoch: 38 | Epoch Time: 0m 40s, | Timestamp: 2021-05-13 01:37:14.143752\n",
      "\tTrain Loss: 0.000 | Train Acc: 100.00%\n",
      "\t Val. Loss: 0.045 |  Val. Acc: 99.38%\n",
      "Epoch: 39 | Epoch Time: 0m 40s, | Timestamp: 2021-05-13 01:37:54.626882\n",
      "\tTrain Loss: 0.000 | Train Acc: 100.00%\n",
      "\t Val. Loss: 0.046 |  Val. Acc: 99.38%\n",
      "Epoch: 40 | Epoch Time: 0m 40s, | Timestamp: 2021-05-13 01:38:35.413136\n",
      "\tTrain Loss: 0.000 | Train Acc: 100.00%\n",
      "\t Val. Loss: 0.051 |  Val. Acc: 99.30%\n",
      "Epoch: 41 | Epoch Time: 0m 40s, | Timestamp: 2021-05-13 01:39:16.234522\n",
      "\tTrain Loss: 0.000 | Train Acc: 100.00%\n",
      "\t Val. Loss: 0.046 |  Val. Acc: 99.32%\n",
      "Epoch: 42 | Epoch Time: 0m 41s, | Timestamp: 2021-05-13 01:39:57.299104\n",
      "\tTrain Loss: 0.000 | Train Acc: 100.00%\n",
      "\t Val. Loss: 0.046 |  Val. Acc: 99.32%\n",
      "Epoch: 43 | Epoch Time: 0m 40s, | Timestamp: 2021-05-13 01:40:38.100182\n",
      "\tTrain Loss: 0.000 | Train Acc: 100.00%\n",
      "\t Val. Loss: 0.046 |  Val. Acc: 99.41%\n",
      "Epoch: 44 | Epoch Time: 0m 40s, | Timestamp: 2021-05-13 01:41:18.578405\n",
      "\tTrain Loss: 0.000 | Train Acc: 100.00%\n",
      "\t Val. Loss: 0.046 |  Val. Acc: 99.27%\n",
      "Epoch: 45 | Epoch Time: 0m 40s, | Timestamp: 2021-05-13 01:41:59.034734\n",
      "\tTrain Loss: 0.000 | Train Acc: 100.00%\n",
      "\t Val. Loss: 0.046 |  Val. Acc: 99.41%\n",
      "Epoch: 46 | Epoch Time: 0m 40s, | Timestamp: 2021-05-13 01:42:39.694531\n",
      "\tTrain Loss: 0.000 | Train Acc: 100.00%\n",
      "\t Val. Loss: 0.045 |  Val. Acc: 99.41%\n",
      "Epoch: 47 | Epoch Time: 0m 41s, | Timestamp: 2021-05-13 01:43:20.791011\n",
      "\tTrain Loss: 0.000 | Train Acc: 100.00%\n",
      "\t Val. Loss: 0.046 |  Val. Acc: 99.35%\n",
      "Epoch: 48 | Epoch Time: 0m 40s, | Timestamp: 2021-05-13 01:44:01.694209\n",
      "\tTrain Loss: 0.000 | Train Acc: 100.00%\n",
      "\t Val. Loss: 0.046 |  Val. Acc: 99.35%\n",
      "Epoch: 49 | Epoch Time: 0m 40s, | Timestamp: 2021-05-13 01:44:42.371126\n",
      "\tTrain Loss: 0.000 | Train Acc: 100.00%\n",
      "\t Val. Loss: 0.046 |  Val. Acc: 99.41%\n",
      "Epoch: 50 | Epoch Time: 0m 40s, | Timestamp: 2021-05-13 01:45:23.010246\n",
      "\tTrain Loss: 0.000 | Train Acc: 100.00%\n",
      "\t Val. Loss: 0.047 |  Val. Acc: 99.38%\n"
     ]
    }
   ],
   "source": [
    "EPOCHS = 50\n",
    "train_loss_list_VGG16 = []\n",
    "train_acc_list_VGG16 = []\n",
    "\n",
    "val_loss_list_VGG16 = []\n",
    "val_acc_list_VGG16 = []\n",
    "\n",
    "for epoch in range(EPOCHS):\n",
    "    \n",
    "    start_time = time.time()\n",
    "    \n",
    "    train_loss, train_acc = train(model_VGG16, train_loader, optimizer, criterion, device)\n",
    "    #optimizer.step()\n",
    "    val_loss, val_acc = evaluate(model_VGG16, val_loader, criterion, device)\n",
    "    end_time = time.time()\n",
    "\n",
    "    train_loss_list_VGG16.append(train_loss)\n",
    "    train_acc_list_VGG16.append(train_acc)\n",
    "    val_loss_list_VGG16.append(val_loss)\n",
    "    val_acc_list_VGG16.append(val_acc)\n",
    "\n",
    "    epoch_mins, epoch_secs = epoch_time(start_time, end_time)\n",
    "\n",
    "    ct = datetime.datetime.now()\n",
    "    print(f'Epoch: {epoch+1:02} | Epoch Time: {epoch_mins}m {epoch_secs}s, | Timestamp: {ct}')\n",
    "    print(f'\\tTrain Loss: {train_loss:.3f} | Train Acc: {train_acc*100:.2f}%')\n",
    "    print(f'\\t Val. Loss: {val_loss:.3f} |  Val. Acc: {val_acc*100:.2f}%')\n",
    "    \n"
   ]
  },
  {
   "cell_type": "code",
   "execution_count": 23,
   "metadata": {
    "id": "cMGEvkCnNGh7"
   },
   "outputs": [],
   "source": [
    "images, labels, probs = get_preds(model_VGG16, test_loader)\n",
    "pred_labels = torch.argmax(probs, 1)"
   ]
  },
  {
   "cell_type": "code",
   "execution_count": 24,
   "metadata": {
    "colab": {
     "base_uri": "https://localhost:8080/",
     "height": 580
    },
    "id": "JZ195jESNGh7",
    "outputId": "45144414-617c-43a6-93ee-10afe77759e5"
   },
   "outputs": [
    {
     "data": {
      "image/png": "[encoded data removed]",
      "text/plain": [
       "<Figure size 720x720 with 2 Axes>"
      ]
     },
     "metadata": {
      "needs_background": "light",
      "tags": []
     },
     "output_type": "display_data"
    }
   ],
   "source": [
    "classes = test.classes\n",
    "\n",
    "plot_confusion_matrix(labels, pred_labels, classes)"
   ]
  },
  {
   "cell_type": "code",
   "execution_count": 25,
   "metadata": {
    "colab": {
     "base_uri": "https://localhost:8080/",
     "height": 298
    },
    "id": "4mSlRO_NNGh7",
    "outputId": "3307fc0d-cdcd-4d64-95fd-0614bb4185b3"
   },
   "outputs": [
    {
     "data": {
      "text/plain": [
       "Text(0.5, 1.0, 'VGG16 , Cross Entropy Loss across Epochs')"
      ]
     },
     "execution_count": 25,
     "metadata": {
      "tags": []
     },
     "output_type": "execute_result"
    },
    {
     "data": {
      "image/png": "[encoded data removed]",
      "text/plain": [
       "<Figure size 432x288 with 1 Axes>"
      ]
     },
     "metadata": {
      "needs_background": "light",
      "tags": []
     },
     "output_type": "display_data"
    }
   ],
   "source": [
    "plt.plot([i for i in range(1,EPOCHS + 1)], train_loss_list_VGG16, label = 'training loss')\n",
    "plt.plot([i for i in range(1,EPOCHS + 1)], val_loss_list_VGG16, label = 'validation loss')\n",
    "plt.legend()\n",
    "plt.title('VGG16 , Cross Entropy Loss across Epochs')"
   ]
  },
  {
   "cell_type": "code",
   "execution_count": 26,
   "metadata": {
    "colab": {
     "base_uri": "https://localhost:8080/",
     "height": 298
    },
    "id": "CzVMwPvfNGh8",
    "outputId": "12f1307c-7125-4674-a70b-8b3016ca035d"
   },
   "outputs": [
    {
     "data": {
      "text/plain": [
       "Text(0.5, 1.0, 'VGG16 , Accuracy across Epochs')"
      ]
     },
     "execution_count": 26,
     "metadata": {
      "tags": []
     },
     "output_type": "execute_result"
    },
    {
     "data": {
      "image/png": "[encoded data removed]",
      "text/plain": [
       "<Figure size 432x288 with 1 Axes>"
      ]
     },
     "metadata": {
      "needs_background": "light",
      "tags": []
     },
     "output_type": "display_data"
    }
   ],
   "source": [
    "plt.plot([i for i in range(1,EPOCHS + 1)], train_acc_list_VGG16, label = 'training accuracy')\n",
    "plt.plot([i for i in range(1,EPOCHS + 1)], val_acc_list_VGG16, label = 'validation accuracy')\n",
    "plt.legend()\n",
    "plt.title('VGG16 , Accuracy across Epochs')"
   ]
  },
  {
   "cell_type": "code",
   "execution_count": 27,
   "metadata": {
    "colab": {
     "base_uri": "https://localhost:8080/"
    },
    "id": "3XbngY-ZNGh8",
    "outputId": "fe00827e-76b4-4c10-c406-c8e025cb7ca6"
   },
   "outputs": [
    {
     "data": {
      "text/plain": [
       "0.9962"
      ]
     },
     "execution_count": 27,
     "metadata": {
      "tags": []
     },
     "output_type": "execute_result"
    }
   ],
   "source": [
    "labels_accuracy(labels.numpy(), pred_labels.numpy())"
   ]
  },
  {
   "cell_type": "code",
   "execution_count": 28,
   "metadata": {
    "id": "_gjyNig8NGh8"
   },
   "outputs": [],
   "source": [
    "correct_pred = torch.eq(labels, pred_labels)\n",
    "incorrect_examples = []\n",
    "\n",
    "for image, label, prob, correct in zip(images, labels, probs, correct_pred):\n",
    "    if not correct:\n",
    "        incorrect_examples.append((image, label, prob))\n",
    "\n",
    "incorrect_examples.sort(reverse = True, key = lambda x: torch.max(x[2], dim = 0).values)"
   ]
  },
  {
   "cell_type": "code",
   "execution_count": 29,
   "metadata": {
    "colab": {
     "base_uri": "https://localhost:8080/",
     "height": 158
    },
    "id": "uxIl-ZiCNGh8",
    "outputId": "685dcf4a-95e5-484e-967a-966753dcde3b"
   },
   "outputs": [
    {
     "data": {
      "image/png": "[encoded data removed]",
      "text/plain": [
       "<Figure size 720x720 with 5 Axes>"
      ]
     },
     "metadata": {
      "needs_background": "light",
      "tags": []
     },
     "output_type": "display_data"
    }
   ],
   "source": [
    "show_incorrect_preds(incorrect_examples, classes, 5)"
   ]
  },
  {
   "cell_type": "markdown",
   "metadata": {
    "id": "m-WxjGaQZE-g"
   },
   "source": [
    "## VGG13"
   ]
  },
  {
   "cell_type": "code",
   "execution_count": 30,
   "metadata": {
    "id": "YQhT-pzvZT8l"
   },
   "outputs": [],
   "source": [
    "OUTPUT_DIM = 10\n",
    "\n",
    "model_VGG13 = VGG(vgg13_layers, OUTPUT_DIM)\n",
    "#model_VGG16 = VGG(vgg16_layers, OUTPUT_DIM)\n",
    "#model_VGG19 = VGG(vgg19_layers, OUTPUT_DIM)\n",
    "\n",
    "#print(model_VGG16)"
   ]
  },
  {
   "cell_type": "code",
   "execution_count": 31,
   "metadata": {
    "id": "apML1RxFZUFC"
   },
   "outputs": [],
   "source": [
    "device = 'cuda' if torch.cuda.is_available() else 'cpu'\n",
    "model_VGG16 = model_VGG16.to(device)"
   ]
  },
  {
   "cell_type": "code",
   "execution_count": 32,
   "metadata": {
    "id": "-wqKF_VFZUI-"
   },
   "outputs": [],
   "source": [
    "from torchsummary import summary\n",
    "\n",
    "#summary(model_VGG13.to(device), (3, 32, 32))"
   ]
  },
  {
   "cell_type": "markdown",
   "metadata": {
    "id": "dtM6OCjQZ0JL"
   },
   "source": [
    "### Find Best LR"
   ]
  },
  {
   "cell_type": "code",
   "execution_count": 33,
   "metadata": {
    "id": "rWr4AD0KZxuA"
   },
   "outputs": [],
   "source": [
    "START_LR = 1e-7\n",
    "\n",
    "optimizer = optim.SGD(model_VGG13.parameters(), momentum=0.9, lr = START_LR)\n",
    "\n",
    "device = torch.device('cuda' if torch.cuda.is_available() else 'cpu')\n",
    "\n",
    "criterion = nn.CrossEntropyLoss()\n",
    "\n",
    "model_VGG13 = model_VGG13.to(device)\n",
    "criterion = criterion.to(device)"
   ]
  },
  {
   "cell_type": "code",
   "execution_count": 34,
   "metadata": {
    "colab": {
     "base_uri": "https://localhost:8080/"
    },
    "id": "yGeTPEzCZUNE",
    "outputId": "b6c51c77-5b13-460a-c925-d2a69d5f55e0"
   },
   "outputs": [
    {
     "name": "stdout",
     "output_type": "stream",
     "text": [
      "Stopping early, the loss has diverged\n"
     ]
    }
   ],
   "source": [
    "END_LR = 10\n",
    "NUM_ITER = 100\n",
    "\n",
    "lr_finder = LRFinder(model_VGG13, optimizer, criterion, device)\n",
    "lrs, losses = lr_finder.range_test(train_loader, END_LR, NUM_ITER)"
   ]
  },
  {
   "cell_type": "code",
   "execution_count": 35,
   "metadata": {
    "colab": {
     "base_uri": "https://localhost:8080/",
     "height": 0
    },
    "id": "MrRigXcBZUQj",
    "outputId": "0522331f-5300-49c3-aab9-a2cd0d85cf52"
   },
   "outputs": [
    {
     "data": {
      "image/png": "[encoded data removed]",
      "text/plain": [
       "<Figure size 1152x576 with 1 Axes>"
      ]
     },
     "metadata": {
      "needs_background": "light",
      "tags": []
     },
     "output_type": "display_data"
    }
   ],
   "source": [
    "plot_lr_finder(lrs, losses, skip_start = 10, skip_end = 20)"
   ]
  },
  {
   "cell_type": "markdown",
   "metadata": {
    "id": "l_8S3cs5Z57C"
   },
   "source": [
    "### Training"
   ]
  },
  {
   "cell_type": "code",
   "execution_count": 36,
   "metadata": {
    "id": "0CIHO9aLZ8v1"
   },
   "outputs": [],
   "source": [
    "criterion = nn.CrossEntropyLoss()\n",
    "criterion = criterion.to(device)\n",
    "optimizer = torch.optim.SGD(model_VGG13.parameters(), lr = 0.01, momentum=0.9, weight_decay=0.0001)\n",
    "# scheduler for VGG\n",
    "#scheduler = torch.optim.lr_scheduler.MultiStepLR(optimizer,milestones=[10], last_epoch= -1)\n",
    "# scheduler for ResNet\n",
    "##scheduler = torch.optim.lr_scheduler.MultiStepLR(optimizer,milestones=[100, 150], last_epoch= -1)"
   ]
  },
  {
   "cell_type": "code",
   "execution_count": 37,
   "metadata": {
    "colab": {
     "base_uri": "https://localhost:8080/"
    },
    "id": "MadAWnGZZ9CZ",
    "outputId": "45fb35e5-f58d-4471-a05c-41826978e970"
   },
   "outputs": [
    {
     "name": "stdout",
     "output_type": "stream",
     "text": [
      "Epoch: 01 | Epoch Time: 0m 35s, | Timestamp: 2021-05-13 01:46:10.176891\n",
      "\tTrain Loss: 0.171 | Train Acc: 94.89%\n",
      "\t Val. Loss: 0.051 |  Val. Acc: 98.42%\n",
      "Epoch: 02 | Epoch Time: 0m 35s, | Timestamp: 2021-05-13 01:46:45.523712\n",
      "\tTrain Loss: 0.035 | Train Acc: 99.01%\n",
      "\t Val. Loss: 0.052 |  Val. Acc: 98.50%\n",
      "Epoch: 03 | Epoch Time: 0m 35s, | Timestamp: 2021-05-13 01:47:20.934481\n",
      "\tTrain Loss: 0.022 | Train Acc: 99.40%\n",
      "\t Val. Loss: 0.032 |  Val. Acc: 99.24%\n",
      "Epoch: 04 | Epoch Time: 0m 35s, | Timestamp: 2021-05-13 01:47:56.348033\n",
      "\tTrain Loss: 0.016 | Train Acc: 99.53%\n",
      "\t Val. Loss: 0.050 |  Val. Acc: 98.66%\n",
      "Epoch: 05 | Epoch Time: 0m 35s, | Timestamp: 2021-05-13 01:48:31.777526\n",
      "\tTrain Loss: 0.016 | Train Acc: 99.58%\n",
      "\t Val. Loss: 0.049 |  Val. Acc: 98.83%\n",
      "Epoch: 06 | Epoch Time: 0m 35s, | Timestamp: 2021-05-13 01:49:07.148127\n",
      "\tTrain Loss: 0.011 | Train Acc: 99.70%\n",
      "\t Val. Loss: 0.038 |  Val. Acc: 99.12%\n",
      "Epoch: 07 | Epoch Time: 0m 35s, | Timestamp: 2021-05-13 01:49:42.513090\n",
      "\tTrain Loss: 0.007 | Train Acc: 99.78%\n",
      "\t Val. Loss: 0.035 |  Val. Acc: 99.32%\n",
      "Epoch: 08 | Epoch Time: 0m 35s, | Timestamp: 2021-05-13 01:50:17.818770\n",
      "\tTrain Loss: 0.006 | Train Acc: 99.84%\n",
      "\t Val. Loss: 0.105 |  Val. Acc: 97.74%\n",
      "Epoch: 09 | Epoch Time: 0m 35s, | Timestamp: 2021-05-13 01:50:53.285188\n",
      "\tTrain Loss: 0.007 | Train Acc: 99.81%\n",
      "\t Val. Loss: 0.041 |  Val. Acc: 99.15%\n",
      "Epoch: 10 | Epoch Time: 0m 35s, | Timestamp: 2021-05-13 01:51:28.715333\n",
      "\tTrain Loss: 0.006 | Train Acc: 99.84%\n",
      "\t Val. Loss: 0.036 |  Val. Acc: 99.22%\n",
      "Epoch: 11 | Epoch Time: 0m 35s, | Timestamp: 2021-05-13 01:52:04.157090\n",
      "\tTrain Loss: 0.004 | Train Acc: 99.91%\n",
      "\t Val. Loss: 0.036 |  Val. Acc: 99.28%\n",
      "Epoch: 12 | Epoch Time: 0m 35s, | Timestamp: 2021-05-13 01:52:39.513997\n",
      "\tTrain Loss: 0.004 | Train Acc: 99.88%\n",
      "\t Val. Loss: 0.062 |  Val. Acc: 98.72%\n",
      "Epoch: 13 | Epoch Time: 0m 35s, | Timestamp: 2021-05-13 01:53:14.949830\n",
      "\tTrain Loss: 0.005 | Train Acc: 99.87%\n",
      "\t Val. Loss: 0.047 |  Val. Acc: 99.11%\n",
      "Epoch: 14 | Epoch Time: 0m 35s, | Timestamp: 2021-05-13 01:53:50.232970\n",
      "\tTrain Loss: 0.004 | Train Acc: 99.86%\n",
      "\t Val. Loss: 0.039 |  Val. Acc: 99.22%\n",
      "Epoch: 15 | Epoch Time: 0m 35s, | Timestamp: 2021-05-13 01:54:25.543995\n",
      "\tTrain Loss: 0.003 | Train Acc: 99.92%\n",
      "\t Val. Loss: 0.044 |  Val. Acc: 99.18%\n",
      "Epoch: 16 | Epoch Time: 0m 35s, | Timestamp: 2021-05-13 01:55:00.936293\n",
      "\tTrain Loss: 0.002 | Train Acc: 99.94%\n",
      "\t Val. Loss: 0.052 |  Val. Acc: 99.20%\n",
      "Epoch: 17 | Epoch Time: 0m 35s, | Timestamp: 2021-05-13 01:55:36.253777\n",
      "\tTrain Loss: 0.002 | Train Acc: 99.94%\n",
      "\t Val. Loss: 0.048 |  Val. Acc: 99.16%\n",
      "Epoch: 18 | Epoch Time: 0m 35s, | Timestamp: 2021-05-13 01:56:11.550033\n",
      "\tTrain Loss: 0.004 | Train Acc: 99.88%\n",
      "\t Val. Loss: 0.046 |  Val. Acc: 99.22%\n",
      "Epoch: 19 | Epoch Time: 0m 35s, | Timestamp: 2021-05-13 01:56:46.807530\n",
      "\tTrain Loss: 0.003 | Train Acc: 99.92%\n",
      "\t Val. Loss: 0.044 |  Val. Acc: 99.28%\n",
      "Epoch: 20 | Epoch Time: 0m 35s, | Timestamp: 2021-05-13 01:57:22.125085\n",
      "\tTrain Loss: 0.001 | Train Acc: 99.96%\n",
      "\t Val. Loss: 0.055 |  Val. Acc: 99.05%\n",
      "Epoch: 21 | Epoch Time: 0m 35s, | Timestamp: 2021-05-13 01:57:57.540523\n",
      "\tTrain Loss: 0.001 | Train Acc: 99.97%\n",
      "\t Val. Loss: 0.052 |  Val. Acc: 99.20%\n",
      "Epoch: 22 | Epoch Time: 0m 35s, | Timestamp: 2021-05-13 01:58:32.763268\n",
      "\tTrain Loss: 0.001 | Train Acc: 99.98%\n",
      "\t Val. Loss: 0.047 |  Val. Acc: 99.28%\n",
      "Epoch: 23 | Epoch Time: 0m 35s, | Timestamp: 2021-05-13 01:59:08.188489\n",
      "\tTrain Loss: 0.002 | Train Acc: 99.96%\n",
      "\t Val. Loss: 0.048 |  Val. Acc: 99.14%\n",
      "Epoch: 24 | Epoch Time: 0m 35s, | Timestamp: 2021-05-13 01:59:43.390454\n",
      "\tTrain Loss: 0.002 | Train Acc: 99.95%\n",
      "\t Val. Loss: 0.053 |  Val. Acc: 99.15%\n",
      "Epoch: 25 | Epoch Time: 0m 35s, | Timestamp: 2021-05-13 02:00:18.627612\n",
      "\tTrain Loss: 0.001 | Train Acc: 99.97%\n",
      "\t Val. Loss: 0.050 |  Val. Acc: 99.12%\n",
      "Epoch: 26 | Epoch Time: 0m 35s, | Timestamp: 2021-05-13 02:00:53.865963\n",
      "\tTrain Loss: 0.000 | Train Acc: 99.99%\n",
      "\t Val. Loss: 0.051 |  Val. Acc: 99.22%\n",
      "Epoch: 27 | Epoch Time: 0m 35s, | Timestamp: 2021-05-13 02:01:29.331987\n",
      "\tTrain Loss: 0.000 | Train Acc: 100.00%\n",
      "\t Val. Loss: 0.046 |  Val. Acc: 99.35%\n",
      "Epoch: 28 | Epoch Time: 0m 35s, | Timestamp: 2021-05-13 02:02:04.984343\n",
      "\tTrain Loss: 0.000 | Train Acc: 100.00%\n",
      "\t Val. Loss: 0.051 |  Val. Acc: 99.24%\n",
      "Epoch: 29 | Epoch Time: 0m 35s, | Timestamp: 2021-05-13 02:02:40.197212\n",
      "\tTrain Loss: 0.000 | Train Acc: 100.00%\n",
      "\t Val. Loss: 0.046 |  Val. Acc: 99.32%\n",
      "Epoch: 30 | Epoch Time: 0m 35s, | Timestamp: 2021-05-13 02:03:15.547089\n",
      "\tTrain Loss: 0.000 | Train Acc: 100.00%\n",
      "\t Val. Loss: 0.047 |  Val. Acc: 99.28%\n",
      "Epoch: 31 | Epoch Time: 0m 35s, | Timestamp: 2021-05-13 02:03:51.106044\n",
      "\tTrain Loss: 0.000 | Train Acc: 100.00%\n",
      "\t Val. Loss: 0.048 |  Val. Acc: 99.32%\n",
      "Epoch: 32 | Epoch Time: 0m 35s, | Timestamp: 2021-05-13 02:04:26.961312\n",
      "\tTrain Loss: 0.000 | Train Acc: 100.00%\n",
      "\t Val. Loss: 0.048 |  Val. Acc: 99.28%\n",
      "Epoch: 33 | Epoch Time: 0m 35s, | Timestamp: 2021-05-13 02:05:02.483968\n",
      "\tTrain Loss: 0.000 | Train Acc: 100.00%\n",
      "\t Val. Loss: 0.050 |  Val. Acc: 99.25%\n",
      "Epoch: 34 | Epoch Time: 0m 35s, | Timestamp: 2021-05-13 02:05:38.182740\n",
      "\tTrain Loss: 0.000 | Train Acc: 100.00%\n",
      "\t Val. Loss: 0.049 |  Val. Acc: 99.25%\n",
      "Epoch: 35 | Epoch Time: 0m 35s, | Timestamp: 2021-05-13 02:06:14.009932\n",
      "\tTrain Loss: 0.000 | Train Acc: 100.00%\n",
      "\t Val. Loss: 0.055 |  Val. Acc: 99.10%\n",
      "Epoch: 36 | Epoch Time: 0m 35s, | Timestamp: 2021-05-13 02:06:49.528694\n",
      "\tTrain Loss: 0.000 | Train Acc: 100.00%\n",
      "\t Val. Loss: 0.049 |  Val. Acc: 99.25%\n",
      "Epoch: 37 | Epoch Time: 0m 35s, | Timestamp: 2021-05-13 02:07:25.026987\n",
      "\tTrain Loss: 0.000 | Train Acc: 100.00%\n",
      "\t Val. Loss: 0.052 |  Val. Acc: 99.24%\n",
      "Epoch: 38 | Epoch Time: 0m 35s, | Timestamp: 2021-05-13 02:08:00.811977\n",
      "\tTrain Loss: 0.000 | Train Acc: 100.00%\n",
      "\t Val. Loss: 0.047 |  Val. Acc: 99.25%\n",
      "Epoch: 39 | Epoch Time: 0m 35s, | Timestamp: 2021-05-13 02:08:36.583803\n",
      "\tTrain Loss: 0.000 | Train Acc: 100.00%\n",
      "\t Val. Loss: 0.048 |  Val. Acc: 99.14%\n",
      "Epoch: 40 | Epoch Time: 0m 35s, | Timestamp: 2021-05-13 02:09:12.098142\n",
      "\tTrain Loss: 0.000 | Train Acc: 100.00%\n",
      "\t Val. Loss: 0.049 |  Val. Acc: 99.17%\n",
      "Epoch: 41 | Epoch Time: 0m 35s, | Timestamp: 2021-05-13 02:09:47.586127\n",
      "\tTrain Loss: 0.000 | Train Acc: 100.00%\n",
      "\t Val. Loss: 0.047 |  Val. Acc: 99.25%\n",
      "Epoch: 42 | Epoch Time: 0m 35s, | Timestamp: 2021-05-13 02:10:23.100816\n",
      "\tTrain Loss: 0.000 | Train Acc: 100.00%\n",
      "\t Val. Loss: 0.047 |  Val. Acc: 99.24%\n",
      "Epoch: 43 | Epoch Time: 0m 35s, | Timestamp: 2021-05-13 02:10:58.591560\n",
      "\tTrain Loss: 0.000 | Train Acc: 100.00%\n",
      "\t Val. Loss: 0.047 |  Val. Acc: 99.28%\n",
      "Epoch: 44 | Epoch Time: 0m 35s, | Timestamp: 2021-05-13 02:11:34.255486\n",
      "\tTrain Loss: 0.000 | Train Acc: 100.00%\n",
      "\t Val. Loss: 0.052 |  Val. Acc: 99.21%\n",
      "Epoch: 45 | Epoch Time: 0m 35s, | Timestamp: 2021-05-13 02:12:10.000016\n",
      "\tTrain Loss: 0.000 | Train Acc: 100.00%\n",
      "\t Val. Loss: 0.047 |  Val. Acc: 99.25%\n",
      "Epoch: 46 | Epoch Time: 0m 35s, | Timestamp: 2021-05-13 02:12:45.709563\n",
      "\tTrain Loss: 0.000 | Train Acc: 100.00%\n",
      "\t Val. Loss: 0.045 |  Val. Acc: 99.25%\n",
      "Epoch: 47 | Epoch Time: 0m 35s, | Timestamp: 2021-05-13 02:13:21.513211\n",
      "\tTrain Loss: 0.000 | Train Acc: 100.00%\n",
      "\t Val. Loss: 0.045 |  Val. Acc: 99.28%\n",
      "Epoch: 48 | Epoch Time: 0m 35s, | Timestamp: 2021-05-13 02:13:57.307601\n",
      "\tTrain Loss: 0.000 | Train Acc: 100.00%\n",
      "\t Val. Loss: 0.045 |  Val. Acc: 99.28%\n",
      "Epoch: 49 | Epoch Time: 0m 35s, | Timestamp: 2021-05-13 02:14:32.656140\n",
      "\tTrain Loss: 0.000 | Train Acc: 100.00%\n",
      "\t Val. Loss: 0.046 |  Val. Acc: 99.25%\n",
      "Epoch: 50 | Epoch Time: 0m 35s, | Timestamp: 2021-05-13 02:15:07.876209\n",
      "\tTrain Loss: 0.000 | Train Acc: 100.00%\n",
      "\t Val. Loss: 0.045 |  Val. Acc: 99.28%\n"
     ]
    }
   ],
   "source": [
    "EPOCHS = 50\n",
    "train_loss_list_VGG13 = []\n",
    "train_acc_list_VGG13 = []\n",
    "\n",
    "val_loss_list_VGG13 = []\n",
    "val_acc_list_VGG13 = []\n",
    "\n",
    "for epoch in range(EPOCHS):\n",
    "    \n",
    "    start_time = time.time()\n",
    "    \n",
    "    train_loss, train_acc = train(model_VGG13, train_loader, optimizer, criterion, device)\n",
    "    #optimizer.step()\n",
    "    val_loss, val_acc = evaluate(model_VGG13, val_loader, criterion, device)\n",
    "    end_time = time.time()\n",
    "\n",
    "    train_loss_list_VGG13.append(train_loss)\n",
    "    train_acc_list_VGG13.append(train_acc)\n",
    "    val_loss_list_VGG13.append(val_loss)\n",
    "    val_acc_list_VGG13.append(val_acc)\n",
    "\n",
    "    epoch_mins, epoch_secs = epoch_time(start_time, end_time)\n",
    "\n",
    "    ct = datetime.datetime.now()\n",
    "    print(f'Epoch: {epoch+1:02} | Epoch Time: {epoch_mins}m {epoch_secs}s, | Timestamp: {ct}')\n",
    "    print(f'\\tTrain Loss: {train_loss:.3f} | Train Acc: {train_acc*100:.2f}%')\n",
    "    print(f'\\t Val. Loss: {val_loss:.3f} |  Val. Acc: {val_acc*100:.2f}%')\n",
    "    \n"
   ]
  },
  {
   "cell_type": "code",
   "execution_count": 38,
   "metadata": {
    "id": "f-XcLq0VZ9Fq"
   },
   "outputs": [],
   "source": [
    "images, labels, probs = get_preds(model_VGG13, test_loader)\n",
    "pred_labels = torch.argmax(probs, 1)"
   ]
  },
  {
   "cell_type": "code",
   "execution_count": 39,
   "metadata": {
    "colab": {
     "base_uri": "https://localhost:8080/",
     "height": 580
    },
    "id": "yhWb1E_iZ9Jt",
    "outputId": "00742e2e-2d1d-444b-915e-120635384597"
   },
   "outputs": [
    {
     "data": {
      "image/png": "[encoded data removed]",
      "text/plain": [
       "<Figure size 720x720 with 2 Axes>"
      ]
     },
     "metadata": {
      "needs_background": "light",
      "tags": []
     },
     "output_type": "display_data"
    }
   ],
   "source": [
    "classes = test.classes\n",
    "\n",
    "plot_confusion_matrix(labels, pred_labels, classes)"
   ]
  },
  {
   "cell_type": "code",
   "execution_count": 40,
   "metadata": {
    "colab": {
     "base_uri": "https://localhost:8080/",
     "height": 298
    },
    "id": "Z-5UlfFmakFs",
    "outputId": "577a7def-b4d9-4376-d0ba-1388df99b0f2"
   },
   "outputs": [
    {
     "data": {
      "text/plain": [
       "Text(0.5, 1.0, 'VGG13 , Cross Entropy Loss across Epochs')"
      ]
     },
     "execution_count": 40,
     "metadata": {
      "tags": []
     },
     "output_type": "execute_result"
    },
    {
     "data": {
      "image/png": "[encoded data removed]",
      "text/plain": [
       "<Figure size 432x288 with 1 Axes>"
      ]
     },
     "metadata": {
      "needs_background": "light",
      "tags": []
     },
     "output_type": "display_data"
    }
   ],
   "source": [
    "plt.plot([i for i in range(1,EPOCHS + 1)], train_loss_list_VGG13, label = 'training loss')\n",
    "plt.plot([i for i in range(1,EPOCHS + 1)], val_loss_list_VGG13, label = 'validation loss')\n",
    "plt.legend()\n",
    "plt.title('VGG13 , Cross Entropy Loss across Epochs')"
   ]
  },
  {
   "cell_type": "code",
   "execution_count": 41,
   "metadata": {
    "colab": {
     "base_uri": "https://localhost:8080/",
     "height": 298
    },
    "id": "ZMk-l3zoakJi",
    "outputId": "bc28bad4-54e4-41ea-cdd2-01ac55f5970d"
   },
   "outputs": [
    {
     "data": {
      "text/plain": [
       "Text(0.5, 1.0, 'VGG13 , Accuracy across Epochs')"
      ]
     },
     "execution_count": 41,
     "metadata": {
      "tags": []
     },
     "output_type": "execute_result"
    },
    {
     "data": {
      "image/png": "[encoded data removed]",
      "text/plain": [
       "<Figure size 432x288 with 1 Axes>"
      ]
     },
     "metadata": {
      "needs_background": "light",
      "tags": []
     },
     "output_type": "display_data"
    }
   ],
   "source": [
    "plt.plot([i for i in range(1,EPOCHS + 1)], train_acc_list_VGG13, label = 'training accuracy')\n",
    "plt.plot([i for i in range(1,EPOCHS + 1)], val_acc_list_VGG13, label = 'validation accuracy')\n",
    "plt.legend()\n",
    "plt.title('VGG13 , Accuracy across Epochs')"
   ]
  },
  {
   "cell_type": "code",
   "execution_count": 42,
   "metadata": {
    "colab": {
     "base_uri": "https://localhost:8080/"
    },
    "id": "3KVlOWprakNh",
    "outputId": "730bb133-529f-4204-9b0a-464592f822aa"
   },
   "outputs": [
    {
     "data": {
      "text/plain": [
       "0.9964"
      ]
     },
     "execution_count": 42,
     "metadata": {
      "tags": []
     },
     "output_type": "execute_result"
    }
   ],
   "source": [
    "labels_accuracy(labels.numpy(), pred_labels.numpy())"
   ]
  },
  {
   "cell_type": "code",
   "execution_count": 43,
   "metadata": {
    "id": "Vr09EIXbau8P"
   },
   "outputs": [],
   "source": [
    "correct_pred = torch.eq(labels, pred_labels)\n",
    "incorrect_examples = []\n",
    "\n",
    "for image, label, prob, correct in zip(images, labels, probs, correct_pred):\n",
    "    if not correct:\n",
    "        incorrect_examples.append((image, label, prob))\n",
    "\n",
    "incorrect_examples.sort(reverse = True, key = lambda x: torch.max(x[2], dim = 0).values)"
   ]
  },
  {
   "cell_type": "code",
   "execution_count": 44,
   "metadata": {
    "colab": {
     "base_uri": "https://localhost:8080/",
     "height": 158
    },
    "id": "X6GZ4R5YavBW",
    "outputId": "fe62c116-6a8d-4fd5-972a-6d7a1c9cba98"
   },
   "outputs": [
    {
     "data": {
      "image/png": "[encoded data removed]",
      "text/plain": [
       "<Figure size 720x720 with 5 Axes>"
      ]
     },
     "metadata": {
      "needs_background": "light",
      "tags": []
     },
     "output_type": "display_data"
    }
   ],
   "source": [
    "show_incorrect_preds(incorrect_examples, classes, 5)"
   ]
  },
  {
   "cell_type": "markdown",
   "metadata": {
    "id": "dyXeMzFFNGh9"
   },
   "source": [
    "# Resnet"
   ]
  },
  {
   "cell_type": "code",
   "execution_count": 45,
   "metadata": {
    "id": "ZXsXOCbKNGh9"
   },
   "outputs": [],
   "source": [
    "class ResNet(nn.Module):\n",
    "    def __init__(self, config, output_dim):\n",
    "        super().__init__()\n",
    "                \n",
    "        block, n_blocks, channels = config\n",
    "        self.in_channels = channels[0]\n",
    "            \n",
    "        assert len(n_blocks) == len(channels) == 4\n",
    "        \n",
    "        self.conv1 = nn.Conv2d(1, self.in_channels, kernel_size = 7, stride = 2, padding = 3, bias = False)\n",
    "        self.bn1 = nn.BatchNorm2d(self.in_channels)\n",
    "        self.relu = nn.ReLU(inplace = True)\n",
    "        self.maxpool = nn.MaxPool2d(kernel_size = 3, stride = 2, padding = 1)\n",
    "        \n",
    "        self.layer1 = self.get_resnet_layer(block, n_blocks[0], channels[0])\n",
    "        self.layer2 = self.get_resnet_layer(block, n_blocks[1], channels[1], stride = 2)\n",
    "        self.layer3 = self.get_resnet_layer(block, n_blocks[2], channels[2], stride = 2)\n",
    "        self.layer4 = self.get_resnet_layer(block, n_blocks[3], channels[3], stride = 2)\n",
    "        \n",
    "        self.avgpool = nn.AdaptiveAvgPool2d((1,1))\n",
    "        self.fc = nn.Linear(self.in_channels, output_dim)\n",
    "        \n",
    "    def get_resnet_layer(self, block, n_blocks, channels, stride = 1):\n",
    "    \n",
    "        layers = []\n",
    "        \n",
    "        if self.in_channels != block.expansion * channels:\n",
    "            downsample = True\n",
    "        else:\n",
    "            downsample = False\n",
    "        \n",
    "        layers.append(block(self.in_channels, channels, stride, downsample))\n",
    "        \n",
    "        for i in range(1, n_blocks):\n",
    "            layers.append(block(block.expansion * channels, channels))\n",
    "\n",
    "        self.in_channels = block.expansion * channels\n",
    "            \n",
    "        return nn.Sequential(*layers)\n",
    "        \n",
    "    def forward(self, x):\n",
    "        \n",
    "        x = self.conv1(x)\n",
    "        x = self.bn1(x)\n",
    "        x = self.relu(x)\n",
    "        x = self.maxpool(x)\n",
    "\n",
    "        x = self.layer1(x)\n",
    "        x = self.layer2(x)\n",
    "        x = self.layer3(x)\n",
    "        x = self.layer4(x)\n",
    "        \n",
    "        x = self.avgpool(x)\n",
    "        h = x.view(x.shape[0], -1)\n",
    "        x = self.fc(h)\n",
    "        \n",
    "        return x#, h"
   ]
  },
  {
   "cell_type": "code",
   "execution_count": 46,
   "metadata": {
    "id": "9Rq-aAoLNGh-"
   },
   "outputs": [],
   "source": [
    "class BasicBlock(nn.Module):\n",
    "    \n",
    "    expansion = 1\n",
    "    \n",
    "    def __init__(self, in_channels, out_channels, stride = 1, downsample = False):\n",
    "        super().__init__()\n",
    "                \n",
    "        self.conv1 = nn.Conv2d(in_channels, out_channels, kernel_size = 3, stride = stride, padding = 1, bias = False)\n",
    "        self.bn1 = nn.BatchNorm2d(out_channels)\n",
    "        \n",
    "        self.relu = nn.ReLU(inplace = True)\n",
    "        \n",
    "        self.conv2 = nn.Conv2d(out_channels, out_channels, kernel_size = 3, stride = 1, padding = 1, bias = False)\n",
    "        self.bn2 = nn.BatchNorm2d(out_channels)\n",
    "        \n",
    "        \n",
    "        \n",
    "        if downsample:\n",
    "            conv = nn.Conv2d(in_channels, out_channels, kernel_size = 1, stride = stride, bias = False)\n",
    "            bn = nn.BatchNorm2d(out_channels)\n",
    "            downsample = nn.Sequential(conv, bn)\n",
    "        else:\n",
    "            downsample = None\n",
    "        \n",
    "        self.downsample = downsample\n",
    "        \n",
    "    def forward(self, x):\n",
    "        \n",
    "        i = x\n",
    "        \n",
    "        x = self.conv1(x)\n",
    "        x = self.bn1(x)\n",
    "        \n",
    "        x = self.relu(x)\n",
    "        \n",
    "        x = self.conv2(x)\n",
    "        x = self.bn2(x)\n",
    "        \n",
    "        if self.downsample is not None:\n",
    "            i = self.downsample(i)\n",
    "                        \n",
    "        x += i\n",
    "        x = self.relu(x)\n",
    "        \n",
    "        return x"
   ]
  },
  {
   "cell_type": "code",
   "execution_count": 47,
   "metadata": {
    "id": "gjsXRXyqNGh-"
   },
   "outputs": [],
   "source": [
    "class Bottleneck(nn.Module):\n",
    "    \n",
    "    expansion = 4\n",
    "    \n",
    "    def __init__(self, in_channels, out_channels, stride = 1, downsample = False):\n",
    "        super().__init__()\n",
    "    \n",
    "        self.conv1 = nn.Conv2d(in_channels, out_channels, kernel_size = 1, stride = 1, bias = False)\n",
    "        self.bn1 = nn.BatchNorm2d(out_channels)\n",
    "        \n",
    "        self.conv2 = nn.Conv2d(out_channels, out_channels, kernel_size = 3, stride = stride, padding = 1, bias = False)\n",
    "        self.bn2 = nn.BatchNorm2d(out_channels)\n",
    "        \n",
    "        self.conv3 = nn.Conv2d(out_channels, self.expansion * out_channels, kernel_size = 1, stride = 1, bias = False)\n",
    "        self.bn3 = nn.BatchNorm2d(self.expansion * out_channels)\n",
    "        \n",
    "        self.relu = nn.ReLU(inplace = True)\n",
    "        \n",
    "        if downsample:\n",
    "            conv = nn.Conv2d(in_channels, self.expansion * out_channels, kernel_size = 1, stride = stride, bias = False)\n",
    "            bn = nn.BatchNorm2d(self.expansion * out_channels)\n",
    "            downsample = nn.Sequential(conv, bn)\n",
    "        else:\n",
    "            downsample = None\n",
    "            \n",
    "        self.downsample = downsample\n",
    "        \n",
    "    def forward(self, x):\n",
    "        \n",
    "        i = x\n",
    "        \n",
    "        x = self.conv1(x)\n",
    "        x = self.bn1(x)\n",
    "        \n",
    "        x = self.relu(x)\n",
    "        \n",
    "        x = self.conv2(x)\n",
    "        x = self.bn2(x)\n",
    "        \n",
    "        x = self.relu(x)\n",
    "        \n",
    "        x = self.conv3(x)\n",
    "        x = self.bn3(x)\n",
    "                \n",
    "        if self.downsample is not None:\n",
    "            i = self.downsample(i)\n",
    "            \n",
    "        x += i\n",
    "        x = self.relu(x)\n",
    "    \n",
    "        return x"
   ]
  },
  {
   "cell_type": "code",
   "execution_count": 48,
   "metadata": {
    "id": "33NV7-K9NGh_"
   },
   "outputs": [],
   "source": [
    "class CIFARResNet(nn.Module):\n",
    "    def __init__(self, config, output_dim):\n",
    "        super().__init__()\n",
    "                \n",
    "        block, layers, channels = config\n",
    "        self.in_channels = channels[0]\n",
    "            \n",
    "        assert len(layers) == len(channels) == 3\n",
    "        assert all([i == j*2 for i, j in zip(channels[1:], channels[:-1])])\n",
    "        \n",
    "        self.conv1 = nn.Conv2d(1, self.in_channels, kernel_size = 3, stride = 1, padding = 1, bias = False)\n",
    "        self.bn1 = nn.BatchNorm2d(self.in_channels)\n",
    "        \n",
    "        self.relu = nn.ReLU(inplace = True)\n",
    "        \n",
    "        self.layer1 = self.get_resnet_layer(block, layers[0], channels[0])\n",
    "        self.layer2 = self.get_resnet_layer(block, layers[1], channels[1], stride = 2)\n",
    "        self.layer3 = self.get_resnet_layer(block, layers[2], channels[2], stride = 2)\n",
    "        \n",
    "        self.avgpool = nn.AdaptiveAvgPool2d((1,1))\n",
    "        self.fc = nn.Linear(self.in_channels, output_dim)\n",
    "        \n",
    "    def get_resnet_layer(self, block, n_blocks, channels, stride = 1):\n",
    "    \n",
    "        layers = []\n",
    "        \n",
    "        if self.in_channels != channels:\n",
    "            downsample = True\n",
    "        else:\n",
    "            downsample = False\n",
    "        \n",
    "        layers.append(block(self.in_channels, channels, stride, downsample))\n",
    "        \n",
    "        for i in range(1, n_blocks):\n",
    "            layers.append(block(channels, channels))\n",
    "\n",
    "        self.in_channels = channels\n",
    "            \n",
    "        return nn.Sequential(*layers)\n",
    "        \n",
    "    def forward(self, x):\n",
    "        \n",
    "        x = self.conv1(x)\n",
    "        x = self.bn1(x)\n",
    "        \n",
    "        x = self.relu(x)\n",
    "\n",
    "        x = self.layer1(x)\n",
    "        x = self.layer2(x)\n",
    "        x = self.layer3(x)\n",
    "        \n",
    "        x = self.avgpool(x)\n",
    "        h = x.view(x.shape[0], -1)\n",
    "        x = self.fc(h)\n",
    "        \n",
    "        return x#, h"
   ]
  },
  {
   "cell_type": "code",
   "execution_count": 49,
   "metadata": {
    "id": "yr1Rur5FNGh_"
   },
   "outputs": [],
   "source": [
    "class Identity(nn.Module):\n",
    "    def __init__(self, f):\n",
    "        super().__init__()\n",
    "        self.f = f\n",
    "        \n",
    "    def forward(self, x):\n",
    "        return self.f(x)\n",
    "        \n",
    "\n",
    "class CIFARBasicBlock(nn.Module):\n",
    "        \n",
    "    def __init__(self, in_channels, out_channels, stride = 1, downsample = False):\n",
    "        super().__init__()\n",
    "                \n",
    "        self.conv1 = nn.Conv2d(in_channels, out_channels, kernel_size = 3,stride = stride, padding = 1, bias = False)\n",
    "        self.bn1 = nn.BatchNorm2d(out_channels)\n",
    "        \n",
    "        self.relu = nn.ReLU(inplace = True)\n",
    "\n",
    "        self.conv2 = nn.Conv2d(out_channels, out_channels, kernel_size = 3,stride = 1, padding = 1, bias = False)\n",
    "        self.bn2 = nn.BatchNorm2d(out_channels)\n",
    "                \n",
    "        \n",
    "        if downsample:\n",
    "            identity_fn = lambda x : F.pad(x[:, :, ::2, ::2], [0, 0, 0, 0, in_channels // 2, in_channels // 2])\n",
    "            downsample = Identity(identity_fn)\n",
    "        else:\n",
    "            downsample = None\n",
    "        \n",
    "        self.downsample = downsample\n",
    "        \n",
    "    def forward(self, x):\n",
    "        \n",
    "        i = x\n",
    "        \n",
    "        x = self.conv1(x)\n",
    "        x = self.bn1(x)\n",
    "        \n",
    "        x = self.relu(x)\n",
    "        \n",
    "        x = self.conv2(x)\n",
    "        x = self.bn2(x)\n",
    "        \n",
    "        if self.downsample is not None:\n",
    "            i = self.downsample(i)\n",
    "                                \n",
    "        x += i\n",
    "        x = self.relu(x)\n",
    "        \n",
    "        return x"
   ]
  },
  {
   "cell_type": "code",
   "execution_count": 50,
   "metadata": {
    "id": "O-437eRMNGiA"
   },
   "outputs": [],
   "source": [
    "ResNetConfig = namedtuple('ResNetConfig', ['block', 'n_blocks', 'channels'])"
   ]
  },
  {
   "cell_type": "code",
   "execution_count": 51,
   "metadata": {
    "id": "FSm1QogWNGiA"
   },
   "outputs": [],
   "source": [
    "resnet18_config = ResNetConfig (block = BasicBlock, n_blocks = [2,2,2,2], channels = [64, 128, 256, 512])\n",
    "resnet34_config = ResNetConfig (block = BasicBlock, n_blocks = [3,4,6,3], channels = [64, 128, 256, 512])\n",
    "\n",
    "resnet50_config = ResNetConfig (block = Bottleneck,n_blocks = [3, 4, 6, 3], channels = [64, 128, 256, 512])\n",
    "\n",
    "cifar_resnet20_config = ResNetConfig (block = CIFARBasicBlock, n_blocks = [3, 3, 3], channels = [16, 32, 64])\n",
    "cifar_resnet32_config = ResNetConfig (block = CIFARBasicBlock, n_blocks = [5, 5, 5], channels = [16, 32, 64])\n",
    "cifar_resnet44_config = ResNetConfig (block = CIFARBasicBlock, n_blocks = [7, 7, 7], channels = [16, 32, 64])"
   ]
  },
  {
   "cell_type": "markdown",
   "metadata": {
    "id": "CuzwVBeddSSc"
   },
   "source": [
    "## Resnet44"
   ]
  },
  {
   "cell_type": "code",
   "execution_count": 52,
   "metadata": {
    "id": "2EQgZ20xdFnX"
   },
   "outputs": [],
   "source": [
    "#model_Resnet20 = CIFARResNet(cifar_resnet20_config,10)\n",
    "model_Resnet44 = CIFARResNet(cifar_resnet44_config,10)"
   ]
  },
  {
   "cell_type": "code",
   "execution_count": 53,
   "metadata": {
    "id": "evxXMykRNGiA"
   },
   "outputs": [],
   "source": [
    "device = 'cuda' if torch.cuda.is_available() else 'cpu'\n",
    "model_Resnet44 = model_Resnet44.to(device)\n",
    "#model_Resnet44"
   ]
  },
  {
   "cell_type": "code",
   "execution_count": 54,
   "metadata": {
    "id": "VW9PTpw_NGiA"
   },
   "outputs": [],
   "source": [
    "from torchsummary import summary\n",
    "\n",
    "#summary(model_Resnet44.to(device), (3, 32, 32))"
   ]
  },
  {
   "cell_type": "markdown",
   "metadata": {
    "id": "MDR2AysFNGiB"
   },
   "source": [
    "### Find Best LR"
   ]
  },
  {
   "cell_type": "code",
   "execution_count": 55,
   "metadata": {
    "id": "sAy0CQpmNGiB"
   },
   "outputs": [],
   "source": [
    "START_LR = 1e-7\n",
    "\n",
    "optimizer = optim.SGD(model_Resnet44.parameters(), momentum=0.9, lr = START_LR)\n",
    "\n",
    "device = torch.device('cuda' if torch.cuda.is_available() else 'cpu')\n",
    "\n",
    "criterion = nn.CrossEntropyLoss()\n",
    "\n",
    "model_Resnet44 = model_Resnet44.to(device)\n",
    "criterion = criterion.to(device)"
   ]
  },
  {
   "cell_type": "code",
   "execution_count": 56,
   "metadata": {
    "id": "dGjOXDleNGiB"
   },
   "outputs": [],
   "source": [
    "END_LR = 10\n",
    "NUM_ITER = 100\n",
    "\n",
    "lr_finder = LRFinder(model_Resnet44, optimizer, criterion, device)\n",
    "lrs, losses = lr_finder.range_test(train_loader, END_LR, NUM_ITER)"
   ]
  },
  {
   "cell_type": "code",
   "execution_count": 57,
   "metadata": {
    "colab": {
     "base_uri": "https://localhost:8080/",
     "height": 0
    },
    "id": "I5jwaA2BNGiB",
    "outputId": "ca80b4d2-3dd7-41ff-d9dc-857bbdf06a1a"
   },
   "outputs": [
    {
     "data": {
      "image/png": "[encoded data removed]",
      "text/plain": [
       "<Figure size 1152x576 with 1 Axes>"
      ]
     },
     "metadata": {
      "needs_background": "light",
      "tags": []
     },
     "output_type": "display_data"
    }
   ],
   "source": [
    "plot_lr_finder(lrs, losses, skip_start = 10, skip_end = 20)"
   ]
  },
  {
   "cell_type": "markdown",
   "metadata": {
    "id": "C5_bJdtCNGiB"
   },
   "source": [
    "###  Training"
   ]
  },
  {
   "cell_type": "code",
   "execution_count": 58,
   "metadata": {
    "id": "aFzCvHxbNGiB"
   },
   "outputs": [],
   "source": [
    "criterion = nn.CrossEntropyLoss()\n",
    "criterion = criterion.to(device)\n",
    "optimizer = torch.optim.SGD(model_Resnet44.parameters(), momentum=0.01, lr = 0.01, weight_decay=0.0001)\n",
    "# scheduler for VGG\n",
    "#scheduler = torch.optim.lr_scheduler.MultiStepLR(optimizer,milestones=[10], last_epoch= -1)\n",
    "# scheduler for ResNet\n",
    "##scheduler = torch.optim.lr_scheduler.MultiStepLR(optimizer,milestones=[100, 150], last_epoch= -1)"
   ]
  },
  {
   "cell_type": "code",
   "execution_count": 59,
   "metadata": {
    "colab": {
     "base_uri": "https://localhost:8080/"
    },
    "id": "T7TW-cshNGiC",
    "outputId": "61f54245-904f-4f00-a999-d7eb5030abfc"
   },
   "outputs": [
    {
     "name": "stdout",
     "output_type": "stream",
     "text": [
      "Epoch: 01 | Epoch Time: 0m 42s, | Timestamp: 2021-05-13 02:16:03.967485\n",
      "\tTrain Loss: 0.400 | Train Acc: 89.11%\n",
      "\t Val. Loss: 0.676 |  Val. Acc: 80.46%\n",
      "Epoch: 02 | Epoch Time: 0m 41s, | Timestamp: 2021-05-13 02:16:45.932314\n",
      "\tTrain Loss: 0.067 | Train Acc: 98.10%\n",
      "\t Val. Loss: 0.081 |  Val. Acc: 97.70%\n",
      "Epoch: 03 | Epoch Time: 0m 41s, | Timestamp: 2021-05-13 02:17:27.881099\n",
      "\tTrain Loss: 0.043 | Train Acc: 98.79%\n",
      "\t Val. Loss: 0.054 |  Val. Acc: 98.36%\n",
      "Epoch: 04 | Epoch Time: 0m 41s, | Timestamp: 2021-05-13 02:18:09.796264\n",
      "\tTrain Loss: 0.032 | Train Acc: 99.10%\n",
      "\t Val. Loss: 0.059 |  Val. Acc: 98.31%\n",
      "Epoch: 05 | Epoch Time: 0m 41s, | Timestamp: 2021-05-13 02:18:51.698838\n",
      "\tTrain Loss: 0.026 | Train Acc: 99.23%\n",
      "\t Val. Loss: 0.555 |  Val. Acc: 86.26%\n",
      "Epoch: 06 | Epoch Time: 0m 41s, | Timestamp: 2021-05-13 02:19:33.590510\n",
      "\tTrain Loss: 0.022 | Train Acc: 99.38%\n",
      "\t Val. Loss: 0.093 |  Val. Acc: 97.10%\n",
      "Epoch: 07 | Epoch Time: 0m 42s, | Timestamp: 2021-05-13 02:20:15.610418\n",
      "\tTrain Loss: 0.018 | Train Acc: 99.50%\n",
      "\t Val. Loss: 0.087 |  Val. Acc: 97.41%\n",
      "Epoch: 08 | Epoch Time: 0m 42s, | Timestamp: 2021-05-13 02:20:57.866859\n",
      "\tTrain Loss: 0.015 | Train Acc: 99.59%\n",
      "\t Val. Loss: 0.084 |  Val. Acc: 97.43%\n",
      "Epoch: 09 | Epoch Time: 0m 41s, | Timestamp: 2021-05-13 02:21:39.713211\n",
      "\tTrain Loss: 0.012 | Train Acc: 99.71%\n",
      "\t Val. Loss: 2.722 |  Val. Acc: 54.07%\n",
      "Epoch: 10 | Epoch Time: 0m 41s, | Timestamp: 2021-05-13 02:22:21.607802\n",
      "\tTrain Loss: 0.011 | Train Acc: 99.72%\n",
      "\t Val. Loss: 1.389 |  Val. Acc: 70.02%\n",
      "Epoch: 11 | Epoch Time: 0m 42s, | Timestamp: 2021-05-13 02:23:03.719705\n",
      "\tTrain Loss: 0.010 | Train Acc: 99.74%\n",
      "\t Val. Loss: 0.037 |  Val. Acc: 98.89%\n",
      "Epoch: 12 | Epoch Time: 0m 42s, | Timestamp: 2021-05-13 02:23:46.024402\n",
      "\tTrain Loss: 0.007 | Train Acc: 99.86%\n",
      "\t Val. Loss: 0.190 |  Val. Acc: 94.22%\n",
      "Epoch: 13 | Epoch Time: 0m 42s, | Timestamp: 2021-05-13 02:24:28.743813\n",
      "\tTrain Loss: 0.005 | Train Acc: 99.89%\n",
      "\t Val. Loss: 0.030 |  Val. Acc: 98.93%\n",
      "Epoch: 14 | Epoch Time: 0m 42s, | Timestamp: 2021-05-13 02:25:11.665715\n",
      "\tTrain Loss: 0.005 | Train Acc: 99.90%\n",
      "\t Val. Loss: 0.035 |  Val. Acc: 98.89%\n",
      "Epoch: 15 | Epoch Time: 0m 42s, | Timestamp: 2021-05-13 02:25:54.520889\n",
      "\tTrain Loss: 0.004 | Train Acc: 99.94%\n",
      "\t Val. Loss: 0.038 |  Val. Acc: 98.72%\n",
      "Epoch: 16 | Epoch Time: 0m 42s, | Timestamp: 2021-05-13 02:26:37.508287\n",
      "\tTrain Loss: 0.003 | Train Acc: 99.95%\n",
      "\t Val. Loss: 0.035 |  Val. Acc: 98.75%\n",
      "Epoch: 17 | Epoch Time: 0m 42s, | Timestamp: 2021-05-13 02:27:20.325702\n",
      "\tTrain Loss: 0.002 | Train Acc: 99.99%\n",
      "\t Val. Loss: 0.055 |  Val. Acc: 98.68%\n",
      "Epoch: 18 | Epoch Time: 0m 42s, | Timestamp: 2021-05-13 02:28:03.119973\n",
      "\tTrain Loss: 0.002 | Train Acc: 99.98%\n",
      "\t Val. Loss: 0.037 |  Val. Acc: 98.92%\n",
      "Epoch: 19 | Epoch Time: 0m 42s, | Timestamp: 2021-05-13 02:28:45.889556\n",
      "\tTrain Loss: 0.002 | Train Acc: 99.99%\n",
      "\t Val. Loss: 0.036 |  Val. Acc: 99.02%\n",
      "Epoch: 20 | Epoch Time: 0m 42s, | Timestamp: 2021-05-13 02:29:28.094227\n",
      "\tTrain Loss: 0.001 | Train Acc: 99.99%\n",
      "\t Val. Loss: 0.038 |  Val. Acc: 99.02%\n",
      "Epoch: 21 | Epoch Time: 0m 42s, | Timestamp: 2021-05-13 02:30:10.348256\n",
      "\tTrain Loss: 0.001 | Train Acc: 100.00%\n",
      "\t Val. Loss: 0.056 |  Val. Acc: 98.50%\n",
      "Epoch: 22 | Epoch Time: 0m 42s, | Timestamp: 2021-05-13 02:30:52.569532\n",
      "\tTrain Loss: 0.001 | Train Acc: 99.99%\n",
      "\t Val. Loss: 0.038 |  Val. Acc: 99.00%\n",
      "Epoch: 23 | Epoch Time: 0m 42s, | Timestamp: 2021-05-13 02:31:34.878040\n",
      "\tTrain Loss: 0.001 | Train Acc: 99.99%\n",
      "\t Val. Loss: 0.044 |  Val. Acc: 98.76%\n",
      "Epoch: 24 | Epoch Time: 0m 42s, | Timestamp: 2021-05-13 02:32:17.149189\n",
      "\tTrain Loss: 0.001 | Train Acc: 100.00%\n",
      "\t Val. Loss: 0.034 |  Val. Acc: 99.14%\n",
      "Epoch: 25 | Epoch Time: 0m 42s, | Timestamp: 2021-05-13 02:32:59.429650\n",
      "\tTrain Loss: 0.001 | Train Acc: 100.00%\n",
      "\t Val. Loss: 0.031 |  Val. Acc: 99.12%\n",
      "Epoch: 26 | Epoch Time: 0m 42s, | Timestamp: 2021-05-13 02:33:41.701323\n",
      "\tTrain Loss: 0.001 | Train Acc: 100.00%\n",
      "\t Val. Loss: 0.033 |  Val. Acc: 99.14%\n",
      "Epoch: 27 | Epoch Time: 0m 42s, | Timestamp: 2021-05-13 02:34:23.904624\n",
      "\tTrain Loss: 0.001 | Train Acc: 100.00%\n",
      "\t Val. Loss: 0.035 |  Val. Acc: 99.08%\n",
      "Epoch: 28 | Epoch Time: 0m 42s, | Timestamp: 2021-05-13 02:35:06.126396\n",
      "\tTrain Loss: 0.001 | Train Acc: 100.00%\n",
      "\t Val. Loss: 0.032 |  Val. Acc: 99.22%\n",
      "Epoch: 29 | Epoch Time: 0m 42s, | Timestamp: 2021-05-13 02:35:48.366568\n",
      "\tTrain Loss: 0.001 | Train Acc: 100.00%\n",
      "\t Val. Loss: 0.073 |  Val. Acc: 97.78%\n",
      "Epoch: 30 | Epoch Time: 0m 42s, | Timestamp: 2021-05-13 02:36:30.497249\n",
      "\tTrain Loss: 0.001 | Train Acc: 100.00%\n",
      "\t Val. Loss: 0.036 |  Val. Acc: 99.04%\n",
      "Epoch: 31 | Epoch Time: 0m 42s, | Timestamp: 2021-05-13 02:37:12.805411\n",
      "\tTrain Loss: 0.001 | Train Acc: 100.00%\n",
      "\t Val. Loss: 0.041 |  Val. Acc: 99.14%\n",
      "Epoch: 32 | Epoch Time: 0m 42s, | Timestamp: 2021-05-13 02:37:54.942106\n",
      "\tTrain Loss: 0.001 | Train Acc: 100.00%\n",
      "\t Val. Loss: 0.037 |  Val. Acc: 98.79%\n",
      "Epoch: 33 | Epoch Time: 0m 42s, | Timestamp: 2021-05-13 02:38:37.203584\n",
      "\tTrain Loss: 0.000 | Train Acc: 100.00%\n",
      "\t Val. Loss: 0.036 |  Val. Acc: 98.98%\n",
      "Epoch: 34 | Epoch Time: 0m 42s, | Timestamp: 2021-05-13 02:39:19.370637\n",
      "\tTrain Loss: 0.000 | Train Acc: 100.00%\n",
      "\t Val. Loss: 0.034 |  Val. Acc: 99.06%\n",
      "Epoch: 35 | Epoch Time: 0m 42s, | Timestamp: 2021-05-13 02:40:01.563200\n",
      "\tTrain Loss: 0.000 | Train Acc: 100.00%\n",
      "\t Val. Loss: 0.036 |  Val. Acc: 99.12%\n",
      "Epoch: 36 | Epoch Time: 0m 42s, | Timestamp: 2021-05-13 02:40:43.788535\n",
      "\tTrain Loss: 0.000 | Train Acc: 100.00%\n",
      "\t Val. Loss: 0.035 |  Val. Acc: 99.08%\n",
      "Epoch: 37 | Epoch Time: 0m 42s, | Timestamp: 2021-05-13 02:41:25.883836\n",
      "\tTrain Loss: 0.000 | Train Acc: 100.00%\n",
      "\t Val. Loss: 0.552 |  Val. Acc: 85.88%\n",
      "Epoch: 38 | Epoch Time: 0m 42s, | Timestamp: 2021-05-13 02:42:08.073297\n",
      "\tTrain Loss: 0.003 | Train Acc: 99.89%\n",
      "\t Val. Loss: 0.047 |  Val. Acc: 98.79%\n",
      "Epoch: 39 | Epoch Time: 0m 42s, | Timestamp: 2021-05-13 02:42:50.162392\n",
      "\tTrain Loss: 0.001 | Train Acc: 99.99%\n",
      "\t Val. Loss: 0.037 |  Val. Acc: 99.06%\n",
      "Epoch: 40 | Epoch Time: 0m 42s, | Timestamp: 2021-05-13 02:43:32.424770\n",
      "\tTrain Loss: 0.001 | Train Acc: 100.00%\n",
      "\t Val. Loss: 0.035 |  Val. Acc: 99.12%\n",
      "Epoch: 41 | Epoch Time: 0m 42s, | Timestamp: 2021-05-13 02:44:14.584758\n",
      "\tTrain Loss: 0.000 | Train Acc: 100.00%\n",
      "\t Val. Loss: 0.034 |  Val. Acc: 99.15%\n",
      "Epoch: 42 | Epoch Time: 0m 42s, | Timestamp: 2021-05-13 02:44:56.708709\n",
      "\tTrain Loss: 0.000 | Train Acc: 100.00%\n",
      "\t Val. Loss: 0.103 |  Val. Acc: 97.06%\n",
      "Epoch: 43 | Epoch Time: 0m 42s, | Timestamp: 2021-05-13 02:45:38.760183\n",
      "\tTrain Loss: 0.000 | Train Acc: 100.00%\n",
      "\t Val. Loss: 0.156 |  Val. Acc: 95.95%\n",
      "Epoch: 44 | Epoch Time: 0m 42s, | Timestamp: 2021-05-13 02:46:20.927648\n",
      "\tTrain Loss: 0.000 | Train Acc: 100.00%\n",
      "\t Val. Loss: 0.038 |  Val. Acc: 99.08%\n",
      "Epoch: 45 | Epoch Time: 0m 42s, | Timestamp: 2021-05-13 02:47:02.938302\n",
      "\tTrain Loss: 0.000 | Train Acc: 100.00%\n",
      "\t Val. Loss: 0.034 |  Val. Acc: 99.15%\n",
      "Epoch: 46 | Epoch Time: 0m 42s, | Timestamp: 2021-05-13 02:47:45.078165\n",
      "\tTrain Loss: 0.000 | Train Acc: 100.00%\n",
      "\t Val. Loss: 0.034 |  Val. Acc: 99.12%\n",
      "Epoch: 47 | Epoch Time: 0m 42s, | Timestamp: 2021-05-13 02:48:27.288075\n",
      "\tTrain Loss: 0.000 | Train Acc: 100.00%\n",
      "\t Val. Loss: 0.035 |  Val. Acc: 99.12%\n",
      "Epoch: 48 | Epoch Time: 0m 42s, | Timestamp: 2021-05-13 02:49:09.299298\n",
      "\tTrain Loss: 0.000 | Train Acc: 100.00%\n",
      "\t Val. Loss: 0.047 |  Val. Acc: 98.83%\n",
      "Epoch: 49 | Epoch Time: 0m 42s, | Timestamp: 2021-05-13 02:49:51.522943\n",
      "\tTrain Loss: 0.000 | Train Acc: 100.00%\n",
      "\t Val. Loss: 0.036 |  Val. Acc: 99.15%\n",
      "Epoch: 50 | Epoch Time: 0m 41s, | Timestamp: 2021-05-13 02:50:33.455927\n",
      "\tTrain Loss: 0.000 | Train Acc: 100.00%\n",
      "\t Val. Loss: 0.036 |  Val. Acc: 99.22%\n"
     ]
    }
   ],
   "source": [
    "EPOCHS = 50\n",
    "train_loss_list_Resnet44 = []\n",
    "train_acc_list_Resnet44 = []\n",
    "\n",
    "val_loss_list_Resnet44 = []\n",
    "val_acc_list_Resnet44 = []\n",
    "\n",
    "for epoch in range(EPOCHS):\n",
    "    \n",
    "    start_time = time.time()\n",
    "    \n",
    "    train_loss, train_acc = train(model_Resnet44, train_loader, optimizer, criterion, device)\n",
    "    #optimizer.step()\n",
    "    val_loss, val_acc = evaluate(model_Resnet44, val_loader, criterion, device)\n",
    "    end_time = time.time()\n",
    "\n",
    "    train_loss_list_Resnet44.append(train_loss)\n",
    "    train_acc_list_Resnet44.append(train_acc)\n",
    "    val_loss_list_Resnet44.append(val_loss)\n",
    "    val_acc_list_Resnet44.append(val_acc)\n",
    "\n",
    "    epoch_mins, epoch_secs = epoch_time(start_time, end_time)\n",
    "\n",
    "    ct = datetime.datetime.now()\n",
    "    print(f'Epoch: {epoch+1:02} | Epoch Time: {epoch_mins}m {epoch_secs}s, | Timestamp: {ct}')\n",
    "    print(f'\\tTrain Loss: {train_loss:.3f} | Train Acc: {train_acc*100:.2f}%')\n",
    "    print(f'\\t Val. Loss: {val_loss:.3f} |  Val. Acc: {val_acc*100:.2f}%')\n",
    "    \n"
   ]
  },
  {
   "cell_type": "code",
   "execution_count": 60,
   "metadata": {
    "id": "551DHVHBNGiC"
   },
   "outputs": [],
   "source": [
    "images, labels, probs = get_preds(model_Resnet44, test_loader)\n",
    "pred_labels = torch.argmax(probs, 1)"
   ]
  },
  {
   "cell_type": "code",
   "execution_count": 61,
   "metadata": {
    "colab": {
     "base_uri": "https://localhost:8080/",
     "height": 580
    },
    "id": "2gE-3T5LNGiC",
    "outputId": "7757797e-ae28-4d26-ebfc-4c662fca9b8c"
   },
   "outputs": [
    {
     "data": {
      "image/png": "[encoded data removed]",
      "text/plain": [
       "<Figure size 720x720 with 2 Axes>"
      ]
     },
     "metadata": {
      "needs_background": "light",
      "tags": []
     },
     "output_type": "display_data"
    }
   ],
   "source": [
    "classes = test.classes\n",
    "\n",
    "plot_confusion_matrix(labels, pred_labels, classes)"
   ]
  },
  {
   "cell_type": "code",
   "execution_count": 62,
   "metadata": {
    "colab": {
     "base_uri": "https://localhost:8080/",
     "height": 298
    },
    "id": "SuS3aqYhNGiC",
    "outputId": "184c02b6-00c0-45c0-f728-138db8c9a651"
   },
   "outputs": [
    {
     "data": {
      "text/plain": [
       "Text(0.5, 1.0, 'Resnet44 , Cross Entropy Loss across Epochs')"
      ]
     },
     "execution_count": 62,
     "metadata": {
      "tags": []
     },
     "output_type": "execute_result"
    },
    {
     "data": {
      "image/png": "[encoded data removed]",
      "text/plain": [
       "<Figure size 432x288 with 1 Axes>"
      ]
     },
     "metadata": {
      "needs_background": "light",
      "tags": []
     },
     "output_type": "display_data"
    }
   ],
   "source": [
    "plt.plot([i for i in range(1,EPOCHS + 1)], train_loss_list_Resnet44, label = 'training loss')\n",
    "plt.plot([i for i in range(1,EPOCHS + 1)], val_loss_list_Resnet44, label = 'validation loss')\n",
    "plt.legend()\n",
    "plt.title('Resnet44 , Cross Entropy Loss across Epochs')"
   ]
  },
  {
   "cell_type": "code",
   "execution_count": 63,
   "metadata": {
    "colab": {
     "base_uri": "https://localhost:8080/",
     "height": 298
    },
    "id": "DQrl83ozNGiD",
    "outputId": "2fe45924-8f23-4974-f19b-34028e3e8fc3"
   },
   "outputs": [
    {
     "data": {
      "text/plain": [
       "Text(0.5, 1.0, 'Resnet44 , Accuracy across Epochs')"
      ]
     },
     "execution_count": 63,
     "metadata": {
      "tags": []
     },
     "output_type": "execute_result"
    },
    {
     "data": {
      "image/png": "[encoded data removed]",
      "text/plain": [
       "<Figure size 432x288 with 1 Axes>"
      ]
     },
     "metadata": {
      "needs_background": "light",
      "tags": []
     },
     "output_type": "display_data"
    }
   ],
   "source": [
    "plt.plot([i for i in range(1,EPOCHS + 1)], train_acc_list_Resnet44, label = 'training accuracy')\n",
    "plt.plot([i for i in range(1,EPOCHS + 1)], val_acc_list_Resnet44, label = 'validation accuracy')\n",
    "plt.legend()\n",
    "plt.title('Resnet44 , Accuracy across Epochs')"
   ]
  },
  {
   "cell_type": "code",
   "execution_count": 64,
   "metadata": {
    "colab": {
     "base_uri": "https://localhost:8080/"
    },
    "id": "JlbmARlRNGiD",
    "outputId": "ddf69c2a-fe57-4eda-8dbf-ac9fc231c4a9"
   },
   "outputs": [
    {
     "data": {
      "text/plain": [
       "0.9937"
      ]
     },
     "execution_count": 64,
     "metadata": {
      "tags": []
     },
     "output_type": "execute_result"
    }
   ],
   "source": [
    "labels_accuracy(labels.numpy(), pred_labels.numpy())"
   ]
  },
  {
   "cell_type": "code",
   "execution_count": 65,
   "metadata": {
    "id": "yKie_zDyNGiD"
   },
   "outputs": [],
   "source": [
    "correct_pred = torch.eq(labels, pred_labels)\n",
    "incorrect_examples = []\n",
    "\n",
    "for image, label, prob, correct in zip(images, labels, probs, correct_pred):\n",
    "    if not correct:\n",
    "        incorrect_examples.append((image, label, prob))\n",
    "\n",
    "incorrect_examples.sort(reverse = True, key = lambda x: torch.max(x[2], dim = 0).values)"
   ]
  },
  {
   "cell_type": "code",
   "execution_count": 66,
   "metadata": {
    "colab": {
     "base_uri": "https://localhost:8080/",
     "height": 158
    },
    "id": "omdMieN5NGiD",
    "outputId": "74e8d7f5-85cc-4132-ab04-54661e3b1f69"
   },
   "outputs": [
    {
     "data": {
      "image/png": "[encoded data removed]",
      "text/plain": [
       "<Figure size 720x720 with 5 Axes>"
      ]
     },
     "metadata": {
      "needs_background": "light",
      "tags": []
     },
     "output_type": "display_data"
    }
   ],
   "source": [
    "show_incorrect_preds(incorrect_examples, classes, 5)"
   ]
  },
  {
   "cell_type": "markdown",
   "metadata": {
    "id": "UrQU_FDPea7Z"
   },
   "source": [
    "## Resnet20"
   ]
  },
  {
   "cell_type": "code",
   "execution_count": 67,
   "metadata": {
    "id": "xG3HZWIqefG8"
   },
   "outputs": [],
   "source": [
    "model_Resnet20 = CIFARResNet(cifar_resnet20_config,10)\n",
    "#model_Resnet44 = CIFARResNet(cifar_resnet44_config,10)"
   ]
  },
  {
   "cell_type": "code",
   "execution_count": 68,
   "metadata": {
    "id": "ZGhI1yGDefPI"
   },
   "outputs": [],
   "source": [
    "device = 'cuda' if torch.cuda.is_available() else 'cpu'\n",
    "model_Resnet20 = model_Resnet20.to(device)\n",
    "#model_Resnet44"
   ]
  },
  {
   "cell_type": "code",
   "execution_count": 69,
   "metadata": {
    "id": "rIjPfFRcefSY"
   },
   "outputs": [],
   "source": [
    "from torchsummary import summary\n",
    "\n",
    "#summary(model_Resnet20.to(device), (3, 32, 32))"
   ]
  },
  {
   "cell_type": "markdown",
   "metadata": {
    "id": "Zq7GLjwEe-JD"
   },
   "source": [
    "### Find Best LR"
   ]
  },
  {
   "cell_type": "code",
   "execution_count": 70,
   "metadata": {
    "id": "q7hS5x63efVt"
   },
   "outputs": [],
   "source": [
    "START_LR = 1e-7\n",
    "\n",
    "optimizer = optim.SGD(model_Resnet20.parameters(), momentum=0.9, lr = START_LR)\n",
    "\n",
    "device = torch.device('cuda' if torch.cuda.is_available() else 'cpu')\n",
    "\n",
    "criterion = nn.CrossEntropyLoss()\n",
    "\n",
    "model_Resnet20 = model_Resnet20.to(device)\n",
    "criterion = criterion.to(device)"
   ]
  },
  {
   "cell_type": "code",
   "execution_count": 71,
   "metadata": {
    "id": "sIHgUmnEfHnT"
   },
   "outputs": [],
   "source": [
    "END_LR = 10\n",
    "NUM_ITER = 100\n",
    "\n",
    "lr_finder = LRFinder(model_Resnet20, optimizer, criterion, device)\n",
    "lrs, losses = lr_finder.range_test(train_loader, END_LR, NUM_ITER)"
   ]
  },
  {
   "cell_type": "code",
   "execution_count": 72,
   "metadata": {
    "colab": {
     "base_uri": "https://localhost:8080/",
     "height": 0
    },
    "id": "QJXRFY_zefYq",
    "outputId": "edc2b62c-cb2a-466b-efb5-e42f816eceb9"
   },
   "outputs": [
    {
     "data": {
      "image/png": "[encoded data removed]",
      "text/plain": [
       "<Figure size 1152x576 with 1 Axes>"
      ]
     },
     "metadata": {
      "needs_background": "light",
      "tags": []
     },
     "output_type": "display_data"
    }
   ],
   "source": [
    "plot_lr_finder(lrs, losses, skip_start = 10, skip_end = 20)"
   ]
  },
  {
   "cell_type": "markdown",
   "metadata": {
    "id": "lHmXAgcifEsO"
   },
   "source": [
    "### Training"
   ]
  },
  {
   "cell_type": "code",
   "execution_count": 73,
   "metadata": {
    "id": "Y7UgYaTyjp-P"
   },
   "outputs": [],
   "source": [
    "criterion = nn.CrossEntropyLoss()\n",
    "criterion = criterion.to(device)\n",
    "optimizer = torch.optim.SGD(model_Resnet20.parameters(), momentum=0.01, lr = 0.01, weight_decay=0.0001)\n",
    "# scheduler for VGG\n",
    "#scheduler = torch.optim.lr_scheduler.MultiStepLR(optimizer,milestones=[10], last_epoch= -1)\n",
    "# scheduler for ResNet\n",
    "##scheduler = torch.optim.lr_scheduler.MultiStepLR(optimizer,milestones=[100, 150], last_epoch= -1)"
   ]
  },
  {
   "cell_type": "code",
   "execution_count": 74,
   "metadata": {
    "colab": {
     "base_uri": "https://localhost:8080/"
    },
    "id": "Uzb2KITVeaFx",
    "outputId": "eff5455e-d0f0-4fd4-fa86-a9a4c385b81f"
   },
   "outputs": [
    {
     "name": "stdout",
     "output_type": "stream",
     "text": [
      "Epoch: 01 | Epoch Time: 0m 22s, | Timestamp: 2021-05-13 02:51:05.937796\n",
      "\tTrain Loss: 0.702 | Train Acc: 82.81%\n",
      "\t Val. Loss: 0.288 |  Val. Acc: 93.05%\n",
      "Epoch: 02 | Epoch Time: 0m 22s, | Timestamp: 2021-05-13 02:51:28.579550\n",
      "\tTrain Loss: 0.113 | Train Acc: 97.40%\n",
      "\t Val. Loss: 0.179 |  Val. Acc: 95.25%\n",
      "Epoch: 03 | Epoch Time: 0m 22s, | Timestamp: 2021-05-13 02:51:51.210981\n",
      "\tTrain Loss: 0.070 | Train Acc: 98.29%\n",
      "\t Val. Loss: 0.121 |  Val. Acc: 96.83%\n",
      "Epoch: 04 | Epoch Time: 0m 22s, | Timestamp: 2021-05-13 02:52:13.848139\n",
      "\tTrain Loss: 0.054 | Train Acc: 98.61%\n",
      "\t Val. Loss: 0.543 |  Val. Acc: 83.93%\n",
      "Epoch: 05 | Epoch Time: 0m 22s, | Timestamp: 2021-05-13 02:52:36.633893\n",
      "\tTrain Loss: 0.043 | Train Acc: 98.86%\n",
      "\t Val. Loss: 0.282 |  Val. Acc: 90.79%\n",
      "Epoch: 06 | Epoch Time: 0m 22s, | Timestamp: 2021-05-13 02:52:59.362574\n",
      "\tTrain Loss: 0.037 | Train Acc: 99.00%\n",
      "\t Val. Loss: 0.072 |  Val. Acc: 97.55%\n",
      "Epoch: 07 | Epoch Time: 0m 22s, | Timestamp: 2021-05-13 02:53:22.297552\n",
      "\tTrain Loss: 0.032 | Train Acc: 99.18%\n",
      "\t Val. Loss: 0.140 |  Val. Acc: 95.91%\n",
      "Epoch: 08 | Epoch Time: 0m 22s, | Timestamp: 2021-05-13 02:53:45.152462\n",
      "\tTrain Loss: 0.028 | Train Acc: 99.24%\n",
      "\t Val. Loss: 0.099 |  Val. Acc: 96.79%\n",
      "Epoch: 09 | Epoch Time: 0m 22s, | Timestamp: 2021-05-13 02:54:07.823455\n",
      "\tTrain Loss: 0.025 | Train Acc: 99.33%\n",
      "\t Val. Loss: 0.657 |  Val. Acc: 85.08%\n",
      "Epoch: 10 | Epoch Time: 0m 22s, | Timestamp: 2021-05-13 02:54:30.534556\n",
      "\tTrain Loss: 0.022 | Train Acc: 99.44%\n",
      "\t Val. Loss: 0.078 |  Val. Acc: 97.48%\n",
      "Epoch: 11 | Epoch Time: 0m 22s, | Timestamp: 2021-05-13 02:54:53.168221\n",
      "\tTrain Loss: 0.020 | Train Acc: 99.50%\n",
      "\t Val. Loss: 0.072 |  Val. Acc: 97.88%\n",
      "Epoch: 12 | Epoch Time: 0m 22s, | Timestamp: 2021-05-13 02:55:15.788664\n",
      "\tTrain Loss: 0.018 | Train Acc: 99.53%\n",
      "\t Val. Loss: 0.052 |  Val. Acc: 98.50%\n",
      "Epoch: 13 | Epoch Time: 0m 22s, | Timestamp: 2021-05-13 02:55:38.426158\n",
      "\tTrain Loss: 0.016 | Train Acc: 99.63%\n",
      "\t Val. Loss: 0.183 |  Val. Acc: 94.06%\n",
      "Epoch: 14 | Epoch Time: 0m 22s, | Timestamp: 2021-05-13 02:56:01.069481\n",
      "\tTrain Loss: 0.015 | Train Acc: 99.60%\n",
      "\t Val. Loss: 3.256 |  Val. Acc: 46.64%\n",
      "Epoch: 15 | Epoch Time: 0m 22s, | Timestamp: 2021-05-13 02:56:23.808876\n",
      "\tTrain Loss: 0.014 | Train Acc: 99.63%\n",
      "\t Val. Loss: 0.065 |  Val. Acc: 98.01%\n",
      "Epoch: 16 | Epoch Time: 0m 22s, | Timestamp: 2021-05-13 02:56:46.675607\n",
      "\tTrain Loss: 0.012 | Train Acc: 99.75%\n",
      "\t Val. Loss: 0.038 |  Val. Acc: 98.76%\n",
      "Epoch: 17 | Epoch Time: 0m 23s, | Timestamp: 2021-05-13 02:57:09.740382\n",
      "\tTrain Loss: 0.010 | Train Acc: 99.78%\n",
      "\t Val. Loss: 0.043 |  Val. Acc: 98.80%\n",
      "Epoch: 18 | Epoch Time: 0m 22s, | Timestamp: 2021-05-13 02:57:32.712577\n",
      "\tTrain Loss: 0.010 | Train Acc: 99.78%\n",
      "\t Val. Loss: 0.045 |  Val. Acc: 98.60%\n",
      "Epoch: 19 | Epoch Time: 0m 23s, | Timestamp: 2021-05-13 02:57:55.799287\n",
      "\tTrain Loss: 0.009 | Train Acc: 99.81%\n",
      "\t Val. Loss: 0.054 |  Val. Acc: 98.13%\n",
      "Epoch: 20 | Epoch Time: 0m 23s, | Timestamp: 2021-05-13 02:58:18.815091\n",
      "\tTrain Loss: 0.008 | Train Acc: 99.83%\n",
      "\t Val. Loss: 0.038 |  Val. Acc: 98.93%\n",
      "Epoch: 21 | Epoch Time: 0m 22s, | Timestamp: 2021-05-13 02:58:41.572765\n",
      "\tTrain Loss: 0.007 | Train Acc: 99.86%\n",
      "\t Val. Loss: 0.047 |  Val. Acc: 98.54%\n",
      "Epoch: 22 | Epoch Time: 0m 22s, | Timestamp: 2021-05-13 02:59:04.195734\n",
      "\tTrain Loss: 0.006 | Train Acc: 99.91%\n",
      "\t Val. Loss: 0.033 |  Val. Acc: 99.12%\n",
      "Epoch: 23 | Epoch Time: 0m 22s, | Timestamp: 2021-05-13 02:59:26.892988\n",
      "\tTrain Loss: 0.006 | Train Acc: 99.91%\n",
      "\t Val. Loss: 0.045 |  Val. Acc: 98.68%\n",
      "Epoch: 24 | Epoch Time: 0m 22s, | Timestamp: 2021-05-13 02:59:49.742080\n",
      "\tTrain Loss: 0.006 | Train Acc: 99.90%\n",
      "\t Val. Loss: 0.071 |  Val. Acc: 97.75%\n",
      "Epoch: 25 | Epoch Time: 0m 22s, | Timestamp: 2021-05-13 03:00:12.473265\n",
      "\tTrain Loss: 0.005 | Train Acc: 99.91%\n",
      "\t Val. Loss: 0.050 |  Val. Acc: 98.56%\n",
      "Epoch: 26 | Epoch Time: 0m 22s, | Timestamp: 2021-05-13 03:00:35.109211\n",
      "\tTrain Loss: 0.005 | Train Acc: 99.92%\n",
      "\t Val. Loss: 0.041 |  Val. Acc: 98.80%\n",
      "Epoch: 27 | Epoch Time: 0m 22s, | Timestamp: 2021-05-13 03:00:57.916555\n",
      "\tTrain Loss: 0.004 | Train Acc: 99.96%\n",
      "\t Val. Loss: 0.035 |  Val. Acc: 99.06%\n",
      "Epoch: 28 | Epoch Time: 0m 22s, | Timestamp: 2021-05-13 03:01:20.728077\n",
      "\tTrain Loss: 0.003 | Train Acc: 99.98%\n",
      "\t Val. Loss: 0.094 |  Val. Acc: 97.57%\n",
      "Epoch: 29 | Epoch Time: 0m 22s, | Timestamp: 2021-05-13 03:01:43.596587\n",
      "\tTrain Loss: 0.004 | Train Acc: 99.96%\n",
      "\t Val. Loss: 0.041 |  Val. Acc: 98.72%\n",
      "Epoch: 30 | Epoch Time: 0m 22s, | Timestamp: 2021-05-13 03:02:06.398881\n",
      "\tTrain Loss: 0.003 | Train Acc: 99.98%\n",
      "\t Val. Loss: 0.087 |  Val. Acc: 97.51%\n",
      "Epoch: 31 | Epoch Time: 0m 22s, | Timestamp: 2021-05-13 03:02:29.226058\n",
      "\tTrain Loss: 0.003 | Train Acc: 99.98%\n",
      "\t Val. Loss: 0.035 |  Val. Acc: 98.89%\n",
      "Epoch: 32 | Epoch Time: 0m 22s, | Timestamp: 2021-05-13 03:02:52.145223\n",
      "\tTrain Loss: 0.003 | Train Acc: 99.97%\n",
      "\t Val. Loss: 0.036 |  Val. Acc: 98.90%\n",
      "Epoch: 33 | Epoch Time: 0m 22s, | Timestamp: 2021-05-13 03:03:15.077278\n",
      "\tTrain Loss: 0.002 | Train Acc: 100.00%\n",
      "\t Val. Loss: 0.687 |  Val. Acc: 85.58%\n",
      "Epoch: 34 | Epoch Time: 0m 22s, | Timestamp: 2021-05-13 03:03:37.832938\n",
      "\tTrain Loss: 0.003 | Train Acc: 99.98%\n",
      "\t Val. Loss: 0.046 |  Val. Acc: 98.70%\n",
      "Epoch: 35 | Epoch Time: 0m 23s, | Timestamp: 2021-05-13 03:04:00.839788\n",
      "\tTrain Loss: 0.002 | Train Acc: 100.00%\n",
      "\t Val. Loss: 0.034 |  Val. Acc: 99.19%\n",
      "Epoch: 36 | Epoch Time: 0m 23s, | Timestamp: 2021-05-13 03:04:23.968533\n",
      "\tTrain Loss: 0.002 | Train Acc: 99.98%\n",
      "\t Val. Loss: 0.040 |  Val. Acc: 98.96%\n",
      "Epoch: 37 | Epoch Time: 0m 23s, | Timestamp: 2021-05-13 03:04:47.167749\n",
      "\tTrain Loss: 0.002 | Train Acc: 100.00%\n",
      "\t Val. Loss: 0.050 |  Val. Acc: 98.40%\n",
      "Epoch: 38 | Epoch Time: 0m 22s, | Timestamp: 2021-05-13 03:05:10.145697\n",
      "\tTrain Loss: 0.002 | Train Acc: 100.00%\n",
      "\t Val. Loss: 0.029 |  Val. Acc: 99.32%\n",
      "Epoch: 39 | Epoch Time: 0m 22s, | Timestamp: 2021-05-13 03:05:32.957608\n",
      "\tTrain Loss: 0.002 | Train Acc: 100.00%\n",
      "\t Val. Loss: 0.036 |  Val. Acc: 99.07%\n",
      "Epoch: 40 | Epoch Time: 0m 22s, | Timestamp: 2021-05-13 03:05:55.759571\n",
      "\tTrain Loss: 0.002 | Train Acc: 99.99%\n",
      "\t Val. Loss: 0.033 |  Val. Acc: 99.19%\n",
      "Epoch: 41 | Epoch Time: 0m 22s, | Timestamp: 2021-05-13 03:06:18.636611\n",
      "\tTrain Loss: 0.002 | Train Acc: 99.99%\n",
      "\t Val. Loss: 0.033 |  Val. Acc: 98.99%\n",
      "Epoch: 42 | Epoch Time: 0m 22s, | Timestamp: 2021-05-13 03:06:41.457449\n",
      "\tTrain Loss: 0.002 | Train Acc: 99.99%\n",
      "\t Val. Loss: 0.037 |  Val. Acc: 98.99%\n",
      "Epoch: 43 | Epoch Time: 0m 22s, | Timestamp: 2021-05-13 03:07:04.246920\n",
      "\tTrain Loss: 0.001 | Train Acc: 100.00%\n",
      "\t Val. Loss: 0.036 |  Val. Acc: 99.12%\n",
      "Epoch: 44 | Epoch Time: 0m 22s, | Timestamp: 2021-05-13 03:07:27.013368\n",
      "\tTrain Loss: 0.002 | Train Acc: 99.99%\n",
      "\t Val. Loss: 0.076 |  Val. Acc: 97.84%\n",
      "Epoch: 45 | Epoch Time: 0m 23s, | Timestamp: 2021-05-13 03:07:50.239906\n",
      "\tTrain Loss: 0.002 | Train Acc: 99.99%\n",
      "\t Val. Loss: 0.036 |  Val. Acc: 99.12%\n",
      "Epoch: 46 | Epoch Time: 0m 23s, | Timestamp: 2021-05-13 03:08:13.514721\n",
      "\tTrain Loss: 0.001 | Train Acc: 100.00%\n",
      "\t Val. Loss: 0.032 |  Val. Acc: 99.15%\n",
      "Epoch: 47 | Epoch Time: 0m 23s, | Timestamp: 2021-05-13 03:08:36.521957\n",
      "\tTrain Loss: 0.001 | Train Acc: 100.00%\n",
      "\t Val. Loss: 0.036 |  Val. Acc: 99.02%\n",
      "Epoch: 48 | Epoch Time: 0m 22s, | Timestamp: 2021-05-13 03:08:59.337482\n",
      "\tTrain Loss: 0.001 | Train Acc: 100.00%\n",
      "\t Val. Loss: 0.034 |  Val. Acc: 99.06%\n",
      "Epoch: 49 | Epoch Time: 0m 22s, | Timestamp: 2021-05-13 03:09:22.188445\n",
      "\tTrain Loss: 0.001 | Train Acc: 99.99%\n",
      "\t Val. Loss: 0.032 |  Val. Acc: 99.15%\n",
      "Epoch: 50 | Epoch Time: 0m 22s, | Timestamp: 2021-05-13 03:09:44.962698\n",
      "\tTrain Loss: 0.001 | Train Acc: 100.00%\n",
      "\t Val. Loss: 0.034 |  Val. Acc: 99.05%\n"
     ]
    }
   ],
   "source": [
    "EPOCHS = 50\n",
    "train_loss_list_Resnet20 = []\n",
    "train_acc_list_Resnet20 = []\n",
    "\n",
    "val_loss_list_Resnet20 = []\n",
    "val_acc_list_Resnet20 = []\n",
    "\n",
    "for epoch in range(EPOCHS):\n",
    "    \n",
    "    start_time = time.time()\n",
    "    \n",
    "    train_loss, train_acc = train(model_Resnet20, train_loader, optimizer, criterion, device)\n",
    "    #optimizer.step()\n",
    "    val_loss, val_acc = evaluate(model_Resnet20, val_loader, criterion, device)\n",
    "    end_time = time.time()\n",
    "\n",
    "    train_loss_list_Resnet20.append(train_loss)\n",
    "    train_acc_list_Resnet20.append(train_acc)\n",
    "    val_loss_list_Resnet20.append(val_loss)\n",
    "    val_acc_list_Resnet20.append(val_acc)\n",
    "\n",
    "    epoch_mins, epoch_secs = epoch_time(start_time, end_time)\n",
    "\n",
    "    ct = datetime.datetime.now()\n",
    "    print(f'Epoch: {epoch+1:02} | Epoch Time: {epoch_mins}m {epoch_secs}s, | Timestamp: {ct}')\n",
    "    print(f'\\tTrain Loss: {train_loss:.3f} | Train Acc: {train_acc*100:.2f}%')\n",
    "    print(f'\\t Val. Loss: {val_loss:.3f} |  Val. Acc: {val_acc*100:.2f}%')\n",
    "    \n"
   ]
  },
  {
   "cell_type": "code",
   "execution_count": 75,
   "metadata": {
    "id": "KZN4gMldfRKD"
   },
   "outputs": [],
   "source": [
    "images, labels, probs = get_preds(model_Resnet20, test_loader)\n",
    "pred_labels = torch.argmax(probs, 1)"
   ]
  },
  {
   "cell_type": "code",
   "execution_count": 76,
   "metadata": {
    "colab": {
     "base_uri": "https://localhost:8080/",
     "height": 580
    },
    "id": "d9d2hRgPfRNf",
    "outputId": "f73b90e5-4403-42a4-8be2-a99b95356654"
   },
   "outputs": [
    {
     "data": {
      "image/png": "[encoded data removed]",
      "text/plain": [
       "<Figure size 720x720 with 2 Axes>"
      ]
     },
     "metadata": {
      "needs_background": "light",
      "tags": []
     },
     "output_type": "display_data"
    }
   ],
   "source": [
    "classes = test.classes\n",
    "\n",
    "plot_confusion_matrix(labels, pred_labels, classes)"
   ]
  },
  {
   "cell_type": "code",
   "execution_count": 77,
   "metadata": {
    "colab": {
     "base_uri": "https://localhost:8080/",
     "height": 298
    },
    "id": "RfD7tH7-fRQd",
    "outputId": "c4128b99-6b8d-488c-85d1-dd4f626c9a62"
   },
   "outputs": [
    {
     "data": {
      "text/plain": [
       "Text(0.5, 1.0, 'Resnet20 , Cross Entropy Loss across Epochs')"
      ]
     },
     "execution_count": 77,
     "metadata": {
      "tags": []
     },
     "output_type": "execute_result"
    },
    {
     "data": {
      "image/png": "[encoded data removed]",
      "text/plain": [
       "<Figure size 432x288 with 1 Axes>"
      ]
     },
     "metadata": {
      "needs_background": "light",
      "tags": []
     },
     "output_type": "display_data"
    }
   ],
   "source": [
    "plt.plot([i for i in range(1,EPOCHS + 1)], train_loss_list_Resnet20, label = 'training loss')\n",
    "plt.plot([i for i in range(1,EPOCHS + 1)], val_loss_list_Resnet20, label = 'validation loss')\n",
    "plt.legend()\n",
    "plt.title('Resnet20 , Cross Entropy Loss across Epochs')"
   ]
  },
  {
   "cell_type": "code",
   "execution_count": 78,
   "metadata": {
    "colab": {
     "base_uri": "https://localhost:8080/",
     "height": 298
    },
    "id": "G54Ljk-4fRZy",
    "outputId": "cac25cc4-0309-454e-c440-c47e57ae335a"
   },
   "outputs": [
    {
     "data": {
      "text/plain": [
       "Text(0.5, 1.0, 'Resnet20 , Accuracy across Epochs')"
      ]
     },
     "execution_count": 78,
     "metadata": {
      "tags": []
     },
     "output_type": "execute_result"
    },
    {
     "data": {
      "image/png": "[encoded data removed]",
      "text/plain": [
       "<Figure size 432x288 with 1 Axes>"
      ]
     },
     "metadata": {
      "needs_background": "light",
      "tags": []
     },
     "output_type": "display_data"
    }
   ],
   "source": [
    "plt.plot([i for i in range(1,EPOCHS + 1)], train_acc_list_Resnet20, label = 'training accuracy')\n",
    "plt.plot([i for i in range(1,EPOCHS + 1)], val_acc_list_Resnet20, label = 'validation accuracy')\n",
    "plt.legend()\n",
    "plt.title('Resnet20 , Accuracy across Epochs')"
   ]
  },
  {
   "cell_type": "code",
   "execution_count": 79,
   "metadata": {
    "colab": {
     "base_uri": "https://localhost:8080/"
    },
    "id": "JyrcpuGafaSl",
    "outputId": "b239ca8e-b241-4fcd-9d7e-0985dc945f52"
   },
   "outputs": [
    {
     "data": {
      "text/plain": [
       "0.9931"
      ]
     },
     "execution_count": 79,
     "metadata": {
      "tags": []
     },
     "output_type": "execute_result"
    }
   ],
   "source": [
    "labels_accuracy(labels.numpy(), pred_labels.numpy())"
   ]
  },
  {
   "cell_type": "code",
   "execution_count": 80,
   "metadata": {
    "id": "qbPFcFkHfaYD"
   },
   "outputs": [],
   "source": [
    "correct_pred = torch.eq(labels, pred_labels)\n",
    "incorrect_examples = []\n",
    "\n",
    "for image, label, prob, correct in zip(images, labels, probs, correct_pred):\n",
    "    if not correct:\n",
    "        incorrect_examples.append((image, label, prob))\n",
    "\n",
    "incorrect_examples.sort(reverse = True, key = lambda x: torch.max(x[2], dim = 0).values)"
   ]
  },
  {
   "cell_type": "code",
   "execution_count": 81,
   "metadata": {
    "colab": {
     "base_uri": "https://localhost:8080/",
     "height": 158
    },
    "id": "_L7kHdohflFI",
    "outputId": "ecf71512-3b88-4038-98d3-d29db54da087"
   },
   "outputs": [
    {
     "data": {
      "image/png": "[encoded data removed]",
      "text/plain": [
       "<Figure size 720x720 with 5 Axes>"
      ]
     },
     "metadata": {
      "needs_background": "light",
      "tags": []
     },
     "output_type": "display_data"
    }
   ],
   "source": [
    "show_incorrect_preds(incorrect_examples, classes, 5)"
   ]
  },
  {
   "cell_type": "markdown",
   "metadata": {
    "id": "hXl7qDk9NGiD"
   },
   "source": [
    "# Comparing Models"
   ]
  },
  {
   "cell_type": "code",
   "execution_count": 82,
   "metadata": {
    "colab": {
     "base_uri": "https://localhost:8080/",
     "height": 334
    },
    "id": "2b6Tp3GYNGiD",
    "outputId": "d98d9586-1398-44e1-e6f6-1e95b75e1b77"
   },
   "outputs": [
    {
     "name": "stderr",
     "output_type": "stream",
     "text": [
      "/usr/local/lib/python3.7/dist-packages/seaborn/_decorators.py:43: FutureWarning: Pass the following variables as keyword args: x, y. From version 0.12, the only valid positional argument will be `data`, and passing other arguments without an explicit keyword will result in an error or misinterpretation.\n",
      "  FutureWarning\n"
     ]
    },
    {
     "data": {
      "image/png": "[encoded data removed]",
      "text/plain": [
       "<Figure size 432x288 with 1 Axes>"
      ]
     },
     "metadata": {
      "needs_background": "light",
      "tags": []
     },
     "output_type": "display_data"
    }
   ],
   "source": [
    "import seaborn as sns\n",
    "with sns.color_palette(\"husl\"):\n",
    "  \n",
    "    #sns.lineplot([i for i in range(1,EPOCHS + 1)], train_acc_list, label = 'Training Accuracy')\n",
    "    sns.lineplot([i for i in range(1,EPOCHS + 1)], val_acc_list_Resnet20, label = 'ResNet-20')\n",
    "    plt.plot([i for i in range(1,EPOCHS + 1)], val_acc_list_Resnet44, label = 'ResNet-44')\n",
    "    plt.plot([i for i in range(1,EPOCHS + 1)], val_acc_list_VGG16, label = 'VGG-16')\n",
    "    plt.plot([i for i in range(1,EPOCHS + 1)], val_acc_list_VGG13, label = 'VGG-13')\n",
    "    plt.legend()\n",
    "    plt.title('Validation Accuracy on Mnist')"
   ]
  }
 ],
 "metadata": {
  "accelerator": "GPU",
  "colab": {
   "name": "Mnist_VGG_Resnet.ipynb",
   "provenance": [],
   "toc_visible": true
  },
  "kernelspec": {
   "display_name": "Python 3",
   "language": "python",
   "name": "python3"
  },
  "language_info": {
   "codemirror_mode": {
    "name": "ipython",
    "version": 3
   },
   "file_extension": ".py",
   "mimetype": "text/x-python",
   "name": "python",
   "nbconvert_exporter": "python",
   "pygments_lexer": "ipython3",
   "version": "3.8.5"
  },
  "widgets": {
   "application/vnd.jupyter.widget-state+json": {
    "0261a0ac51214a65a46613390f18e17e": {
     "model_module": "@jupyter-widgets/base",
     "model_name": "LayoutModel",
     "state": {
      "_model_module": "@jupyter-widgets/base",
      "_model_module_version": "1.2.0",
      "_model_name": "LayoutModel",
      "_view_count": null,
      "_view_module": "@jupyter-widgets/base",
      "_view_module_version": "1.2.0",
      "_view_name": "LayoutView",
      "align_content": null,
      "align_items": null,
      "align_self": null,
      "border": null,
      "bottom": null,
      "display": null,
      "flex": null,
      "flex_flow": null,
      "grid_area": null,
      "grid_auto_columns": null,
      "grid_auto_flow": null,
      "grid_auto_rows": null,
      "grid_column": null,
      "grid_gap": null,
      "grid_row": null,
      "grid_template_areas": null,
      "grid_template_columns": null,
      "grid_template_rows": null,
      "height": null,
      "justify_content": null,
      "justify_items": null,
      "left": null,
      "margin": null,
      "max_height": null,
      "max_width": null,
      "min_height": null,
      "min_width": null,
      "object_fit": null,
      "object_position": null,
      "order": null,
      "overflow": null,
      "overflow_x": null,
      "overflow_y": null,
      "padding": null,
      "right": null,
      "top": null,
      "visibility": null,
      "width": null
     }
    },
    "0cae92ed210943fc91eae74dd4ba5d28": {
     "model_module": "@jupyter-widgets/controls",
     "model_name": "HTMLModel",
     "state": {
      "_dom_classes": [],
      "_model_module": "@jupyter-widgets/controls",
      "_model_module_version": "1.5.0",
      "_model_name": "HTMLModel",
      "_view_count": null,
      "_view_module": "@jupyter-widgets/controls",
      "_view_module_version": "1.5.0",
      "_view_name": "HTMLView",
      "description": "",
      "description_tooltip": null,
      "layout": "IPY_MODEL_2411fc6143f24865b6bb126c5c2a5ea5",
      "placeholder": "​",
      "style": "IPY_MODEL_31bbdbe13f04432f830604670cef1641",
      "value": " 5120/? [00:00&lt;00:00, 13740.54it/s]"
     }
    },
    "10fd62984e4f4d2eaab1a14565592e18": {
     "model_module": "@jupyter-widgets/controls",
     "model_name": "DescriptionStyleModel",
     "state": {
      "_model_module": "@jupyter-widgets/controls",
      "_model_module_version": "1.5.0",
      "_model_name": "DescriptionStyleModel",
      "_view_count": null,
      "_view_module": "@jupyter-widgets/base",
      "_view_module_version": "1.2.0",
      "_view_name": "StyleView",
      "description_width": ""
     }
    },
    "16fc0c0ececa4cddbe7659e8dbe7ad18": {
     "model_module": "@jupyter-widgets/controls",
     "model_name": "FloatProgressModel",
     "state": {
      "_dom_classes": [],
      "_model_module": "@jupyter-widgets/controls",
      "_model_module_version": "1.5.0",
      "_model_name": "FloatProgressModel",
      "_view_count": null,
      "_view_module": "@jupyter-widgets/controls",
      "_view_module_version": "1.5.0",
      "_view_name": "ProgressView",
      "bar_style": "success",
      "description": "",
      "description_tooltip": null,
      "layout": "IPY_MODEL_4a05fea99b07495bbd293bb6613e6497",
      "max": 9912422,
      "min": 0,
      "orientation": "horizontal",
      "style": "IPY_MODEL_72e81a89c35f4cadadb3204bfe99e576",
      "value": 9912422
     }
    },
    "2411fc6143f24865b6bb126c5c2a5ea5": {
     "model_module": "@jupyter-widgets/base",
     "model_name": "LayoutModel",
     "state": {
      "_model_module": "@jupyter-widgets/base",
      "_model_module_version": "1.2.0",
      "_model_name": "LayoutModel",
      "_view_count": null,
      "_view_module": "@jupyter-widgets/base",
      "_view_module_version": "1.2.0",
      "_view_name": "LayoutView",
      "align_content": null,
      "align_items": null,
      "align_self": null,
      "border": null,
      "bottom": null,
      "display": null,
      "flex": null,
      "flex_flow": null,
      "grid_area": null,
      "grid_auto_columns": null,
      "grid_auto_flow": null,
      "grid_auto_rows": null,
      "grid_column": null,
      "grid_gap": null,
      "grid_row": null,
      "grid_template_areas": null,
      "grid_template_columns": null,
      "grid_template_rows": null,
      "height": null,
      "justify_content": null,
      "justify_items": null,
      "left": null,
      "margin": null,
      "max_height": null,
      "max_width": null,
      "min_height": null,
      "min_width": null,
      "object_fit": null,
      "object_position": null,
      "order": null,
      "overflow": null,
      "overflow_x": null,
      "overflow_y": null,
      "padding": null,
      "right": null,
      "top": null,
      "visibility": null,
      "width": null
     }
    },
    "31bbdbe13f04432f830604670cef1641": {
     "model_module": "@jupyter-widgets/controls",
     "model_name": "DescriptionStyleModel",
     "state": {
      "_model_module": "@jupyter-widgets/controls",
      "_model_module_version": "1.5.0",
      "_model_name": "DescriptionStyleModel",
      "_view_count": null,
      "_view_module": "@jupyter-widgets/base",
      "_view_module_version": "1.2.0",
      "_view_name": "StyleView",
      "description_width": ""
     }
    },
    "389f5e077eee46748500e6a778ed6b52": {
     "model_module": "@jupyter-widgets/controls",
     "model_name": "HTMLModel",
     "state": {
      "_dom_classes": [],
      "_model_module": "@jupyter-widgets/controls",
      "_model_module_version": "1.5.0",
      "_model_name": "HTMLModel",
      "_view_count": null,
      "_view_module": "@jupyter-widgets/controls",
      "_view_module_version": "1.5.0",
      "_view_name": "HTMLView",
      "description": "",
      "description_tooltip": null,
      "layout": "IPY_MODEL_498d49f6ee77453db6e4578036d8094e",
      "placeholder": "​",
      "style": "IPY_MODEL_d7f2ece25a984314a591c0687f9ef84a",
      "value": " 29696/? [00:00&lt;00:00, 61203.03it/s]"
     }
    },
    "3b20d60d0a5a4803bd7fa7a01cd7d255": {
     "model_module": "@jupyter-widgets/controls",
     "model_name": "ProgressStyleModel",
     "state": {
      "_model_module": "@jupyter-widgets/controls",
      "_model_module_version": "1.5.0",
      "_model_name": "ProgressStyleModel",
      "_view_count": null,
      "_view_module": "@jupyter-widgets/base",
      "_view_module_version": "1.2.0",
      "_view_name": "StyleView",
      "bar_color": null,
      "description_width": "initial"
     }
    },
    "467111915255455db47b4eb927e52712": {
     "model_module": "@jupyter-widgets/controls",
     "model_name": "HBoxModel",
     "state": {
      "_dom_classes": [],
      "_model_module": "@jupyter-widgets/controls",
      "_model_module_version": "1.5.0",
      "_model_name": "HBoxModel",
      "_view_count": null,
      "_view_module": "@jupyter-widgets/controls",
      "_view_module_version": "1.5.0",
      "_view_name": "HBoxView",
      "box_style": "",
      "children": [
       "IPY_MODEL_8b8bfab932fe4b828b0a0b9d780925a3",
       "IPY_MODEL_0cae92ed210943fc91eae74dd4ba5d28"
      ],
      "layout": "IPY_MODEL_b8cf9e3dfff64c55bf378fff76828c7b"
     }
    },
    "498d49f6ee77453db6e4578036d8094e": {
     "model_module": "@jupyter-widgets/base",
     "model_name": "LayoutModel",
     "state": {
      "_model_module": "@jupyter-widgets/base",
      "_model_module_version": "1.2.0",
      "_model_name": "LayoutModel",
      "_view_count": null,
      "_view_module": "@jupyter-widgets/base",
      "_view_module_version": "1.2.0",
      "_view_name": "LayoutView",
      "align_content": null,
      "align_items": null,
      "align_self": null,
      "border": null,
      "bottom": null,
      "display": null,
      "flex": null,
      "flex_flow": null,
      "grid_area": null,
      "grid_auto_columns": null,
      "grid_auto_flow": null,
      "grid_auto_rows": null,
      "grid_column": null,
      "grid_gap": null,
      "grid_row": null,
      "grid_template_areas": null,
      "grid_template_columns": null,
      "grid_template_rows": null,
      "height": null,
      "justify_content": null,
      "justify_items": null,
      "left": null,
      "margin": null,
      "max_height": null,
      "max_width": null,
      "min_height": null,
      "min_width": null,
      "object_fit": null,
      "object_position": null,
      "order": null,
      "overflow": null,
      "overflow_x": null,
      "overflow_y": null,
      "padding": null,
      "right": null,
      "top": null,
      "visibility": null,
      "width": null
     }
    },
    "4a05fea99b07495bbd293bb6613e6497": {
     "model_module": "@jupyter-widgets/base",
     "model_name": "LayoutModel",
     "state": {
      "_model_module": "@jupyter-widgets/base",
      "_model_module_version": "1.2.0",
      "_model_name": "LayoutModel",
      "_view_count": null,
      "_view_module": "@jupyter-widgets/base",
      "_view_module_version": "1.2.0",
      "_view_name": "LayoutView",
      "align_content": null,
      "align_items": null,
      "align_self": null,
      "border": null,
      "bottom": null,
      "display": null,
      "flex": null,
      "flex_flow": null,
      "grid_area": null,
      "grid_auto_columns": null,
      "grid_auto_flow": null,
      "grid_auto_rows": null,
      "grid_column": null,
      "grid_gap": null,
      "grid_row": null,
      "grid_template_areas": null,
      "grid_template_columns": null,
      "grid_template_rows": null,
      "height": null,
      "justify_content": null,
      "justify_items": null,
      "left": null,
      "margin": null,
      "max_height": null,
      "max_width": null,
      "min_height": null,
      "min_width": null,
      "object_fit": null,
      "object_position": null,
      "order": null,
      "overflow": null,
      "overflow_x": null,
      "overflow_y": null,
      "padding": null,
      "right": null,
      "top": null,
      "visibility": null,
      "width": null
     }
    },
    "519dce0b2d624408a3ab9c77e88e5724": {
     "model_module": "@jupyter-widgets/controls",
     "model_name": "FloatProgressModel",
     "state": {
      "_dom_classes": [],
      "_model_module": "@jupyter-widgets/controls",
      "_model_module_version": "1.5.0",
      "_model_name": "FloatProgressModel",
      "_view_count": null,
      "_view_module": "@jupyter-widgets/controls",
      "_view_module_version": "1.5.0",
      "_view_name": "ProgressView",
      "bar_style": "success",
      "description": "",
      "description_tooltip": null,
      "layout": "IPY_MODEL_a9af88213b6c49abb72daea7e1941f72",
      "max": 28881,
      "min": 0,
      "orientation": "horizontal",
      "style": "IPY_MODEL_6fed7bbeea3441eb8c5475faaefbceca",
      "value": 28881
     }
    },
    "6fed7bbeea3441eb8c5475faaefbceca": {
     "model_module": "@jupyter-widgets/controls",
     "model_name": "ProgressStyleModel",
     "state": {
      "_model_module": "@jupyter-widgets/controls",
      "_model_module_version": "1.5.0",
      "_model_name": "ProgressStyleModel",
      "_view_count": null,
      "_view_module": "@jupyter-widgets/base",
      "_view_module_version": "1.2.0",
      "_view_name": "StyleView",
      "bar_color": null,
      "description_width": "initial"
     }
    },
    "72e81a89c35f4cadadb3204bfe99e576": {
     "model_module": "@jupyter-widgets/controls",
     "model_name": "ProgressStyleModel",
     "state": {
      "_model_module": "@jupyter-widgets/controls",
      "_model_module_version": "1.5.0",
      "_model_name": "ProgressStyleModel",
      "_view_count": null,
      "_view_module": "@jupyter-widgets/base",
      "_view_module_version": "1.2.0",
      "_view_name": "StyleView",
      "bar_color": null,
      "description_width": "initial"
     }
    },
    "7844d1ee41a8417a9f300b0927cb70d9": {
     "model_module": "@jupyter-widgets/base",
     "model_name": "LayoutModel",
     "state": {
      "_model_module": "@jupyter-widgets/base",
      "_model_module_version": "1.2.0",
      "_model_name": "LayoutModel",
      "_view_count": null,
      "_view_module": "@jupyter-widgets/base",
      "_view_module_version": "1.2.0",
      "_view_name": "LayoutView",
      "align_content": null,
      "align_items": null,
      "align_self": null,
      "border": null,
      "bottom": null,
      "display": null,
      "flex": null,
      "flex_flow": null,
      "grid_area": null,
      "grid_auto_columns": null,
      "grid_auto_flow": null,
      "grid_auto_rows": null,
      "grid_column": null,
      "grid_gap": null,
      "grid_row": null,
      "grid_template_areas": null,
      "grid_template_columns": null,
      "grid_template_rows": null,
      "height": null,
      "justify_content": null,
      "justify_items": null,
      "left": null,
      "margin": null,
      "max_height": null,
      "max_width": null,
      "min_height": null,
      "min_width": null,
      "object_fit": null,
      "object_position": null,
      "order": null,
      "overflow": null,
      "overflow_x": null,
      "overflow_y": null,
      "padding": null,
      "right": null,
      "top": null,
      "visibility": null,
      "width": null
     }
    },
    "8a9cf696c4ea415bb6021ed814c8004a": {
     "model_module": "@jupyter-widgets/controls",
     "model_name": "HBoxModel",
     "state": {
      "_dom_classes": [],
      "_model_module": "@jupyter-widgets/controls",
      "_model_module_version": "1.5.0",
      "_model_name": "HBoxModel",
      "_view_count": null,
      "_view_module": "@jupyter-widgets/controls",
      "_view_module_version": "1.5.0",
      "_view_name": "HBoxView",
      "box_style": "",
      "children": [
       "IPY_MODEL_16fc0c0ececa4cddbe7659e8dbe7ad18",
       "IPY_MODEL_d3f79ab3f126414bb0aeb598648fe548"
      ],
      "layout": "IPY_MODEL_bfd935328a63459fbb6231e60aef055b"
     }
    },
    "8b8bfab932fe4b828b0a0b9d780925a3": {
     "model_module": "@jupyter-widgets/controls",
     "model_name": "FloatProgressModel",
     "state": {
      "_dom_classes": [],
      "_model_module": "@jupyter-widgets/controls",
      "_model_module_version": "1.5.0",
      "_model_name": "FloatProgressModel",
      "_view_count": null,
      "_view_module": "@jupyter-widgets/controls",
      "_view_module_version": "1.5.0",
      "_view_name": "ProgressView",
      "bar_style": "success",
      "description": "",
      "description_tooltip": null,
      "layout": "IPY_MODEL_ac57a6200f3244c98204896de1c4b38d",
      "max": 4542,
      "min": 0,
      "orientation": "horizontal",
      "style": "IPY_MODEL_3b20d60d0a5a4803bd7fa7a01cd7d255",
      "value": 4542
     }
    },
    "8d83c4bf7c0a489ba005ca6201dcfa4e": {
     "model_module": "@jupyter-widgets/controls",
     "model_name": "ProgressStyleModel",
     "state": {
      "_model_module": "@jupyter-widgets/controls",
      "_model_module_version": "1.5.0",
      "_model_name": "ProgressStyleModel",
      "_view_count": null,
      "_view_module": "@jupyter-widgets/base",
      "_view_module_version": "1.2.0",
      "_view_name": "StyleView",
      "bar_color": null,
      "description_width": "initial"
     }
    },
    "a2577b807b6f4d0a9025fd01309d5b1a": {
     "model_module": "@jupyter-widgets/base",
     "model_name": "LayoutModel",
     "state": {
      "_model_module": "@jupyter-widgets/base",
      "_model_module_version": "1.2.0",
      "_model_name": "LayoutModel",
      "_view_count": null,
      "_view_module": "@jupyter-widgets/base",
      "_view_module_version": "1.2.0",
      "_view_name": "LayoutView",
      "align_content": null,
      "align_items": null,
      "align_self": null,
      "border": null,
      "bottom": null,
      "display": null,
      "flex": null,
      "flex_flow": null,
      "grid_area": null,
      "grid_auto_columns": null,
      "grid_auto_flow": null,
      "grid_auto_rows": null,
      "grid_column": null,
      "grid_gap": null,
      "grid_row": null,
      "grid_template_areas": null,
      "grid_template_columns": null,
      "grid_template_rows": null,
      "height": null,
      "justify_content": null,
      "justify_items": null,
      "left": null,
      "margin": null,
      "max_height": null,
      "max_width": null,
      "min_height": null,
      "min_width": null,
      "object_fit": null,
      "object_position": null,
      "order": null,
      "overflow": null,
      "overflow_x": null,
      "overflow_y": null,
      "padding": null,
      "right": null,
      "top": null,
      "visibility": null,
      "width": null
     }
    },
    "a9af88213b6c49abb72daea7e1941f72": {
     "model_module": "@jupyter-widgets/base",
     "model_name": "LayoutModel",
     "state": {
      "_model_module": "@jupyter-widgets/base",
      "_model_module_version": "1.2.0",
      "_model_name": "LayoutModel",
      "_view_count": null,
      "_view_module": "@jupyter-widgets/base",
      "_view_module_version": "1.2.0",
      "_view_name": "LayoutView",
      "align_content": null,
      "align_items": null,
      "align_self": null,
      "border": null,
      "bottom": null,
      "display": null,
      "flex": null,
      "flex_flow": null,
      "grid_area": null,
      "grid_auto_columns": null,
      "grid_auto_flow": null,
      "grid_auto_rows": null,
      "grid_column": null,
      "grid_gap": null,
      "grid_row": null,
      "grid_template_areas": null,
      "grid_template_columns": null,
      "grid_template_rows": null,
      "height": null,
      "justify_content": null,
      "justify_items": null,
      "left": null,
      "margin": null,
      "max_height": null,
      "max_width": null,
      "min_height": null,
      "min_width": null,
      "object_fit": null,
      "object_position": null,
      "order": null,
      "overflow": null,
      "overflow_x": null,
      "overflow_y": null,
      "padding": null,
      "right": null,
      "top": null,
      "visibility": null,
      "width": null
     }
    },
    "ac57a6200f3244c98204896de1c4b38d": {
     "model_module": "@jupyter-widgets/base",
     "model_name": "LayoutModel",
     "state": {
      "_model_module": "@jupyter-widgets/base",
      "_model_module_version": "1.2.0",
      "_model_name": "LayoutModel",
      "_view_count": null,
      "_view_module": "@jupyter-widgets/base",
      "_view_module_version": "1.2.0",
      "_view_name": "LayoutView",
      "align_content": null,
      "align_items": null,
      "align_self": null,
      "border": null,
      "bottom": null,
      "display": null,
      "flex": null,
      "flex_flow": null,
      "grid_area": null,
      "grid_auto_columns": null,
      "grid_auto_flow": null,
      "grid_auto_rows": null,
      "grid_column": null,
      "grid_gap": null,
      "grid_row": null,
      "grid_template_areas": null,
      "grid_template_columns": null,
      "grid_template_rows": null,
      "height": null,
      "justify_content": null,
      "justify_items": null,
      "left": null,
      "margin": null,
      "max_height": null,
      "max_width": null,
      "min_height": null,
      "min_width": null,
      "object_fit": null,
      "object_position": null,
      "order": null,
      "overflow": null,
      "overflow_x": null,
      "overflow_y": null,
      "padding": null,
      "right": null,
      "top": null,
      "visibility": null,
      "width": null
     }
    },
    "adb41a8493c04020aa054a6c7905144f": {
     "model_module": "@jupyter-widgets/base",
     "model_name": "LayoutModel",
     "state": {
      "_model_module": "@jupyter-widgets/base",
      "_model_module_version": "1.2.0",
      "_model_name": "LayoutModel",
      "_view_count": null,
      "_view_module": "@jupyter-widgets/base",
      "_view_module_version": "1.2.0",
      "_view_name": "LayoutView",
      "align_content": null,
      "align_items": null,
      "align_self": null,
      "border": null,
      "bottom": null,
      "display": null,
      "flex": null,
      "flex_flow": null,
      "grid_area": null,
      "grid_auto_columns": null,
      "grid_auto_flow": null,
      "grid_auto_rows": null,
      "grid_column": null,
      "grid_gap": null,
      "grid_row": null,
      "grid_template_areas": null,
      "grid_template_columns": null,
      "grid_template_rows": null,
      "height": null,
      "justify_content": null,
      "justify_items": null,
      "left": null,
      "margin": null,
      "max_height": null,
      "max_width": null,
      "min_height": null,
      "min_width": null,
      "object_fit": null,
      "object_position": null,
      "order": null,
      "overflow": null,
      "overflow_x": null,
      "overflow_y": null,
      "padding": null,
      "right": null,
      "top": null,
      "visibility": null,
      "width": null
     }
    },
    "b8cf9e3dfff64c55bf378fff76828c7b": {
     "model_module": "@jupyter-widgets/base",
     "model_name": "LayoutModel",
     "state": {
      "_model_module": "@jupyter-widgets/base",
      "_model_module_version": "1.2.0",
      "_model_name": "LayoutModel",
      "_view_count": null,
      "_view_module": "@jupyter-widgets/base",
      "_view_module_version": "1.2.0",
      "_view_name": "LayoutView",
      "align_content": null,
      "align_items": null,
      "align_self": null,
      "border": null,
      "bottom": null,
      "display": null,
      "flex": null,
      "flex_flow": null,
      "grid_area": null,
      "grid_auto_columns": null,
      "grid_auto_flow": null,
      "grid_auto_rows": null,
      "grid_column": null,
      "grid_gap": null,
      "grid_row": null,
      "grid_template_areas": null,
      "grid_template_columns": null,
      "grid_template_rows": null,
      "height": null,
      "justify_content": null,
      "justify_items": null,
      "left": null,
      "margin": null,
      "max_height": null,
      "max_width": null,
      "min_height": null,
      "min_width": null,
      "object_fit": null,
      "object_position": null,
      "order": null,
      "overflow": null,
      "overflow_x": null,
      "overflow_y": null,
      "padding": null,
      "right": null,
      "top": null,
      "visibility": null,
      "width": null
     }
    },
    "bf292f509a3b49caaac1ec190957d69a": {
     "model_module": "@jupyter-widgets/controls",
     "model_name": "HTMLModel",
     "state": {
      "_dom_classes": [],
      "_model_module": "@jupyter-widgets/controls",
      "_model_module_version": "1.5.0",
      "_model_name": "HTMLModel",
      "_view_count": null,
      "_view_module": "@jupyter-widgets/controls",
      "_view_module_version": "1.5.0",
      "_view_name": "HTMLView",
      "description": "",
      "description_tooltip": null,
      "layout": "IPY_MODEL_7844d1ee41a8417a9f300b0927cb70d9",
      "placeholder": "​",
      "style": "IPY_MODEL_d5b3e6b6ba844107998d02ef9206e761",
      "value": " 1649664/? [00:01&lt;00:00, 1020507.41it/s]"
     }
    },
    "bfd935328a63459fbb6231e60aef055b": {
     "model_module": "@jupyter-widgets/base",
     "model_name": "LayoutModel",
     "state": {
      "_model_module": "@jupyter-widgets/base",
      "_model_module_version": "1.2.0",
      "_model_name": "LayoutModel",
      "_view_count": null,
      "_view_module": "@jupyter-widgets/base",
      "_view_module_version": "1.2.0",
      "_view_name": "LayoutView",
      "align_content": null,
      "align_items": null,
      "align_self": null,
      "border": null,
      "bottom": null,
      "display": null,
      "flex": null,
      "flex_flow": null,
      "grid_area": null,
      "grid_auto_columns": null,
      "grid_auto_flow": null,
      "grid_auto_rows": null,
      "grid_column": null,
      "grid_gap": null,
      "grid_row": null,
      "grid_template_areas": null,
      "grid_template_columns": null,
      "grid_template_rows": null,
      "height": null,
      "justify_content": null,
      "justify_items": null,
      "left": null,
      "margin": null,
      "max_height": null,
      "max_width": null,
      "min_height": null,
      "min_width": null,
      "object_fit": null,
      "object_position": null,
      "order": null,
      "overflow": null,
      "overflow_x": null,
      "overflow_y": null,
      "padding": null,
      "right": null,
      "top": null,
      "visibility": null,
      "width": null
     }
    },
    "d3f79ab3f126414bb0aeb598648fe548": {
     "model_module": "@jupyter-widgets/controls",
     "model_name": "HTMLModel",
     "state": {
      "_dom_classes": [],
      "_model_module": "@jupyter-widgets/controls",
      "_model_module_version": "1.5.0",
      "_model_name": "HTMLModel",
      "_view_count": null,
      "_view_module": "@jupyter-widgets/controls",
      "_view_module_version": "1.5.0",
      "_view_name": "HTMLView",
      "description": "",
      "description_tooltip": null,
      "layout": "IPY_MODEL_0261a0ac51214a65a46613390f18e17e",
      "placeholder": "​",
      "style": "IPY_MODEL_10fd62984e4f4d2eaab1a14565592e18",
      "value": " 9913344/? [00:02&lt;00:00, 4339604.57it/s]"
     }
    },
    "d5b3e6b6ba844107998d02ef9206e761": {
     "model_module": "@jupyter-widgets/controls",
     "model_name": "DescriptionStyleModel",
     "state": {
      "_model_module": "@jupyter-widgets/controls",
      "_model_module_version": "1.5.0",
      "_model_name": "DescriptionStyleModel",
      "_view_count": null,
      "_view_module": "@jupyter-widgets/base",
      "_view_module_version": "1.2.0",
      "_view_name": "StyleView",
      "description_width": ""
     }
    },
    "d6bebd2f28e54f30b5cbebd7bfe6f578": {
     "model_module": "@jupyter-widgets/controls",
     "model_name": "FloatProgressModel",
     "state": {
      "_dom_classes": [],
      "_model_module": "@jupyter-widgets/controls",
      "_model_module_version": "1.5.0",
      "_model_name": "FloatProgressModel",
      "_view_count": null,
      "_view_module": "@jupyter-widgets/controls",
      "_view_module_version": "1.5.0",
      "_view_name": "ProgressView",
      "bar_style": "success",
      "description": "",
      "description_tooltip": null,
      "layout": "IPY_MODEL_adb41a8493c04020aa054a6c7905144f",
      "max": 1648877,
      "min": 0,
      "orientation": "horizontal",
      "style": "IPY_MODEL_8d83c4bf7c0a489ba005ca6201dcfa4e",
      "value": 1648877
     }
    },
    "d7f2ece25a984314a591c0687f9ef84a": {
     "model_module": "@jupyter-widgets/controls",
     "model_name": "DescriptionStyleModel",
     "state": {
      "_model_module": "@jupyter-widgets/controls",
      "_model_module_version": "1.5.0",
      "_model_name": "DescriptionStyleModel",
      "_view_count": null,
      "_view_module": "@jupyter-widgets/base",
      "_view_module_version": "1.2.0",
      "_view_name": "StyleView",
      "description_width": ""
     }
    },
    "f3c660a4428f4563983b1148670fe86e": {
     "model_module": "@jupyter-widgets/base",
     "model_name": "LayoutModel",
     "state": {
      "_model_module": "@jupyter-widgets/base",
      "_model_module_version": "1.2.0",
      "_model_name": "LayoutModel",
      "_view_count": null,
      "_view_module": "@jupyter-widgets/base",
      "_view_module_version": "1.2.0",
      "_view_name": "LayoutView",
      "align_content": null,
      "align_items": null,
      "align_self": null,
      "border": null,
      "bottom": null,
      "display": null,
      "flex": null,
      "flex_flow": null,
      "grid_area": null,
      "grid_auto_columns": null,
      "grid_auto_flow": null,
      "grid_auto_rows": null,
      "grid_column": null,
      "grid_gap": null,
      "grid_row": null,
      "grid_template_areas": null,
      "grid_template_columns": null,
      "grid_template_rows": null,
      "height": null,
      "justify_content": null,
      "justify_items": null,
      "left": null,
      "margin": null,
      "max_height": null,
      "max_width": null,
      "min_height": null,
      "min_width": null,
      "object_fit": null,
      "object_position": null,
      "order": null,
      "overflow": null,
      "overflow_x": null,
      "overflow_y": null,
      "padding": null,
      "right": null,
      "top": null,
      "visibility": null,
      "width": null
     }
    },
    "f5d32a5e397c4c999a45465a1580b431": {
     "model_module": "@jupyter-widgets/controls",
     "model_name": "HBoxModel",
     "state": {
      "_dom_classes": [],
      "_model_module": "@jupyter-widgets/controls",
      "_model_module_version": "1.5.0",
      "_model_name": "HBoxModel",
      "_view_count": null,
      "_view_module": "@jupyter-widgets/controls",
      "_view_module_version": "1.5.0",
      "_view_name": "HBoxView",
      "box_style": "",
      "children": [
       "IPY_MODEL_519dce0b2d624408a3ab9c77e88e5724",
       "IPY_MODEL_389f5e077eee46748500e6a778ed6b52"
      ],
      "layout": "IPY_MODEL_f3c660a4428f4563983b1148670fe86e"
     }
    },
    "fe2868ec4540412184738ba444699683": {
     "model_module": "@jupyter-widgets/controls",
     "model_name": "HBoxModel",
     "state": {
      "_dom_classes": [],
      "_model_module": "@jupyter-widgets/controls",
      "_model_module_version": "1.5.0",
      "_model_name": "HBoxModel",
      "_view_count": null,
      "_view_module": "@jupyter-widgets/controls",
      "_view_module_version": "1.5.0",
      "_view_name": "HBoxView",
      "box_style": "",
      "children": [
       "IPY_MODEL_d6bebd2f28e54f30b5cbebd7bfe6f578",
       "IPY_MODEL_bf292f509a3b49caaac1ec190957d69a"
      ],
      "layout": "IPY_MODEL_a2577b807b6f4d0a9025fd01309d5b1a"
     }
    }
   }
  }
 },
 "nbformat": 4,
 "nbformat_minor": 1
}
