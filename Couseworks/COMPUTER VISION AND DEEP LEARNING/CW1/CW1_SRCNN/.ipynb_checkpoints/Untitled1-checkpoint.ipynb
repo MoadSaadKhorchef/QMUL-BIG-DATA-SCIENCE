{
 "cells": [
  {
   "cell_type": "code",
   "execution_count": 1,
   "metadata": {},
   "outputs": [],
   "source": [
    "import time\n",
    "import os\n",
    "import matplotlib.pyplot as plt\n",
    "%matplotlib inline  \n",
    "\n",
    "import numpy as np\n",
    "import tensorflow as tf\n",
    "import scipy\n",
    "from  scipy import ndimage, misc\n",
    "import pdb\n",
    "import imageio\n",
    "import skimage\n",
    "from PIL import Image"
   ]
  },
  {
   "cell_type": "code",
   "execution_count": 2,
   "metadata": {},
   "outputs": [],
   "source": [
    "def imread(path,  is_grayscale=True):\n",
    "    \"\"\"\n",
    "    Read image using its path.\n",
    "    Default value is gray-scale, and image is read by YCbCr format as the paper said.\n",
    "    \"\"\"\n",
    "    if is_grayscale:\n",
    "        return scipy.misc.imread(path, flatten=True, mode='YCbCr').astype(np.float)\n",
    "    else:\n",
    "        return scipy.misc.imread(path, mode='YCbCr').astype(np.float)\n",
    "\n",
    "def modcrop(image, scale=3):\n",
    "    \"\"\"To scale down and up the original image, first thing to do is to have no remainder while scaling operation. \n",
    "    We need to find modulo of height (and width) and scale factor.\n",
    "    Then, subtract the modulo from height (and width) of original image size.\n",
    "    There would be no remainder even after scaling operation.\"\"\"\n",
    "    if len(image.shape) == 3:\n",
    "        h, w, _ = image.shape\n",
    "        h = h - np.mod(h, scale)\n",
    "        w = w - np.mod(w, scale)\n",
    "        image = image[0:h, 0:w, :]\n",
    "    else:\n",
    "        h, w = image.shape\n",
    "        h = h - np.mod(h, scale)\n",
    "        w = w - np.mod(w, scale)\n",
    "        image = image[0:h, 0:w]\n",
    "    return image\n",
    "\n",
    "def preprocess(path, scale=3):\n",
    "    \"\"\"\n",
    "    Preprocess single image file \n",
    "    (1) Read original image as YCbCr format (and grayscale as default)\n",
    "    (2) Normalize\n",
    "    (3) Apply image file with bicubic interpolation\n",
    "    Args:\n",
    "    path: file path of desired file\n",
    "    input_: image applied bicubic interpolation (low-resolution)\n",
    "    label_: image with original resolution (high-resolution)\n",
    "    \"\"\"\n",
    "    image = imread(path, is_grayscale=True)\n",
    "    label_ = modcrop(image, scale)\n",
    "\n",
    "    # Must be normalized\n",
    "    image = image / 255.\n",
    "    label_ = label_ / 255.\n",
    "\n",
    "    input_ = scipy.ndimage.interpolation.zoom(label_, (1./scale), prefilter=False)\n",
    "    input_ = scipy.ndimage.interpolation.zoom(input_, (scale/1.), prefilter=False)\n",
    "\n",
    "    return input_, label_\n"
   ]
  },
  {
   "cell_type": "code",
   "execution_count": null,
   "metadata": {},
   "outputs": [],
   "source": []
  }
 ],
 "metadata": {
  "kernelspec": {
   "display_name": "Python 3",
   "language": "python",
   "name": "python3"
  },
  "language_info": {
   "codemirror_mode": {
    "name": "ipython",
    "version": 3
   },
   "file_extension": ".py",
   "mimetype": "text/x-python",
   "name": "python",
   "nbconvert_exporter": "python",
   "pygments_lexer": "ipython3",
   "version": "3.8.5"
  }
 },
 "nbformat": 4,
 "nbformat_minor": 4
}
